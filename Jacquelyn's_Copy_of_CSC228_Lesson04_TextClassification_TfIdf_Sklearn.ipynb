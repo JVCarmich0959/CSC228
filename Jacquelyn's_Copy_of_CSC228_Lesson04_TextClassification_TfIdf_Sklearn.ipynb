{
  "nbformat": 4,
  "nbformat_minor": 0,
  "metadata": {
    "colab": {
      "provenance": [],
      "include_colab_link": true
    },
    "kernelspec": {
      "name": "python3",
      "display_name": "Python 3"
    },
    "language_info": {
      "name": "python"
    }
  },
  "cells": [
    {
      "cell_type": "markdown",
      "metadata": {
        "id": "view-in-github",
        "colab_type": "text"
      },
      "source": [
        "<a href=\"https://colab.research.google.com/github/JVCarmich0959/CSC228/blob/main/Jacquelyn's_Copy_of_CSC228_Lesson04_TextClassification_TfIdf_Sklearn.ipynb\" target=\"_parent\"><img src=\"https://colab.research.google.com/assets/colab-badge.svg\" alt=\"Open In Colab\"/></a>"
      ]
    },
    {
      "cell_type": "code",
      "execution_count": null,
      "metadata": {
        "id": "7Eh18nK0IumG"
      },
      "outputs": [],
      "source": [
        "# Text Classification using TFIDF Vectorization and Sklearn\n",
        "# Text is Classified using Binary Classification of positive or negative sentiment.\n",
        "# using supervised What's up Goldsboro Facebook Comments.\n",
        "#\n",
        "# Uses Libraries:  sklearn\n",
        "# Runtime:  Google CoLab (cpu)\n",
        "#\n",
        "# Owner:  Lorrie Tomek\n",
        "# \n",
        "# Data: \n",
        "# WUG:Facebook\n",
        "# General URL: https://www.facebook.com/groups/whatsupgoldsboro/permalink/968963637824334\n",
        "# Github repo (RAW): https://raw.githubusercontent.com/JVCarmich0959/CSC228/main/WUG_Mall_improvement.csv\n",
        "# Reference:  Real Python \n",
        "# URL:  https://realpython.com/python-keras-text-classification/\n",
        "# The tutorial is freely available on the internet.  (Verified December 2022.)  \n",
        "# It is modified in this notebook for teaching purposes, especially n-grams."
      ]
    },
    {
      "cell_type": "markdown",
      "source": [
        "# Text Classification using TFIDF\n",
        "\n",
        "In contrast to the CountVectorizer approach, we employed the TfidfVectorizer in this model.\n",
        "\n",
        "The TfidfVectorizer operates in a similar manner to the CountVectorizer, with the distinction of using a different method to calculate word frequencies. These frequencies are computed as the product of the term frequency and the inverse document frequency. The term frequency is defined as the number of occurrences of a word in a document, while the inverse document frequency is the ratio of the total number of documents to the number of documents containing the word. In this context, a document is equivalent to a sample utterance."
      ],
      "metadata": {
        "id": "zWd6SRvvktyZ"
      }
    },
    {
      "cell_type": "code",
      "source": [
        "# import python libraries\n",
        "import pandas as pd # data processing, CSV file I/O (e.g. pd.read_csv)\n",
        "import numpy as np # linear algebra\n",
        "from pprint import pprint # pretty print\n",
        "from sklearn.feature_extraction.text import TfidfVectorizer # Term Frequency - Inverse Document Frequency\n",
        "import nltk # I used this to clean my dirty csv\n",
        "import string # for pre-processing\n",
        "from nltk.corpus import stopwords # for refining utterances\n",
        "\n",
        "\n"
      ],
      "metadata": {
        "id": "lMih5oht7zQG"
      },
      "execution_count": 50,
      "outputs": []
    },
    {
      "cell_type": "code",
      "source": [
        "nltk.download('stopwords')"
      ],
      "metadata": {
        "colab": {
          "base_uri": "https://localhost:8080/"
        },
        "id": "6XJIJkbJOgRC",
        "outputId": "42337088-f729-43c0-97a9-158b171b21ea"
      },
      "execution_count": 51,
      "outputs": [
        {
          "output_type": "stream",
          "name": "stderr",
          "text": [
            "[nltk_data] Downloading package stopwords to /root/nltk_data...\n",
            "[nltk_data]   Unzipping corpora/stopwords.zip.\n"
          ]
        },
        {
          "output_type": "execute_result",
          "data": {
            "text/plain": [
              "True"
            ]
          },
          "metadata": {},
          "execution_count": 51
        }
      ]
    },
    {
      "cell_type": "code",
      "source": [
        "# Define some constants\n",
        "MIN_DF = 0.05 # minimum document frequency # I also changed this trying to improve\n",
        "MAX_DF = 0.5 # maximum document frequency # I changed this trying to improve the model original is 0.8\n",
        "MAX_FEATURES = 50000 # maximum number of features\n",
        "LOWERCASE = False # convert all characters to lowercase before tokenizing"
      ],
      "metadata": {
        "id": "TvIGhAB-zYXU"
      },
      "execution_count": 47,
      "outputs": []
    },
    {
      "cell_type": "markdown",
      "source": [
        "## Choose and Download a Dataset\n",
        "\n",
        "I used a pre-labled csv file of utterances extracted from the What's Up Goldsboro Facebook page.\n",
        "\n",
        "The comments can be found here: https://www.facebook.com/groups/whatsupgoldsboro/permalink/968963637824334\n",
        "\n",
        "The raw file"
      ],
      "metadata": {
        "id": "k_yUrI6-8p7w"
      }
    },
    {
      "cell_type": "code",
      "source": [
        "# reading in my data from the github repository to a data frame \n",
        "\n",
        "url = \"https://raw.githubusercontent.com/JVCarmich0959/CSC228/main/WUG_Mall_improvement.csv\"\n",
        "\n",
        "df = pd.read_csv(url, usecols=[0,1,2], encoding='latin-1')\n",
        "\n",
        "df = pd.concat([df, pd.read_csv(url, usecols=[0,1,2], encoding='latin-1')])\n",
        "print(df.iloc[1])\n"
      ],
      "metadata": {
        "id": "N6sRoDNb8NmB",
        "colab": {
          "base_uri": "https://localhost:8080/"
        },
        "outputId": "5277d449-dbd4-4a89-eca1-6540b233035c"
      },
      "execution_count": 3,
      "outputs": [
        {
          "output_type": "stream",
          "name": "stdout",
          "text": [
            "Source                                               Facebook\n",
            "Label                                                       1\n",
            "Sentence    The mall is a joke. When I worked there 30+ ye...\n",
            "Name: 1, dtype: object\n"
          ]
        }
      ]
    },
    {
      "cell_type": "markdown",
      "source": [
        "## Explore the Data\n",
        "\n",
        "Next, we want to explore the data, so we gain an intuitive understanding.  In our case, we have downloaded a dataset that is quite \"clean\", so we won't do a lot of **data cleansing**.  Our dataset is also already labeled as positive or negative sentiment, so we will be able to use **supervised machine learning**. "
      ],
      "metadata": {
        "id": "YJKNu9jw_W9K"
      }
    },
    {
      "cell_type": "code",
      "source": [
        "# Look at the first 5 rows of data \n",
        "# and the label is 1 or 0\n",
        "# 1 meaning positive and 0 meaning negative\n",
        "df[:5]"
      ],
      "metadata": {
        "id": "q5a6uRN_Dwed",
        "colab": {
          "base_uri": "https://localhost:8080/",
          "height": 206
        },
        "outputId": "ef0d0427-3cf6-4276-c055-1f86a16d30d1"
      },
      "execution_count": 4,
      "outputs": [
        {
          "output_type": "execute_result",
          "data": {
            "text/plain": [
              "     Source  Label                                           Sentence\n",
              "0  Facebook      0              Anything but another damn shoe store.\n",
              "1  Facebook      1  The mall is a joke. When I worked there 30+ ye...\n",
              "2  Facebook      1                                     A Spencerâs \n",
              "3  Facebook      1  Arcade for kids and teens that serves food whe...\n",
              "4  Facebook      1                      Dillards, Talbots, Chicoâs."
            ],
            "text/html": [
              "\n",
              "  <div id=\"df-6cc99e44-d655-4e1b-b03b-138a31e9da43\">\n",
              "    <div class=\"colab-df-container\">\n",
              "      <div>\n",
              "<style scoped>\n",
              "    .dataframe tbody tr th:only-of-type {\n",
              "        vertical-align: middle;\n",
              "    }\n",
              "\n",
              "    .dataframe tbody tr th {\n",
              "        vertical-align: top;\n",
              "    }\n",
              "\n",
              "    .dataframe thead th {\n",
              "        text-align: right;\n",
              "    }\n",
              "</style>\n",
              "<table border=\"1\" class=\"dataframe\">\n",
              "  <thead>\n",
              "    <tr style=\"text-align: right;\">\n",
              "      <th></th>\n",
              "      <th>Source</th>\n",
              "      <th>Label</th>\n",
              "      <th>Sentence</th>\n",
              "    </tr>\n",
              "  </thead>\n",
              "  <tbody>\n",
              "    <tr>\n",
              "      <th>0</th>\n",
              "      <td>Facebook</td>\n",
              "      <td>0</td>\n",
              "      <td>Anything but another damn shoe store.</td>\n",
              "    </tr>\n",
              "    <tr>\n",
              "      <th>1</th>\n",
              "      <td>Facebook</td>\n",
              "      <td>1</td>\n",
              "      <td>The mall is a joke. When I worked there 30+ ye...</td>\n",
              "    </tr>\n",
              "    <tr>\n",
              "      <th>2</th>\n",
              "      <td>Facebook</td>\n",
              "      <td>1</td>\n",
              "      <td>A Spencerâs</td>\n",
              "    </tr>\n",
              "    <tr>\n",
              "      <th>3</th>\n",
              "      <td>Facebook</td>\n",
              "      <td>1</td>\n",
              "      <td>Arcade for kids and teens that serves food whe...</td>\n",
              "    </tr>\n",
              "    <tr>\n",
              "      <th>4</th>\n",
              "      <td>Facebook</td>\n",
              "      <td>1</td>\n",
              "      <td>Dillards, Talbots, Chicoâs.</td>\n",
              "    </tr>\n",
              "  </tbody>\n",
              "</table>\n",
              "</div>\n",
              "      <button class=\"colab-df-convert\" onclick=\"convertToInteractive('df-6cc99e44-d655-4e1b-b03b-138a31e9da43')\"\n",
              "              title=\"Convert this dataframe to an interactive table.\"\n",
              "              style=\"display:none;\">\n",
              "        \n",
              "  <svg xmlns=\"http://www.w3.org/2000/svg\" height=\"24px\"viewBox=\"0 0 24 24\"\n",
              "       width=\"24px\">\n",
              "    <path d=\"M0 0h24v24H0V0z\" fill=\"none\"/>\n",
              "    <path d=\"M18.56 5.44l.94 2.06.94-2.06 2.06-.94-2.06-.94-.94-2.06-.94 2.06-2.06.94zm-11 1L8.5 8.5l.94-2.06 2.06-.94-2.06-.94L8.5 2.5l-.94 2.06-2.06.94zm10 10l.94 2.06.94-2.06 2.06-.94-2.06-.94-.94-2.06-.94 2.06-2.06.94z\"/><path d=\"M17.41 7.96l-1.37-1.37c-.4-.4-.92-.59-1.43-.59-.52 0-1.04.2-1.43.59L10.3 9.45l-7.72 7.72c-.78.78-.78 2.05 0 2.83L4 21.41c.39.39.9.59 1.41.59.51 0 1.02-.2 1.41-.59l7.78-7.78 2.81-2.81c.8-.78.8-2.07 0-2.86zM5.41 20L4 18.59l7.72-7.72 1.47 1.35L5.41 20z\"/>\n",
              "  </svg>\n",
              "      </button>\n",
              "      \n",
              "  <style>\n",
              "    .colab-df-container {\n",
              "      display:flex;\n",
              "      flex-wrap:wrap;\n",
              "      gap: 12px;\n",
              "    }\n",
              "\n",
              "    .colab-df-convert {\n",
              "      background-color: #E8F0FE;\n",
              "      border: none;\n",
              "      border-radius: 50%;\n",
              "      cursor: pointer;\n",
              "      display: none;\n",
              "      fill: #1967D2;\n",
              "      height: 32px;\n",
              "      padding: 0 0 0 0;\n",
              "      width: 32px;\n",
              "    }\n",
              "\n",
              "    .colab-df-convert:hover {\n",
              "      background-color: #E2EBFA;\n",
              "      box-shadow: 0px 1px 2px rgba(60, 64, 67, 0.3), 0px 1px 3px 1px rgba(60, 64, 67, 0.15);\n",
              "      fill: #174EA6;\n",
              "    }\n",
              "\n",
              "    [theme=dark] .colab-df-convert {\n",
              "      background-color: #3B4455;\n",
              "      fill: #D2E3FC;\n",
              "    }\n",
              "\n",
              "    [theme=dark] .colab-df-convert:hover {\n",
              "      background-color: #434B5C;\n",
              "      box-shadow: 0px 1px 3px 1px rgba(0, 0, 0, 0.15);\n",
              "      filter: drop-shadow(0px 1px 2px rgba(0, 0, 0, 0.3));\n",
              "      fill: #FFFFFF;\n",
              "    }\n",
              "  </style>\n",
              "\n",
              "      <script>\n",
              "        const buttonEl =\n",
              "          document.querySelector('#df-6cc99e44-d655-4e1b-b03b-138a31e9da43 button.colab-df-convert');\n",
              "        buttonEl.style.display =\n",
              "          google.colab.kernel.accessAllowed ? 'block' : 'none';\n",
              "\n",
              "        async function convertToInteractive(key) {\n",
              "          const element = document.querySelector('#df-6cc99e44-d655-4e1b-b03b-138a31e9da43');\n",
              "          const dataTable =\n",
              "            await google.colab.kernel.invokeFunction('convertToInteractive',\n",
              "                                                     [key], {});\n",
              "          if (!dataTable) return;\n",
              "\n",
              "          const docLinkHtml = 'Like what you see? Visit the ' +\n",
              "            '<a target=\"_blank\" href=https://colab.research.google.com/notebooks/data_table.ipynb>data table notebook</a>'\n",
              "            + ' to learn more about interactive tables.';\n",
              "          element.innerHTML = '';\n",
              "          dataTable['output_type'] = 'display_data';\n",
              "          await google.colab.output.renderOutput(dataTable, element);\n",
              "          const docLink = document.createElement('div');\n",
              "          docLink.innerHTML = docLinkHtml;\n",
              "          element.appendChild(docLink);\n",
              "        }\n",
              "      </script>\n",
              "    </div>\n",
              "  </div>\n",
              "  "
            ]
          },
          "metadata": {},
          "execution_count": 4
        }
      ]
    },
    {
      "cell_type": "code",
      "source": [
        "# Filthy dirty data makes for a ill fitted machine so I went back and pre-processed a bit\n",
        "import nltk\n",
        "import string\n",
        "from nltk.corpus import stopwords\n",
        "\n",
        "\n",
        "def clean_text(text):\n",
        "    # Remove punctuation\n",
        "    text = text.translate(str.maketrans(\"\", \"\", string.punctuation))\n",
        "    \n",
        "    # Convert to lowercase\n",
        "    text = text.lower()\n",
        "    \n",
        "    # Tokenize words\n",
        "    words = text.split()\n",
        "    \n",
        "    # Remove stop words\n",
        "    words = [word for word in words if word not in stopwords.words(\"english\")]\n",
        "    \n",
        "    # Join words back into a single string\n",
        "    cleaned_text = \" \".join(words)\n",
        "    \n",
        "    return cleaned_text\n",
        "\n",
        "df[\"Sentence\"] = df[\"Sentence\"].apply(lambda x: clean_text(x))\n",
        "\n",
        "print(df['Sentence']) # Now that what I call ITERABLE "
      ],
      "metadata": {
        "colab": {
          "base_uri": "https://localhost:8080/"
        },
        "id": "vadeyRJdN8xe",
        "outputId": "2f23e313-19aa-45a3-b25d-63958ade7891"
      },
      "execution_count": 54,
      "outputs": [
        {
          "output_type": "stream",
          "name": "stdout",
          "text": [
            "0                      anything another damn shoe store\n",
            "1     mall joke worked 30 years ago nice understand ...\n",
            "2                                           spencerâs\n",
            "3                      arcade kids teens serves food kw\n",
            "4                            dillards talbots chicoâs\n",
            "                            ...                        \n",
            "93             guess trying keep times trying save mall\n",
            "94                                         big gun shop\n",
            "95                                         put cfa back\n",
            "96                                       bring back k w\n",
            "97    home goods food court least kids meet trampoli...\n",
            "Name: Sentence, Length: 196, dtype: object\n"
          ]
        }
      ]
    },
    {
      "cell_type": "code",
      "source": [
        "# In pandas, columns have data types that are inferred;\n",
        "# Here we can see that the sentence column is a general 'object' rather than 'string' \n",
        "# Sometimes this means that there is missing (or NaN) data\n",
        "df.dtypes"
      ],
      "metadata": {
        "id": "5sZ2W629IEHJ",
        "colab": {
          "base_uri": "https://localhost:8080/"
        },
        "outputId": "933d7b81-a306-46b0-d408-f09b1f57f54b"
      },
      "execution_count": 55,
      "outputs": [
        {
          "output_type": "execute_result",
          "data": {
            "text/plain": [
              "Source      object\n",
              "Label        int64\n",
              "Sentence    object\n",
              "predict      int64\n",
              "dtype: object"
            ]
          },
          "metadata": {},
          "execution_count": 55
        }
      ]
    },
    {
      "cell_type": "code",
      "source": [
        "# What are all the possible values of the source column?\n",
        "set(df['Source'].tolist())"
      ],
      "metadata": {
        "id": "iyz3yblUCOod",
        "colab": {
          "base_uri": "https://localhost:8080/"
        },
        "outputId": "6a20787b-3d6f-4973-a315-5b5884b4ee19"
      },
      "execution_count": 56,
      "outputs": [
        {
          "output_type": "execute_result",
          "data": {
            "text/plain": [
              "{'Facebook', 'Facebook '}"
            ]
          },
          "metadata": {},
          "execution_count": 56
        }
      ]
    },
    {
      "cell_type": "code",
      "source": [
        "# What are all the unique values of the label?\n",
        "set(df['Label'].tolist())"
      ],
      "metadata": {
        "id": "Uh03zSl6CwIc",
        "colab": {
          "base_uri": "https://localhost:8080/"
        },
        "outputId": "493791db-3069-47da-ee6d-d417769b3f81"
      },
      "execution_count": 57,
      "outputs": [
        {
          "output_type": "execute_result",
          "data": {
            "text/plain": [
              "{0, 1}"
            ]
          },
          "metadata": {},
          "execution_count": 57
        }
      ]
    },
    {
      "cell_type": "code",
      "source": [
        "# What are the first 5 rows of data from my source?\n",
        "df[df['Source']=='Facebook'][:5]"
      ],
      "metadata": {
        "id": "6rcrg8RjC4df",
        "colab": {
          "base_uri": "https://localhost:8080/",
          "height": 206
        },
        "outputId": "10af5101-dda6-4ecb-fc63-3f3716b8435c"
      },
      "execution_count": 59,
      "outputs": [
        {
          "output_type": "execute_result",
          "data": {
            "text/plain": [
              "     Source  Label                                           Sentence  predict\n",
              "0  Facebook      0                   anything another damn shoe store        1\n",
              "1  Facebook      1  mall joke worked 30 years ago nice understand ...        1\n",
              "2  Facebook      1                                        spencerâs        1\n",
              "3  Facebook      1                   arcade kids teens serves food kw        1\n",
              "4  Facebook      1                         dillards talbots chicoâs        1"
            ],
            "text/html": [
              "\n",
              "  <div id=\"df-47821cce-7fe1-4dec-98cd-ddea0fb81db9\">\n",
              "    <div class=\"colab-df-container\">\n",
              "      <div>\n",
              "<style scoped>\n",
              "    .dataframe tbody tr th:only-of-type {\n",
              "        vertical-align: middle;\n",
              "    }\n",
              "\n",
              "    .dataframe tbody tr th {\n",
              "        vertical-align: top;\n",
              "    }\n",
              "\n",
              "    .dataframe thead th {\n",
              "        text-align: right;\n",
              "    }\n",
              "</style>\n",
              "<table border=\"1\" class=\"dataframe\">\n",
              "  <thead>\n",
              "    <tr style=\"text-align: right;\">\n",
              "      <th></th>\n",
              "      <th>Source</th>\n",
              "      <th>Label</th>\n",
              "      <th>Sentence</th>\n",
              "      <th>predict</th>\n",
              "    </tr>\n",
              "  </thead>\n",
              "  <tbody>\n",
              "    <tr>\n",
              "      <th>0</th>\n",
              "      <td>Facebook</td>\n",
              "      <td>0</td>\n",
              "      <td>anything another damn shoe store</td>\n",
              "      <td>1</td>\n",
              "    </tr>\n",
              "    <tr>\n",
              "      <th>1</th>\n",
              "      <td>Facebook</td>\n",
              "      <td>1</td>\n",
              "      <td>mall joke worked 30 years ago nice understand ...</td>\n",
              "      <td>1</td>\n",
              "    </tr>\n",
              "    <tr>\n",
              "      <th>2</th>\n",
              "      <td>Facebook</td>\n",
              "      <td>1</td>\n",
              "      <td>spencerâs</td>\n",
              "      <td>1</td>\n",
              "    </tr>\n",
              "    <tr>\n",
              "      <th>3</th>\n",
              "      <td>Facebook</td>\n",
              "      <td>1</td>\n",
              "      <td>arcade kids teens serves food kw</td>\n",
              "      <td>1</td>\n",
              "    </tr>\n",
              "    <tr>\n",
              "      <th>4</th>\n",
              "      <td>Facebook</td>\n",
              "      <td>1</td>\n",
              "      <td>dillards talbots chicoâs</td>\n",
              "      <td>1</td>\n",
              "    </tr>\n",
              "  </tbody>\n",
              "</table>\n",
              "</div>\n",
              "      <button class=\"colab-df-convert\" onclick=\"convertToInteractive('df-47821cce-7fe1-4dec-98cd-ddea0fb81db9')\"\n",
              "              title=\"Convert this dataframe to an interactive table.\"\n",
              "              style=\"display:none;\">\n",
              "        \n",
              "  <svg xmlns=\"http://www.w3.org/2000/svg\" height=\"24px\"viewBox=\"0 0 24 24\"\n",
              "       width=\"24px\">\n",
              "    <path d=\"M0 0h24v24H0V0z\" fill=\"none\"/>\n",
              "    <path d=\"M18.56 5.44l.94 2.06.94-2.06 2.06-.94-2.06-.94-.94-2.06-.94 2.06-2.06.94zm-11 1L8.5 8.5l.94-2.06 2.06-.94-2.06-.94L8.5 2.5l-.94 2.06-2.06.94zm10 10l.94 2.06.94-2.06 2.06-.94-2.06-.94-.94-2.06-.94 2.06-2.06.94z\"/><path d=\"M17.41 7.96l-1.37-1.37c-.4-.4-.92-.59-1.43-.59-.52 0-1.04.2-1.43.59L10.3 9.45l-7.72 7.72c-.78.78-.78 2.05 0 2.83L4 21.41c.39.39.9.59 1.41.59.51 0 1.02-.2 1.41-.59l7.78-7.78 2.81-2.81c.8-.78.8-2.07 0-2.86zM5.41 20L4 18.59l7.72-7.72 1.47 1.35L5.41 20z\"/>\n",
              "  </svg>\n",
              "      </button>\n",
              "      \n",
              "  <style>\n",
              "    .colab-df-container {\n",
              "      display:flex;\n",
              "      flex-wrap:wrap;\n",
              "      gap: 12px;\n",
              "    }\n",
              "\n",
              "    .colab-df-convert {\n",
              "      background-color: #E8F0FE;\n",
              "      border: none;\n",
              "      border-radius: 50%;\n",
              "      cursor: pointer;\n",
              "      display: none;\n",
              "      fill: #1967D2;\n",
              "      height: 32px;\n",
              "      padding: 0 0 0 0;\n",
              "      width: 32px;\n",
              "    }\n",
              "\n",
              "    .colab-df-convert:hover {\n",
              "      background-color: #E2EBFA;\n",
              "      box-shadow: 0px 1px 2px rgba(60, 64, 67, 0.3), 0px 1px 3px 1px rgba(60, 64, 67, 0.15);\n",
              "      fill: #174EA6;\n",
              "    }\n",
              "\n",
              "    [theme=dark] .colab-df-convert {\n",
              "      background-color: #3B4455;\n",
              "      fill: #D2E3FC;\n",
              "    }\n",
              "\n",
              "    [theme=dark] .colab-df-convert:hover {\n",
              "      background-color: #434B5C;\n",
              "      box-shadow: 0px 1px 3px 1px rgba(0, 0, 0, 0.15);\n",
              "      filter: drop-shadow(0px 1px 2px rgba(0, 0, 0, 0.3));\n",
              "      fill: #FFFFFF;\n",
              "    }\n",
              "  </style>\n",
              "\n",
              "      <script>\n",
              "        const buttonEl =\n",
              "          document.querySelector('#df-47821cce-7fe1-4dec-98cd-ddea0fb81db9 button.colab-df-convert');\n",
              "        buttonEl.style.display =\n",
              "          google.colab.kernel.accessAllowed ? 'block' : 'none';\n",
              "\n",
              "        async function convertToInteractive(key) {\n",
              "          const element = document.querySelector('#df-47821cce-7fe1-4dec-98cd-ddea0fb81db9');\n",
              "          const dataTable =\n",
              "            await google.colab.kernel.invokeFunction('convertToInteractive',\n",
              "                                                     [key], {});\n",
              "          if (!dataTable) return;\n",
              "\n",
              "          const docLinkHtml = 'Like what you see? Visit the ' +\n",
              "            '<a target=\"_blank\" href=https://colab.research.google.com/notebooks/data_table.ipynb>data table notebook</a>'\n",
              "            + ' to learn more about interactive tables.';\n",
              "          element.innerHTML = '';\n",
              "          dataTable['output_type'] = 'display_data';\n",
              "          await google.colab.output.renderOutput(dataTable, element);\n",
              "          const docLink = document.createElement('div');\n",
              "          docLink.innerHTML = docLinkHtml;\n",
              "          element.appendChild(docLink);\n",
              "        }\n",
              "      </script>\n",
              "    </div>\n",
              "  </div>\n",
              "  "
            ]
          },
          "metadata": {},
          "execution_count": 59
        }
      ]
    },
    {
      "cell_type": "markdown",
      "source": [
        "### Vocabulary \n",
        "The process of selecting specific subsets of rows and columns from data using the Pandas library is relatively straightforward. However, in cases where more complex processing of data columns is required, alternative methods may be necessary.\n",
        "\n",
        "In this model, we will expand our understanding to include n-grams, which are groups of words that frequently appear together, and utilize their positional information to train our model.\n",
        "\n",
        "For this purpose, we will make use of the TfidfVectorizer from the scikit-learn library. The TfidfVectorizer can be found within the sklearn.feature_extraction.text module. For more information on this tool, visit the scikit-learn website at https://scikit-learn.org/stable/ and search for \"TfidfVectorizer\". In comparison to the previous lesson where we created our own custom features, this time we will utilize the features provided by scikit-learn."
      ],
      "metadata": {
        "id": "ga-NJG46E1i2"
      }
    },
    {
      "cell_type": "code",
      "source": [
        "# Use sklearn TfidfVectorizer to find the vocabulary in our small list of sentences\n",
        "from sklearn.feature_extraction.text import TfidfVectorizer\n",
        "\n",
        "sentences = ['John likes ice cream', 'John hates chocolate.']\n",
        "\n",
        "small_vectorizer = TfidfVectorizer(min_df=MIN_DF,\n",
        "    lowercase=LOWERCASE, max_features=MAX_FEATURES, use_idf=True)\n",
        "small_vectorizer.fit(sentences)\n",
        "small_vectorizer.vocabulary_"
      ],
      "metadata": {
        "id": "kYIVckH-DI-G",
        "colab": {
          "base_uri": "https://localhost:8080/"
        },
        "outputId": "3c6138fd-17a8-4709-e8ad-80ec3cc75c5d"
      },
      "execution_count": 9,
      "outputs": [
        {
          "output_type": "execute_result",
          "data": {
            "text/plain": [
              "{'John': 0, 'likes': 5, 'ice': 4, 'cream': 2, 'hates': 3, 'chocolate': 1}"
            ]
          },
          "metadata": {},
          "execution_count": 9
        }
      ]
    },
    {
      "cell_type": "code",
      "source": [
        "# How many vocabulary words are there?  Notice our vocablary words now \n",
        "# include bi-grams (like \"ice cream\") and tri-grams (like \"likes ice cream\")\n",
        "# Our vocabulary size is therefore larger.  \n",
        "len(small_vectorizer.vocabulary_)"
      ],
      "metadata": {
        "id": "B1d69NYaNN1l",
        "colab": {
          "base_uri": "https://localhost:8080/"
        },
        "outputId": "2ec56076-e279-423b-853d-34d363e9f990"
      },
      "execution_count": 10,
      "outputs": [
        {
          "output_type": "execute_result",
          "data": {
            "text/plain": [
              "6"
            ]
          },
          "metadata": {},
          "execution_count": 10
        }
      ]
    },
    {
      "cell_type": "code",
      "source": [
        "# Use sklearn TfidfVectorizer to find the vocabulary of our full dataset\n",
        "from sklearn.feature_extraction.text import TfidfVectorizer\n",
        "\n",
        "sentences = df['Sentence'].tolist()\n",
        "\n",
        "vectorizer = TfidfVectorizer(min_df=MIN_DF, ngram_range=(1,2),  # dinkying with n-gram size a bit to see if I can get a better model.\n",
        "  lowercase=LOWERCASE, max_features=MAX_FEATURES,use_idf=True)\n",
        "vectorizer.fit(sentences) # train the vectorizer\n",
        "# uncomment the following line to see vocabulary of our entire dataset\n",
        "# warning it is very long, and cuts off at 5000 (and you'll want to recomment \n",
        "# the line after and run the cell again\n",
        "pprint(vectorizer.vocabulary_, width=79, compact=True)\n",
        "\n",
        "# look at the clean list now!"
      ],
      "metadata": {
        "id": "kcf4Q29CHwvh",
        "colab": {
          "base_uri": "https://localhost:8080/"
        },
        "outputId": "f28b490c-5c68-44f4-9de2-742237ba43a2"
      },
      "execution_count": 68,
      "outputs": [
        {
          "output_type": "stream",
          "name": "stdout",
          "text": [
            "{'back': 0,\n",
            " 'bring': 1,\n",
            " 'court': 2,\n",
            " 'five': 3,\n",
            " 'food': 4,\n",
            " 'food court': 5,\n",
            " 'good': 6,\n",
            " 'goods': 7,\n",
            " 'home': 8,\n",
            " 'home goods': 9,\n",
            " 'kids': 10,\n",
            " 'kw': 11,\n",
            " 'like': 12,\n",
            " 'mall': 13,\n",
            " 'malls': 14,\n",
            " 'movie': 15,\n",
            " 'needs': 16,\n",
            " 'people': 17,\n",
            " 'pizza': 18,\n",
            " 'place': 19,\n",
            " 'secret': 20,\n",
            " 'shop': 21,\n",
            " 'spencers': 22,\n",
            " 'store': 23,\n",
            " 'stores': 24,\n",
            " 'trampoline': 25,\n",
            " 'ulta': 26,\n",
            " 'victoria': 27,\n",
            " 'would': 28}\n"
          ]
        }
      ]
    },
    {
      "cell_type": "code",
      "source": [
        "len(vectorizer.vocabulary_) # looking at the size of the vocabulary from my data set."
      ],
      "metadata": {
        "colab": {
          "base_uri": "https://localhost:8080/"
        },
        "id": "qeNLZ4j2BOO0",
        "outputId": "e162b974-e506-4916-9732-2b9144f0eca3"
      },
      "execution_count": 69,
      "outputs": [
        {
          "output_type": "execute_result",
          "data": {
            "text/plain": [
              "29"
            ]
          },
          "metadata": {},
          "execution_count": 69
        }
      ]
    },
    {
      "cell_type": "markdown",
      "source": [
        "### Create a Feature Vector using TfidfVectorizer\n",
        "\n",
        "The TfIdfVectorizer is a tool that performs tokenization and generates a feature vector. By using the transform() method on a trained TfidfVectorizer object, we can build a representation of our sample sentences. In this example, we have two sentences, resulting in a two-row array. Given 14 vocabulary n-grams, we will have 14 columns in the resulting representation. Each column represents the count of the number of occurrences of a specific vocabulary n-gram in the sample sentence. For example, the first column (index 0) will show the count of the word 'John' in the sentence, while the second column (index 1) will indicate the count of the phrase 'John hates' in the sentence, and so on.\n",
        "\n",
        "\n",
        "\n"
      ],
      "metadata": {
        "id": "AYYj4XVWLfr1"
      }
    },
    {
      "cell_type": "code",
      "source": [
        "# Let's build a feature vector that describes our sample sentences.\n",
        "# This provides an array where each entry is the count or number of times \n",
        "# the vocabulary word associated with the column is in the sentence\n",
        "\n",
        "sample_sentences = ['The mall is good.', 'The mall is bad.']\n",
        "sample_vectorizer = TfidfVectorizer(min_df=MIN_DF, max_df=MAX_DF, ngram_range= (1,2),max_features=MAX_FEATURES,\n",
        "lowercase=LOWERCASE, use_idf=True)\n",
        "sample_vectorizer.fit(sample_sentences)\n",
        "\n",
        "sample_vectorizer.transform(sample_sentences).toarray()\n"
      ],
      "metadata": {
        "id": "m4Uvkm3jLt-6",
        "colab": {
          "base_uri": "https://localhost:8080/"
        },
        "outputId": "aaf7140d-32c1-4fb2-a949-0a3ba2badbec"
      },
      "execution_count": 70,
      "outputs": [
        {
          "output_type": "execute_result",
          "data": {
            "text/plain": [
              "array([[0.        , 0.70710678, 0.        , 0.70710678],\n",
              "       [0.70710678, 0.        , 0.70710678, 0.        ]])"
            ]
          },
          "metadata": {},
          "execution_count": 70
        }
      ]
    },
    {
      "cell_type": "markdown",
      "source": [
        "This code creates an instance of the TfidfVectorizer class from the scikit-learn library, which is used for text data preprocessing. The code defines the parameters for the vectorizer object and applies the fit method to the sample sentences, which trains the vectorizer on the sample sentences.\n",
        "\n",
        "The TfidfVectorizer takes the following parameters:\n",
        "\n",
        "min_df: Minimum number of documents a word must be in to be included.\n",
        "max_df: Maximum number of documents a word can be in to be included.\n",
        "ngram_range: Range of n-grams to consider, defined as a tuple of minimum and maximum n-gram size. The value (1, 3) means to consider unigrams, bigrams and trigrams.\n",
        "max_features: The maximum number of features to consider.\n",
        "lowercase: Convert all words to lowercase before processing.\n",
        "use_idf: Enable inverse-document-frequency reweighting.\n",
        "The transform method takes the sample sentences and converts them into a numerical representation, which is stored in a sparse matrix. The toarray method is called to convert the sparse matrix to a dense matrix, which returns the array of numerical values that represent the sample sentences."
      ],
      "metadata": {
        "id": "3ni3e6WWCEtt"
      }
    },
    {
      "cell_type": "code",
      "source": [
        "# Let's try adding a few more words to our example sentences so we have \n",
        "# duplicate words in some sentences.\n",
        "\n",
        "sample_sentences_2 = ['The mall is a good place to shop, and I eat there often.', 'The mall is a bad place to shop, I never eat there.']\n",
        "\n",
        "sample_vectorizer_2 = TfidfVectorizer(min_df=MIN_DF, max_df=MAX_DF, ngram_range= (1,3),max_features=MAX_FEATURES,\n",
        "lowercase=LOWERCASE, use_idf=True)\n",
        "\n",
        "sample_vectorizer_2.fit(sample_sentences_2)\n",
        "\n",
        "sample_vectorizer_2.transform(sample_sentences_2).toarray()"
      ],
      "metadata": {
        "id": "mF5uP4DDR-i2",
        "colab": {
          "base_uri": "https://localhost:8080/"
        },
        "outputId": "8468b9ae-2ff9-4cdf-d64c-63358180b310"
      },
      "execution_count": 71,
      "outputs": [
        {
          "output_type": "execute_result",
          "data": {
            "text/plain": [
              "array([[0.25819889, 0.25819889, 0.25819889, 0.        , 0.        ,\n",
              "        0.        , 0.25819889, 0.25819889, 0.25819889, 0.25819889,\n",
              "        0.        , 0.        , 0.25819889, 0.25819889, 0.        ,\n",
              "        0.25819889, 0.        , 0.        , 0.        , 0.25819889,\n",
              "        0.25819889, 0.25819889, 0.        , 0.        , 0.25819889,\n",
              "        0.25819889, 0.        ],\n",
              "       [0.        , 0.        , 0.        , 0.28867513, 0.28867513,\n",
              "        0.28867513, 0.        , 0.        , 0.        , 0.        ,\n",
              "        0.28867513, 0.28867513, 0.        , 0.        , 0.28867513,\n",
              "        0.        , 0.28867513, 0.28867513, 0.28867513, 0.        ,\n",
              "        0.        , 0.        , 0.28867513, 0.28867513, 0.        ,\n",
              "        0.        , 0.28867513]])"
            ]
          },
          "metadata": {},
          "execution_count": 71
        }
      ]
    },
    {
      "cell_type": "code",
      "source": [
        "# We can just as easily create feature vectors for all sentences in our dataframe\n",
        "# Here we see that sklearn, knowing that there are mostly zeros in the array, \n",
        "# used a sparce object to represent the array. \n",
        "vectorizer.transform(df['Sentence'].tolist())\n",
        "\n",
        "# This is a nice even number :)"
      ],
      "metadata": {
        "id": "QKpcqzDGRclq",
        "colab": {
          "base_uri": "https://localhost:8080/"
        },
        "outputId": "0eb2142f-7636-49dd-faec-db6a58172cd2"
      },
      "execution_count": 73,
      "outputs": [
        {
          "output_type": "execute_result",
          "data": {
            "text/plain": [
              "<196x29 sparse matrix of type '<class 'numpy.float64'>'\n",
              "\twith 380 stored elements in Compressed Sparse Row format>"
            ]
          },
          "metadata": {},
          "execution_count": 73
        }
      ]
    },
    {
      "cell_type": "markdown",
      "source": [
        "## Build a Baseline Model\n",
        "\n",
        "When you work with machine learning, one important step is to define a **baseline model**. The baseline model is a simple model that can be quickly created.  It is used to compare more advanced models that you want to experiment with.  In our case, we will compare the baseline model with more advanced methods using (deep) neural network models.  \n",
        "\n",
        "We will start by taking our dataframe of labeled data.  We will start by just looking at data sourced from 'facebook' to train and test our model. "
      ],
      "metadata": {
        "id": "ufffYEao_cbl"
      }
    },
    {
      "cell_type": "markdown",
      "source": [
        "### Train/Test Split\n",
        "\n",
        "The data will be partitioned into a training set and a test set in accordance with conventional practice, with 80% of the data utilized for training the model and 20% of the data reserved for testing the model's performance. After training on the training data, the model's effectiveness will be assessed using the unseen test data set.\n",
        "\n",
        "To mitigate the impact of any inherent ordering in the data collection process, a random partitioning strategy will be employed. The train_test_split() method from the scikit-learn library will be utilized for randomly dividing the data. The random_state parameter will be set to 1000, which serves as a seed for the random number generator, ensuring consistent and reproducible results. The specific value chosen for the random_state parameter is arbitrary."
      ],
      "metadata": {
        "id": "EfuDSDCrVv0m"
      }
    },
    {
      "cell_type": "code",
      "source": [
        "from sklearn.model_selection import train_test_split\n",
        "\n",
        "df_facebook = df[df['Source'] == 'Facebook']\n",
        "\n",
        "sentences = df_facebook['Sentence'].values\n",
        "\n",
        "y = df_facebook['Label'].values\n",
        "\n",
        "# split the data into training and test sets\n",
        "sentences_train, sentences_test, y_train, y_test = train_test_split(\n",
        "    sentences, y, test_size=0.2, random_state=1000)"
      ],
      "metadata": {
        "id": "Cris0DXEE3im"
      },
      "execution_count": 74,
      "outputs": []
    },
    {
      "cell_type": "markdown",
      "source": [
        "### Train TfidfVectorizer and Build Feature Vectors\n",
        "\n",
        "To train the TfidfVectorizer on the sentences in our training data, we can use the fit() method. This method will perform the training necessary to generate the feature vectors.\n",
        "\n",
        "Once the TfidfVectorizer has been trained, we can use the transform() method to create numerical arrays representing the features for both the training and testing sets. These arrays will serve as the feature vectors that we will use to train our model. It is recommended to use the variable names X_train and X_test for these numeric feature vectors, respectively."
      ],
      "metadata": {
        "id": "oesSe1ptWD9p"
      }
    },
    {
      "cell_type": "code",
      "source": [
        "from sklearn.feature_extraction.text import TfidfVectorizer\n",
        "\n",
        "# I dinkied with the n-gram size here too.\n",
        "\n",
        "vectorizer_facebook = TfidfVectorizer(min_df=MIN_DF, max_df=MAX_DF, ngram_range= (1,2),max_features=MAX_FEATURES,\n",
        "lowercase=LOWERCASE, use_idf=True)\n",
        "vectorizer_facebook.fit(sentences_train)\n",
        "\n",
        "# build our featue vectors\n",
        "X_all = vectorizer_facebook.transform(sentences)\n",
        "X_train_facebook = vectorizer_facebook.transform(sentences_train)\n",
        "X_test_facebook = vectorizer_facebook.transform(sentences_test)\n",
        "\n",
        "X_train_facebook\n",
        "\n",
        "# There are 461 stored elements within the data set with unigrams\n",
        "# There are 503 stored elements in the sparse matrix with bi-grams\n",
        "# With the cleaned data and bi-grams I have 238 elements!\n"
      ],
      "metadata": {
        "id": "A6syjcgRFEbF",
        "colab": {
          "base_uri": "https://localhost:8080/"
        },
        "outputId": "9a91ce3f-6b3c-491b-950e-db743d937de8"
      },
      "execution_count": 75,
      "outputs": [
        {
          "output_type": "execute_result",
          "data": {
            "text/plain": [
              "<134x26 sparse matrix of type '<class 'numpy.float64'>'\n",
              "\twith 238 stored elements in Compressed Sparse Row format>"
            ]
          },
          "metadata": {},
          "execution_count": 75
        }
      ]
    },
    {
      "cell_type": "markdown",
      "source": [
        "### Consider our Feature Vectors\n",
        "\n",
        "The \"What's Up Goldsboro\" dataset, after undergoing the train/test split, results in the feature vectors in X_train having 510 samples, representing the 510 sentences in the training data. The number of columns in this feature vector is determined by the vocabulary n-grams present in the training data. Each sentence is thus represented as a vector of decimal numbers.\n",
        "\n",
        "It is important to note that the size of the vocabulary n-grams and the number of samples can vary depending on the proportions selected for the train/test split or the random number seed chosen for randomizing the data.\n",
        "\n",
        "Additionally, it can be observed that the feature vectors obtained are in the form of a sparse matrix. This type of matrix is optimized for matrices with a relatively small number of non-zero elements, as it only retains information about these non-zero elements, reducing the memory requirements."
      ],
      "metadata": {
        "id": "o39mm3RDXbo4"
      }
    },
    {
      "cell_type": "markdown",
      "source": [
        "### Build LogisticRegression Model as Baseline\n",
        "\n",
        "The logistic regression model is a simple and effective linear model used for classification. It uses a regression between 0 and 1, based on the input feature vector, and by default uses a cutoff value of 0.5 to make predictions. The selection of the cutoff value is subjective and can be adjusted based on specific requirements."
      ],
      "metadata": {
        "id": "JHkioGGxWqli"
      }
    },
    {
      "cell_type": "code",
      "source": [
        "from sklearn.linear_model import LogisticRegression\n",
        "\n",
        "classifier_facebook = LogisticRegression() # instantiate the model\n",
        "classifier_facebook.fit(X_train_facebook, y_train) # train the model\n",
        "score = classifier_facebook.score(X_test_facebook, y_test) # test the model\n",
        "\n",
        "print(\"Accuracy of our What's Up Goldsboro Facebook Classifier: {:.4f}\".format(score))\n",
        "\n",
        "# Using a Logistic Regression model is pretty straightforward but doesn't provide the most state of the art results"
      ],
      "metadata": {
        "id": "z5UQ9oHGFe4I",
        "colab": {
          "base_uri": "https://localhost:8080/"
        },
        "outputId": "540690df-e979-45a2-9651-8422cc9cb8f5"
      },
      "execution_count": 76,
      "outputs": [
        {
          "output_type": "stream",
          "name": "stdout",
          "text": [
            "Accuracy of our What's Up Goldsboro Facebook Classifier: 0.7353\n"
          ]
        }
      ]
    },
    {
      "cell_type": "code",
      "source": [
        "df[df['Source']=='Facebook'][:10]"
      ],
      "metadata": {
        "id": "M2K03XkgbiRw",
        "colab": {
          "base_uri": "https://localhost:8080/",
          "height": 363
        },
        "outputId": "2200b900-3597-4012-80c0-48ae6a610fc1"
      },
      "execution_count": 77,
      "outputs": [
        {
          "output_type": "execute_result",
          "data": {
            "text/plain": [
              "     Source  Label                                           Sentence  predict\n",
              "0  Facebook      0                   anything another damn shoe store        1\n",
              "1  Facebook      1  mall joke worked 30 years ago nice understand ...        1\n",
              "2  Facebook      1                                        spencerâs        1\n",
              "3  Facebook      1                   arcade kids teens serves food kw        1\n",
              "4  Facebook      1                         dillards talbots chicoâs        1\n",
              "5  Facebook      1                               spencers hot topic 5        1\n",
              "6  Facebook      1  victoriaâs secret pottery barn kohlâs amer...        1\n",
              "7  Facebook      1                                  kw bring backkkkk        1\n",
              "8  Facebook      1          shein fashion nova store wishful thinking        1\n",
              "9  Facebook      0                                              knock        0"
            ],
            "text/html": [
              "\n",
              "  <div id=\"df-3af210fc-3099-4b30-b6d9-e0f652af0860\">\n",
              "    <div class=\"colab-df-container\">\n",
              "      <div>\n",
              "<style scoped>\n",
              "    .dataframe tbody tr th:only-of-type {\n",
              "        vertical-align: middle;\n",
              "    }\n",
              "\n",
              "    .dataframe tbody tr th {\n",
              "        vertical-align: top;\n",
              "    }\n",
              "\n",
              "    .dataframe thead th {\n",
              "        text-align: right;\n",
              "    }\n",
              "</style>\n",
              "<table border=\"1\" class=\"dataframe\">\n",
              "  <thead>\n",
              "    <tr style=\"text-align: right;\">\n",
              "      <th></th>\n",
              "      <th>Source</th>\n",
              "      <th>Label</th>\n",
              "      <th>Sentence</th>\n",
              "      <th>predict</th>\n",
              "    </tr>\n",
              "  </thead>\n",
              "  <tbody>\n",
              "    <tr>\n",
              "      <th>0</th>\n",
              "      <td>Facebook</td>\n",
              "      <td>0</td>\n",
              "      <td>anything another damn shoe store</td>\n",
              "      <td>1</td>\n",
              "    </tr>\n",
              "    <tr>\n",
              "      <th>1</th>\n",
              "      <td>Facebook</td>\n",
              "      <td>1</td>\n",
              "      <td>mall joke worked 30 years ago nice understand ...</td>\n",
              "      <td>1</td>\n",
              "    </tr>\n",
              "    <tr>\n",
              "      <th>2</th>\n",
              "      <td>Facebook</td>\n",
              "      <td>1</td>\n",
              "      <td>spencerâs</td>\n",
              "      <td>1</td>\n",
              "    </tr>\n",
              "    <tr>\n",
              "      <th>3</th>\n",
              "      <td>Facebook</td>\n",
              "      <td>1</td>\n",
              "      <td>arcade kids teens serves food kw</td>\n",
              "      <td>1</td>\n",
              "    </tr>\n",
              "    <tr>\n",
              "      <th>4</th>\n",
              "      <td>Facebook</td>\n",
              "      <td>1</td>\n",
              "      <td>dillards talbots chicoâs</td>\n",
              "      <td>1</td>\n",
              "    </tr>\n",
              "    <tr>\n",
              "      <th>5</th>\n",
              "      <td>Facebook</td>\n",
              "      <td>1</td>\n",
              "      <td>spencers hot topic 5</td>\n",
              "      <td>1</td>\n",
              "    </tr>\n",
              "    <tr>\n",
              "      <th>6</th>\n",
              "      <td>Facebook</td>\n",
              "      <td>1</td>\n",
              "      <td>victoriaâs secret pottery barn kohlâs amer...</td>\n",
              "      <td>1</td>\n",
              "    </tr>\n",
              "    <tr>\n",
              "      <th>7</th>\n",
              "      <td>Facebook</td>\n",
              "      <td>1</td>\n",
              "      <td>kw bring backkkkk</td>\n",
              "      <td>1</td>\n",
              "    </tr>\n",
              "    <tr>\n",
              "      <th>8</th>\n",
              "      <td>Facebook</td>\n",
              "      <td>1</td>\n",
              "      <td>shein fashion nova store wishful thinking</td>\n",
              "      <td>1</td>\n",
              "    </tr>\n",
              "    <tr>\n",
              "      <th>9</th>\n",
              "      <td>Facebook</td>\n",
              "      <td>0</td>\n",
              "      <td>knock</td>\n",
              "      <td>0</td>\n",
              "    </tr>\n",
              "  </tbody>\n",
              "</table>\n",
              "</div>\n",
              "      <button class=\"colab-df-convert\" onclick=\"convertToInteractive('df-3af210fc-3099-4b30-b6d9-e0f652af0860')\"\n",
              "              title=\"Convert this dataframe to an interactive table.\"\n",
              "              style=\"display:none;\">\n",
              "        \n",
              "  <svg xmlns=\"http://www.w3.org/2000/svg\" height=\"24px\"viewBox=\"0 0 24 24\"\n",
              "       width=\"24px\">\n",
              "    <path d=\"M0 0h24v24H0V0z\" fill=\"none\"/>\n",
              "    <path d=\"M18.56 5.44l.94 2.06.94-2.06 2.06-.94-2.06-.94-.94-2.06-.94 2.06-2.06.94zm-11 1L8.5 8.5l.94-2.06 2.06-.94-2.06-.94L8.5 2.5l-.94 2.06-2.06.94zm10 10l.94 2.06.94-2.06 2.06-.94-2.06-.94-.94-2.06-.94 2.06-2.06.94z\"/><path d=\"M17.41 7.96l-1.37-1.37c-.4-.4-.92-.59-1.43-.59-.52 0-1.04.2-1.43.59L10.3 9.45l-7.72 7.72c-.78.78-.78 2.05 0 2.83L4 21.41c.39.39.9.59 1.41.59.51 0 1.02-.2 1.41-.59l7.78-7.78 2.81-2.81c.8-.78.8-2.07 0-2.86zM5.41 20L4 18.59l7.72-7.72 1.47 1.35L5.41 20z\"/>\n",
              "  </svg>\n",
              "      </button>\n",
              "      \n",
              "  <style>\n",
              "    .colab-df-container {\n",
              "      display:flex;\n",
              "      flex-wrap:wrap;\n",
              "      gap: 12px;\n",
              "    }\n",
              "\n",
              "    .colab-df-convert {\n",
              "      background-color: #E8F0FE;\n",
              "      border: none;\n",
              "      border-radius: 50%;\n",
              "      cursor: pointer;\n",
              "      display: none;\n",
              "      fill: #1967D2;\n",
              "      height: 32px;\n",
              "      padding: 0 0 0 0;\n",
              "      width: 32px;\n",
              "    }\n",
              "\n",
              "    .colab-df-convert:hover {\n",
              "      background-color: #E2EBFA;\n",
              "      box-shadow: 0px 1px 2px rgba(60, 64, 67, 0.3), 0px 1px 3px 1px rgba(60, 64, 67, 0.15);\n",
              "      fill: #174EA6;\n",
              "    }\n",
              "\n",
              "    [theme=dark] .colab-df-convert {\n",
              "      background-color: #3B4455;\n",
              "      fill: #D2E3FC;\n",
              "    }\n",
              "\n",
              "    [theme=dark] .colab-df-convert:hover {\n",
              "      background-color: #434B5C;\n",
              "      box-shadow: 0px 1px 3px 1px rgba(0, 0, 0, 0.15);\n",
              "      filter: drop-shadow(0px 1px 2px rgba(0, 0, 0, 0.3));\n",
              "      fill: #FFFFFF;\n",
              "    }\n",
              "  </style>\n",
              "\n",
              "      <script>\n",
              "        const buttonEl =\n",
              "          document.querySelector('#df-3af210fc-3099-4b30-b6d9-e0f652af0860 button.colab-df-convert');\n",
              "        buttonEl.style.display =\n",
              "          google.colab.kernel.accessAllowed ? 'block' : 'none';\n",
              "\n",
              "        async function convertToInteractive(key) {\n",
              "          const element = document.querySelector('#df-3af210fc-3099-4b30-b6d9-e0f652af0860');\n",
              "          const dataTable =\n",
              "            await google.colab.kernel.invokeFunction('convertToInteractive',\n",
              "                                                     [key], {});\n",
              "          if (!dataTable) return;\n",
              "\n",
              "          const docLinkHtml = 'Like what you see? Visit the ' +\n",
              "            '<a target=\"_blank\" href=https://colab.research.google.com/notebooks/data_table.ipynb>data table notebook</a>'\n",
              "            + ' to learn more about interactive tables.';\n",
              "          element.innerHTML = '';\n",
              "          dataTable['output_type'] = 'display_data';\n",
              "          await google.colab.output.renderOutput(dataTable, element);\n",
              "          const docLink = document.createElement('div');\n",
              "          docLink.innerHTML = docLinkHtml;\n",
              "          element.appendChild(docLink);\n",
              "        }\n",
              "      </script>\n",
              "    </div>\n",
              "  </div>\n",
              "  "
            ]
          },
          "metadata": {},
          "execution_count": 77
        }
      ]
    },
    {
      "cell_type": "code",
      "source": [
        "def explore_facebook_classifier(user_input):\n",
        "    \"\"\"explore the facebook classifier results\"\"\"\n",
        "    X_user = vectorizer_facebook.transform([user_input])\n",
        "    #We needed an array that is 1 x our vocabulary size to predict()\n",
        "    # so we added [] around our sentence.\n",
        "    result = classifier_facebook.predict(X_user)\n",
        "    #predict() returns a list of predicted results, since we only have one input\n",
        "    # we index on [0]\n",
        "    # print(result[0])\n",
        "    # We can display a nicer message since we know what these labels mean.\n",
        "    if result[0] == 1:\n",
        "        predicted_label = 'Positive'\n",
        "    else:\n",
        "        predicted_label = 'Negative'\n",
        "    print(f\"Utterances: {user_input}\")\n",
        "    print(f\"Predicted Label: {predicted_label}\")"
      ],
      "metadata": {
        "id": "EjLZZSIVeUqi"
      },
      "execution_count": 78,
      "outputs": []
    },
    {
      "cell_type": "code",
      "source": [
        "# Let's try some examples\n",
        "explore_facebook_classifier('The mall is good.')"
      ],
      "metadata": {
        "id": "GzMNNayZejLr",
        "colab": {
          "base_uri": "https://localhost:8080/"
        },
        "outputId": "ed4aa84b-c844-40e6-c998-e388f7042c15"
      },
      "execution_count": 79,
      "outputs": [
        {
          "output_type": "stream",
          "name": "stdout",
          "text": [
            "Utterances: The mall is good.\n",
            "Predicted Label: Positive\n"
          ]
        }
      ]
    },
    {
      "cell_type": "code",
      "source": [
        "# Here is a sentence that our classifier gets wrong.\n",
        "# It uses \"not\" and \"hate\" both are negative words, but \"not hate\" is \n",
        "# intuitively positive.  This error is due to using Bag-of-Words to create \n",
        "# our feature vectors.  \n",
        "explore_facebook_classifier(\"I do not hate the mall.\")\n",
        "\n",
        "# AH! I can't understand why it would think this was a positive utterance."
      ],
      "metadata": {
        "id": "7Qc_NDdkex0K",
        "colab": {
          "base_uri": "https://localhost:8080/"
        },
        "outputId": "e88712f5-f071-4ab5-db5b-4a1080182ed9"
      },
      "execution_count": 80,
      "outputs": [
        {
          "output_type": "stream",
          "name": "stdout",
          "text": [
            "Utterances: I do not hate the mall.\n",
            "Predicted Label: Positive\n"
          ]
        }
      ]
    },
    {
      "cell_type": "markdown",
      "source": [
        "It appears that the issue with the current model may be attributed to a lack of sufficient training data. With only 98 utterances in the local domain, the model may have limited exposure to diverse inputs and may not be capable of accurately making predictions for new sentences. This limited training data can result in a narrow perspective for the model and negatively impact its classification effectiveness.\n"
      ],
      "metadata": {
        "id": "_LD6GLQO4F-W"
      }
    },
    {
      "cell_type": "code",
      "source": [
        "# \n",
        "explore_facebook_classifier(\"bring it back.\") # This is a Sentiment that was frequently labeled 0 in my csv\n",
        "explore_facebook_classifier(\"The mall is boring.\") # This is a new scentence that was not in the data set that should be predicted negative.\n",
        "\n",
        "# The model is functioning just as we told it to but it requires more examples of positive and negative utterances.\n",
        "# I think its only memorizing  the 0 and 1 labels..."
      ],
      "metadata": {
        "id": "6sxd3_z6fH4r",
        "colab": {
          "base_uri": "https://localhost:8080/"
        },
        "outputId": "bf7abaee-186e-495e-9bf8-4fc26ca95dce"
      },
      "execution_count": 81,
      "outputs": [
        {
          "output_type": "stream",
          "name": "stdout",
          "text": [
            "Utterances: bring it back.\n",
            "Predicted Label: Negative\n",
            "Utterances: The mall is boring.\n",
            "Predicted Label: Positive\n"
          ]
        }
      ]
    },
    {
      "cell_type": "code",
      "source": [
        "# Add the model predictions to the dataframe\n",
        "df['predict'] = classifier_facebook.predict(vectorizer_facebook.transform(df['Sentence'].tolist()))"
      ],
      "metadata": {
        "id": "FGo_GEJmDlnq"
      },
      "execution_count": 82,
      "outputs": []
    },
    {
      "cell_type": "code",
      "source": [
        "# Dataframe where the model predicted correctly\n",
        "df_correct = df[df['predict'] == df['Label']]"
      ],
      "metadata": {
        "id": "On2DjMoaDX16"
      },
      "execution_count": 83,
      "outputs": []
    },
    {
      "cell_type": "code",
      "source": [
        "# Look at some correct predictions\n",
        "df_correct[:10]\n",
        "\n",
        "# This is what I expected from exploring my classifier using TF-IDF vectorization\n",
        "# It appears to memorize the positive and negative utterances like flashcards"
      ],
      "metadata": {
        "id": "Bg-tC__3E6_e",
        "colab": {
          "base_uri": "https://localhost:8080/",
          "height": 363
        },
        "outputId": "73e7caeb-aa92-4c65-fc9c-0d3beeff75a7"
      },
      "execution_count": 84,
      "outputs": [
        {
          "output_type": "execute_result",
          "data": {
            "text/plain": [
              "      Source  Label                                           Sentence  \\\n",
              "1   Facebook      1  mall joke worked 30 years ago nice understand ...   \n",
              "2   Facebook      1                                        spencerâs   \n",
              "3   Facebook      1                   arcade kids teens serves food kw   \n",
              "4   Facebook      1                         dillards talbots chicoâs   \n",
              "5   Facebook      1                               spencers hot topic 5   \n",
              "6   Facebook      1  victoriaâs secret pottery barn kohlâs amer...   \n",
              "7   Facebook      1                                  kw bring backkkkk   \n",
              "8   Facebook      1          shein fashion nova store wishful thinking   \n",
              "11  Facebook      1  kw victoria secret holliester food court perha...   \n",
              "12  Facebook      1  amc theater alamo drafthouse trampoline park s...   \n",
              "\n",
              "    predict  \n",
              "1         1  \n",
              "2         1  \n",
              "3         1  \n",
              "4         1  \n",
              "5         1  \n",
              "6         1  \n",
              "7         1  \n",
              "8         1  \n",
              "11        1  \n",
              "12        1  "
            ],
            "text/html": [
              "\n",
              "  <div id=\"df-fa0b2b39-b340-48fc-89ae-c092b3bb3f62\">\n",
              "    <div class=\"colab-df-container\">\n",
              "      <div>\n",
              "<style scoped>\n",
              "    .dataframe tbody tr th:only-of-type {\n",
              "        vertical-align: middle;\n",
              "    }\n",
              "\n",
              "    .dataframe tbody tr th {\n",
              "        vertical-align: top;\n",
              "    }\n",
              "\n",
              "    .dataframe thead th {\n",
              "        text-align: right;\n",
              "    }\n",
              "</style>\n",
              "<table border=\"1\" class=\"dataframe\">\n",
              "  <thead>\n",
              "    <tr style=\"text-align: right;\">\n",
              "      <th></th>\n",
              "      <th>Source</th>\n",
              "      <th>Label</th>\n",
              "      <th>Sentence</th>\n",
              "      <th>predict</th>\n",
              "    </tr>\n",
              "  </thead>\n",
              "  <tbody>\n",
              "    <tr>\n",
              "      <th>1</th>\n",
              "      <td>Facebook</td>\n",
              "      <td>1</td>\n",
              "      <td>mall joke worked 30 years ago nice understand ...</td>\n",
              "      <td>1</td>\n",
              "    </tr>\n",
              "    <tr>\n",
              "      <th>2</th>\n",
              "      <td>Facebook</td>\n",
              "      <td>1</td>\n",
              "      <td>spencerâs</td>\n",
              "      <td>1</td>\n",
              "    </tr>\n",
              "    <tr>\n",
              "      <th>3</th>\n",
              "      <td>Facebook</td>\n",
              "      <td>1</td>\n",
              "      <td>arcade kids teens serves food kw</td>\n",
              "      <td>1</td>\n",
              "    </tr>\n",
              "    <tr>\n",
              "      <th>4</th>\n",
              "      <td>Facebook</td>\n",
              "      <td>1</td>\n",
              "      <td>dillards talbots chicoâs</td>\n",
              "      <td>1</td>\n",
              "    </tr>\n",
              "    <tr>\n",
              "      <th>5</th>\n",
              "      <td>Facebook</td>\n",
              "      <td>1</td>\n",
              "      <td>spencers hot topic 5</td>\n",
              "      <td>1</td>\n",
              "    </tr>\n",
              "    <tr>\n",
              "      <th>6</th>\n",
              "      <td>Facebook</td>\n",
              "      <td>1</td>\n",
              "      <td>victoriaâs secret pottery barn kohlâs amer...</td>\n",
              "      <td>1</td>\n",
              "    </tr>\n",
              "    <tr>\n",
              "      <th>7</th>\n",
              "      <td>Facebook</td>\n",
              "      <td>1</td>\n",
              "      <td>kw bring backkkkk</td>\n",
              "      <td>1</td>\n",
              "    </tr>\n",
              "    <tr>\n",
              "      <th>8</th>\n",
              "      <td>Facebook</td>\n",
              "      <td>1</td>\n",
              "      <td>shein fashion nova store wishful thinking</td>\n",
              "      <td>1</td>\n",
              "    </tr>\n",
              "    <tr>\n",
              "      <th>11</th>\n",
              "      <td>Facebook</td>\n",
              "      <td>1</td>\n",
              "      <td>kw victoria secret holliester food court perha...</td>\n",
              "      <td>1</td>\n",
              "    </tr>\n",
              "    <tr>\n",
              "      <th>12</th>\n",
              "      <td>Facebook</td>\n",
              "      <td>1</td>\n",
              "      <td>amc theater alamo drafthouse trampoline park s...</td>\n",
              "      <td>1</td>\n",
              "    </tr>\n",
              "  </tbody>\n",
              "</table>\n",
              "</div>\n",
              "      <button class=\"colab-df-convert\" onclick=\"convertToInteractive('df-fa0b2b39-b340-48fc-89ae-c092b3bb3f62')\"\n",
              "              title=\"Convert this dataframe to an interactive table.\"\n",
              "              style=\"display:none;\">\n",
              "        \n",
              "  <svg xmlns=\"http://www.w3.org/2000/svg\" height=\"24px\"viewBox=\"0 0 24 24\"\n",
              "       width=\"24px\">\n",
              "    <path d=\"M0 0h24v24H0V0z\" fill=\"none\"/>\n",
              "    <path d=\"M18.56 5.44l.94 2.06.94-2.06 2.06-.94-2.06-.94-.94-2.06-.94 2.06-2.06.94zm-11 1L8.5 8.5l.94-2.06 2.06-.94-2.06-.94L8.5 2.5l-.94 2.06-2.06.94zm10 10l.94 2.06.94-2.06 2.06-.94-2.06-.94-.94-2.06-.94 2.06-2.06.94z\"/><path d=\"M17.41 7.96l-1.37-1.37c-.4-.4-.92-.59-1.43-.59-.52 0-1.04.2-1.43.59L10.3 9.45l-7.72 7.72c-.78.78-.78 2.05 0 2.83L4 21.41c.39.39.9.59 1.41.59.51 0 1.02-.2 1.41-.59l7.78-7.78 2.81-2.81c.8-.78.8-2.07 0-2.86zM5.41 20L4 18.59l7.72-7.72 1.47 1.35L5.41 20z\"/>\n",
              "  </svg>\n",
              "      </button>\n",
              "      \n",
              "  <style>\n",
              "    .colab-df-container {\n",
              "      display:flex;\n",
              "      flex-wrap:wrap;\n",
              "      gap: 12px;\n",
              "    }\n",
              "\n",
              "    .colab-df-convert {\n",
              "      background-color: #E8F0FE;\n",
              "      border: none;\n",
              "      border-radius: 50%;\n",
              "      cursor: pointer;\n",
              "      display: none;\n",
              "      fill: #1967D2;\n",
              "      height: 32px;\n",
              "      padding: 0 0 0 0;\n",
              "      width: 32px;\n",
              "    }\n",
              "\n",
              "    .colab-df-convert:hover {\n",
              "      background-color: #E2EBFA;\n",
              "      box-shadow: 0px 1px 2px rgba(60, 64, 67, 0.3), 0px 1px 3px 1px rgba(60, 64, 67, 0.15);\n",
              "      fill: #174EA6;\n",
              "    }\n",
              "\n",
              "    [theme=dark] .colab-df-convert {\n",
              "      background-color: #3B4455;\n",
              "      fill: #D2E3FC;\n",
              "    }\n",
              "\n",
              "    [theme=dark] .colab-df-convert:hover {\n",
              "      background-color: #434B5C;\n",
              "      box-shadow: 0px 1px 3px 1px rgba(0, 0, 0, 0.15);\n",
              "      filter: drop-shadow(0px 1px 2px rgba(0, 0, 0, 0.3));\n",
              "      fill: #FFFFFF;\n",
              "    }\n",
              "  </style>\n",
              "\n",
              "      <script>\n",
              "        const buttonEl =\n",
              "          document.querySelector('#df-fa0b2b39-b340-48fc-89ae-c092b3bb3f62 button.colab-df-convert');\n",
              "        buttonEl.style.display =\n",
              "          google.colab.kernel.accessAllowed ? 'block' : 'none';\n",
              "\n",
              "        async function convertToInteractive(key) {\n",
              "          const element = document.querySelector('#df-fa0b2b39-b340-48fc-89ae-c092b3bb3f62');\n",
              "          const dataTable =\n",
              "            await google.colab.kernel.invokeFunction('convertToInteractive',\n",
              "                                                     [key], {});\n",
              "          if (!dataTable) return;\n",
              "\n",
              "          const docLinkHtml = 'Like what you see? Visit the ' +\n",
              "            '<a target=\"_blank\" href=https://colab.research.google.com/notebooks/data_table.ipynb>data table notebook</a>'\n",
              "            + ' to learn more about interactive tables.';\n",
              "          element.innerHTML = '';\n",
              "          dataTable['output_type'] = 'display_data';\n",
              "          await google.colab.output.renderOutput(dataTable, element);\n",
              "          const docLink = document.createElement('div');\n",
              "          docLink.innerHTML = docLinkHtml;\n",
              "          element.appendChild(docLink);\n",
              "        }\n",
              "      </script>\n",
              "    </div>\n",
              "  </div>\n",
              "  "
            ]
          },
          "metadata": {},
          "execution_count": 84
        }
      ]
    },
    {
      "cell_type": "code",
      "source": [
        "# Dataframe where the model predicted incorrectly\n",
        "df_incorrect = df[df['predict'] != df['Label']]"
      ],
      "metadata": {
        "id": "91ehSJO5Db9L"
      },
      "execution_count": 85,
      "outputs": []
    },
    {
      "cell_type": "code",
      "source": [
        "# Look at some incorrect predictions\n",
        "df_incorrect[:10]\n",
        "\n",
        "# I'm not sure why it didn't predict these utterances as negative? There are alot of instances\n",
        "# of sarcasm or figurative language that the model may not be picking up on this might be fixable\n",
        "# if we change the size of n-grams? I'm thinking the bi gram \"Anything but\" should be a negative sentiment."
      ],
      "metadata": {
        "id": "SqFhUR5NFDXy",
        "colab": {
          "base_uri": "https://localhost:8080/",
          "height": 363
        },
        "outputId": "9bffc237-0edf-403b-8a2e-d9d1258ee7d2"
      },
      "execution_count": 86,
      "outputs": [
        {
          "output_type": "execute_result",
          "data": {
            "text/plain": [
              "      Source  Label                                           Sentence  \\\n",
              "0   Facebook      0                   anything another damn shoe store   \n",
              "9   Facebook      0                                              knock   \n",
              "10  Facebook      0  cant believe one said blockbusteror wafâ¦neve...   \n",
              "16  Facebook      0                                      pipe dreaming   \n",
              "20  Facebook      0  agree mall concept outdated need combine stars...   \n",
              "25  Facebook      0                           bad cant buy punctuation   \n",
              "29  Facebook      0  turn whole mall big drive car wash im convince...   \n",
              "33  Facebook      0                                     wonât happen   \n",
              "36  Facebook      0  food options food always brings people pretzel...   \n",
              "43  Facebook      0  want see mall brings go greenville least three...   \n",
              "\n",
              "    predict  \n",
              "0         1  \n",
              "9         1  \n",
              "10        1  \n",
              "16        1  \n",
              "20        1  \n",
              "25        1  \n",
              "29        1  \n",
              "33        1  \n",
              "36        1  \n",
              "43        1  "
            ],
            "text/html": [
              "\n",
              "  <div id=\"df-307a1aaa-0edf-46a8-89ab-8cbc9ef9550c\">\n",
              "    <div class=\"colab-df-container\">\n",
              "      <div>\n",
              "<style scoped>\n",
              "    .dataframe tbody tr th:only-of-type {\n",
              "        vertical-align: middle;\n",
              "    }\n",
              "\n",
              "    .dataframe tbody tr th {\n",
              "        vertical-align: top;\n",
              "    }\n",
              "\n",
              "    .dataframe thead th {\n",
              "        text-align: right;\n",
              "    }\n",
              "</style>\n",
              "<table border=\"1\" class=\"dataframe\">\n",
              "  <thead>\n",
              "    <tr style=\"text-align: right;\">\n",
              "      <th></th>\n",
              "      <th>Source</th>\n",
              "      <th>Label</th>\n",
              "      <th>Sentence</th>\n",
              "      <th>predict</th>\n",
              "    </tr>\n",
              "  </thead>\n",
              "  <tbody>\n",
              "    <tr>\n",
              "      <th>0</th>\n",
              "      <td>Facebook</td>\n",
              "      <td>0</td>\n",
              "      <td>anything another damn shoe store</td>\n",
              "      <td>1</td>\n",
              "    </tr>\n",
              "    <tr>\n",
              "      <th>9</th>\n",
              "      <td>Facebook</td>\n",
              "      <td>0</td>\n",
              "      <td>knock</td>\n",
              "      <td>1</td>\n",
              "    </tr>\n",
              "    <tr>\n",
              "      <th>10</th>\n",
              "      <td>Facebook</td>\n",
              "      <td>0</td>\n",
              "      <td>cant believe one said blockbusteror wafâ¦neve...</td>\n",
              "      <td>1</td>\n",
              "    </tr>\n",
              "    <tr>\n",
              "      <th>16</th>\n",
              "      <td>Facebook</td>\n",
              "      <td>0</td>\n",
              "      <td>pipe dreaming</td>\n",
              "      <td>1</td>\n",
              "    </tr>\n",
              "    <tr>\n",
              "      <th>20</th>\n",
              "      <td>Facebook</td>\n",
              "      <td>0</td>\n",
              "      <td>agree mall concept outdated need combine stars...</td>\n",
              "      <td>1</td>\n",
              "    </tr>\n",
              "    <tr>\n",
              "      <th>25</th>\n",
              "      <td>Facebook</td>\n",
              "      <td>0</td>\n",
              "      <td>bad cant buy punctuation</td>\n",
              "      <td>1</td>\n",
              "    </tr>\n",
              "    <tr>\n",
              "      <th>29</th>\n",
              "      <td>Facebook</td>\n",
              "      <td>0</td>\n",
              "      <td>turn whole mall big drive car wash im convince...</td>\n",
              "      <td>1</td>\n",
              "    </tr>\n",
              "    <tr>\n",
              "      <th>33</th>\n",
              "      <td>Facebook</td>\n",
              "      <td>0</td>\n",
              "      <td>wonât happen</td>\n",
              "      <td>1</td>\n",
              "    </tr>\n",
              "    <tr>\n",
              "      <th>36</th>\n",
              "      <td>Facebook</td>\n",
              "      <td>0</td>\n",
              "      <td>food options food always brings people pretzel...</td>\n",
              "      <td>1</td>\n",
              "    </tr>\n",
              "    <tr>\n",
              "      <th>43</th>\n",
              "      <td>Facebook</td>\n",
              "      <td>0</td>\n",
              "      <td>want see mall brings go greenville least three...</td>\n",
              "      <td>1</td>\n",
              "    </tr>\n",
              "  </tbody>\n",
              "</table>\n",
              "</div>\n",
              "      <button class=\"colab-df-convert\" onclick=\"convertToInteractive('df-307a1aaa-0edf-46a8-89ab-8cbc9ef9550c')\"\n",
              "              title=\"Convert this dataframe to an interactive table.\"\n",
              "              style=\"display:none;\">\n",
              "        \n",
              "  <svg xmlns=\"http://www.w3.org/2000/svg\" height=\"24px\"viewBox=\"0 0 24 24\"\n",
              "       width=\"24px\">\n",
              "    <path d=\"M0 0h24v24H0V0z\" fill=\"none\"/>\n",
              "    <path d=\"M18.56 5.44l.94 2.06.94-2.06 2.06-.94-2.06-.94-.94-2.06-.94 2.06-2.06.94zm-11 1L8.5 8.5l.94-2.06 2.06-.94-2.06-.94L8.5 2.5l-.94 2.06-2.06.94zm10 10l.94 2.06.94-2.06 2.06-.94-2.06-.94-.94-2.06-.94 2.06-2.06.94z\"/><path d=\"M17.41 7.96l-1.37-1.37c-.4-.4-.92-.59-1.43-.59-.52 0-1.04.2-1.43.59L10.3 9.45l-7.72 7.72c-.78.78-.78 2.05 0 2.83L4 21.41c.39.39.9.59 1.41.59.51 0 1.02-.2 1.41-.59l7.78-7.78 2.81-2.81c.8-.78.8-2.07 0-2.86zM5.41 20L4 18.59l7.72-7.72 1.47 1.35L5.41 20z\"/>\n",
              "  </svg>\n",
              "      </button>\n",
              "      \n",
              "  <style>\n",
              "    .colab-df-container {\n",
              "      display:flex;\n",
              "      flex-wrap:wrap;\n",
              "      gap: 12px;\n",
              "    }\n",
              "\n",
              "    .colab-df-convert {\n",
              "      background-color: #E8F0FE;\n",
              "      border: none;\n",
              "      border-radius: 50%;\n",
              "      cursor: pointer;\n",
              "      display: none;\n",
              "      fill: #1967D2;\n",
              "      height: 32px;\n",
              "      padding: 0 0 0 0;\n",
              "      width: 32px;\n",
              "    }\n",
              "\n",
              "    .colab-df-convert:hover {\n",
              "      background-color: #E2EBFA;\n",
              "      box-shadow: 0px 1px 2px rgba(60, 64, 67, 0.3), 0px 1px 3px 1px rgba(60, 64, 67, 0.15);\n",
              "      fill: #174EA6;\n",
              "    }\n",
              "\n",
              "    [theme=dark] .colab-df-convert {\n",
              "      background-color: #3B4455;\n",
              "      fill: #D2E3FC;\n",
              "    }\n",
              "\n",
              "    [theme=dark] .colab-df-convert:hover {\n",
              "      background-color: #434B5C;\n",
              "      box-shadow: 0px 1px 3px 1px rgba(0, 0, 0, 0.15);\n",
              "      filter: drop-shadow(0px 1px 2px rgba(0, 0, 0, 0.3));\n",
              "      fill: #FFFFFF;\n",
              "    }\n",
              "  </style>\n",
              "\n",
              "      <script>\n",
              "        const buttonEl =\n",
              "          document.querySelector('#df-307a1aaa-0edf-46a8-89ab-8cbc9ef9550c button.colab-df-convert');\n",
              "        buttonEl.style.display =\n",
              "          google.colab.kernel.accessAllowed ? 'block' : 'none';\n",
              "\n",
              "        async function convertToInteractive(key) {\n",
              "          const element = document.querySelector('#df-307a1aaa-0edf-46a8-89ab-8cbc9ef9550c');\n",
              "          const dataTable =\n",
              "            await google.colab.kernel.invokeFunction('convertToInteractive',\n",
              "                                                     [key], {});\n",
              "          if (!dataTable) return;\n",
              "\n",
              "          const docLinkHtml = 'Like what you see? Visit the ' +\n",
              "            '<a target=\"_blank\" href=https://colab.research.google.com/notebooks/data_table.ipynb>data table notebook</a>'\n",
              "            + ' to learn more about interactive tables.';\n",
              "          element.innerHTML = '';\n",
              "          dataTable['output_type'] = 'display_data';\n",
              "          await google.colab.output.renderOutput(dataTable, element);\n",
              "          const docLink = document.createElement('div');\n",
              "          docLink.innerHTML = docLinkHtml;\n",
              "          element.appendChild(docLink);\n",
              "        }\n",
              "      </script>\n",
              "    </div>\n",
              "  </div>\n",
              "  "
            ]
          },
          "metadata": {},
          "execution_count": 86
        }
      ]
    },
    {
      "cell_type": "markdown",
      "source": [
        "# Building a Logistic Regression Model\n",
        "\n",
        "Here we are building a logistic regression model to determine the accuracy of our model\n",
        "(Even though I don't think it's...really that accurate :/) \n"
      ],
      "metadata": {
        "id": "fC6ehJPi8qzY"
      }
    },
    {
      "cell_type": "code",
      "source": [
        "for source in df['Source'].unique():  # iterate over the sources\n",
        "    df_source = df[df['Source'] == source] # get the data for the source\n",
        "    sentences = df_source['Sentence'].values # get the sentences\n",
        "    y = df_source['Label'].values # get the labels\n",
        "\n",
        "    # split the data into training and test sets\n",
        "    sentences_train, sentences_test, y_train, y_test = train_test_split(\n",
        "        sentences, y, test_size=0.2, random_state=1000)\n",
        "\n",
        "    # train the TfidfVectorizer with ngrams=(1,3), and setting a max_features to\n",
        "    # avoid an explosion of features\n",
        "    vectorizer = TfidfVectorizer(min_df=MIN_DF, max_df=MAX_DF, ngram_range= (1,3),max_features=MAX_FEATURES,\n",
        "    lowercase=LOWERCASE, use_idf=True)\n",
        "    vectorizer.fit(sentences_train) # fit the vectorizer to the training data\n",
        "    X_train = vectorizer.transform(sentences_train) # transform the training data\n",
        "    X_test = vectorizer.transform(sentences_test) # transform the test data\n",
        "\n",
        "    classifier = LogisticRegression() # instantiate the model\n",
        "    classifier.fit(X_train, y_train) # train the model\n",
        "\n",
        "    score = classifier.score(X_test, y_test) # test the model\n",
        "    print(f\"Accuracy of our {source} Classifier: {score:.4f}\") # print the results\n",
        "    "
      ],
      "metadata": {
        "id": "D7E0YkjWFp13",
        "colab": {
          "base_uri": "https://localhost:8080/"
        },
        "outputId": "2626764c-42c5-49c4-96e0-5bb063545dd2"
      },
      "execution_count": 87,
      "outputs": [
        {
          "output_type": "stream",
          "name": "stdout",
          "text": [
            "Accuracy of our Facebook Classifier: 0.7353\n",
            "Accuracy of our Facebook  Classifier: 1.0000\n"
          ]
        }
      ]
    }
  ]
}