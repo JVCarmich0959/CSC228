{
  "nbformat": 4,
  "nbformat_minor": 0,
  "metadata": {
    "kernelspec": {
      "display_name": "Python 3",
      "language": "python",
      "name": "python3"
    },
    "language_info": {
      "codemirror_mode": {
        "name": "ipython",
        "version": 3
      },
      "file_extension": ".py",
      "mimetype": "text/x-python",
      "name": "python",
      "nbconvert_exporter": "python",
      "pygments_lexer": "ipython3",
      "version": "3.7.3"
    },
    "colab": {
      "provenance": [],
      "machine_shape": "hm",
      "include_colab_link": true
    },
    "accelerator": "GPU",
    "gpuClass": "premium",
    "widgets": {
      "application/vnd.jupyter.widget-state+json": {
        "b95ba3143ecc45bcb456ecd232dd6b3a": {
          "model_module": "@jupyter-widgets/controls",
          "model_name": "HBoxModel",
          "model_module_version": "1.5.0",
          "state": {
            "_dom_classes": [],
            "_model_module": "@jupyter-widgets/controls",
            "_model_module_version": "1.5.0",
            "_model_name": "HBoxModel",
            "_view_count": null,
            "_view_module": "@jupyter-widgets/controls",
            "_view_module_version": "1.5.0",
            "_view_name": "HBoxView",
            "box_style": "",
            "children": [
              "IPY_MODEL_7f54aa462b864e2e9c7a7070875073a2",
              "IPY_MODEL_8cd9aa09f2ab43378a85125e6dd8ad2f",
              "IPY_MODEL_5c71bb3508b34cba8e4a5a10defabb8d"
            ],
            "layout": "IPY_MODEL_2d369b278c5a4133a926481aa4b6b04e"
          }
        },
        "7f54aa462b864e2e9c7a7070875073a2": {
          "model_module": "@jupyter-widgets/controls",
          "model_name": "HTMLModel",
          "model_module_version": "1.5.0",
          "state": {
            "_dom_classes": [],
            "_model_module": "@jupyter-widgets/controls",
            "_model_module_version": "1.5.0",
            "_model_name": "HTMLModel",
            "_view_count": null,
            "_view_module": "@jupyter-widgets/controls",
            "_view_module_version": "1.5.0",
            "_view_name": "HTMLView",
            "description": "",
            "description_tooltip": null,
            "layout": "IPY_MODEL_d567aedbc12a4d76b97ce9e7607a46e6",
            "placeholder": "​",
            "style": "IPY_MODEL_3996e3de7dc748b6b68604df19c18fdc",
            "value": "Downloading (…)lve/main/config.json: 100%"
          }
        },
        "8cd9aa09f2ab43378a85125e6dd8ad2f": {
          "model_module": "@jupyter-widgets/controls",
          "model_name": "FloatProgressModel",
          "model_module_version": "1.5.0",
          "state": {
            "_dom_classes": [],
            "_model_module": "@jupyter-widgets/controls",
            "_model_module_version": "1.5.0",
            "_model_name": "FloatProgressModel",
            "_view_count": null,
            "_view_module": "@jupyter-widgets/controls",
            "_view_module_version": "1.5.0",
            "_view_name": "ProgressView",
            "bar_style": "success",
            "description": "",
            "description_tooltip": null,
            "layout": "IPY_MODEL_e557a74878bc4d7dad55b9d39ad6fc76",
            "max": 632,
            "min": 0,
            "orientation": "horizontal",
            "style": "IPY_MODEL_b0bf317acb2244bb902564b4425c2234",
            "value": 632
          }
        },
        "5c71bb3508b34cba8e4a5a10defabb8d": {
          "model_module": "@jupyter-widgets/controls",
          "model_name": "HTMLModel",
          "model_module_version": "1.5.0",
          "state": {
            "_dom_classes": [],
            "_model_module": "@jupyter-widgets/controls",
            "_model_module_version": "1.5.0",
            "_model_name": "HTMLModel",
            "_view_count": null,
            "_view_module": "@jupyter-widgets/controls",
            "_view_module_version": "1.5.0",
            "_view_name": "HTMLView",
            "description": "",
            "description_tooltip": null,
            "layout": "IPY_MODEL_2ffea1ab9cbb4b51b7c4645d3a7e166a",
            "placeholder": "​",
            "style": "IPY_MODEL_05c7e7e0a759414b8ed9b777b39c56b4",
            "value": " 632/632 [00:00&lt;00:00, 34.6kB/s]"
          }
        },
        "2d369b278c5a4133a926481aa4b6b04e": {
          "model_module": "@jupyter-widgets/base",
          "model_name": "LayoutModel",
          "model_module_version": "1.2.0",
          "state": {
            "_model_module": "@jupyter-widgets/base",
            "_model_module_version": "1.2.0",
            "_model_name": "LayoutModel",
            "_view_count": null,
            "_view_module": "@jupyter-widgets/base",
            "_view_module_version": "1.2.0",
            "_view_name": "LayoutView",
            "align_content": null,
            "align_items": null,
            "align_self": null,
            "border": null,
            "bottom": null,
            "display": null,
            "flex": null,
            "flex_flow": null,
            "grid_area": null,
            "grid_auto_columns": null,
            "grid_auto_flow": null,
            "grid_auto_rows": null,
            "grid_column": null,
            "grid_gap": null,
            "grid_row": null,
            "grid_template_areas": null,
            "grid_template_columns": null,
            "grid_template_rows": null,
            "height": null,
            "justify_content": null,
            "justify_items": null,
            "left": null,
            "margin": null,
            "max_height": null,
            "max_width": null,
            "min_height": null,
            "min_width": null,
            "object_fit": null,
            "object_position": null,
            "order": null,
            "overflow": null,
            "overflow_x": null,
            "overflow_y": null,
            "padding": null,
            "right": null,
            "top": null,
            "visibility": null,
            "width": null
          }
        },
        "d567aedbc12a4d76b97ce9e7607a46e6": {
          "model_module": "@jupyter-widgets/base",
          "model_name": "LayoutModel",
          "model_module_version": "1.2.0",
          "state": {
            "_model_module": "@jupyter-widgets/base",
            "_model_module_version": "1.2.0",
            "_model_name": "LayoutModel",
            "_view_count": null,
            "_view_module": "@jupyter-widgets/base",
            "_view_module_version": "1.2.0",
            "_view_name": "LayoutView",
            "align_content": null,
            "align_items": null,
            "align_self": null,
            "border": null,
            "bottom": null,
            "display": null,
            "flex": null,
            "flex_flow": null,
            "grid_area": null,
            "grid_auto_columns": null,
            "grid_auto_flow": null,
            "grid_auto_rows": null,
            "grid_column": null,
            "grid_gap": null,
            "grid_row": null,
            "grid_template_areas": null,
            "grid_template_columns": null,
            "grid_template_rows": null,
            "height": null,
            "justify_content": null,
            "justify_items": null,
            "left": null,
            "margin": null,
            "max_height": null,
            "max_width": null,
            "min_height": null,
            "min_width": null,
            "object_fit": null,
            "object_position": null,
            "order": null,
            "overflow": null,
            "overflow_x": null,
            "overflow_y": null,
            "padding": null,
            "right": null,
            "top": null,
            "visibility": null,
            "width": null
          }
        },
        "3996e3de7dc748b6b68604df19c18fdc": {
          "model_module": "@jupyter-widgets/controls",
          "model_name": "DescriptionStyleModel",
          "model_module_version": "1.5.0",
          "state": {
            "_model_module": "@jupyter-widgets/controls",
            "_model_module_version": "1.5.0",
            "_model_name": "DescriptionStyleModel",
            "_view_count": null,
            "_view_module": "@jupyter-widgets/base",
            "_view_module_version": "1.2.0",
            "_view_name": "StyleView",
            "description_width": ""
          }
        },
        "e557a74878bc4d7dad55b9d39ad6fc76": {
          "model_module": "@jupyter-widgets/base",
          "model_name": "LayoutModel",
          "model_module_version": "1.2.0",
          "state": {
            "_model_module": "@jupyter-widgets/base",
            "_model_module_version": "1.2.0",
            "_model_name": "LayoutModel",
            "_view_count": null,
            "_view_module": "@jupyter-widgets/base",
            "_view_module_version": "1.2.0",
            "_view_name": "LayoutView",
            "align_content": null,
            "align_items": null,
            "align_self": null,
            "border": null,
            "bottom": null,
            "display": null,
            "flex": null,
            "flex_flow": null,
            "grid_area": null,
            "grid_auto_columns": null,
            "grid_auto_flow": null,
            "grid_auto_rows": null,
            "grid_column": null,
            "grid_gap": null,
            "grid_row": null,
            "grid_template_areas": null,
            "grid_template_columns": null,
            "grid_template_rows": null,
            "height": null,
            "justify_content": null,
            "justify_items": null,
            "left": null,
            "margin": null,
            "max_height": null,
            "max_width": null,
            "min_height": null,
            "min_width": null,
            "object_fit": null,
            "object_position": null,
            "order": null,
            "overflow": null,
            "overflow_x": null,
            "overflow_y": null,
            "padding": null,
            "right": null,
            "top": null,
            "visibility": null,
            "width": null
          }
        },
        "b0bf317acb2244bb902564b4425c2234": {
          "model_module": "@jupyter-widgets/controls",
          "model_name": "ProgressStyleModel",
          "model_module_version": "1.5.0",
          "state": {
            "_model_module": "@jupyter-widgets/controls",
            "_model_module_version": "1.5.0",
            "_model_name": "ProgressStyleModel",
            "_view_count": null,
            "_view_module": "@jupyter-widgets/base",
            "_view_module_version": "1.2.0",
            "_view_name": "StyleView",
            "bar_color": null,
            "description_width": ""
          }
        },
        "2ffea1ab9cbb4b51b7c4645d3a7e166a": {
          "model_module": "@jupyter-widgets/base",
          "model_name": "LayoutModel",
          "model_module_version": "1.2.0",
          "state": {
            "_model_module": "@jupyter-widgets/base",
            "_model_module_version": "1.2.0",
            "_model_name": "LayoutModel",
            "_view_count": null,
            "_view_module": "@jupyter-widgets/base",
            "_view_module_version": "1.2.0",
            "_view_name": "LayoutView",
            "align_content": null,
            "align_items": null,
            "align_self": null,
            "border": null,
            "bottom": null,
            "display": null,
            "flex": null,
            "flex_flow": null,
            "grid_area": null,
            "grid_auto_columns": null,
            "grid_auto_flow": null,
            "grid_auto_rows": null,
            "grid_column": null,
            "grid_gap": null,
            "grid_row": null,
            "grid_template_areas": null,
            "grid_template_columns": null,
            "grid_template_rows": null,
            "height": null,
            "justify_content": null,
            "justify_items": null,
            "left": null,
            "margin": null,
            "max_height": null,
            "max_width": null,
            "min_height": null,
            "min_width": null,
            "object_fit": null,
            "object_position": null,
            "order": null,
            "overflow": null,
            "overflow_x": null,
            "overflow_y": null,
            "padding": null,
            "right": null,
            "top": null,
            "visibility": null,
            "width": null
          }
        },
        "05c7e7e0a759414b8ed9b777b39c56b4": {
          "model_module": "@jupyter-widgets/controls",
          "model_name": "DescriptionStyleModel",
          "model_module_version": "1.5.0",
          "state": {
            "_model_module": "@jupyter-widgets/controls",
            "_model_module_version": "1.5.0",
            "_model_name": "DescriptionStyleModel",
            "_view_count": null,
            "_view_module": "@jupyter-widgets/base",
            "_view_module_version": "1.2.0",
            "_view_name": "StyleView",
            "description_width": ""
          }
        },
        "ccad40145c8d4e1ab88146ad6f6ee14c": {
          "model_module": "@jupyter-widgets/controls",
          "model_name": "HBoxModel",
          "model_module_version": "1.5.0",
          "state": {
            "_dom_classes": [],
            "_model_module": "@jupyter-widgets/controls",
            "_model_module_version": "1.5.0",
            "_model_name": "HBoxModel",
            "_view_count": null,
            "_view_module": "@jupyter-widgets/controls",
            "_view_module_version": "1.5.0",
            "_view_name": "HBoxView",
            "box_style": "",
            "children": [
              "IPY_MODEL_4630bf4f11344988af8b242fbc9f62da",
              "IPY_MODEL_ce320b398e6041b499e80500837e6875",
              "IPY_MODEL_c2358191a5ab405eb40e6f22efe3fbe1"
            ],
            "layout": "IPY_MODEL_40f409f79a164aacb4040b2b258dd012"
          }
        },
        "4630bf4f11344988af8b242fbc9f62da": {
          "model_module": "@jupyter-widgets/controls",
          "model_name": "HTMLModel",
          "model_module_version": "1.5.0",
          "state": {
            "_dom_classes": [],
            "_model_module": "@jupyter-widgets/controls",
            "_model_module_version": "1.5.0",
            "_model_name": "HTMLModel",
            "_view_count": null,
            "_view_module": "@jupyter-widgets/controls",
            "_view_module_version": "1.5.0",
            "_view_name": "HTMLView",
            "description": "",
            "description_tooltip": null,
            "layout": "IPY_MODEL_2c937f60842f491e83e9601fc6f4fdfb",
            "placeholder": "​",
            "style": "IPY_MODEL_2ab4b71c0309492192d315f07e6c7787",
            "value": "Downloading pytorch_model.bin: 100%"
          }
        },
        "ce320b398e6041b499e80500837e6875": {
          "model_module": "@jupyter-widgets/controls",
          "model_name": "FloatProgressModel",
          "model_module_version": "1.5.0",
          "state": {
            "_dom_classes": [],
            "_model_module": "@jupyter-widgets/controls",
            "_model_module_version": "1.5.0",
            "_model_name": "FloatProgressModel",
            "_view_count": null,
            "_view_module": "@jupyter-widgets/controls",
            "_view_module_version": "1.5.0",
            "_view_name": "ProgressView",
            "bar_style": "success",
            "description": "",
            "description_tooltip": null,
            "layout": "IPY_MODEL_c0472dc4ca8a4d72a4eb9f3dd4a98532",
            "max": 11399278261,
            "min": 0,
            "orientation": "horizontal",
            "style": "IPY_MODEL_7eeaeaefeb604be7baf8f3eaa4d72ddf",
            "value": 11399278261
          }
        },
        "c2358191a5ab405eb40e6f22efe3fbe1": {
          "model_module": "@jupyter-widgets/controls",
          "model_name": "HTMLModel",
          "model_module_version": "1.5.0",
          "state": {
            "_dom_classes": [],
            "_model_module": "@jupyter-widgets/controls",
            "_model_module_version": "1.5.0",
            "_model_name": "HTMLModel",
            "_view_count": null,
            "_view_module": "@jupyter-widgets/controls",
            "_view_module_version": "1.5.0",
            "_view_name": "HTMLView",
            "description": "",
            "description_tooltip": null,
            "layout": "IPY_MODEL_7ceb1e27fc4c4ec1a90d3a801c68fae8",
            "placeholder": "​",
            "style": "IPY_MODEL_3035e7ba67124a49af6452f78c31551b",
            "value": " 11.4G/11.4G [01:05&lt;00:00, 211MB/s]"
          }
        },
        "40f409f79a164aacb4040b2b258dd012": {
          "model_module": "@jupyter-widgets/base",
          "model_name": "LayoutModel",
          "model_module_version": "1.2.0",
          "state": {
            "_model_module": "@jupyter-widgets/base",
            "_model_module_version": "1.2.0",
            "_model_name": "LayoutModel",
            "_view_count": null,
            "_view_module": "@jupyter-widgets/base",
            "_view_module_version": "1.2.0",
            "_view_name": "LayoutView",
            "align_content": null,
            "align_items": null,
            "align_self": null,
            "border": null,
            "bottom": null,
            "display": null,
            "flex": null,
            "flex_flow": null,
            "grid_area": null,
            "grid_auto_columns": null,
            "grid_auto_flow": null,
            "grid_auto_rows": null,
            "grid_column": null,
            "grid_gap": null,
            "grid_row": null,
            "grid_template_areas": null,
            "grid_template_columns": null,
            "grid_template_rows": null,
            "height": null,
            "justify_content": null,
            "justify_items": null,
            "left": null,
            "margin": null,
            "max_height": null,
            "max_width": null,
            "min_height": null,
            "min_width": null,
            "object_fit": null,
            "object_position": null,
            "order": null,
            "overflow": null,
            "overflow_x": null,
            "overflow_y": null,
            "padding": null,
            "right": null,
            "top": null,
            "visibility": null,
            "width": null
          }
        },
        "2c937f60842f491e83e9601fc6f4fdfb": {
          "model_module": "@jupyter-widgets/base",
          "model_name": "LayoutModel",
          "model_module_version": "1.2.0",
          "state": {
            "_model_module": "@jupyter-widgets/base",
            "_model_module_version": "1.2.0",
            "_model_name": "LayoutModel",
            "_view_count": null,
            "_view_module": "@jupyter-widgets/base",
            "_view_module_version": "1.2.0",
            "_view_name": "LayoutView",
            "align_content": null,
            "align_items": null,
            "align_self": null,
            "border": null,
            "bottom": null,
            "display": null,
            "flex": null,
            "flex_flow": null,
            "grid_area": null,
            "grid_auto_columns": null,
            "grid_auto_flow": null,
            "grid_auto_rows": null,
            "grid_column": null,
            "grid_gap": null,
            "grid_row": null,
            "grid_template_areas": null,
            "grid_template_columns": null,
            "grid_template_rows": null,
            "height": null,
            "justify_content": null,
            "justify_items": null,
            "left": null,
            "margin": null,
            "max_height": null,
            "max_width": null,
            "min_height": null,
            "min_width": null,
            "object_fit": null,
            "object_position": null,
            "order": null,
            "overflow": null,
            "overflow_x": null,
            "overflow_y": null,
            "padding": null,
            "right": null,
            "top": null,
            "visibility": null,
            "width": null
          }
        },
        "2ab4b71c0309492192d315f07e6c7787": {
          "model_module": "@jupyter-widgets/controls",
          "model_name": "DescriptionStyleModel",
          "model_module_version": "1.5.0",
          "state": {
            "_model_module": "@jupyter-widgets/controls",
            "_model_module_version": "1.5.0",
            "_model_name": "DescriptionStyleModel",
            "_view_count": null,
            "_view_module": "@jupyter-widgets/base",
            "_view_module_version": "1.2.0",
            "_view_name": "StyleView",
            "description_width": ""
          }
        },
        "c0472dc4ca8a4d72a4eb9f3dd4a98532": {
          "model_module": "@jupyter-widgets/base",
          "model_name": "LayoutModel",
          "model_module_version": "1.2.0",
          "state": {
            "_model_module": "@jupyter-widgets/base",
            "_model_module_version": "1.2.0",
            "_model_name": "LayoutModel",
            "_view_count": null,
            "_view_module": "@jupyter-widgets/base",
            "_view_module_version": "1.2.0",
            "_view_name": "LayoutView",
            "align_content": null,
            "align_items": null,
            "align_self": null,
            "border": null,
            "bottom": null,
            "display": null,
            "flex": null,
            "flex_flow": null,
            "grid_area": null,
            "grid_auto_columns": null,
            "grid_auto_flow": null,
            "grid_auto_rows": null,
            "grid_column": null,
            "grid_gap": null,
            "grid_row": null,
            "grid_template_areas": null,
            "grid_template_columns": null,
            "grid_template_rows": null,
            "height": null,
            "justify_content": null,
            "justify_items": null,
            "left": null,
            "margin": null,
            "max_height": null,
            "max_width": null,
            "min_height": null,
            "min_width": null,
            "object_fit": null,
            "object_position": null,
            "order": null,
            "overflow": null,
            "overflow_x": null,
            "overflow_y": null,
            "padding": null,
            "right": null,
            "top": null,
            "visibility": null,
            "width": null
          }
        },
        "7eeaeaefeb604be7baf8f3eaa4d72ddf": {
          "model_module": "@jupyter-widgets/controls",
          "model_name": "ProgressStyleModel",
          "model_module_version": "1.5.0",
          "state": {
            "_model_module": "@jupyter-widgets/controls",
            "_model_module_version": "1.5.0",
            "_model_name": "ProgressStyleModel",
            "_view_count": null,
            "_view_module": "@jupyter-widgets/base",
            "_view_module_version": "1.2.0",
            "_view_name": "StyleView",
            "bar_color": null,
            "description_width": ""
          }
        },
        "7ceb1e27fc4c4ec1a90d3a801c68fae8": {
          "model_module": "@jupyter-widgets/base",
          "model_name": "LayoutModel",
          "model_module_version": "1.2.0",
          "state": {
            "_model_module": "@jupyter-widgets/base",
            "_model_module_version": "1.2.0",
            "_model_name": "LayoutModel",
            "_view_count": null,
            "_view_module": "@jupyter-widgets/base",
            "_view_module_version": "1.2.0",
            "_view_name": "LayoutView",
            "align_content": null,
            "align_items": null,
            "align_self": null,
            "border": null,
            "bottom": null,
            "display": null,
            "flex": null,
            "flex_flow": null,
            "grid_area": null,
            "grid_auto_columns": null,
            "grid_auto_flow": null,
            "grid_auto_rows": null,
            "grid_column": null,
            "grid_gap": null,
            "grid_row": null,
            "grid_template_areas": null,
            "grid_template_columns": null,
            "grid_template_rows": null,
            "height": null,
            "justify_content": null,
            "justify_items": null,
            "left": null,
            "margin": null,
            "max_height": null,
            "max_width": null,
            "min_height": null,
            "min_width": null,
            "object_fit": null,
            "object_position": null,
            "order": null,
            "overflow": null,
            "overflow_x": null,
            "overflow_y": null,
            "padding": null,
            "right": null,
            "top": null,
            "visibility": null,
            "width": null
          }
        },
        "3035e7ba67124a49af6452f78c31551b": {
          "model_module": "@jupyter-widgets/controls",
          "model_name": "DescriptionStyleModel",
          "model_module_version": "1.5.0",
          "state": {
            "_model_module": "@jupyter-widgets/controls",
            "_model_module_version": "1.5.0",
            "_model_name": "DescriptionStyleModel",
            "_view_count": null,
            "_view_module": "@jupyter-widgets/base",
            "_view_module_version": "1.2.0",
            "_view_name": "StyleView",
            "description_width": ""
          }
        },
        "dbee86eef1b143569e1d636f36e8dcc4": {
          "model_module": "@jupyter-widgets/controls",
          "model_name": "HBoxModel",
          "model_module_version": "1.5.0",
          "state": {
            "_dom_classes": [],
            "_model_module": "@jupyter-widgets/controls",
            "_model_module_version": "1.5.0",
            "_model_name": "HBoxModel",
            "_view_count": null,
            "_view_module": "@jupyter-widgets/controls",
            "_view_module_version": "1.5.0",
            "_view_name": "HBoxView",
            "box_style": "",
            "children": [
              "IPY_MODEL_8fcdd9562d364255b5df2f5de5acc58b",
              "IPY_MODEL_d45ea3798d404fa384866e9c6ffba9db",
              "IPY_MODEL_935a4d49875d43b8b1ee489eaa241313"
            ],
            "layout": "IPY_MODEL_244b7e248650472f9c7c1ffcdca3c89b"
          }
        },
        "8fcdd9562d364255b5df2f5de5acc58b": {
          "model_module": "@jupyter-widgets/controls",
          "model_name": "HTMLModel",
          "model_module_version": "1.5.0",
          "state": {
            "_dom_classes": [],
            "_model_module": "@jupyter-widgets/controls",
            "_model_module_version": "1.5.0",
            "_model_name": "HTMLModel",
            "_view_count": null,
            "_view_module": "@jupyter-widgets/controls",
            "_view_module_version": "1.5.0",
            "_view_name": "HTMLView",
            "description": "",
            "description_tooltip": null,
            "layout": "IPY_MODEL_125f6ddc550c45fa98d7b819e11e3853",
            "placeholder": "​",
            "style": "IPY_MODEL_d7945c9916f9400fb45c75b937e7f989",
            "value": "Downloading (…)okenizer_config.json: 100%"
          }
        },
        "d45ea3798d404fa384866e9c6ffba9db": {
          "model_module": "@jupyter-widgets/controls",
          "model_name": "FloatProgressModel",
          "model_module_version": "1.5.0",
          "state": {
            "_dom_classes": [],
            "_model_module": "@jupyter-widgets/controls",
            "_model_module_version": "1.5.0",
            "_model_name": "FloatProgressModel",
            "_view_count": null,
            "_view_module": "@jupyter-widgets/controls",
            "_view_module_version": "1.5.0",
            "_view_name": "ProgressView",
            "bar_style": "success",
            "description": "",
            "description_tooltip": null,
            "layout": "IPY_MODEL_c9828f64750f432c878cd944a1e135a2",
            "max": 1857,
            "min": 0,
            "orientation": "horizontal",
            "style": "IPY_MODEL_39ae36574d994211b5315bd08cfdfd0d",
            "value": 1857
          }
        },
        "935a4d49875d43b8b1ee489eaa241313": {
          "model_module": "@jupyter-widgets/controls",
          "model_name": "HTMLModel",
          "model_module_version": "1.5.0",
          "state": {
            "_dom_classes": [],
            "_model_module": "@jupyter-widgets/controls",
            "_model_module_version": "1.5.0",
            "_model_name": "HTMLModel",
            "_view_count": null,
            "_view_module": "@jupyter-widgets/controls",
            "_view_module_version": "1.5.0",
            "_view_name": "HTMLView",
            "description": "",
            "description_tooltip": null,
            "layout": "IPY_MODEL_ae657a493cab44f7bc74e1deafba53bb",
            "placeholder": "​",
            "style": "IPY_MODEL_d64fbc4ac5524eba962620085c56b34f",
            "value": " 1.86k/1.86k [00:00&lt;00:00, 107kB/s]"
          }
        },
        "244b7e248650472f9c7c1ffcdca3c89b": {
          "model_module": "@jupyter-widgets/base",
          "model_name": "LayoutModel",
          "model_module_version": "1.2.0",
          "state": {
            "_model_module": "@jupyter-widgets/base",
            "_model_module_version": "1.2.0",
            "_model_name": "LayoutModel",
            "_view_count": null,
            "_view_module": "@jupyter-widgets/base",
            "_view_module_version": "1.2.0",
            "_view_name": "LayoutView",
            "align_content": null,
            "align_items": null,
            "align_self": null,
            "border": null,
            "bottom": null,
            "display": null,
            "flex": null,
            "flex_flow": null,
            "grid_area": null,
            "grid_auto_columns": null,
            "grid_auto_flow": null,
            "grid_auto_rows": null,
            "grid_column": null,
            "grid_gap": null,
            "grid_row": null,
            "grid_template_areas": null,
            "grid_template_columns": null,
            "grid_template_rows": null,
            "height": null,
            "justify_content": null,
            "justify_items": null,
            "left": null,
            "margin": null,
            "max_height": null,
            "max_width": null,
            "min_height": null,
            "min_width": null,
            "object_fit": null,
            "object_position": null,
            "order": null,
            "overflow": null,
            "overflow_x": null,
            "overflow_y": null,
            "padding": null,
            "right": null,
            "top": null,
            "visibility": null,
            "width": null
          }
        },
        "125f6ddc550c45fa98d7b819e11e3853": {
          "model_module": "@jupyter-widgets/base",
          "model_name": "LayoutModel",
          "model_module_version": "1.2.0",
          "state": {
            "_model_module": "@jupyter-widgets/base",
            "_model_module_version": "1.2.0",
            "_model_name": "LayoutModel",
            "_view_count": null,
            "_view_module": "@jupyter-widgets/base",
            "_view_module_version": "1.2.0",
            "_view_name": "LayoutView",
            "align_content": null,
            "align_items": null,
            "align_self": null,
            "border": null,
            "bottom": null,
            "display": null,
            "flex": null,
            "flex_flow": null,
            "grid_area": null,
            "grid_auto_columns": null,
            "grid_auto_flow": null,
            "grid_auto_rows": null,
            "grid_column": null,
            "grid_gap": null,
            "grid_row": null,
            "grid_template_areas": null,
            "grid_template_columns": null,
            "grid_template_rows": null,
            "height": null,
            "justify_content": null,
            "justify_items": null,
            "left": null,
            "margin": null,
            "max_height": null,
            "max_width": null,
            "min_height": null,
            "min_width": null,
            "object_fit": null,
            "object_position": null,
            "order": null,
            "overflow": null,
            "overflow_x": null,
            "overflow_y": null,
            "padding": null,
            "right": null,
            "top": null,
            "visibility": null,
            "width": null
          }
        },
        "d7945c9916f9400fb45c75b937e7f989": {
          "model_module": "@jupyter-widgets/controls",
          "model_name": "DescriptionStyleModel",
          "model_module_version": "1.5.0",
          "state": {
            "_model_module": "@jupyter-widgets/controls",
            "_model_module_version": "1.5.0",
            "_model_name": "DescriptionStyleModel",
            "_view_count": null,
            "_view_module": "@jupyter-widgets/base",
            "_view_module_version": "1.2.0",
            "_view_name": "StyleView",
            "description_width": ""
          }
        },
        "c9828f64750f432c878cd944a1e135a2": {
          "model_module": "@jupyter-widgets/base",
          "model_name": "LayoutModel",
          "model_module_version": "1.2.0",
          "state": {
            "_model_module": "@jupyter-widgets/base",
            "_model_module_version": "1.2.0",
            "_model_name": "LayoutModel",
            "_view_count": null,
            "_view_module": "@jupyter-widgets/base",
            "_view_module_version": "1.2.0",
            "_view_name": "LayoutView",
            "align_content": null,
            "align_items": null,
            "align_self": null,
            "border": null,
            "bottom": null,
            "display": null,
            "flex": null,
            "flex_flow": null,
            "grid_area": null,
            "grid_auto_columns": null,
            "grid_auto_flow": null,
            "grid_auto_rows": null,
            "grid_column": null,
            "grid_gap": null,
            "grid_row": null,
            "grid_template_areas": null,
            "grid_template_columns": null,
            "grid_template_rows": null,
            "height": null,
            "justify_content": null,
            "justify_items": null,
            "left": null,
            "margin": null,
            "max_height": null,
            "max_width": null,
            "min_height": null,
            "min_width": null,
            "object_fit": null,
            "object_position": null,
            "order": null,
            "overflow": null,
            "overflow_x": null,
            "overflow_y": null,
            "padding": null,
            "right": null,
            "top": null,
            "visibility": null,
            "width": null
          }
        },
        "39ae36574d994211b5315bd08cfdfd0d": {
          "model_module": "@jupyter-widgets/controls",
          "model_name": "ProgressStyleModel",
          "model_module_version": "1.5.0",
          "state": {
            "_model_module": "@jupyter-widgets/controls",
            "_model_module_version": "1.5.0",
            "_model_name": "ProgressStyleModel",
            "_view_count": null,
            "_view_module": "@jupyter-widgets/base",
            "_view_module_version": "1.2.0",
            "_view_name": "StyleView",
            "bar_color": null,
            "description_width": ""
          }
        },
        "ae657a493cab44f7bc74e1deafba53bb": {
          "model_module": "@jupyter-widgets/base",
          "model_name": "LayoutModel",
          "model_module_version": "1.2.0",
          "state": {
            "_model_module": "@jupyter-widgets/base",
            "_model_module_version": "1.2.0",
            "_model_name": "LayoutModel",
            "_view_count": null,
            "_view_module": "@jupyter-widgets/base",
            "_view_module_version": "1.2.0",
            "_view_name": "LayoutView",
            "align_content": null,
            "align_items": null,
            "align_self": null,
            "border": null,
            "bottom": null,
            "display": null,
            "flex": null,
            "flex_flow": null,
            "grid_area": null,
            "grid_auto_columns": null,
            "grid_auto_flow": null,
            "grid_auto_rows": null,
            "grid_column": null,
            "grid_gap": null,
            "grid_row": null,
            "grid_template_areas": null,
            "grid_template_columns": null,
            "grid_template_rows": null,
            "height": null,
            "justify_content": null,
            "justify_items": null,
            "left": null,
            "margin": null,
            "max_height": null,
            "max_width": null,
            "min_height": null,
            "min_width": null,
            "object_fit": null,
            "object_position": null,
            "order": null,
            "overflow": null,
            "overflow_x": null,
            "overflow_y": null,
            "padding": null,
            "right": null,
            "top": null,
            "visibility": null,
            "width": null
          }
        },
        "d64fbc4ac5524eba962620085c56b34f": {
          "model_module": "@jupyter-widgets/controls",
          "model_name": "DescriptionStyleModel",
          "model_module_version": "1.5.0",
          "state": {
            "_model_module": "@jupyter-widgets/controls",
            "_model_module_version": "1.5.0",
            "_model_name": "DescriptionStyleModel",
            "_view_count": null,
            "_view_module": "@jupyter-widgets/base",
            "_view_module_version": "1.2.0",
            "_view_name": "StyleView",
            "description_width": ""
          }
        },
        "8114f3a659dc471dbc749b3f4cfb85db": {
          "model_module": "@jupyter-widgets/controls",
          "model_name": "HBoxModel",
          "model_module_version": "1.5.0",
          "state": {
            "_dom_classes": [],
            "_model_module": "@jupyter-widgets/controls",
            "_model_module_version": "1.5.0",
            "_model_name": "HBoxModel",
            "_view_count": null,
            "_view_module": "@jupyter-widgets/controls",
            "_view_module_version": "1.5.0",
            "_view_name": "HBoxView",
            "box_style": "",
            "children": [
              "IPY_MODEL_fb8e8eea137d4cf3b8882ea5cb5e199e",
              "IPY_MODEL_5be67d7c2e9d4f77b9ab0d0b1eb12dcc",
              "IPY_MODEL_e66f68939e8e4d28b05936273bc0a19c"
            ],
            "layout": "IPY_MODEL_a9636b44234e4519bbe075921f8b2bf9"
          }
        },
        "fb8e8eea137d4cf3b8882ea5cb5e199e": {
          "model_module": "@jupyter-widgets/controls",
          "model_name": "HTMLModel",
          "model_module_version": "1.5.0",
          "state": {
            "_dom_classes": [],
            "_model_module": "@jupyter-widgets/controls",
            "_model_module_version": "1.5.0",
            "_model_name": "HTMLModel",
            "_view_count": null,
            "_view_module": "@jupyter-widgets/controls",
            "_view_module_version": "1.5.0",
            "_view_name": "HTMLView",
            "description": "",
            "description_tooltip": null,
            "layout": "IPY_MODEL_56878b29a9f14891b390d9c04aa7917c",
            "placeholder": "​",
            "style": "IPY_MODEL_eb7acf984d1c4d8b970fd6a7742e44a1",
            "value": "Downloading spiece.model: 100%"
          }
        },
        "5be67d7c2e9d4f77b9ab0d0b1eb12dcc": {
          "model_module": "@jupyter-widgets/controls",
          "model_name": "FloatProgressModel",
          "model_module_version": "1.5.0",
          "state": {
            "_dom_classes": [],
            "_model_module": "@jupyter-widgets/controls",
            "_model_module_version": "1.5.0",
            "_model_name": "FloatProgressModel",
            "_view_count": null,
            "_view_module": "@jupyter-widgets/controls",
            "_view_module_version": "1.5.0",
            "_view_name": "ProgressView",
            "bar_style": "success",
            "description": "",
            "description_tooltip": null,
            "layout": "IPY_MODEL_a6b4205f9805420aad90ef92d4920758",
            "max": 791656,
            "min": 0,
            "orientation": "horizontal",
            "style": "IPY_MODEL_682035b960134ee0ac2db28f70fb1171",
            "value": 791656
          }
        },
        "e66f68939e8e4d28b05936273bc0a19c": {
          "model_module": "@jupyter-widgets/controls",
          "model_name": "HTMLModel",
          "model_module_version": "1.5.0",
          "state": {
            "_dom_classes": [],
            "_model_module": "@jupyter-widgets/controls",
            "_model_module_version": "1.5.0",
            "_model_name": "HTMLModel",
            "_view_count": null,
            "_view_module": "@jupyter-widgets/controls",
            "_view_module_version": "1.5.0",
            "_view_name": "HTMLView",
            "description": "",
            "description_tooltip": null,
            "layout": "IPY_MODEL_717d7ec180214c22bf984cd847cb2678",
            "placeholder": "​",
            "style": "IPY_MODEL_51b0298e66004f10ac15bc4ddf3c65d6",
            "value": " 792k/792k [00:00&lt;00:00, 11.3MB/s]"
          }
        },
        "a9636b44234e4519bbe075921f8b2bf9": {
          "model_module": "@jupyter-widgets/base",
          "model_name": "LayoutModel",
          "model_module_version": "1.2.0",
          "state": {
            "_model_module": "@jupyter-widgets/base",
            "_model_module_version": "1.2.0",
            "_model_name": "LayoutModel",
            "_view_count": null,
            "_view_module": "@jupyter-widgets/base",
            "_view_module_version": "1.2.0",
            "_view_name": "LayoutView",
            "align_content": null,
            "align_items": null,
            "align_self": null,
            "border": null,
            "bottom": null,
            "display": null,
            "flex": null,
            "flex_flow": null,
            "grid_area": null,
            "grid_auto_columns": null,
            "grid_auto_flow": null,
            "grid_auto_rows": null,
            "grid_column": null,
            "grid_gap": null,
            "grid_row": null,
            "grid_template_areas": null,
            "grid_template_columns": null,
            "grid_template_rows": null,
            "height": null,
            "justify_content": null,
            "justify_items": null,
            "left": null,
            "margin": null,
            "max_height": null,
            "max_width": null,
            "min_height": null,
            "min_width": null,
            "object_fit": null,
            "object_position": null,
            "order": null,
            "overflow": null,
            "overflow_x": null,
            "overflow_y": null,
            "padding": null,
            "right": null,
            "top": null,
            "visibility": null,
            "width": null
          }
        },
        "56878b29a9f14891b390d9c04aa7917c": {
          "model_module": "@jupyter-widgets/base",
          "model_name": "LayoutModel",
          "model_module_version": "1.2.0",
          "state": {
            "_model_module": "@jupyter-widgets/base",
            "_model_module_version": "1.2.0",
            "_model_name": "LayoutModel",
            "_view_count": null,
            "_view_module": "@jupyter-widgets/base",
            "_view_module_version": "1.2.0",
            "_view_name": "LayoutView",
            "align_content": null,
            "align_items": null,
            "align_self": null,
            "border": null,
            "bottom": null,
            "display": null,
            "flex": null,
            "flex_flow": null,
            "grid_area": null,
            "grid_auto_columns": null,
            "grid_auto_flow": null,
            "grid_auto_rows": null,
            "grid_column": null,
            "grid_gap": null,
            "grid_row": null,
            "grid_template_areas": null,
            "grid_template_columns": null,
            "grid_template_rows": null,
            "height": null,
            "justify_content": null,
            "justify_items": null,
            "left": null,
            "margin": null,
            "max_height": null,
            "max_width": null,
            "min_height": null,
            "min_width": null,
            "object_fit": null,
            "object_position": null,
            "order": null,
            "overflow": null,
            "overflow_x": null,
            "overflow_y": null,
            "padding": null,
            "right": null,
            "top": null,
            "visibility": null,
            "width": null
          }
        },
        "eb7acf984d1c4d8b970fd6a7742e44a1": {
          "model_module": "@jupyter-widgets/controls",
          "model_name": "DescriptionStyleModel",
          "model_module_version": "1.5.0",
          "state": {
            "_model_module": "@jupyter-widgets/controls",
            "_model_module_version": "1.5.0",
            "_model_name": "DescriptionStyleModel",
            "_view_count": null,
            "_view_module": "@jupyter-widgets/base",
            "_view_module_version": "1.2.0",
            "_view_name": "StyleView",
            "description_width": ""
          }
        },
        "a6b4205f9805420aad90ef92d4920758": {
          "model_module": "@jupyter-widgets/base",
          "model_name": "LayoutModel",
          "model_module_version": "1.2.0",
          "state": {
            "_model_module": "@jupyter-widgets/base",
            "_model_module_version": "1.2.0",
            "_model_name": "LayoutModel",
            "_view_count": null,
            "_view_module": "@jupyter-widgets/base",
            "_view_module_version": "1.2.0",
            "_view_name": "LayoutView",
            "align_content": null,
            "align_items": null,
            "align_self": null,
            "border": null,
            "bottom": null,
            "display": null,
            "flex": null,
            "flex_flow": null,
            "grid_area": null,
            "grid_auto_columns": null,
            "grid_auto_flow": null,
            "grid_auto_rows": null,
            "grid_column": null,
            "grid_gap": null,
            "grid_row": null,
            "grid_template_areas": null,
            "grid_template_columns": null,
            "grid_template_rows": null,
            "height": null,
            "justify_content": null,
            "justify_items": null,
            "left": null,
            "margin": null,
            "max_height": null,
            "max_width": null,
            "min_height": null,
            "min_width": null,
            "object_fit": null,
            "object_position": null,
            "order": null,
            "overflow": null,
            "overflow_x": null,
            "overflow_y": null,
            "padding": null,
            "right": null,
            "top": null,
            "visibility": null,
            "width": null
          }
        },
        "682035b960134ee0ac2db28f70fb1171": {
          "model_module": "@jupyter-widgets/controls",
          "model_name": "ProgressStyleModel",
          "model_module_version": "1.5.0",
          "state": {
            "_model_module": "@jupyter-widgets/controls",
            "_model_module_version": "1.5.0",
            "_model_name": "ProgressStyleModel",
            "_view_count": null,
            "_view_module": "@jupyter-widgets/base",
            "_view_module_version": "1.2.0",
            "_view_name": "StyleView",
            "bar_color": null,
            "description_width": ""
          }
        },
        "717d7ec180214c22bf984cd847cb2678": {
          "model_module": "@jupyter-widgets/base",
          "model_name": "LayoutModel",
          "model_module_version": "1.2.0",
          "state": {
            "_model_module": "@jupyter-widgets/base",
            "_model_module_version": "1.2.0",
            "_model_name": "LayoutModel",
            "_view_count": null,
            "_view_module": "@jupyter-widgets/base",
            "_view_module_version": "1.2.0",
            "_view_name": "LayoutView",
            "align_content": null,
            "align_items": null,
            "align_self": null,
            "border": null,
            "bottom": null,
            "display": null,
            "flex": null,
            "flex_flow": null,
            "grid_area": null,
            "grid_auto_columns": null,
            "grid_auto_flow": null,
            "grid_auto_rows": null,
            "grid_column": null,
            "grid_gap": null,
            "grid_row": null,
            "grid_template_areas": null,
            "grid_template_columns": null,
            "grid_template_rows": null,
            "height": null,
            "justify_content": null,
            "justify_items": null,
            "left": null,
            "margin": null,
            "max_height": null,
            "max_width": null,
            "min_height": null,
            "min_width": null,
            "object_fit": null,
            "object_position": null,
            "order": null,
            "overflow": null,
            "overflow_x": null,
            "overflow_y": null,
            "padding": null,
            "right": null,
            "top": null,
            "visibility": null,
            "width": null
          }
        },
        "51b0298e66004f10ac15bc4ddf3c65d6": {
          "model_module": "@jupyter-widgets/controls",
          "model_name": "DescriptionStyleModel",
          "model_module_version": "1.5.0",
          "state": {
            "_model_module": "@jupyter-widgets/controls",
            "_model_module_version": "1.5.0",
            "_model_name": "DescriptionStyleModel",
            "_view_count": null,
            "_view_module": "@jupyter-widgets/base",
            "_view_module_version": "1.2.0",
            "_view_name": "StyleView",
            "description_width": ""
          }
        },
        "6b2adce97d7e4bff90ff936619bdb5d2": {
          "model_module": "@jupyter-widgets/controls",
          "model_name": "HBoxModel",
          "model_module_version": "1.5.0",
          "state": {
            "_dom_classes": [],
            "_model_module": "@jupyter-widgets/controls",
            "_model_module_version": "1.5.0",
            "_model_name": "HBoxModel",
            "_view_count": null,
            "_view_module": "@jupyter-widgets/controls",
            "_view_module_version": "1.5.0",
            "_view_name": "HBoxView",
            "box_style": "",
            "children": [
              "IPY_MODEL_22b9e22c63644a65acf21b4f9ee99520",
              "IPY_MODEL_ad02dfc05f744345aeafc6bd0528d01c",
              "IPY_MODEL_40e0ff539c664f659ce7a0f574b58c0c"
            ],
            "layout": "IPY_MODEL_2d270def9b394719b7c0c531c290c5bc"
          }
        },
        "22b9e22c63644a65acf21b4f9ee99520": {
          "model_module": "@jupyter-widgets/controls",
          "model_name": "HTMLModel",
          "model_module_version": "1.5.0",
          "state": {
            "_dom_classes": [],
            "_model_module": "@jupyter-widgets/controls",
            "_model_module_version": "1.5.0",
            "_model_name": "HTMLModel",
            "_view_count": null,
            "_view_module": "@jupyter-widgets/controls",
            "_view_module_version": "1.5.0",
            "_view_name": "HTMLView",
            "description": "",
            "description_tooltip": null,
            "layout": "IPY_MODEL_ac22a14a413746718b0dc66b5bb70ac5",
            "placeholder": "​",
            "style": "IPY_MODEL_79411b7d4b0746bfa42b7335f3b83675",
            "value": "Downloading (…)cial_tokens_map.json: 100%"
          }
        },
        "ad02dfc05f744345aeafc6bd0528d01c": {
          "model_module": "@jupyter-widgets/controls",
          "model_name": "FloatProgressModel",
          "model_module_version": "1.5.0",
          "state": {
            "_dom_classes": [],
            "_model_module": "@jupyter-widgets/controls",
            "_model_module_version": "1.5.0",
            "_model_name": "FloatProgressModel",
            "_view_count": null,
            "_view_module": "@jupyter-widgets/controls",
            "_view_module_version": "1.5.0",
            "_view_name": "ProgressView",
            "bar_style": "success",
            "description": "",
            "description_tooltip": null,
            "layout": "IPY_MODEL_18bdced908cf43f4a9ccd869cdba21eb",
            "max": 1786,
            "min": 0,
            "orientation": "horizontal",
            "style": "IPY_MODEL_1eba4cf2e18049beaaab4080d7a0efd4",
            "value": 1786
          }
        },
        "40e0ff539c664f659ce7a0f574b58c0c": {
          "model_module": "@jupyter-widgets/controls",
          "model_name": "HTMLModel",
          "model_module_version": "1.5.0",
          "state": {
            "_dom_classes": [],
            "_model_module": "@jupyter-widgets/controls",
            "_model_module_version": "1.5.0",
            "_model_name": "HTMLModel",
            "_view_count": null,
            "_view_module": "@jupyter-widgets/controls",
            "_view_module_version": "1.5.0",
            "_view_name": "HTMLView",
            "description": "",
            "description_tooltip": null,
            "layout": "IPY_MODEL_bd94ad93828b422391b846dbe7246bb6",
            "placeholder": "​",
            "style": "IPY_MODEL_4beab5f9a06c42c7a0fc7b79ea25d51a",
            "value": " 1.79k/1.79k [00:00&lt;00:00, 128kB/s]"
          }
        },
        "2d270def9b394719b7c0c531c290c5bc": {
          "model_module": "@jupyter-widgets/base",
          "model_name": "LayoutModel",
          "model_module_version": "1.2.0",
          "state": {
            "_model_module": "@jupyter-widgets/base",
            "_model_module_version": "1.2.0",
            "_model_name": "LayoutModel",
            "_view_count": null,
            "_view_module": "@jupyter-widgets/base",
            "_view_module_version": "1.2.0",
            "_view_name": "LayoutView",
            "align_content": null,
            "align_items": null,
            "align_self": null,
            "border": null,
            "bottom": null,
            "display": null,
            "flex": null,
            "flex_flow": null,
            "grid_area": null,
            "grid_auto_columns": null,
            "grid_auto_flow": null,
            "grid_auto_rows": null,
            "grid_column": null,
            "grid_gap": null,
            "grid_row": null,
            "grid_template_areas": null,
            "grid_template_columns": null,
            "grid_template_rows": null,
            "height": null,
            "justify_content": null,
            "justify_items": null,
            "left": null,
            "margin": null,
            "max_height": null,
            "max_width": null,
            "min_height": null,
            "min_width": null,
            "object_fit": null,
            "object_position": null,
            "order": null,
            "overflow": null,
            "overflow_x": null,
            "overflow_y": null,
            "padding": null,
            "right": null,
            "top": null,
            "visibility": null,
            "width": null
          }
        },
        "ac22a14a413746718b0dc66b5bb70ac5": {
          "model_module": "@jupyter-widgets/base",
          "model_name": "LayoutModel",
          "model_module_version": "1.2.0",
          "state": {
            "_model_module": "@jupyter-widgets/base",
            "_model_module_version": "1.2.0",
            "_model_name": "LayoutModel",
            "_view_count": null,
            "_view_module": "@jupyter-widgets/base",
            "_view_module_version": "1.2.0",
            "_view_name": "LayoutView",
            "align_content": null,
            "align_items": null,
            "align_self": null,
            "border": null,
            "bottom": null,
            "display": null,
            "flex": null,
            "flex_flow": null,
            "grid_area": null,
            "grid_auto_columns": null,
            "grid_auto_flow": null,
            "grid_auto_rows": null,
            "grid_column": null,
            "grid_gap": null,
            "grid_row": null,
            "grid_template_areas": null,
            "grid_template_columns": null,
            "grid_template_rows": null,
            "height": null,
            "justify_content": null,
            "justify_items": null,
            "left": null,
            "margin": null,
            "max_height": null,
            "max_width": null,
            "min_height": null,
            "min_width": null,
            "object_fit": null,
            "object_position": null,
            "order": null,
            "overflow": null,
            "overflow_x": null,
            "overflow_y": null,
            "padding": null,
            "right": null,
            "top": null,
            "visibility": null,
            "width": null
          }
        },
        "79411b7d4b0746bfa42b7335f3b83675": {
          "model_module": "@jupyter-widgets/controls",
          "model_name": "DescriptionStyleModel",
          "model_module_version": "1.5.0",
          "state": {
            "_model_module": "@jupyter-widgets/controls",
            "_model_module_version": "1.5.0",
            "_model_name": "DescriptionStyleModel",
            "_view_count": null,
            "_view_module": "@jupyter-widgets/base",
            "_view_module_version": "1.2.0",
            "_view_name": "StyleView",
            "description_width": ""
          }
        },
        "18bdced908cf43f4a9ccd869cdba21eb": {
          "model_module": "@jupyter-widgets/base",
          "model_name": "LayoutModel",
          "model_module_version": "1.2.0",
          "state": {
            "_model_module": "@jupyter-widgets/base",
            "_model_module_version": "1.2.0",
            "_model_name": "LayoutModel",
            "_view_count": null,
            "_view_module": "@jupyter-widgets/base",
            "_view_module_version": "1.2.0",
            "_view_name": "LayoutView",
            "align_content": null,
            "align_items": null,
            "align_self": null,
            "border": null,
            "bottom": null,
            "display": null,
            "flex": null,
            "flex_flow": null,
            "grid_area": null,
            "grid_auto_columns": null,
            "grid_auto_flow": null,
            "grid_auto_rows": null,
            "grid_column": null,
            "grid_gap": null,
            "grid_row": null,
            "grid_template_areas": null,
            "grid_template_columns": null,
            "grid_template_rows": null,
            "height": null,
            "justify_content": null,
            "justify_items": null,
            "left": null,
            "margin": null,
            "max_height": null,
            "max_width": null,
            "min_height": null,
            "min_width": null,
            "object_fit": null,
            "object_position": null,
            "order": null,
            "overflow": null,
            "overflow_x": null,
            "overflow_y": null,
            "padding": null,
            "right": null,
            "top": null,
            "visibility": null,
            "width": null
          }
        },
        "1eba4cf2e18049beaaab4080d7a0efd4": {
          "model_module": "@jupyter-widgets/controls",
          "model_name": "ProgressStyleModel",
          "model_module_version": "1.5.0",
          "state": {
            "_model_module": "@jupyter-widgets/controls",
            "_model_module_version": "1.5.0",
            "_model_name": "ProgressStyleModel",
            "_view_count": null,
            "_view_module": "@jupyter-widgets/base",
            "_view_module_version": "1.2.0",
            "_view_name": "StyleView",
            "bar_color": null,
            "description_width": ""
          }
        },
        "bd94ad93828b422391b846dbe7246bb6": {
          "model_module": "@jupyter-widgets/base",
          "model_name": "LayoutModel",
          "model_module_version": "1.2.0",
          "state": {
            "_model_module": "@jupyter-widgets/base",
            "_model_module_version": "1.2.0",
            "_model_name": "LayoutModel",
            "_view_count": null,
            "_view_module": "@jupyter-widgets/base",
            "_view_module_version": "1.2.0",
            "_view_name": "LayoutView",
            "align_content": null,
            "align_items": null,
            "align_self": null,
            "border": null,
            "bottom": null,
            "display": null,
            "flex": null,
            "flex_flow": null,
            "grid_area": null,
            "grid_auto_columns": null,
            "grid_auto_flow": null,
            "grid_auto_rows": null,
            "grid_column": null,
            "grid_gap": null,
            "grid_row": null,
            "grid_template_areas": null,
            "grid_template_columns": null,
            "grid_template_rows": null,
            "height": null,
            "justify_content": null,
            "justify_items": null,
            "left": null,
            "margin": null,
            "max_height": null,
            "max_width": null,
            "min_height": null,
            "min_width": null,
            "object_fit": null,
            "object_position": null,
            "order": null,
            "overflow": null,
            "overflow_x": null,
            "overflow_y": null,
            "padding": null,
            "right": null,
            "top": null,
            "visibility": null,
            "width": null
          }
        },
        "4beab5f9a06c42c7a0fc7b79ea25d51a": {
          "model_module": "@jupyter-widgets/controls",
          "model_name": "DescriptionStyleModel",
          "model_module_version": "1.5.0",
          "state": {
            "_model_module": "@jupyter-widgets/controls",
            "_model_module_version": "1.5.0",
            "_model_name": "DescriptionStyleModel",
            "_view_count": null,
            "_view_module": "@jupyter-widgets/base",
            "_view_module_version": "1.2.0",
            "_view_name": "StyleView",
            "description_width": ""
          }
        },
        "e4c4db645dcc4853bbe8fcfdff03f378": {
          "model_module": "@jupyter-widgets/controls",
          "model_name": "HBoxModel",
          "model_module_version": "1.5.0",
          "state": {
            "_dom_classes": [],
            "_model_module": "@jupyter-widgets/controls",
            "_model_module_version": "1.5.0",
            "_model_name": "HBoxModel",
            "_view_count": null,
            "_view_module": "@jupyter-widgets/controls",
            "_view_module_version": "1.5.0",
            "_view_name": "HBoxView",
            "box_style": "",
            "children": [
              "IPY_MODEL_40fb746fc8434a0bad832c6381ec841e",
              "IPY_MODEL_557e0c529b31451eb09f6dab87bf9689",
              "IPY_MODEL_e41123356ab644bd997d4487f842052f"
            ],
            "layout": "IPY_MODEL_77826693981f4633b21a0e185e67bd33"
          }
        },
        "40fb746fc8434a0bad832c6381ec841e": {
          "model_module": "@jupyter-widgets/controls",
          "model_name": "HTMLModel",
          "model_module_version": "1.5.0",
          "state": {
            "_dom_classes": [],
            "_model_module": "@jupyter-widgets/controls",
            "_model_module_version": "1.5.0",
            "_model_name": "HTMLModel",
            "_view_count": null,
            "_view_module": "@jupyter-widgets/controls",
            "_view_module_version": "1.5.0",
            "_view_name": "HTMLView",
            "description": "",
            "description_tooltip": null,
            "layout": "IPY_MODEL_da07771fc8834160b59e2a3871442798",
            "placeholder": "​",
            "style": "IPY_MODEL_0ea3be0ad95f499eb221a2d3aace80ee",
            "value": "Downloading (…)lve/main/config.json: 100%"
          }
        },
        "557e0c529b31451eb09f6dab87bf9689": {
          "model_module": "@jupyter-widgets/controls",
          "model_name": "FloatProgressModel",
          "model_module_version": "1.5.0",
          "state": {
            "_dom_classes": [],
            "_model_module": "@jupyter-widgets/controls",
            "_model_module_version": "1.5.0",
            "_model_name": "FloatProgressModel",
            "_view_count": null,
            "_view_module": "@jupyter-widgets/controls",
            "_view_module_version": "1.5.0",
            "_view_name": "ProgressView",
            "bar_style": "success",
            "description": "",
            "description_tooltip": null,
            "layout": "IPY_MODEL_986b3402f9b648758cd1b0fe84e4fb13",
            "max": 473,
            "min": 0,
            "orientation": "horizontal",
            "style": "IPY_MODEL_bffc424ea75b448785525358c8db213f",
            "value": 473
          }
        },
        "e41123356ab644bd997d4487f842052f": {
          "model_module": "@jupyter-widgets/controls",
          "model_name": "HTMLModel",
          "model_module_version": "1.5.0",
          "state": {
            "_dom_classes": [],
            "_model_module": "@jupyter-widgets/controls",
            "_model_module_version": "1.5.0",
            "_model_name": "HTMLModel",
            "_view_count": null,
            "_view_module": "@jupyter-widgets/controls",
            "_view_module_version": "1.5.0",
            "_view_name": "HTMLView",
            "description": "",
            "description_tooltip": null,
            "layout": "IPY_MODEL_a62eaf84755d4930a3a80ea8f9e4ccc9",
            "placeholder": "​",
            "style": "IPY_MODEL_89bb91a463f541618f396bca70aea8ec",
            "value": " 473/473 [00:00&lt;00:00, 28.4kB/s]"
          }
        },
        "77826693981f4633b21a0e185e67bd33": {
          "model_module": "@jupyter-widgets/base",
          "model_name": "LayoutModel",
          "model_module_version": "1.2.0",
          "state": {
            "_model_module": "@jupyter-widgets/base",
            "_model_module_version": "1.2.0",
            "_model_name": "LayoutModel",
            "_view_count": null,
            "_view_module": "@jupyter-widgets/base",
            "_view_module_version": "1.2.0",
            "_view_name": "LayoutView",
            "align_content": null,
            "align_items": null,
            "align_self": null,
            "border": null,
            "bottom": null,
            "display": null,
            "flex": null,
            "flex_flow": null,
            "grid_area": null,
            "grid_auto_columns": null,
            "grid_auto_flow": null,
            "grid_auto_rows": null,
            "grid_column": null,
            "grid_gap": null,
            "grid_row": null,
            "grid_template_areas": null,
            "grid_template_columns": null,
            "grid_template_rows": null,
            "height": null,
            "justify_content": null,
            "justify_items": null,
            "left": null,
            "margin": null,
            "max_height": null,
            "max_width": null,
            "min_height": null,
            "min_width": null,
            "object_fit": null,
            "object_position": null,
            "order": null,
            "overflow": null,
            "overflow_x": null,
            "overflow_y": null,
            "padding": null,
            "right": null,
            "top": null,
            "visibility": null,
            "width": null
          }
        },
        "da07771fc8834160b59e2a3871442798": {
          "model_module": "@jupyter-widgets/base",
          "model_name": "LayoutModel",
          "model_module_version": "1.2.0",
          "state": {
            "_model_module": "@jupyter-widgets/base",
            "_model_module_version": "1.2.0",
            "_model_name": "LayoutModel",
            "_view_count": null,
            "_view_module": "@jupyter-widgets/base",
            "_view_module_version": "1.2.0",
            "_view_name": "LayoutView",
            "align_content": null,
            "align_items": null,
            "align_self": null,
            "border": null,
            "bottom": null,
            "display": null,
            "flex": null,
            "flex_flow": null,
            "grid_area": null,
            "grid_auto_columns": null,
            "grid_auto_flow": null,
            "grid_auto_rows": null,
            "grid_column": null,
            "grid_gap": null,
            "grid_row": null,
            "grid_template_areas": null,
            "grid_template_columns": null,
            "grid_template_rows": null,
            "height": null,
            "justify_content": null,
            "justify_items": null,
            "left": null,
            "margin": null,
            "max_height": null,
            "max_width": null,
            "min_height": null,
            "min_width": null,
            "object_fit": null,
            "object_position": null,
            "order": null,
            "overflow": null,
            "overflow_x": null,
            "overflow_y": null,
            "padding": null,
            "right": null,
            "top": null,
            "visibility": null,
            "width": null
          }
        },
        "0ea3be0ad95f499eb221a2d3aace80ee": {
          "model_module": "@jupyter-widgets/controls",
          "model_name": "DescriptionStyleModel",
          "model_module_version": "1.5.0",
          "state": {
            "_model_module": "@jupyter-widgets/controls",
            "_model_module_version": "1.5.0",
            "_model_name": "DescriptionStyleModel",
            "_view_count": null,
            "_view_module": "@jupyter-widgets/base",
            "_view_module_version": "1.2.0",
            "_view_name": "StyleView",
            "description_width": ""
          }
        },
        "986b3402f9b648758cd1b0fe84e4fb13": {
          "model_module": "@jupyter-widgets/base",
          "model_name": "LayoutModel",
          "model_module_version": "1.2.0",
          "state": {
            "_model_module": "@jupyter-widgets/base",
            "_model_module_version": "1.2.0",
            "_model_name": "LayoutModel",
            "_view_count": null,
            "_view_module": "@jupyter-widgets/base",
            "_view_module_version": "1.2.0",
            "_view_name": "LayoutView",
            "align_content": null,
            "align_items": null,
            "align_self": null,
            "border": null,
            "bottom": null,
            "display": null,
            "flex": null,
            "flex_flow": null,
            "grid_area": null,
            "grid_auto_columns": null,
            "grid_auto_flow": null,
            "grid_auto_rows": null,
            "grid_column": null,
            "grid_gap": null,
            "grid_row": null,
            "grid_template_areas": null,
            "grid_template_columns": null,
            "grid_template_rows": null,
            "height": null,
            "justify_content": null,
            "justify_items": null,
            "left": null,
            "margin": null,
            "max_height": null,
            "max_width": null,
            "min_height": null,
            "min_width": null,
            "object_fit": null,
            "object_position": null,
            "order": null,
            "overflow": null,
            "overflow_x": null,
            "overflow_y": null,
            "padding": null,
            "right": null,
            "top": null,
            "visibility": null,
            "width": null
          }
        },
        "bffc424ea75b448785525358c8db213f": {
          "model_module": "@jupyter-widgets/controls",
          "model_name": "ProgressStyleModel",
          "model_module_version": "1.5.0",
          "state": {
            "_model_module": "@jupyter-widgets/controls",
            "_model_module_version": "1.5.0",
            "_model_name": "ProgressStyleModel",
            "_view_count": null,
            "_view_module": "@jupyter-widgets/base",
            "_view_module_version": "1.2.0",
            "_view_name": "StyleView",
            "bar_color": null,
            "description_width": ""
          }
        },
        "a62eaf84755d4930a3a80ea8f9e4ccc9": {
          "model_module": "@jupyter-widgets/base",
          "model_name": "LayoutModel",
          "model_module_version": "1.2.0",
          "state": {
            "_model_module": "@jupyter-widgets/base",
            "_model_module_version": "1.2.0",
            "_model_name": "LayoutModel",
            "_view_count": null,
            "_view_module": "@jupyter-widgets/base",
            "_view_module_version": "1.2.0",
            "_view_name": "LayoutView",
            "align_content": null,
            "align_items": null,
            "align_self": null,
            "border": null,
            "bottom": null,
            "display": null,
            "flex": null,
            "flex_flow": null,
            "grid_area": null,
            "grid_auto_columns": null,
            "grid_auto_flow": null,
            "grid_auto_rows": null,
            "grid_column": null,
            "grid_gap": null,
            "grid_row": null,
            "grid_template_areas": null,
            "grid_template_columns": null,
            "grid_template_rows": null,
            "height": null,
            "justify_content": null,
            "justify_items": null,
            "left": null,
            "margin": null,
            "max_height": null,
            "max_width": null,
            "min_height": null,
            "min_width": null,
            "object_fit": null,
            "object_position": null,
            "order": null,
            "overflow": null,
            "overflow_x": null,
            "overflow_y": null,
            "padding": null,
            "right": null,
            "top": null,
            "visibility": null,
            "width": null
          }
        },
        "89bb91a463f541618f396bca70aea8ec": {
          "model_module": "@jupyter-widgets/controls",
          "model_name": "DescriptionStyleModel",
          "model_module_version": "1.5.0",
          "state": {
            "_model_module": "@jupyter-widgets/controls",
            "_model_module_version": "1.5.0",
            "_model_name": "DescriptionStyleModel",
            "_view_count": null,
            "_view_module": "@jupyter-widgets/base",
            "_view_module_version": "1.2.0",
            "_view_name": "StyleView",
            "description_width": ""
          }
        },
        "98d1c0d1538c4d63928a119597790a83": {
          "model_module": "@jupyter-widgets/controls",
          "model_name": "HBoxModel",
          "model_module_version": "1.5.0",
          "state": {
            "_dom_classes": [],
            "_model_module": "@jupyter-widgets/controls",
            "_model_module_version": "1.5.0",
            "_model_name": "HBoxModel",
            "_view_count": null,
            "_view_module": "@jupyter-widgets/controls",
            "_view_module_version": "1.5.0",
            "_view_name": "HBoxView",
            "box_style": "",
            "children": [
              "IPY_MODEL_3d4df2ba5a5f4e26bdb2a7f0a2d3c307",
              "IPY_MODEL_2492b0b05c8c4437b992316e28bd6c26",
              "IPY_MODEL_52d20b6f4c6342c18ffb37f5371aa08b"
            ],
            "layout": "IPY_MODEL_c26bab3c65b54a028a64d969da0c7d53"
          }
        },
        "3d4df2ba5a5f4e26bdb2a7f0a2d3c307": {
          "model_module": "@jupyter-widgets/controls",
          "model_name": "HTMLModel",
          "model_module_version": "1.5.0",
          "state": {
            "_dom_classes": [],
            "_model_module": "@jupyter-widgets/controls",
            "_model_module_version": "1.5.0",
            "_model_name": "HTMLModel",
            "_view_count": null,
            "_view_module": "@jupyter-widgets/controls",
            "_view_module_version": "1.5.0",
            "_view_name": "HTMLView",
            "description": "",
            "description_tooltip": null,
            "layout": "IPY_MODEL_9879cd369ec2474aa46531d33d0dfbd3",
            "placeholder": "​",
            "style": "IPY_MODEL_e45b1af160ba40b2a191365cd90975a5",
            "value": "Downloading pytorch_model.bin: 100%"
          }
        },
        "2492b0b05c8c4437b992316e28bd6c26": {
          "model_module": "@jupyter-widgets/controls",
          "model_name": "FloatProgressModel",
          "model_module_version": "1.5.0",
          "state": {
            "_dom_classes": [],
            "_model_module": "@jupyter-widgets/controls",
            "_model_module_version": "1.5.0",
            "_model_name": "FloatProgressModel",
            "_view_count": null,
            "_view_module": "@jupyter-widgets/controls",
            "_view_module_version": "1.5.0",
            "_view_name": "ProgressView",
            "bar_style": "success",
            "description": "",
            "description_tooltip": null,
            "layout": "IPY_MODEL_f700b68f239a446ea9bd3a0a16c5a4c6",
            "max": 260793700,
            "min": 0,
            "orientation": "horizontal",
            "style": "IPY_MODEL_e86fe14323c6429d895636992fdbb58e",
            "value": 260793700
          }
        },
        "52d20b6f4c6342c18ffb37f5371aa08b": {
          "model_module": "@jupyter-widgets/controls",
          "model_name": "HTMLModel",
          "model_module_version": "1.5.0",
          "state": {
            "_dom_classes": [],
            "_model_module": "@jupyter-widgets/controls",
            "_model_module_version": "1.5.0",
            "_model_name": "HTMLModel",
            "_view_count": null,
            "_view_module": "@jupyter-widgets/controls",
            "_view_module_version": "1.5.0",
            "_view_name": "HTMLView",
            "description": "",
            "description_tooltip": null,
            "layout": "IPY_MODEL_8a5f0f9414f44b9c8aadf1707254f606",
            "placeholder": "​",
            "style": "IPY_MODEL_d8cf2a6dc629420480b5573bc284ed17",
            "value": " 261M/261M [00:03&lt;00:00, 75.2MB/s]"
          }
        },
        "c26bab3c65b54a028a64d969da0c7d53": {
          "model_module": "@jupyter-widgets/base",
          "model_name": "LayoutModel",
          "model_module_version": "1.2.0",
          "state": {
            "_model_module": "@jupyter-widgets/base",
            "_model_module_version": "1.2.0",
            "_model_name": "LayoutModel",
            "_view_count": null,
            "_view_module": "@jupyter-widgets/base",
            "_view_module_version": "1.2.0",
            "_view_name": "LayoutView",
            "align_content": null,
            "align_items": null,
            "align_self": null,
            "border": null,
            "bottom": null,
            "display": null,
            "flex": null,
            "flex_flow": null,
            "grid_area": null,
            "grid_auto_columns": null,
            "grid_auto_flow": null,
            "grid_auto_rows": null,
            "grid_column": null,
            "grid_gap": null,
            "grid_row": null,
            "grid_template_areas": null,
            "grid_template_columns": null,
            "grid_template_rows": null,
            "height": null,
            "justify_content": null,
            "justify_items": null,
            "left": null,
            "margin": null,
            "max_height": null,
            "max_width": null,
            "min_height": null,
            "min_width": null,
            "object_fit": null,
            "object_position": null,
            "order": null,
            "overflow": null,
            "overflow_x": null,
            "overflow_y": null,
            "padding": null,
            "right": null,
            "top": null,
            "visibility": null,
            "width": null
          }
        },
        "9879cd369ec2474aa46531d33d0dfbd3": {
          "model_module": "@jupyter-widgets/base",
          "model_name": "LayoutModel",
          "model_module_version": "1.2.0",
          "state": {
            "_model_module": "@jupyter-widgets/base",
            "_model_module_version": "1.2.0",
            "_model_name": "LayoutModel",
            "_view_count": null,
            "_view_module": "@jupyter-widgets/base",
            "_view_module_version": "1.2.0",
            "_view_name": "LayoutView",
            "align_content": null,
            "align_items": null,
            "align_self": null,
            "border": null,
            "bottom": null,
            "display": null,
            "flex": null,
            "flex_flow": null,
            "grid_area": null,
            "grid_auto_columns": null,
            "grid_auto_flow": null,
            "grid_auto_rows": null,
            "grid_column": null,
            "grid_gap": null,
            "grid_row": null,
            "grid_template_areas": null,
            "grid_template_columns": null,
            "grid_template_rows": null,
            "height": null,
            "justify_content": null,
            "justify_items": null,
            "left": null,
            "margin": null,
            "max_height": null,
            "max_width": null,
            "min_height": null,
            "min_width": null,
            "object_fit": null,
            "object_position": null,
            "order": null,
            "overflow": null,
            "overflow_x": null,
            "overflow_y": null,
            "padding": null,
            "right": null,
            "top": null,
            "visibility": null,
            "width": null
          }
        },
        "e45b1af160ba40b2a191365cd90975a5": {
          "model_module": "@jupyter-widgets/controls",
          "model_name": "DescriptionStyleModel",
          "model_module_version": "1.5.0",
          "state": {
            "_model_module": "@jupyter-widgets/controls",
            "_model_module_version": "1.5.0",
            "_model_name": "DescriptionStyleModel",
            "_view_count": null,
            "_view_module": "@jupyter-widgets/base",
            "_view_module_version": "1.2.0",
            "_view_name": "StyleView",
            "description_width": ""
          }
        },
        "f700b68f239a446ea9bd3a0a16c5a4c6": {
          "model_module": "@jupyter-widgets/base",
          "model_name": "LayoutModel",
          "model_module_version": "1.2.0",
          "state": {
            "_model_module": "@jupyter-widgets/base",
            "_model_module_version": "1.2.0",
            "_model_name": "LayoutModel",
            "_view_count": null,
            "_view_module": "@jupyter-widgets/base",
            "_view_module_version": "1.2.0",
            "_view_name": "LayoutView",
            "align_content": null,
            "align_items": null,
            "align_self": null,
            "border": null,
            "bottom": null,
            "display": null,
            "flex": null,
            "flex_flow": null,
            "grid_area": null,
            "grid_auto_columns": null,
            "grid_auto_flow": null,
            "grid_auto_rows": null,
            "grid_column": null,
            "grid_gap": null,
            "grid_row": null,
            "grid_template_areas": null,
            "grid_template_columns": null,
            "grid_template_rows": null,
            "height": null,
            "justify_content": null,
            "justify_items": null,
            "left": null,
            "margin": null,
            "max_height": null,
            "max_width": null,
            "min_height": null,
            "min_width": null,
            "object_fit": null,
            "object_position": null,
            "order": null,
            "overflow": null,
            "overflow_x": null,
            "overflow_y": null,
            "padding": null,
            "right": null,
            "top": null,
            "visibility": null,
            "width": null
          }
        },
        "e86fe14323c6429d895636992fdbb58e": {
          "model_module": "@jupyter-widgets/controls",
          "model_name": "ProgressStyleModel",
          "model_module_version": "1.5.0",
          "state": {
            "_model_module": "@jupyter-widgets/controls",
            "_model_module_version": "1.5.0",
            "_model_name": "ProgressStyleModel",
            "_view_count": null,
            "_view_module": "@jupyter-widgets/base",
            "_view_module_version": "1.2.0",
            "_view_name": "StyleView",
            "bar_color": null,
            "description_width": ""
          }
        },
        "8a5f0f9414f44b9c8aadf1707254f606": {
          "model_module": "@jupyter-widgets/base",
          "model_name": "LayoutModel",
          "model_module_version": "1.2.0",
          "state": {
            "_model_module": "@jupyter-widgets/base",
            "_model_module_version": "1.2.0",
            "_model_name": "LayoutModel",
            "_view_count": null,
            "_view_module": "@jupyter-widgets/base",
            "_view_module_version": "1.2.0",
            "_view_name": "LayoutView",
            "align_content": null,
            "align_items": null,
            "align_self": null,
            "border": null,
            "bottom": null,
            "display": null,
            "flex": null,
            "flex_flow": null,
            "grid_area": null,
            "grid_auto_columns": null,
            "grid_auto_flow": null,
            "grid_auto_rows": null,
            "grid_column": null,
            "grid_gap": null,
            "grid_row": null,
            "grid_template_areas": null,
            "grid_template_columns": null,
            "grid_template_rows": null,
            "height": null,
            "justify_content": null,
            "justify_items": null,
            "left": null,
            "margin": null,
            "max_height": null,
            "max_width": null,
            "min_height": null,
            "min_width": null,
            "object_fit": null,
            "object_position": null,
            "order": null,
            "overflow": null,
            "overflow_x": null,
            "overflow_y": null,
            "padding": null,
            "right": null,
            "top": null,
            "visibility": null,
            "width": null
          }
        },
        "d8cf2a6dc629420480b5573bc284ed17": {
          "model_module": "@jupyter-widgets/controls",
          "model_name": "DescriptionStyleModel",
          "model_module_version": "1.5.0",
          "state": {
            "_model_module": "@jupyter-widgets/controls",
            "_model_module_version": "1.5.0",
            "_model_name": "DescriptionStyleModel",
            "_view_count": null,
            "_view_module": "@jupyter-widgets/base",
            "_view_module_version": "1.2.0",
            "_view_name": "StyleView",
            "description_width": ""
          }
        },
        "fe78529a4d7c4c9eb9af3522f76fc6bb": {
          "model_module": "@jupyter-widgets/controls",
          "model_name": "HBoxModel",
          "model_module_version": "1.5.0",
          "state": {
            "_dom_classes": [],
            "_model_module": "@jupyter-widgets/controls",
            "_model_module_version": "1.5.0",
            "_model_name": "HBoxModel",
            "_view_count": null,
            "_view_module": "@jupyter-widgets/controls",
            "_view_module_version": "1.5.0",
            "_view_name": "HBoxView",
            "box_style": "",
            "children": [
              "IPY_MODEL_406b36a75d384c44bf9bdbc58fbf5557",
              "IPY_MODEL_7e77cbc7820e4b78913b85fbcf927ee7",
              "IPY_MODEL_2b141a3a7bc0429f8ac1436cc99032db"
            ],
            "layout": "IPY_MODEL_72b031975fc04320aab97462d0dfcbbf"
          }
        },
        "406b36a75d384c44bf9bdbc58fbf5557": {
          "model_module": "@jupyter-widgets/controls",
          "model_name": "HTMLModel",
          "model_module_version": "1.5.0",
          "state": {
            "_dom_classes": [],
            "_model_module": "@jupyter-widgets/controls",
            "_model_module_version": "1.5.0",
            "_model_name": "HTMLModel",
            "_view_count": null,
            "_view_module": "@jupyter-widgets/controls",
            "_view_module_version": "1.5.0",
            "_view_name": "HTMLView",
            "description": "",
            "description_tooltip": null,
            "layout": "IPY_MODEL_0dfcb4731580474b9953c1eace54721d",
            "placeholder": "​",
            "style": "IPY_MODEL_391a3bbb6d304d388b47fdb7cc08fbc8",
            "value": "Downloading (…)okenizer_config.json: 100%"
          }
        },
        "7e77cbc7820e4b78913b85fbcf927ee7": {
          "model_module": "@jupyter-widgets/controls",
          "model_name": "FloatProgressModel",
          "model_module_version": "1.5.0",
          "state": {
            "_dom_classes": [],
            "_model_module": "@jupyter-widgets/controls",
            "_model_module_version": "1.5.0",
            "_model_name": "FloatProgressModel",
            "_view_count": null,
            "_view_module": "@jupyter-widgets/controls",
            "_view_module_version": "1.5.0",
            "_view_name": "ProgressView",
            "bar_style": "success",
            "description": "",
            "description_tooltip": null,
            "layout": "IPY_MODEL_cfa70ad4351846f2bcc58b2ea3b891ac",
            "max": 29,
            "min": 0,
            "orientation": "horizontal",
            "style": "IPY_MODEL_6e80ed76b52f4e59a872e54b4c2f250d",
            "value": 29
          }
        },
        "2b141a3a7bc0429f8ac1436cc99032db": {
          "model_module": "@jupyter-widgets/controls",
          "model_name": "HTMLModel",
          "model_module_version": "1.5.0",
          "state": {
            "_dom_classes": [],
            "_model_module": "@jupyter-widgets/controls",
            "_model_module_version": "1.5.0",
            "_model_name": "HTMLModel",
            "_view_count": null,
            "_view_module": "@jupyter-widgets/controls",
            "_view_module_version": "1.5.0",
            "_view_name": "HTMLView",
            "description": "",
            "description_tooltip": null,
            "layout": "IPY_MODEL_22bcb2c6d6a94026903fbb778464c7bd",
            "placeholder": "​",
            "style": "IPY_MODEL_f0a89e883be84c5f817029d1dd29f37a",
            "value": " 29.0/29.0 [00:00&lt;00:00, 2.21kB/s]"
          }
        },
        "72b031975fc04320aab97462d0dfcbbf": {
          "model_module": "@jupyter-widgets/base",
          "model_name": "LayoutModel",
          "model_module_version": "1.2.0",
          "state": {
            "_model_module": "@jupyter-widgets/base",
            "_model_module_version": "1.2.0",
            "_model_name": "LayoutModel",
            "_view_count": null,
            "_view_module": "@jupyter-widgets/base",
            "_view_module_version": "1.2.0",
            "_view_name": "LayoutView",
            "align_content": null,
            "align_items": null,
            "align_self": null,
            "border": null,
            "bottom": null,
            "display": null,
            "flex": null,
            "flex_flow": null,
            "grid_area": null,
            "grid_auto_columns": null,
            "grid_auto_flow": null,
            "grid_auto_rows": null,
            "grid_column": null,
            "grid_gap": null,
            "grid_row": null,
            "grid_template_areas": null,
            "grid_template_columns": null,
            "grid_template_rows": null,
            "height": null,
            "justify_content": null,
            "justify_items": null,
            "left": null,
            "margin": null,
            "max_height": null,
            "max_width": null,
            "min_height": null,
            "min_width": null,
            "object_fit": null,
            "object_position": null,
            "order": null,
            "overflow": null,
            "overflow_x": null,
            "overflow_y": null,
            "padding": null,
            "right": null,
            "top": null,
            "visibility": null,
            "width": null
          }
        },
        "0dfcb4731580474b9953c1eace54721d": {
          "model_module": "@jupyter-widgets/base",
          "model_name": "LayoutModel",
          "model_module_version": "1.2.0",
          "state": {
            "_model_module": "@jupyter-widgets/base",
            "_model_module_version": "1.2.0",
            "_model_name": "LayoutModel",
            "_view_count": null,
            "_view_module": "@jupyter-widgets/base",
            "_view_module_version": "1.2.0",
            "_view_name": "LayoutView",
            "align_content": null,
            "align_items": null,
            "align_self": null,
            "border": null,
            "bottom": null,
            "display": null,
            "flex": null,
            "flex_flow": null,
            "grid_area": null,
            "grid_auto_columns": null,
            "grid_auto_flow": null,
            "grid_auto_rows": null,
            "grid_column": null,
            "grid_gap": null,
            "grid_row": null,
            "grid_template_areas": null,
            "grid_template_columns": null,
            "grid_template_rows": null,
            "height": null,
            "justify_content": null,
            "justify_items": null,
            "left": null,
            "margin": null,
            "max_height": null,
            "max_width": null,
            "min_height": null,
            "min_width": null,
            "object_fit": null,
            "object_position": null,
            "order": null,
            "overflow": null,
            "overflow_x": null,
            "overflow_y": null,
            "padding": null,
            "right": null,
            "top": null,
            "visibility": null,
            "width": null
          }
        },
        "391a3bbb6d304d388b47fdb7cc08fbc8": {
          "model_module": "@jupyter-widgets/controls",
          "model_name": "DescriptionStyleModel",
          "model_module_version": "1.5.0",
          "state": {
            "_model_module": "@jupyter-widgets/controls",
            "_model_module_version": "1.5.0",
            "_model_name": "DescriptionStyleModel",
            "_view_count": null,
            "_view_module": "@jupyter-widgets/base",
            "_view_module_version": "1.2.0",
            "_view_name": "StyleView",
            "description_width": ""
          }
        },
        "cfa70ad4351846f2bcc58b2ea3b891ac": {
          "model_module": "@jupyter-widgets/base",
          "model_name": "LayoutModel",
          "model_module_version": "1.2.0",
          "state": {
            "_model_module": "@jupyter-widgets/base",
            "_model_module_version": "1.2.0",
            "_model_name": "LayoutModel",
            "_view_count": null,
            "_view_module": "@jupyter-widgets/base",
            "_view_module_version": "1.2.0",
            "_view_name": "LayoutView",
            "align_content": null,
            "align_items": null,
            "align_self": null,
            "border": null,
            "bottom": null,
            "display": null,
            "flex": null,
            "flex_flow": null,
            "grid_area": null,
            "grid_auto_columns": null,
            "grid_auto_flow": null,
            "grid_auto_rows": null,
            "grid_column": null,
            "grid_gap": null,
            "grid_row": null,
            "grid_template_areas": null,
            "grid_template_columns": null,
            "grid_template_rows": null,
            "height": null,
            "justify_content": null,
            "justify_items": null,
            "left": null,
            "margin": null,
            "max_height": null,
            "max_width": null,
            "min_height": null,
            "min_width": null,
            "object_fit": null,
            "object_position": null,
            "order": null,
            "overflow": null,
            "overflow_x": null,
            "overflow_y": null,
            "padding": null,
            "right": null,
            "top": null,
            "visibility": null,
            "width": null
          }
        },
        "6e80ed76b52f4e59a872e54b4c2f250d": {
          "model_module": "@jupyter-widgets/controls",
          "model_name": "ProgressStyleModel",
          "model_module_version": "1.5.0",
          "state": {
            "_model_module": "@jupyter-widgets/controls",
            "_model_module_version": "1.5.0",
            "_model_name": "ProgressStyleModel",
            "_view_count": null,
            "_view_module": "@jupyter-widgets/base",
            "_view_module_version": "1.2.0",
            "_view_name": "StyleView",
            "bar_color": null,
            "description_width": ""
          }
        },
        "22bcb2c6d6a94026903fbb778464c7bd": {
          "model_module": "@jupyter-widgets/base",
          "model_name": "LayoutModel",
          "model_module_version": "1.2.0",
          "state": {
            "_model_module": "@jupyter-widgets/base",
            "_model_module_version": "1.2.0",
            "_model_name": "LayoutModel",
            "_view_count": null,
            "_view_module": "@jupyter-widgets/base",
            "_view_module_version": "1.2.0",
            "_view_name": "LayoutView",
            "align_content": null,
            "align_items": null,
            "align_self": null,
            "border": null,
            "bottom": null,
            "display": null,
            "flex": null,
            "flex_flow": null,
            "grid_area": null,
            "grid_auto_columns": null,
            "grid_auto_flow": null,
            "grid_auto_rows": null,
            "grid_column": null,
            "grid_gap": null,
            "grid_row": null,
            "grid_template_areas": null,
            "grid_template_columns": null,
            "grid_template_rows": null,
            "height": null,
            "justify_content": null,
            "justify_items": null,
            "left": null,
            "margin": null,
            "max_height": null,
            "max_width": null,
            "min_height": null,
            "min_width": null,
            "object_fit": null,
            "object_position": null,
            "order": null,
            "overflow": null,
            "overflow_x": null,
            "overflow_y": null,
            "padding": null,
            "right": null,
            "top": null,
            "visibility": null,
            "width": null
          }
        },
        "f0a89e883be84c5f817029d1dd29f37a": {
          "model_module": "@jupyter-widgets/controls",
          "model_name": "DescriptionStyleModel",
          "model_module_version": "1.5.0",
          "state": {
            "_model_module": "@jupyter-widgets/controls",
            "_model_module_version": "1.5.0",
            "_model_name": "DescriptionStyleModel",
            "_view_count": null,
            "_view_module": "@jupyter-widgets/base",
            "_view_module_version": "1.2.0",
            "_view_name": "StyleView",
            "description_width": ""
          }
        },
        "0ec40ddc3d734f71b763efaaab171345": {
          "model_module": "@jupyter-widgets/controls",
          "model_name": "HBoxModel",
          "model_module_version": "1.5.0",
          "state": {
            "_dom_classes": [],
            "_model_module": "@jupyter-widgets/controls",
            "_model_module_version": "1.5.0",
            "_model_name": "HBoxModel",
            "_view_count": null,
            "_view_module": "@jupyter-widgets/controls",
            "_view_module_version": "1.5.0",
            "_view_name": "HBoxView",
            "box_style": "",
            "children": [
              "IPY_MODEL_041e9d7a16744d8092c44a52e336de3a",
              "IPY_MODEL_0976c1e50d4643e796e1636a7c1d030e",
              "IPY_MODEL_8864ab99a4e346ccbb200a038e62982e"
            ],
            "layout": "IPY_MODEL_71564966a55e46138c5cf4b7057e5016"
          }
        },
        "041e9d7a16744d8092c44a52e336de3a": {
          "model_module": "@jupyter-widgets/controls",
          "model_name": "HTMLModel",
          "model_module_version": "1.5.0",
          "state": {
            "_dom_classes": [],
            "_model_module": "@jupyter-widgets/controls",
            "_model_module_version": "1.5.0",
            "_model_name": "HTMLModel",
            "_view_count": null,
            "_view_module": "@jupyter-widgets/controls",
            "_view_module_version": "1.5.0",
            "_view_name": "HTMLView",
            "description": "",
            "description_tooltip": null,
            "layout": "IPY_MODEL_3e3875721c08466c89903899d5afd474",
            "placeholder": "​",
            "style": "IPY_MODEL_ac48e914645e43668b6795b1dfe3bd7c",
            "value": "Downloading (…)solve/main/vocab.txt: 100%"
          }
        },
        "0976c1e50d4643e796e1636a7c1d030e": {
          "model_module": "@jupyter-widgets/controls",
          "model_name": "FloatProgressModel",
          "model_module_version": "1.5.0",
          "state": {
            "_dom_classes": [],
            "_model_module": "@jupyter-widgets/controls",
            "_model_module_version": "1.5.0",
            "_model_name": "FloatProgressModel",
            "_view_count": null,
            "_view_module": "@jupyter-widgets/controls",
            "_view_module_version": "1.5.0",
            "_view_name": "ProgressView",
            "bar_style": "success",
            "description": "",
            "description_tooltip": null,
            "layout": "IPY_MODEL_cbf8977deb554a0eba77b79b51d2d3a1",
            "max": 213450,
            "min": 0,
            "orientation": "horizontal",
            "style": "IPY_MODEL_cfb41a3493d24e52afbfdf124c6bfc20",
            "value": 213450
          }
        },
        "8864ab99a4e346ccbb200a038e62982e": {
          "model_module": "@jupyter-widgets/controls",
          "model_name": "HTMLModel",
          "model_module_version": "1.5.0",
          "state": {
            "_dom_classes": [],
            "_model_module": "@jupyter-widgets/controls",
            "_model_module_version": "1.5.0",
            "_model_name": "HTMLModel",
            "_view_count": null,
            "_view_module": "@jupyter-widgets/controls",
            "_view_module_version": "1.5.0",
            "_view_name": "HTMLView",
            "description": "",
            "description_tooltip": null,
            "layout": "IPY_MODEL_31da470cf0324416b339d07f2b9477df",
            "placeholder": "​",
            "style": "IPY_MODEL_6788d7dd58ec48d2bf5448ab2dfc8144",
            "value": " 213k/213k [00:00&lt;00:00, 6.07MB/s]"
          }
        },
        "71564966a55e46138c5cf4b7057e5016": {
          "model_module": "@jupyter-widgets/base",
          "model_name": "LayoutModel",
          "model_module_version": "1.2.0",
          "state": {
            "_model_module": "@jupyter-widgets/base",
            "_model_module_version": "1.2.0",
            "_model_name": "LayoutModel",
            "_view_count": null,
            "_view_module": "@jupyter-widgets/base",
            "_view_module_version": "1.2.0",
            "_view_name": "LayoutView",
            "align_content": null,
            "align_items": null,
            "align_self": null,
            "border": null,
            "bottom": null,
            "display": null,
            "flex": null,
            "flex_flow": null,
            "grid_area": null,
            "grid_auto_columns": null,
            "grid_auto_flow": null,
            "grid_auto_rows": null,
            "grid_column": null,
            "grid_gap": null,
            "grid_row": null,
            "grid_template_areas": null,
            "grid_template_columns": null,
            "grid_template_rows": null,
            "height": null,
            "justify_content": null,
            "justify_items": null,
            "left": null,
            "margin": null,
            "max_height": null,
            "max_width": null,
            "min_height": null,
            "min_width": null,
            "object_fit": null,
            "object_position": null,
            "order": null,
            "overflow": null,
            "overflow_x": null,
            "overflow_y": null,
            "padding": null,
            "right": null,
            "top": null,
            "visibility": null,
            "width": null
          }
        },
        "3e3875721c08466c89903899d5afd474": {
          "model_module": "@jupyter-widgets/base",
          "model_name": "LayoutModel",
          "model_module_version": "1.2.0",
          "state": {
            "_model_module": "@jupyter-widgets/base",
            "_model_module_version": "1.2.0",
            "_model_name": "LayoutModel",
            "_view_count": null,
            "_view_module": "@jupyter-widgets/base",
            "_view_module_version": "1.2.0",
            "_view_name": "LayoutView",
            "align_content": null,
            "align_items": null,
            "align_self": null,
            "border": null,
            "bottom": null,
            "display": null,
            "flex": null,
            "flex_flow": null,
            "grid_area": null,
            "grid_auto_columns": null,
            "grid_auto_flow": null,
            "grid_auto_rows": null,
            "grid_column": null,
            "grid_gap": null,
            "grid_row": null,
            "grid_template_areas": null,
            "grid_template_columns": null,
            "grid_template_rows": null,
            "height": null,
            "justify_content": null,
            "justify_items": null,
            "left": null,
            "margin": null,
            "max_height": null,
            "max_width": null,
            "min_height": null,
            "min_width": null,
            "object_fit": null,
            "object_position": null,
            "order": null,
            "overflow": null,
            "overflow_x": null,
            "overflow_y": null,
            "padding": null,
            "right": null,
            "top": null,
            "visibility": null,
            "width": null
          }
        },
        "ac48e914645e43668b6795b1dfe3bd7c": {
          "model_module": "@jupyter-widgets/controls",
          "model_name": "DescriptionStyleModel",
          "model_module_version": "1.5.0",
          "state": {
            "_model_module": "@jupyter-widgets/controls",
            "_model_module_version": "1.5.0",
            "_model_name": "DescriptionStyleModel",
            "_view_count": null,
            "_view_module": "@jupyter-widgets/base",
            "_view_module_version": "1.2.0",
            "_view_name": "StyleView",
            "description_width": ""
          }
        },
        "cbf8977deb554a0eba77b79b51d2d3a1": {
          "model_module": "@jupyter-widgets/base",
          "model_name": "LayoutModel",
          "model_module_version": "1.2.0",
          "state": {
            "_model_module": "@jupyter-widgets/base",
            "_model_module_version": "1.2.0",
            "_model_name": "LayoutModel",
            "_view_count": null,
            "_view_module": "@jupyter-widgets/base",
            "_view_module_version": "1.2.0",
            "_view_name": "LayoutView",
            "align_content": null,
            "align_items": null,
            "align_self": null,
            "border": null,
            "bottom": null,
            "display": null,
            "flex": null,
            "flex_flow": null,
            "grid_area": null,
            "grid_auto_columns": null,
            "grid_auto_flow": null,
            "grid_auto_rows": null,
            "grid_column": null,
            "grid_gap": null,
            "grid_row": null,
            "grid_template_areas": null,
            "grid_template_columns": null,
            "grid_template_rows": null,
            "height": null,
            "justify_content": null,
            "justify_items": null,
            "left": null,
            "margin": null,
            "max_height": null,
            "max_width": null,
            "min_height": null,
            "min_width": null,
            "object_fit": null,
            "object_position": null,
            "order": null,
            "overflow": null,
            "overflow_x": null,
            "overflow_y": null,
            "padding": null,
            "right": null,
            "top": null,
            "visibility": null,
            "width": null
          }
        },
        "cfb41a3493d24e52afbfdf124c6bfc20": {
          "model_module": "@jupyter-widgets/controls",
          "model_name": "ProgressStyleModel",
          "model_module_version": "1.5.0",
          "state": {
            "_model_module": "@jupyter-widgets/controls",
            "_model_module_version": "1.5.0",
            "_model_name": "ProgressStyleModel",
            "_view_count": null,
            "_view_module": "@jupyter-widgets/base",
            "_view_module_version": "1.2.0",
            "_view_name": "StyleView",
            "bar_color": null,
            "description_width": ""
          }
        },
        "31da470cf0324416b339d07f2b9477df": {
          "model_module": "@jupyter-widgets/base",
          "model_name": "LayoutModel",
          "model_module_version": "1.2.0",
          "state": {
            "_model_module": "@jupyter-widgets/base",
            "_model_module_version": "1.2.0",
            "_model_name": "LayoutModel",
            "_view_count": null,
            "_view_module": "@jupyter-widgets/base",
            "_view_module_version": "1.2.0",
            "_view_name": "LayoutView",
            "align_content": null,
            "align_items": null,
            "align_self": null,
            "border": null,
            "bottom": null,
            "display": null,
            "flex": null,
            "flex_flow": null,
            "grid_area": null,
            "grid_auto_columns": null,
            "grid_auto_flow": null,
            "grid_auto_rows": null,
            "grid_column": null,
            "grid_gap": null,
            "grid_row": null,
            "grid_template_areas": null,
            "grid_template_columns": null,
            "grid_template_rows": null,
            "height": null,
            "justify_content": null,
            "justify_items": null,
            "left": null,
            "margin": null,
            "max_height": null,
            "max_width": null,
            "min_height": null,
            "min_width": null,
            "object_fit": null,
            "object_position": null,
            "order": null,
            "overflow": null,
            "overflow_x": null,
            "overflow_y": null,
            "padding": null,
            "right": null,
            "top": null,
            "visibility": null,
            "width": null
          }
        },
        "6788d7dd58ec48d2bf5448ab2dfc8144": {
          "model_module": "@jupyter-widgets/controls",
          "model_name": "DescriptionStyleModel",
          "model_module_version": "1.5.0",
          "state": {
            "_model_module": "@jupyter-widgets/controls",
            "_model_module_version": "1.5.0",
            "_model_name": "DescriptionStyleModel",
            "_view_count": null,
            "_view_module": "@jupyter-widgets/base",
            "_view_module_version": "1.2.0",
            "_view_name": "StyleView",
            "description_width": ""
          }
        },
        "f853dc12f9c84ce3bde5e8c28ec79d4f": {
          "model_module": "@jupyter-widgets/controls",
          "model_name": "HBoxModel",
          "model_module_version": "1.5.0",
          "state": {
            "_dom_classes": [],
            "_model_module": "@jupyter-widgets/controls",
            "_model_module_version": "1.5.0",
            "_model_name": "HBoxModel",
            "_view_count": null,
            "_view_module": "@jupyter-widgets/controls",
            "_view_module_version": "1.5.0",
            "_view_name": "HBoxView",
            "box_style": "",
            "children": [
              "IPY_MODEL_d9827fa2974a4857a11f3b7a13c5442c",
              "IPY_MODEL_661125c78a2a4a2ebba08744d5cbf45e",
              "IPY_MODEL_61862d95fa374fe486f82264bcc0a1c3"
            ],
            "layout": "IPY_MODEL_a57f238713d649109f04754dcfd86b9f"
          }
        },
        "d9827fa2974a4857a11f3b7a13c5442c": {
          "model_module": "@jupyter-widgets/controls",
          "model_name": "HTMLModel",
          "model_module_version": "1.5.0",
          "state": {
            "_dom_classes": [],
            "_model_module": "@jupyter-widgets/controls",
            "_model_module_version": "1.5.0",
            "_model_name": "HTMLModel",
            "_view_count": null,
            "_view_module": "@jupyter-widgets/controls",
            "_view_module_version": "1.5.0",
            "_view_name": "HTMLView",
            "description": "",
            "description_tooltip": null,
            "layout": "IPY_MODEL_f48463588da64166a86d158616808c91",
            "placeholder": "​",
            "style": "IPY_MODEL_e4bc9f7ab057403aa72daa2e411746b2",
            "value": "Downloading (…)/main/tokenizer.json: 100%"
          }
        },
        "661125c78a2a4a2ebba08744d5cbf45e": {
          "model_module": "@jupyter-widgets/controls",
          "model_name": "FloatProgressModel",
          "model_module_version": "1.5.0",
          "state": {
            "_dom_classes": [],
            "_model_module": "@jupyter-widgets/controls",
            "_model_module_version": "1.5.0",
            "_model_name": "FloatProgressModel",
            "_view_count": null,
            "_view_module": "@jupyter-widgets/controls",
            "_view_module_version": "1.5.0",
            "_view_name": "ProgressView",
            "bar_style": "success",
            "description": "",
            "description_tooltip": null,
            "layout": "IPY_MODEL_5e4c666bbde24e42b65105a5460cc764",
            "max": 435797,
            "min": 0,
            "orientation": "horizontal",
            "style": "IPY_MODEL_419d46d746194a98b3f8f9d92a003799",
            "value": 435797
          }
        },
        "61862d95fa374fe486f82264bcc0a1c3": {
          "model_module": "@jupyter-widgets/controls",
          "model_name": "HTMLModel",
          "model_module_version": "1.5.0",
          "state": {
            "_dom_classes": [],
            "_model_module": "@jupyter-widgets/controls",
            "_model_module_version": "1.5.0",
            "_model_name": "HTMLModel",
            "_view_count": null,
            "_view_module": "@jupyter-widgets/controls",
            "_view_module_version": "1.5.0",
            "_view_name": "HTMLView",
            "description": "",
            "description_tooltip": null,
            "layout": "IPY_MODEL_476a65d282134e748406dcce65fc48a6",
            "placeholder": "​",
            "style": "IPY_MODEL_d5e45b65ac2f4219ab71390a152311e1",
            "value": " 436k/436k [00:00&lt;00:00, 6.90MB/s]"
          }
        },
        "a57f238713d649109f04754dcfd86b9f": {
          "model_module": "@jupyter-widgets/base",
          "model_name": "LayoutModel",
          "model_module_version": "1.2.0",
          "state": {
            "_model_module": "@jupyter-widgets/base",
            "_model_module_version": "1.2.0",
            "_model_name": "LayoutModel",
            "_view_count": null,
            "_view_module": "@jupyter-widgets/base",
            "_view_module_version": "1.2.0",
            "_view_name": "LayoutView",
            "align_content": null,
            "align_items": null,
            "align_self": null,
            "border": null,
            "bottom": null,
            "display": null,
            "flex": null,
            "flex_flow": null,
            "grid_area": null,
            "grid_auto_columns": null,
            "grid_auto_flow": null,
            "grid_auto_rows": null,
            "grid_column": null,
            "grid_gap": null,
            "grid_row": null,
            "grid_template_areas": null,
            "grid_template_columns": null,
            "grid_template_rows": null,
            "height": null,
            "justify_content": null,
            "justify_items": null,
            "left": null,
            "margin": null,
            "max_height": null,
            "max_width": null,
            "min_height": null,
            "min_width": null,
            "object_fit": null,
            "object_position": null,
            "order": null,
            "overflow": null,
            "overflow_x": null,
            "overflow_y": null,
            "padding": null,
            "right": null,
            "top": null,
            "visibility": null,
            "width": null
          }
        },
        "f48463588da64166a86d158616808c91": {
          "model_module": "@jupyter-widgets/base",
          "model_name": "LayoutModel",
          "model_module_version": "1.2.0",
          "state": {
            "_model_module": "@jupyter-widgets/base",
            "_model_module_version": "1.2.0",
            "_model_name": "LayoutModel",
            "_view_count": null,
            "_view_module": "@jupyter-widgets/base",
            "_view_module_version": "1.2.0",
            "_view_name": "LayoutView",
            "align_content": null,
            "align_items": null,
            "align_self": null,
            "border": null,
            "bottom": null,
            "display": null,
            "flex": null,
            "flex_flow": null,
            "grid_area": null,
            "grid_auto_columns": null,
            "grid_auto_flow": null,
            "grid_auto_rows": null,
            "grid_column": null,
            "grid_gap": null,
            "grid_row": null,
            "grid_template_areas": null,
            "grid_template_columns": null,
            "grid_template_rows": null,
            "height": null,
            "justify_content": null,
            "justify_items": null,
            "left": null,
            "margin": null,
            "max_height": null,
            "max_width": null,
            "min_height": null,
            "min_width": null,
            "object_fit": null,
            "object_position": null,
            "order": null,
            "overflow": null,
            "overflow_x": null,
            "overflow_y": null,
            "padding": null,
            "right": null,
            "top": null,
            "visibility": null,
            "width": null
          }
        },
        "e4bc9f7ab057403aa72daa2e411746b2": {
          "model_module": "@jupyter-widgets/controls",
          "model_name": "DescriptionStyleModel",
          "model_module_version": "1.5.0",
          "state": {
            "_model_module": "@jupyter-widgets/controls",
            "_model_module_version": "1.5.0",
            "_model_name": "DescriptionStyleModel",
            "_view_count": null,
            "_view_module": "@jupyter-widgets/base",
            "_view_module_version": "1.2.0",
            "_view_name": "StyleView",
            "description_width": ""
          }
        },
        "5e4c666bbde24e42b65105a5460cc764": {
          "model_module": "@jupyter-widgets/base",
          "model_name": "LayoutModel",
          "model_module_version": "1.2.0",
          "state": {
            "_model_module": "@jupyter-widgets/base",
            "_model_module_version": "1.2.0",
            "_model_name": "LayoutModel",
            "_view_count": null,
            "_view_module": "@jupyter-widgets/base",
            "_view_module_version": "1.2.0",
            "_view_name": "LayoutView",
            "align_content": null,
            "align_items": null,
            "align_self": null,
            "border": null,
            "bottom": null,
            "display": null,
            "flex": null,
            "flex_flow": null,
            "grid_area": null,
            "grid_auto_columns": null,
            "grid_auto_flow": null,
            "grid_auto_rows": null,
            "grid_column": null,
            "grid_gap": null,
            "grid_row": null,
            "grid_template_areas": null,
            "grid_template_columns": null,
            "grid_template_rows": null,
            "height": null,
            "justify_content": null,
            "justify_items": null,
            "left": null,
            "margin": null,
            "max_height": null,
            "max_width": null,
            "min_height": null,
            "min_width": null,
            "object_fit": null,
            "object_position": null,
            "order": null,
            "overflow": null,
            "overflow_x": null,
            "overflow_y": null,
            "padding": null,
            "right": null,
            "top": null,
            "visibility": null,
            "width": null
          }
        },
        "419d46d746194a98b3f8f9d92a003799": {
          "model_module": "@jupyter-widgets/controls",
          "model_name": "ProgressStyleModel",
          "model_module_version": "1.5.0",
          "state": {
            "_model_module": "@jupyter-widgets/controls",
            "_model_module_version": "1.5.0",
            "_model_name": "ProgressStyleModel",
            "_view_count": null,
            "_view_module": "@jupyter-widgets/base",
            "_view_module_version": "1.2.0",
            "_view_name": "StyleView",
            "bar_color": null,
            "description_width": ""
          }
        },
        "476a65d282134e748406dcce65fc48a6": {
          "model_module": "@jupyter-widgets/base",
          "model_name": "LayoutModel",
          "model_module_version": "1.2.0",
          "state": {
            "_model_module": "@jupyter-widgets/base",
            "_model_module_version": "1.2.0",
            "_model_name": "LayoutModel",
            "_view_count": null,
            "_view_module": "@jupyter-widgets/base",
            "_view_module_version": "1.2.0",
            "_view_name": "LayoutView",
            "align_content": null,
            "align_items": null,
            "align_self": null,
            "border": null,
            "bottom": null,
            "display": null,
            "flex": null,
            "flex_flow": null,
            "grid_area": null,
            "grid_auto_columns": null,
            "grid_auto_flow": null,
            "grid_auto_rows": null,
            "grid_column": null,
            "grid_gap": null,
            "grid_row": null,
            "grid_template_areas": null,
            "grid_template_columns": null,
            "grid_template_rows": null,
            "height": null,
            "justify_content": null,
            "justify_items": null,
            "left": null,
            "margin": null,
            "max_height": null,
            "max_width": null,
            "min_height": null,
            "min_width": null,
            "object_fit": null,
            "object_position": null,
            "order": null,
            "overflow": null,
            "overflow_x": null,
            "overflow_y": null,
            "padding": null,
            "right": null,
            "top": null,
            "visibility": null,
            "width": null
          }
        },
        "d5e45b65ac2f4219ab71390a152311e1": {
          "model_module": "@jupyter-widgets/controls",
          "model_name": "DescriptionStyleModel",
          "model_module_version": "1.5.0",
          "state": {
            "_model_module": "@jupyter-widgets/controls",
            "_model_module_version": "1.5.0",
            "_model_name": "DescriptionStyleModel",
            "_view_count": null,
            "_view_module": "@jupyter-widgets/base",
            "_view_module_version": "1.2.0",
            "_view_name": "StyleView",
            "description_width": ""
          }
        }
      }
    }
  },
  "cells": [
    {
      "cell_type": "markdown",
      "metadata": {
        "id": "view-in-github",
        "colab_type": "text"
      },
      "source": [
        "<a href=\"https://colab.research.google.com/github/JVCarmich0959/CSC228/blob/main/Jackie's_T0_Experimentation.ipynb\" target=\"_parent\"><img src=\"https://colab.research.google.com/assets/colab-badge.svg\" alt=\"Open In Colab\"/></a>"
      ]
    },
    {
      "cell_type": "code",
      "source": [
        "!pip install transformers\n",
        "!pip install datasets\n",
        "!pip install sentencepiece\n",
        "!pip install gradio"
      ],
      "metadata": {
        "colab": {
          "base_uri": "https://localhost:8080/"
        },
        "id": "u7Oc_Gew3MP5",
        "outputId": "76467126-7e3b-45e5-d776-641a3e0dadf5"
      },
      "execution_count": null,
      "outputs": [
        {
          "output_type": "stream",
          "name": "stdout",
          "text": [
            "Looking in indexes: https://pypi.org/simple, https://us-python.pkg.dev/colab-wheels/public/simple/\n",
            "Collecting transformers\n",
            "  Downloading transformers-4.27.4-py3-none-any.whl (6.8 MB)\n",
            "\u001b[2K     \u001b[90m━━━━━━━━━━━━━━━━━━━━━━━━━━━━━━━━━━━━━━━━\u001b[0m \u001b[32m6.8/6.8 MB\u001b[0m \u001b[31m52.6 MB/s\u001b[0m eta \u001b[36m0:00:00\u001b[0m\n",
            "\u001b[?25hRequirement already satisfied: filelock in /usr/local/lib/python3.9/dist-packages (from transformers) (3.10.7)\n",
            "Requirement already satisfied: regex!=2019.12.17 in /usr/local/lib/python3.9/dist-packages (from transformers) (2022.10.31)\n",
            "Requirement already satisfied: pyyaml>=5.1 in /usr/local/lib/python3.9/dist-packages (from transformers) (6.0)\n",
            "Requirement already satisfied: numpy>=1.17 in /usr/local/lib/python3.9/dist-packages (from transformers) (1.22.4)\n",
            "Requirement already satisfied: packaging>=20.0 in /usr/local/lib/python3.9/dist-packages (from transformers) (23.0)\n",
            "Requirement already satisfied: tqdm>=4.27 in /usr/local/lib/python3.9/dist-packages (from transformers) (4.65.0)\n",
            "Collecting huggingface-hub<1.0,>=0.11.0\n",
            "  Downloading huggingface_hub-0.13.4-py3-none-any.whl (200 kB)\n",
            "\u001b[2K     \u001b[90m━━━━━━━━━━━━━━━━━━━━━━━━━━━━━━━━━━━━━━\u001b[0m \u001b[32m200.1/200.1 KB\u001b[0m \u001b[31m18.5 MB/s\u001b[0m eta \u001b[36m0:00:00\u001b[0m\n",
            "\u001b[?25hCollecting tokenizers!=0.11.3,<0.14,>=0.11.1\n",
            "  Downloading tokenizers-0.13.3-cp39-cp39-manylinux_2_17_x86_64.manylinux2014_x86_64.whl (7.8 MB)\n",
            "\u001b[2K     \u001b[90m━━━━━━━━━━━━━━━━━━━━━━━━━━━━━━━━━━━━━━━━\u001b[0m \u001b[32m7.8/7.8 MB\u001b[0m \u001b[31m92.1 MB/s\u001b[0m eta \u001b[36m0:00:00\u001b[0m\n",
            "\u001b[?25hRequirement already satisfied: requests in /usr/local/lib/python3.9/dist-packages (from transformers) (2.27.1)\n",
            "Requirement already satisfied: typing-extensions>=3.7.4.3 in /usr/local/lib/python3.9/dist-packages (from huggingface-hub<1.0,>=0.11.0->transformers) (4.5.0)\n",
            "Requirement already satisfied: urllib3<1.27,>=1.21.1 in /usr/local/lib/python3.9/dist-packages (from requests->transformers) (1.26.15)\n",
            "Requirement already satisfied: idna<4,>=2.5 in /usr/local/lib/python3.9/dist-packages (from requests->transformers) (3.4)\n",
            "Requirement already satisfied: charset-normalizer~=2.0.0 in /usr/local/lib/python3.9/dist-packages (from requests->transformers) (2.0.12)\n",
            "Requirement already satisfied: certifi>=2017.4.17 in /usr/local/lib/python3.9/dist-packages (from requests->transformers) (2022.12.7)\n",
            "Installing collected packages: tokenizers, huggingface-hub, transformers\n",
            "Successfully installed huggingface-hub-0.13.4 tokenizers-0.13.3 transformers-4.27.4\n",
            "Looking in indexes: https://pypi.org/simple, https://us-python.pkg.dev/colab-wheels/public/simple/\n",
            "Collecting datasets\n",
            "  Downloading datasets-2.11.0-py3-none-any.whl (468 kB)\n",
            "\u001b[2K     \u001b[90m━━━━━━━━━━━━━━━━━━━━━━━━━━━━━━━━━━━━━━━\u001b[0m \u001b[32m468.7/468.7 KB\u001b[0m \u001b[31m8.6 MB/s\u001b[0m eta \u001b[36m0:00:00\u001b[0m\n",
            "\u001b[?25hRequirement already satisfied: pyarrow>=8.0.0 in /usr/local/lib/python3.9/dist-packages (from datasets) (9.0.0)\n",
            "Requirement already satisfied: fsspec[http]>=2021.11.1 in /usr/local/lib/python3.9/dist-packages (from datasets) (2023.3.0)\n",
            "Collecting aiohttp\n",
            "  Downloading aiohttp-3.8.4-cp39-cp39-manylinux_2_17_x86_64.manylinux2014_x86_64.whl (1.0 MB)\n",
            "\u001b[2K     \u001b[90m━━━━━━━━━━━━━━━━━━━━━━━━━━━━━━━━━━━━━━━━\u001b[0m \u001b[32m1.0/1.0 MB\u001b[0m \u001b[31m8.7 MB/s\u001b[0m eta \u001b[36m0:00:00\u001b[0m\n",
            "\u001b[?25hRequirement already satisfied: pyyaml>=5.1 in /usr/local/lib/python3.9/dist-packages (from datasets) (6.0)\n",
            "Collecting xxhash\n",
            "  Downloading xxhash-3.2.0-cp39-cp39-manylinux_2_17_x86_64.manylinux2014_x86_64.whl (212 kB)\n",
            "\u001b[2K     \u001b[90m━━━━━━━━━━━━━━━━━━━━━━━━━━━━━━━━━━━━━━\u001b[0m \u001b[32m212.2/212.2 KB\u001b[0m \u001b[31m26.4 MB/s\u001b[0m eta \u001b[36m0:00:00\u001b[0m\n",
            "\u001b[?25hCollecting multiprocess\n",
            "  Downloading multiprocess-0.70.14-py39-none-any.whl (132 kB)\n",
            "\u001b[2K     \u001b[90m━━━━━━━━━━━━━━━━━━━━━━━━━━━━━━━━━━━━━━\u001b[0m \u001b[32m132.9/132.9 KB\u001b[0m \u001b[31m17.8 MB/s\u001b[0m eta \u001b[36m0:00:00\u001b[0m\n",
            "\u001b[?25hRequirement already satisfied: numpy>=1.17 in /usr/local/lib/python3.9/dist-packages (from datasets) (1.22.4)\n",
            "Requirement already satisfied: requests>=2.19.0 in /usr/local/lib/python3.9/dist-packages (from datasets) (2.27.1)\n",
            "Requirement already satisfied: tqdm>=4.62.1 in /usr/local/lib/python3.9/dist-packages (from datasets) (4.65.0)\n",
            "Collecting dill<0.3.7,>=0.3.0\n",
            "  Downloading dill-0.3.6-py3-none-any.whl (110 kB)\n",
            "\u001b[2K     \u001b[90m━━━━━━━━━━━━━━━━━━━━━━━━━━━━━━━━━━━━━━\u001b[0m \u001b[32m110.5/110.5 KB\u001b[0m \u001b[31m15.7 MB/s\u001b[0m eta \u001b[36m0:00:00\u001b[0m\n",
            "\u001b[?25hRequirement already satisfied: packaging in /usr/local/lib/python3.9/dist-packages (from datasets) (23.0)\n",
            "Requirement already satisfied: pandas in /usr/local/lib/python3.9/dist-packages (from datasets) (1.4.4)\n",
            "Collecting responses<0.19\n",
            "  Downloading responses-0.18.0-py3-none-any.whl (38 kB)\n",
            "Requirement already satisfied: huggingface-hub<1.0.0,>=0.11.0 in /usr/local/lib/python3.9/dist-packages (from datasets) (0.13.4)\n",
            "Collecting async-timeout<5.0,>=4.0.0a3\n",
            "  Downloading async_timeout-4.0.2-py3-none-any.whl (5.8 kB)\n",
            "Collecting aiosignal>=1.1.2\n",
            "  Downloading aiosignal-1.3.1-py3-none-any.whl (7.6 kB)\n",
            "Collecting frozenlist>=1.1.1\n",
            "  Downloading frozenlist-1.3.3-cp39-cp39-manylinux_2_5_x86_64.manylinux1_x86_64.manylinux_2_17_x86_64.manylinux2014_x86_64.whl (158 kB)\n",
            "\u001b[2K     \u001b[90m━━━━━━━━━━━━━━━━━━━━━━━━━━━━━━━━━━━━━━\u001b[0m \u001b[32m158.8/158.8 KB\u001b[0m \u001b[31m22.3 MB/s\u001b[0m eta \u001b[36m0:00:00\u001b[0m\n",
            "\u001b[?25hRequirement already satisfied: charset-normalizer<4.0,>=2.0 in /usr/local/lib/python3.9/dist-packages (from aiohttp->datasets) (2.0.12)\n",
            "Collecting yarl<2.0,>=1.0\n",
            "  Downloading yarl-1.8.2-cp39-cp39-manylinux_2_17_x86_64.manylinux2014_x86_64.whl (264 kB)\n",
            "\u001b[2K     \u001b[90m━━━━━━━━━━━━━━━━━━━━━━━━━━━━━━━━━━━━━━\u001b[0m \u001b[32m264.6/264.6 KB\u001b[0m \u001b[31m32.0 MB/s\u001b[0m eta \u001b[36m0:00:00\u001b[0m\n",
            "\u001b[?25hRequirement already satisfied: attrs>=17.3.0 in /usr/local/lib/python3.9/dist-packages (from aiohttp->datasets) (22.2.0)\n",
            "Collecting multidict<7.0,>=4.5\n",
            "  Downloading multidict-6.0.4-cp39-cp39-manylinux_2_17_x86_64.manylinux2014_x86_64.whl (114 kB)\n",
            "\u001b[2K     \u001b[90m━━━━━━━━━━━━━━━━━━━━━━━━━━━━━━━━━━━━━━\u001b[0m \u001b[32m114.2/114.2 KB\u001b[0m \u001b[31m14.9 MB/s\u001b[0m eta \u001b[36m0:00:00\u001b[0m\n",
            "\u001b[?25hRequirement already satisfied: typing-extensions>=3.7.4.3 in /usr/local/lib/python3.9/dist-packages (from huggingface-hub<1.0.0,>=0.11.0->datasets) (4.5.0)\n",
            "Requirement already satisfied: filelock in /usr/local/lib/python3.9/dist-packages (from huggingface-hub<1.0.0,>=0.11.0->datasets) (3.10.7)\n",
            "Requirement already satisfied: idna<4,>=2.5 in /usr/local/lib/python3.9/dist-packages (from requests>=2.19.0->datasets) (3.4)\n",
            "Requirement already satisfied: urllib3<1.27,>=1.21.1 in /usr/local/lib/python3.9/dist-packages (from requests>=2.19.0->datasets) (1.26.15)\n",
            "Requirement already satisfied: certifi>=2017.4.17 in /usr/local/lib/python3.9/dist-packages (from requests>=2.19.0->datasets) (2022.12.7)\n",
            "Requirement already satisfied: python-dateutil>=2.8.1 in /usr/local/lib/python3.9/dist-packages (from pandas->datasets) (2.8.2)\n",
            "Requirement already satisfied: pytz>=2020.1 in /usr/local/lib/python3.9/dist-packages (from pandas->datasets) (2022.7.1)\n",
            "Requirement already satisfied: six>=1.5 in /usr/local/lib/python3.9/dist-packages (from python-dateutil>=2.8.1->pandas->datasets) (1.16.0)\n",
            "Installing collected packages: xxhash, multidict, frozenlist, dill, async-timeout, yarl, responses, multiprocess, aiosignal, aiohttp, datasets\n",
            "Successfully installed aiohttp-3.8.4 aiosignal-1.3.1 async-timeout-4.0.2 datasets-2.11.0 dill-0.3.6 frozenlist-1.3.3 multidict-6.0.4 multiprocess-0.70.14 responses-0.18.0 xxhash-3.2.0 yarl-1.8.2\n",
            "Looking in indexes: https://pypi.org/simple, https://us-python.pkg.dev/colab-wheels/public/simple/\n",
            "Collecting sentencepiece\n",
            "  Downloading sentencepiece-0.1.97-cp39-cp39-manylinux_2_17_x86_64.manylinux2014_x86_64.whl (1.3 MB)\n",
            "\u001b[2K     \u001b[90m━━━━━━━━━━━━━━━━━━━━━━━━━━━━━━━━━━━━━━━━\u001b[0m \u001b[32m1.3/1.3 MB\u001b[0m \u001b[31m19.7 MB/s\u001b[0m eta \u001b[36m0:00:00\u001b[0m\n",
            "\u001b[?25hInstalling collected packages: sentencepiece\n",
            "Successfully installed sentencepiece-0.1.97\n",
            "Looking in indexes: https://pypi.org/simple, https://us-python.pkg.dev/colab-wheels/public/simple/\n",
            "Collecting gradio\n",
            "  Downloading gradio-3.24.1-py3-none-any.whl (15.7 MB)\n",
            "\u001b[2K     \u001b[90m━━━━━━━━━━━━━━━━━━━━━━━━━━━━━━━━━━━━━━━━\u001b[0m \u001b[32m15.7/15.7 MB\u001b[0m \u001b[31m84.3 MB/s\u001b[0m eta \u001b[36m0:00:00\u001b[0m\n",
            "\u001b[?25hRequirement already satisfied: pyyaml in /usr/local/lib/python3.9/dist-packages (from gradio) (6.0)\n",
            "Collecting ffmpy\n",
            "  Downloading ffmpy-0.3.0.tar.gz (4.8 kB)\n",
            "  Preparing metadata (setup.py) ... \u001b[?25l\u001b[?25hdone\n",
            "Requirement already satisfied: pandas in /usr/local/lib/python3.9/dist-packages (from gradio) (1.4.4)\n",
            "Requirement already satisfied: markdown-it-py[linkify]>=2.0.0 in /usr/local/lib/python3.9/dist-packages (from gradio) (2.2.0)\n",
            "Requirement already satisfied: numpy in /usr/local/lib/python3.9/dist-packages (from gradio) (1.22.4)\n",
            "Collecting uvicorn\n",
            "  Downloading uvicorn-0.21.1-py3-none-any.whl (57 kB)\n",
            "\u001b[2K     \u001b[90m━━━━━━━━━━━━━━━━━━━━━━━━━━━━━━━━━━━━━━━━\u001b[0m \u001b[32m57.8/57.8 KB\u001b[0m \u001b[31m8.2 MB/s\u001b[0m eta \u001b[36m0:00:00\u001b[0m\n",
            "\u001b[?25hCollecting orjson\n",
            "  Downloading orjson-3.8.9-cp39-cp39-manylinux_2_28_x86_64.whl (144 kB)\n",
            "\u001b[2K     \u001b[90m━━━━━━━━━━━━━━━━━━━━━━━━━━━━━━━━━━━━━━\u001b[0m \u001b[32m144.1/144.1 KB\u001b[0m \u001b[31m18.9 MB/s\u001b[0m eta \u001b[36m0:00:00\u001b[0m\n",
            "\u001b[?25hRequirement already satisfied: matplotlib in /usr/local/lib/python3.9/dist-packages (from gradio) (3.7.1)\n",
            "Requirement already satisfied: huggingface-hub>=0.13.0 in /usr/local/lib/python3.9/dist-packages (from gradio) (0.13.4)\n",
            "Requirement already satisfied: markupsafe in /usr/local/lib/python3.9/dist-packages (from gradio) (2.1.2)\n",
            "Collecting pydub\n",
            "  Downloading pydub-0.25.1-py2.py3-none-any.whl (32 kB)\n",
            "Requirement already satisfied: jinja2 in /usr/local/lib/python3.9/dist-packages (from gradio) (3.1.2)\n",
            "Collecting aiofiles\n",
            "  Downloading aiofiles-23.1.0-py3-none-any.whl (14 kB)\n",
            "Collecting semantic-version\n",
            "  Downloading semantic_version-2.10.0-py2.py3-none-any.whl (15 kB)\n",
            "Requirement already satisfied: altair>=4.2.0 in /usr/local/lib/python3.9/dist-packages (from gradio) (4.2.2)\n",
            "Requirement already satisfied: typing-extensions in /usr/local/lib/python3.9/dist-packages (from gradio) (4.5.0)\n",
            "Requirement already satisfied: requests in /usr/local/lib/python3.9/dist-packages (from gradio) (2.27.1)\n",
            "Collecting fastapi\n",
            "  Downloading fastapi-0.95.0-py3-none-any.whl (57 kB)\n",
            "\u001b[2K     \u001b[90m━━━━━━━━━━━━━━━━━━━━━━━━━━━━━━━━━━━━━━━━\u001b[0m \u001b[32m57.1/57.1 KB\u001b[0m \u001b[31m7.4 MB/s\u001b[0m eta \u001b[36m0:00:00\u001b[0m\n",
            "\u001b[?25hCollecting gradio-client>=0.0.5\n",
            "  Downloading gradio_client-0.0.8-py3-none-any.whl (20 kB)\n",
            "Collecting websockets>=10.0\n",
            "  Downloading websockets-11.0.1-cp39-cp39-manylinux_2_5_x86_64.manylinux1_x86_64.manylinux_2_17_x86_64.manylinux2014_x86_64.whl (129 kB)\n",
            "\u001b[2K     \u001b[90m━━━━━━━━━━━━━━━━━━━━━━━━━━━━━━━━━━━━━━\u001b[0m \u001b[32m129.5/129.5 KB\u001b[0m \u001b[31m17.4 MB/s\u001b[0m eta \u001b[36m0:00:00\u001b[0m\n",
            "\u001b[?25hRequirement already satisfied: pydantic in /usr/local/lib/python3.9/dist-packages (from gradio) (1.10.7)\n",
            "Collecting python-multipart\n",
            "  Downloading python_multipart-0.0.6-py3-none-any.whl (45 kB)\n",
            "\u001b[2K     \u001b[90m━━━━━━━━━━━━━━━━━━━━━━━━━━━━━━━━━━━━━━━━\u001b[0m \u001b[32m45.7/45.7 KB\u001b[0m \u001b[31m6.1 MB/s\u001b[0m eta \u001b[36m0:00:00\u001b[0m\n",
            "\u001b[?25hRequirement already satisfied: aiohttp in /usr/local/lib/python3.9/dist-packages (from gradio) (3.8.4)\n",
            "Requirement already satisfied: pillow in /usr/local/lib/python3.9/dist-packages (from gradio) (8.4.0)\n",
            "Collecting mdit-py-plugins<=0.3.3\n",
            "  Downloading mdit_py_plugins-0.3.3-py3-none-any.whl (50 kB)\n",
            "\u001b[2K     \u001b[90m━━━━━━━━━━━━━━━━━━━━━━━━━━━━━━━━━━━━━━━━\u001b[0m \u001b[32m50.5/50.5 KB\u001b[0m \u001b[31m7.4 MB/s\u001b[0m eta \u001b[36m0:00:00\u001b[0m\n",
            "\u001b[?25hCollecting httpx\n",
            "  Downloading httpx-0.23.3-py3-none-any.whl (71 kB)\n",
            "\u001b[2K     \u001b[90m━━━━━━━━━━━━━━━━━━━━━━━━━━━━━━━━━━━━━━━━\u001b[0m \u001b[32m71.5/71.5 KB\u001b[0m \u001b[31m10.2 MB/s\u001b[0m eta \u001b[36m0:00:00\u001b[0m\n",
            "\u001b[?25hRequirement already satisfied: toolz in /usr/local/lib/python3.9/dist-packages (from altair>=4.2.0->gradio) (0.12.0)\n",
            "Requirement already satisfied: entrypoints in /usr/local/lib/python3.9/dist-packages (from altair>=4.2.0->gradio) (0.4)\n",
            "Requirement already satisfied: jsonschema>=3.0 in /usr/local/lib/python3.9/dist-packages (from altair>=4.2.0->gradio) (4.3.3)\n",
            "Requirement already satisfied: fsspec in /usr/local/lib/python3.9/dist-packages (from gradio-client>=0.0.5->gradio) (2023.3.0)\n",
            "Requirement already satisfied: packaging in /usr/local/lib/python3.9/dist-packages (from gradio-client>=0.0.5->gradio) (23.0)\n",
            "Requirement already satisfied: tqdm>=4.42.1 in /usr/local/lib/python3.9/dist-packages (from huggingface-hub>=0.13.0->gradio) (4.65.0)\n",
            "Requirement already satisfied: filelock in /usr/local/lib/python3.9/dist-packages (from huggingface-hub>=0.13.0->gradio) (3.10.7)\n",
            "Requirement already satisfied: mdurl~=0.1 in /usr/local/lib/python3.9/dist-packages (from markdown-it-py[linkify]>=2.0.0->gradio) (0.1.2)\n",
            "Collecting linkify-it-py<3,>=1\n",
            "  Downloading linkify_it_py-2.0.0-py3-none-any.whl (19 kB)\n",
            "Requirement already satisfied: pytz>=2020.1 in /usr/local/lib/python3.9/dist-packages (from pandas->gradio) (2022.7.1)\n",
            "Requirement already satisfied: python-dateutil>=2.8.1 in /usr/local/lib/python3.9/dist-packages (from pandas->gradio) (2.8.2)\n",
            "Requirement already satisfied: aiosignal>=1.1.2 in /usr/local/lib/python3.9/dist-packages (from aiohttp->gradio) (1.3.1)\n",
            "Requirement already satisfied: yarl<2.0,>=1.0 in /usr/local/lib/python3.9/dist-packages (from aiohttp->gradio) (1.8.2)\n",
            "Requirement already satisfied: frozenlist>=1.1.1 in /usr/local/lib/python3.9/dist-packages (from aiohttp->gradio) (1.3.3)\n",
            "Requirement already satisfied: attrs>=17.3.0 in /usr/local/lib/python3.9/dist-packages (from aiohttp->gradio) (22.2.0)\n",
            "Requirement already satisfied: charset-normalizer<4.0,>=2.0 in /usr/local/lib/python3.9/dist-packages (from aiohttp->gradio) (2.0.12)\n",
            "Requirement already satisfied: multidict<7.0,>=4.5 in /usr/local/lib/python3.9/dist-packages (from aiohttp->gradio) (6.0.4)\n",
            "Requirement already satisfied: async-timeout<5.0,>=4.0.0a3 in /usr/local/lib/python3.9/dist-packages (from aiohttp->gradio) (4.0.2)\n",
            "Collecting starlette<0.27.0,>=0.26.1\n",
            "  Downloading starlette-0.26.1-py3-none-any.whl (66 kB)\n",
            "\u001b[2K     \u001b[90m━━━━━━━━━━━━━━━━━━━━━━━━━━━━━━━━━━━━━━━━\u001b[0m \u001b[32m66.9/66.9 KB\u001b[0m \u001b[31m9.5 MB/s\u001b[0m eta \u001b[36m0:00:00\u001b[0m\n",
            "\u001b[?25hCollecting rfc3986[idna2008]<2,>=1.3\n",
            "  Downloading rfc3986-1.5.0-py2.py3-none-any.whl (31 kB)\n",
            "Requirement already satisfied: sniffio in /usr/local/lib/python3.9/dist-packages (from httpx->gradio) (1.3.0)\n",
            "Collecting httpcore<0.17.0,>=0.15.0\n",
            "  Downloading httpcore-0.16.3-py3-none-any.whl (69 kB)\n",
            "\u001b[2K     \u001b[90m━━━━━━━━━━━━━━━━━━━━━━━━━━━━━━━━━━━━━━━━\u001b[0m \u001b[32m69.6/69.6 KB\u001b[0m \u001b[31m9.7 MB/s\u001b[0m eta \u001b[36m0:00:00\u001b[0m\n",
            "\u001b[?25hRequirement already satisfied: certifi in /usr/local/lib/python3.9/dist-packages (from httpx->gradio) (2022.12.7)\n",
            "Requirement already satisfied: importlib-resources>=3.2.0 in /usr/local/lib/python3.9/dist-packages (from matplotlib->gradio) (5.12.0)\n",
            "Requirement already satisfied: contourpy>=1.0.1 in /usr/local/lib/python3.9/dist-packages (from matplotlib->gradio) (1.0.7)\n",
            "Requirement already satisfied: kiwisolver>=1.0.1 in /usr/local/lib/python3.9/dist-packages (from matplotlib->gradio) (1.4.4)\n",
            "Requirement already satisfied: cycler>=0.10 in /usr/local/lib/python3.9/dist-packages (from matplotlib->gradio) (0.11.0)\n",
            "Requirement already satisfied: pyparsing>=2.3.1 in /usr/local/lib/python3.9/dist-packages (from matplotlib->gradio) (3.0.9)\n",
            "Requirement already satisfied: fonttools>=4.22.0 in /usr/local/lib/python3.9/dist-packages (from matplotlib->gradio) (4.39.3)\n",
            "Requirement already satisfied: idna<4,>=2.5 in /usr/local/lib/python3.9/dist-packages (from requests->gradio) (3.4)\n",
            "Requirement already satisfied: urllib3<1.27,>=1.21.1 in /usr/local/lib/python3.9/dist-packages (from requests->gradio) (1.26.15)\n",
            "Collecting h11>=0.8\n",
            "  Downloading h11-0.14.0-py3-none-any.whl (58 kB)\n",
            "\u001b[2K     \u001b[90m━━━━━━━━━━━━━━━━━━━━━━━━━━━━━━━━━━━━━━━━\u001b[0m \u001b[32m58.3/58.3 KB\u001b[0m \u001b[31m8.9 MB/s\u001b[0m eta \u001b[36m0:00:00\u001b[0m\n",
            "\u001b[?25hRequirement already satisfied: click>=7.0 in /usr/local/lib/python3.9/dist-packages (from uvicorn->gradio) (8.1.3)\n",
            "Requirement already satisfied: anyio<5.0,>=3.0 in /usr/local/lib/python3.9/dist-packages (from httpcore<0.17.0,>=0.15.0->httpx->gradio) (3.6.2)\n",
            "Requirement already satisfied: zipp>=3.1.0 in /usr/local/lib/python3.9/dist-packages (from importlib-resources>=3.2.0->matplotlib->gradio) (3.15.0)\n",
            "Requirement already satisfied: pyrsistent!=0.17.0,!=0.17.1,!=0.17.2,>=0.14.0 in /usr/local/lib/python3.9/dist-packages (from jsonschema>=3.0->altair>=4.2.0->gradio) (0.19.3)\n",
            "Collecting uc-micro-py\n",
            "  Downloading uc_micro_py-1.0.1-py3-none-any.whl (6.2 kB)\n",
            "Requirement already satisfied: six>=1.5 in /usr/local/lib/python3.9/dist-packages (from python-dateutil>=2.8.1->pandas->gradio) (1.16.0)\n",
            "Building wheels for collected packages: ffmpy\n",
            "  Building wheel for ffmpy (setup.py) ... \u001b[?25l\u001b[?25hdone\n",
            "  Created wheel for ffmpy: filename=ffmpy-0.3.0-py3-none-any.whl size=4707 sha256=f0f813008aace0e1c6d7ac4b368b541dad25ae0737b319f88bddbb265d57a824\n",
            "  Stored in directory: /root/.cache/pip/wheels/91/e2/96/f676aa08bfd789328c6576cd0f1fde4a3d686703bb0c247697\n",
            "Successfully built ffmpy\n",
            "Installing collected packages: rfc3986, pydub, ffmpy, websockets, uc-micro-py, semantic-version, python-multipart, orjson, h11, aiofiles, uvicorn, starlette, mdit-py-plugins, linkify-it-py, httpcore, httpx, gradio-client, fastapi, gradio\n",
            "Successfully installed aiofiles-23.1.0 fastapi-0.95.0 ffmpy-0.3.0 gradio-3.24.1 gradio-client-0.0.8 h11-0.14.0 httpcore-0.16.3 httpx-0.23.3 linkify-it-py-2.0.0 mdit-py-plugins-0.3.3 orjson-3.8.9 pydub-0.25.1 python-multipart-0.0.6 rfc3986-1.5.0 semantic-version-2.10.0 starlette-0.26.1 uc-micro-py-1.0.1 uvicorn-0.21.1 websockets-11.0.1\n"
          ]
        }
      ]
    },
    {
      "cell_type": "code",
      "source": [
        "import transformers\n",
        "from transformers import pipeline\n",
        "import numpy as np\n",
        "import pandas as pd\n",
        "from datasets import DatasetDict\n",
        "from datasets import load_dataset\n",
        "import pprint\n",
        "from typing import List\n"
      ],
      "metadata": {
        "id": "OiDNcB8t2-wx"
      },
      "execution_count": null,
      "outputs": []
    },
    {
      "cell_type": "markdown",
      "source": [
        "# Loading in my Dataset:\n",
        "\n",
        "\n"
      ],
      "metadata": {
        "id": "Sk35tZ9iHtGS"
      }
    },
    {
      "cell_type": "code",
      "source": [
        "# Load the CSV file from the URL using pandas\n",
        "url = \"https://raw.githubusercontent.com/JVCarmich0959/CSC228/main/Sample_Questions.csv\"\n",
        "df = pd.read_csv(url)"
      ],
      "metadata": {
        "id": "gZdha7Dp3h0v"
      },
      "execution_count": null,
      "outputs": []
    },
    {
      "cell_type": "markdown",
      "source": [
        " # Defining a \"QuestionAnsweringSystem\":\n",
        "\n",
        "In the \"init\" function, it initializes two pipelines from the transformers library:\n",
        "\n",
        "* \"bigscience/T0_3B\" model - This pipeline is designed to generate text in response to a given prompt. \n",
        "\n",
        "\n",
        "* \"question-answering\"(distilbert-base-cased-distilled-squad): used for extracting answers from a given context and question.\n",
        "\n",
        "\n",
        "My theory was that by harnessing both the powers of extractive, and generative pipelines I would end up with a question answering system can **leverage the strengths of each pipeline and provide a more robust and accurate answers to a wider range of questions.** For example, the \"text2text-generation\" pipeline can be used to generate multiple possible answers to a more complex question, while the \"question-answering\" pipeline can be used to extract a specific answer to a more factual question.\n",
        "\n",
        "TL;DR: Supervised + Unsupervised = Better Model"
      ],
      "metadata": {
        "id": "qJxv9nZsmVJs"
      }
    },
    {
      "cell_type": "code",
      "source": [
        "class QuestionAnsweringSystem:\n",
        "    def __init__(self):\n",
        "        self.text_generation = pipeline(\"text2text-generation\", model=\"bigscience/T0_3B\")\n",
        "        self.extractive_qa = pipeline(\"question-answering\")\n",
        "\n",
        "    def generate_answers(self, questions, contexts):\n",
        "        responses = []\n",
        "        for question, context in zip(questions, contexts):\n",
        "            prompt = f\"Context: {context}\\nAnswer the question: {question}\"\n",
        "            response = self.text_generation(prompt, max_length=600, do_sample=True, num_return_sequences=3, temperature=0.7)\n",
        "\n",
        "            # Select the best answer (this example simply chooses the first one)\n",
        "            answer = response[0]['generated_text'].replace(prompt, '').strip()\n",
        "            responses.append(answer)\n",
        "        return responses"
      ],
      "metadata": {
        "id": "C5BIo6JF3pPP"
      },
      "execution_count": null,
      "outputs": []
    },
    {
      "cell_type": "code",
      "source": [
        "questions = df['question'].tolist() # converting the data from the DataFrame into a list\n",
        "contexts = df['context'].tolist()\n",
        "\n",
        "qa_system = QuestionAnsweringSystem() # intialize our class\n",
        "responses = qa_system.generate_answers(questions, contexts) # generate a list of responses"
      ],
      "metadata": {
        "colab": {
          "base_uri": "https://localhost:8080/",
          "height": 691,
          "referenced_widgets": [
            "b95ba3143ecc45bcb456ecd232dd6b3a",
            "7f54aa462b864e2e9c7a7070875073a2",
            "8cd9aa09f2ab43378a85125e6dd8ad2f",
            "5c71bb3508b34cba8e4a5a10defabb8d",
            "2d369b278c5a4133a926481aa4b6b04e",
            "d567aedbc12a4d76b97ce9e7607a46e6",
            "3996e3de7dc748b6b68604df19c18fdc",
            "e557a74878bc4d7dad55b9d39ad6fc76",
            "b0bf317acb2244bb902564b4425c2234",
            "2ffea1ab9cbb4b51b7c4645d3a7e166a",
            "05c7e7e0a759414b8ed9b777b39c56b4",
            "ccad40145c8d4e1ab88146ad6f6ee14c",
            "4630bf4f11344988af8b242fbc9f62da",
            "ce320b398e6041b499e80500837e6875",
            "c2358191a5ab405eb40e6f22efe3fbe1",
            "40f409f79a164aacb4040b2b258dd012",
            "2c937f60842f491e83e9601fc6f4fdfb",
            "2ab4b71c0309492192d315f07e6c7787",
            "c0472dc4ca8a4d72a4eb9f3dd4a98532",
            "7eeaeaefeb604be7baf8f3eaa4d72ddf",
            "7ceb1e27fc4c4ec1a90d3a801c68fae8",
            "3035e7ba67124a49af6452f78c31551b",
            "dbee86eef1b143569e1d636f36e8dcc4",
            "8fcdd9562d364255b5df2f5de5acc58b",
            "d45ea3798d404fa384866e9c6ffba9db",
            "935a4d49875d43b8b1ee489eaa241313",
            "244b7e248650472f9c7c1ffcdca3c89b",
            "125f6ddc550c45fa98d7b819e11e3853",
            "d7945c9916f9400fb45c75b937e7f989",
            "c9828f64750f432c878cd944a1e135a2",
            "39ae36574d994211b5315bd08cfdfd0d",
            "ae657a493cab44f7bc74e1deafba53bb",
            "d64fbc4ac5524eba962620085c56b34f",
            "8114f3a659dc471dbc749b3f4cfb85db",
            "fb8e8eea137d4cf3b8882ea5cb5e199e",
            "5be67d7c2e9d4f77b9ab0d0b1eb12dcc",
            "e66f68939e8e4d28b05936273bc0a19c",
            "a9636b44234e4519bbe075921f8b2bf9",
            "56878b29a9f14891b390d9c04aa7917c",
            "eb7acf984d1c4d8b970fd6a7742e44a1",
            "a6b4205f9805420aad90ef92d4920758",
            "682035b960134ee0ac2db28f70fb1171",
            "717d7ec180214c22bf984cd847cb2678",
            "51b0298e66004f10ac15bc4ddf3c65d6",
            "6b2adce97d7e4bff90ff936619bdb5d2",
            "22b9e22c63644a65acf21b4f9ee99520",
            "ad02dfc05f744345aeafc6bd0528d01c",
            "40e0ff539c664f659ce7a0f574b58c0c",
            "2d270def9b394719b7c0c531c290c5bc",
            "ac22a14a413746718b0dc66b5bb70ac5",
            "79411b7d4b0746bfa42b7335f3b83675",
            "18bdced908cf43f4a9ccd869cdba21eb",
            "1eba4cf2e18049beaaab4080d7a0efd4",
            "bd94ad93828b422391b846dbe7246bb6",
            "4beab5f9a06c42c7a0fc7b79ea25d51a",
            "e4c4db645dcc4853bbe8fcfdff03f378",
            "40fb746fc8434a0bad832c6381ec841e",
            "557e0c529b31451eb09f6dab87bf9689",
            "e41123356ab644bd997d4487f842052f",
            "77826693981f4633b21a0e185e67bd33",
            "da07771fc8834160b59e2a3871442798",
            "0ea3be0ad95f499eb221a2d3aace80ee",
            "986b3402f9b648758cd1b0fe84e4fb13",
            "bffc424ea75b448785525358c8db213f",
            "a62eaf84755d4930a3a80ea8f9e4ccc9",
            "89bb91a463f541618f396bca70aea8ec",
            "98d1c0d1538c4d63928a119597790a83",
            "3d4df2ba5a5f4e26bdb2a7f0a2d3c307",
            "2492b0b05c8c4437b992316e28bd6c26",
            "52d20b6f4c6342c18ffb37f5371aa08b",
            "c26bab3c65b54a028a64d969da0c7d53",
            "9879cd369ec2474aa46531d33d0dfbd3",
            "e45b1af160ba40b2a191365cd90975a5",
            "f700b68f239a446ea9bd3a0a16c5a4c6",
            "e86fe14323c6429d895636992fdbb58e",
            "8a5f0f9414f44b9c8aadf1707254f606",
            "d8cf2a6dc629420480b5573bc284ed17",
            "fe78529a4d7c4c9eb9af3522f76fc6bb",
            "406b36a75d384c44bf9bdbc58fbf5557",
            "7e77cbc7820e4b78913b85fbcf927ee7",
            "2b141a3a7bc0429f8ac1436cc99032db",
            "72b031975fc04320aab97462d0dfcbbf",
            "0dfcb4731580474b9953c1eace54721d",
            "391a3bbb6d304d388b47fdb7cc08fbc8",
            "cfa70ad4351846f2bcc58b2ea3b891ac",
            "6e80ed76b52f4e59a872e54b4c2f250d",
            "22bcb2c6d6a94026903fbb778464c7bd",
            "f0a89e883be84c5f817029d1dd29f37a",
            "0ec40ddc3d734f71b763efaaab171345",
            "041e9d7a16744d8092c44a52e336de3a",
            "0976c1e50d4643e796e1636a7c1d030e",
            "8864ab99a4e346ccbb200a038e62982e",
            "71564966a55e46138c5cf4b7057e5016",
            "3e3875721c08466c89903899d5afd474",
            "ac48e914645e43668b6795b1dfe3bd7c",
            "cbf8977deb554a0eba77b79b51d2d3a1",
            "cfb41a3493d24e52afbfdf124c6bfc20",
            "31da470cf0324416b339d07f2b9477df",
            "6788d7dd58ec48d2bf5448ab2dfc8144",
            "f853dc12f9c84ce3bde5e8c28ec79d4f",
            "d9827fa2974a4857a11f3b7a13c5442c",
            "661125c78a2a4a2ebba08744d5cbf45e",
            "61862d95fa374fe486f82264bcc0a1c3",
            "a57f238713d649109f04754dcfd86b9f",
            "f48463588da64166a86d158616808c91",
            "e4bc9f7ab057403aa72daa2e411746b2",
            "5e4c666bbde24e42b65105a5460cc764",
            "419d46d746194a98b3f8f9d92a003799",
            "476a65d282134e748406dcce65fc48a6",
            "d5e45b65ac2f4219ab71390a152311e1"
          ]
        },
        "id": "CwMH-3V63-DP",
        "outputId": "601eaca1-ea10-4410-f4d6-5323a88a698b"
      },
      "execution_count": null,
      "outputs": [
        {
          "output_type": "display_data",
          "data": {
            "text/plain": [
              "Downloading (…)lve/main/config.json:   0%|          | 0.00/632 [00:00<?, ?B/s]"
            ],
            "application/vnd.jupyter.widget-view+json": {
              "version_major": 2,
              "version_minor": 0,
              "model_id": "b95ba3143ecc45bcb456ecd232dd6b3a"
            }
          },
          "metadata": {}
        },
        {
          "output_type": "display_data",
          "data": {
            "text/plain": [
              "Downloading pytorch_model.bin:   0%|          | 0.00/11.4G [00:00<?, ?B/s]"
            ],
            "application/vnd.jupyter.widget-view+json": {
              "version_major": 2,
              "version_minor": 0,
              "model_id": "ccad40145c8d4e1ab88146ad6f6ee14c"
            }
          },
          "metadata": {}
        },
        {
          "output_type": "display_data",
          "data": {
            "text/plain": [
              "Downloading (…)okenizer_config.json:   0%|          | 0.00/1.86k [00:00<?, ?B/s]"
            ],
            "application/vnd.jupyter.widget-view+json": {
              "version_major": 2,
              "version_minor": 0,
              "model_id": "dbee86eef1b143569e1d636f36e8dcc4"
            }
          },
          "metadata": {}
        },
        {
          "output_type": "display_data",
          "data": {
            "text/plain": [
              "Downloading spiece.model:   0%|          | 0.00/792k [00:00<?, ?B/s]"
            ],
            "application/vnd.jupyter.widget-view+json": {
              "version_major": 2,
              "version_minor": 0,
              "model_id": "8114f3a659dc471dbc749b3f4cfb85db"
            }
          },
          "metadata": {}
        },
        {
          "output_type": "display_data",
          "data": {
            "text/plain": [
              "Downloading (…)cial_tokens_map.json:   0%|          | 0.00/1.79k [00:00<?, ?B/s]"
            ],
            "application/vnd.jupyter.widget-view+json": {
              "version_major": 2,
              "version_minor": 0,
              "model_id": "6b2adce97d7e4bff90ff936619bdb5d2"
            }
          },
          "metadata": {}
        },
        {
          "output_type": "stream",
          "name": "stderr",
          "text": [
            "No model was supplied, defaulted to distilbert-base-cased-distilled-squad and revision 626af31 (https://huggingface.co/distilbert-base-cased-distilled-squad).\n",
            "Using a pipeline without specifying a model name and revision in production is not recommended.\n"
          ]
        },
        {
          "output_type": "display_data",
          "data": {
            "text/plain": [
              "Downloading (…)lve/main/config.json:   0%|          | 0.00/473 [00:00<?, ?B/s]"
            ],
            "application/vnd.jupyter.widget-view+json": {
              "version_major": 2,
              "version_minor": 0,
              "model_id": "e4c4db645dcc4853bbe8fcfdff03f378"
            }
          },
          "metadata": {}
        },
        {
          "output_type": "display_data",
          "data": {
            "text/plain": [
              "Downloading pytorch_model.bin:   0%|          | 0.00/261M [00:00<?, ?B/s]"
            ],
            "application/vnd.jupyter.widget-view+json": {
              "version_major": 2,
              "version_minor": 0,
              "model_id": "98d1c0d1538c4d63928a119597790a83"
            }
          },
          "metadata": {}
        },
        {
          "output_type": "display_data",
          "data": {
            "text/plain": [
              "Downloading (…)okenizer_config.json:   0%|          | 0.00/29.0 [00:00<?, ?B/s]"
            ],
            "application/vnd.jupyter.widget-view+json": {
              "version_major": 2,
              "version_minor": 0,
              "model_id": "fe78529a4d7c4c9eb9af3522f76fc6bb"
            }
          },
          "metadata": {}
        },
        {
          "output_type": "display_data",
          "data": {
            "text/plain": [
              "Downloading (…)solve/main/vocab.txt:   0%|          | 0.00/213k [00:00<?, ?B/s]"
            ],
            "application/vnd.jupyter.widget-view+json": {
              "version_major": 2,
              "version_minor": 0,
              "model_id": "0ec40ddc3d734f71b763efaaab171345"
            }
          },
          "metadata": {}
        },
        {
          "output_type": "display_data",
          "data": {
            "text/plain": [
              "Downloading (…)/main/tokenizer.json:   0%|          | 0.00/436k [00:00<?, ?B/s]"
            ],
            "application/vnd.jupyter.widget-view+json": {
              "version_major": 2,
              "version_minor": 0,
              "model_id": "f853dc12f9c84ce3bde5e8c28ec79d4f"
            }
          },
          "metadata": {}
        },
        {
          "output_type": "stream",
          "name": "stderr",
          "text": [
            "Token indices sequence length is longer than the specified maximum sequence length for this model (541 > 512). Running this sequence through the model will result in indexing errors\n"
          ]
        }
      ]
    },
    {
      "cell_type": "markdown",
      "source": [
        "# Let's take a look at our dataset :"
      ],
      "metadata": {
        "id": "DHJ4NSUSneXN"
      }
    },
    {
      "cell_type": "code",
      "source": [
        "pprint.pprint(questions[0])\n",
        "pprint.pprint(responses[0]) # The response is logical however not completely accurate..."
      ],
      "metadata": {
        "colab": {
          "base_uri": "https://localhost:8080/"
        },
        "id": "yTmlNviE_p6B",
        "outputId": "dab50b5d-2947-4455-8f1f-ca897ff8ae02"
      },
      "execution_count": null,
      "outputs": [
        {
          "output_type": "stream",
          "name": "stdout",
          "text": [
            "'What courses are offered at this community college?'\n",
            "'Agriculture and Natural Resources'\n"
          ]
        }
      ]
    },
    {
      "cell_type": "code",
      "source": [
        "pprint.pprint(questions[1])\n",
        "pprint.pprint(responses[1]) # This is actually also kind of mostly correct and probably the best way to apply to Wayne"
      ],
      "metadata": {
        "id": "ClOTT72FC08g",
        "outputId": "bbd70511-630e-45ce-b9a9-3547b10fc9c6",
        "colab": {
          "base_uri": "https://localhost:8080/"
        }
      },
      "execution_count": null,
      "outputs": [
        {
          "output_type": "stream",
          "name": "stdout",
          "text": [
            "'How do I apply to this community college?'\n",
            "('Apply online at '\n",
            " 'https://www2.cfnc.org/exclusive.html#/applicationlogin/WaynCC/Undergrad/WaynCCUndergradApp, '\n",
            " 'or in person at the admissions office .')\n"
          ]
        }
      ]
    },
    {
      "cell_type": "code",
      "source": [
        "pprint.pprint(questions[2])\n",
        "pprint.pprint(responses[2]) # kind of Vague but not completely inaccurate"
      ],
      "metadata": {
        "id": "Wrat-cX_C_Y2",
        "outputId": "cd64c650-9f99-4eea-cc73-f8eb6f2e8967",
        "colab": {
          "base_uri": "https://localhost:8080/"
        }
      },
      "execution_count": null,
      "outputs": [
        {
          "output_type": "stream",
          "name": "stdout",
          "text": [
            "'What financial aid options are available at this community college?'\n",
            "('The Financial Aid office offers various private and non-profit scholarships '\n",
            " 'each year.')\n"
          ]
        }
      ]
    },
    {
      "cell_type": "code",
      "source": [
        "pprint.pprint(questions[3])\n",
        "pprint.pprint(responses[3]) \n",
        "\n",
        "# If...I could be honest and I had to choose one...yes...this is outside of the buisness department \n",
        "# The most effectively helpful student resource on the campus."
      ],
      "metadata": {
        "id": "LBETyGARDItp",
        "outputId": "4b16af98-fb1b-4c0f-c00b-4559ffd7a9c1",
        "colab": {
          "base_uri": "https://localhost:8080/"
        }
      },
      "execution_count": null,
      "outputs": [
        {
          "output_type": "stream",
          "name": "stdout",
          "text": [
            "('What kind of support services are available to students at this community '\n",
            " 'college?')\n",
            "'The Academic Skills Center'\n"
          ]
        }
      ]
    },
    {
      "cell_type": "code",
      "source": [
        "pprint.pprint(questions[4])\n",
        "pprint.pprint(responses[4]) # The only real way to engage with the campus is through its community organized clubs this is not an \n",
        "# uninformed answer...\n",
        "# If you want to network and get more involved with the college joining one of the 16 active clubs is your \n",
        "# best chance."
      ],
      "metadata": {
        "id": "GOrkp_GyDYva",
        "outputId": "58267014-ae3e-49ea-822e-131387cc9741",
        "colab": {
          "base_uri": "https://localhost:8080/"
        }
      },
      "execution_count": null,
      "outputs": [
        {
          "output_type": "stream",
          "name": "stdout",
          "text": [
            "' What is campus life like at this community college?'\n",
            "'You can get involved in clubs and organizations (C&O)'\n"
          ]
        }
      ]
    },
    {
      "cell_type": "code",
      "source": [
        "pprint.pprint(questions[5])\n",
        "pprint.pprint(responses[5]) \n",
        "\n",
        "#mmmmmm no"
      ],
      "metadata": {
        "id": "4_v_OCaHDmI5",
        "outputId": "7fd46133-1240-4789-8b9c-5728533fd305",
        "colab": {
          "base_uri": "https://localhost:8080/"
        }
      },
      "execution_count": null,
      "outputs": [
        {
          "output_type": "stream",
          "name": "stdout",
          "text": [
            "('What transfer opportunities are available to students at this community '\n",
            " 'college?')\n",
            "'Wayne Community College'\n"
          ]
        }
      ]
    },
    {
      "cell_type": "code",
      "source": [
        "pprint.pprint(questions[6])\n",
        "pprint.pprint(responses[6]) # This is true but I'm not sure it answers the question very well..."
      ],
      "metadata": {
        "id": "v649TqqVD2Gl",
        "outputId": "0d8e3aae-d2f7-42cb-aeb1-369d2123fc06",
        "colab": {
          "base_uri": "https://localhost:8080/"
        }
      },
      "execution_count": null,
      "outputs": [
        {
          "output_type": "stream",
          "name": "stdout",
          "text": [
            "'Can I take courses online at this community college?'\n",
            "('All classes here at WCC use our Moodle system / Open LMS to some degree and '\n",
            " 'a vast majority of courses use other online resources')\n"
          ]
        }
      ]
    },
    {
      "cell_type": "code",
      "source": [
        "pprint.pprint(questions[7])\n",
        "pprint.pprint(responses[7]) # Once again not inaccurate"
      ],
      "metadata": {
        "id": "ertpVq7GD_j7",
        "outputId": "0cbd5b58-8875-4dd7-8d57-20b251133fde",
        "colab": {
          "base_uri": "https://localhost:8080/"
        }
      },
      "execution_count": null,
      "outputs": [
        {
          "output_type": "stream",
          "name": "stdout",
          "text": [
            "'What are the qualifications of the faculty at this community college?'\n",
            "('Wayne Community College is accredited by the Southern Association of '\n",
            " 'Colleges and Schools Commission on Colleges (SACSCOC) to award associate '\n",
            " 'degrees. Degree-granting institutions also may offer credentials such as '\n",
            " 'certificates and diplomas at approved degree levels')\n"
          ]
        }
      ]
    },
    {
      "cell_type": "code",
      "source": [
        "pprint.pprint(questions[8])\n",
        "pprint.pprint(responses[8]) # This is pretty good!"
      ],
      "metadata": {
        "id": "CSPDP3YOEOpN",
        "outputId": "ac82b0ed-7b4d-404c-b1d1-25b6e378d5df",
        "colab": {
          "base_uri": "https://localhost:8080/"
        }
      },
      "execution_count": null,
      "outputs": [
        {
          "output_type": "stream",
          "name": "stdout",
          "text": [
            "'What kind of facilities does this community college have?'\n",
            "('state-of-the art classrooms, laboratories, offices, and a model child care '\n",
            " 'center')\n"
          ]
        }
      ]
    },
    {
      "cell_type": "code",
      "source": [
        "pprint.pprint(questions[9])\n",
        "pprint.pprint(responses[9]) # This has to do with the quality of my dataset so I won't fault the model here."
      ],
      "metadata": {
        "id": "SIHhcQFXEWcu",
        "outputId": "668b5fe1-76c4-4da5-f2de-b8732c334e87",
        "colab": {
          "base_uri": "https://localhost:8080/"
        }
      },
      "execution_count": null,
      "outputs": [
        {
          "output_type": "stream",
          "name": "stdout",
          "text": [
            "'What kind of community outreach programs does this community college have?'\n",
            "('It has funding for scholarships, equipment, and unique learning '\n",
            " 'opportunities for who they consider to be deserving students or otherwise '\n",
            " 'profitable investments')\n"
          ]
        }
      ]
    },
    {
      "cell_type": "markdown",
      "source": [
        "Overall the Class object we used to test my theory by using both pipelines is very accurate...but I think it isn't dynamic enough. It seems that having both the generative and extractive pipelines works well enough but needs some serious tweaks.\n",
        "\n",
        "TL;DR: NOT BAD! NEEDS IMPROVEMENT."
      ],
      "metadata": {
        "id": "Yzq5TUiZFD5w"
      }
    },
    {
      "cell_type": "markdown",
      "source": [
        "# Some other Questions\n",
        "\n",
        "Below I am using just the T0_3B pipeline by itself. To gain an understanding of extractive vs. generative pipelines for NLP tasks.I like the performance of the zero-shot classifiers but it's too eco-unfriendly to use liberally.\n",
        "\n",
        "These questions are about Wayne Community and contexts were sourced from:\n",
        "* https://www.waynecc.edu/catalog/\n",
        "* The student planner that we frisbee at new or potential students.\n",
        "\n",
        "Let's look:\n"
      ],
      "metadata": {
        "id": "sFs--FfUoQHl"
      }
    },
    {
      "cell_type": "code",
      "source": [
        "text_generation = pipeline(\"text2text-generation\", model=\"bigscience/T0_3B\")\n",
        "\n",
        "# Define a question and context\n",
        "question_1 = \"How do I apply to the nursing program?\"\n",
        "context_1 = \"\"\"Students must present evidence of good physical \n",
        "and mental health (including required immunizations and health \n",
        "screening) upon admission. Details on health requirements are \n",
        "listed in the admission packet. Applicants must provide evidence \n",
        "of current certification in an American Heart Association (AHA) \n",
        "Basic Life Support (BLS) Cardio Pulmonary Resuscitation (CPR) and \n",
        "Automated External Defibrillator (AED) course for Healthcare Professionals\n",
        "that includes hands-on skill demonstration. Upon admission to the nursing\n",
        "program, students are required to submit to a drug screening. Applicants \n",
        "will be charged a fee to offset the cost of the drug screening.\n",
        "Results of the criminal background check and drug screen may determine\n",
        "if a student is eligible to enter and/or remain in all clinical agencies \n",
        "to progress within the program. If a clinical site denies a student \n",
        "placement in their facility, the student would be unable to complete\n",
        "the required clinical component of the course; therefore, the \n",
        "student will be withdrawn from all nursing courses and will not be \n",
        "allowed to progress in the program.\"\"\"\n",
        "\n",
        "# Format the prompt\n",
        "prompt_1 = f\"Context: {context_1}\\nAnswer the question: {question_1}\"\n",
        "\n",
        "# Generate the answer\n",
        "response_1 = text_generation(prompt_1, max_length=600, min_length=95, do_sample=True, num_return_sequences=1)\n",
        "\n",
        "# Extract the answer from the response\n",
        "answer_1 = response_1[0]['generated_text'].replace(prompt_1, '').strip()\n",
        "\n",
        "# Print the answer\n",
        "pprint.pprint(answer_1)"
      ],
      "metadata": {
        "id": "6MqmE6I3HnFH",
        "outputId": "f29b934f-37b3-4763-dd89-b3e239fa2d21",
        "colab": {
          "base_uri": "https://localhost:8080/"
        }
      },
      "execution_count": null,
      "outputs": [
        {
          "output_type": "stream",
          "name": "stdout",
          "text": [
            "('Applicants must present evidence of good physical and mental health '\n",
            " '(including required immunizations and health screening) upon admission. '\n",
            " 'Details on health requirements are listed in the admission packet. '\n",
            " 'Applicants must provide evidence of current certification in an American '\n",
            " 'Heart Association (AHA) Basic Life Support (BLS) Cardio Pulmonary '\n",
            " 'Resuscitation (CPR) and Automated External Defibrillator (AED) course for '\n",
            " 'Healthcare professionals. Upon admission to the nursing program, students '\n",
            " 'are required to submit to a drug screening.')\n"
          ]
        }
      ]
    },
    {
      "cell_type": "markdown",
      "source": [
        "Already I really like what I am seeing so far\n",
        "It cuts the unecessary fat of of your context and \n",
        "does a great job of giving pertinent information.\n",
        "\n",
        "Giving potential nursing students the quick of their academic pathway is essential for their success. "
      ],
      "metadata": {
        "id": "5uObZollpNxR"
      }
    },
    {
      "cell_type": "code",
      "source": [
        "# Define a question and context\n",
        "question_1 = \"How do I get a Student ID?\"\n",
        "context_1 = \"\"\"All WCC curriculum students are required to obtain and maintain \n",
        "an identification card and a parking decal. You can obtain your Parking Decal \n",
        "and Student ID once you have completed the registration process and paid  your \n",
        "tuition. Once this has been done, visit Student Activities located near the \n",
        "Student Lounge in the Wayne Learning Center with your receipt.\n",
        "Each student receives only one free ID and parking decal. After registering\n",
        "and paying for your classes, bring your receipt to the Student Activities office \n",
        "located near the Student Lounge in the Wayne Learning Center to get your student \n",
        "ID card and parking decal.Damaged or lost IDs will be replaced at a cost of $5.00 \n",
        "per ID and additional parking decals are $2.00. Temporary parking passes can be \n",
        "obtained in the Student Activities office.Student ID cards are validated each semester\n",
        "in the Business Office or Student Activities Office upon payment of fees.Call the Student \n",
        "Activities office at (919) 739-6740 or (919) 739-6742 for office hours and other information.\"\"\"\n",
        "\n",
        "# Format the prompt\n",
        "prompt_1 = f\"Context: {context_1}\\nAnswer the question: {question_1}\"\n",
        "\n",
        "# Generate the answer\n",
        "response_1 = text_generation(prompt_1, max_length=600, min_length=95, do_sample=True, num_return_sequences=1)\n",
        "\n",
        "# Extract the answer from the response\n",
        "answer_1 = response_1[0]['generated_text'].replace(prompt_1, '').strip()\n",
        "\n",
        "# Print the answer\n",
        "pprint.pprint(answer_1)"
      ],
      "metadata": {
        "id": "wrBwdjUaKWpc",
        "outputId": "4fa3e0ee-d7cc-4991-9082-adf2293a3c8d",
        "colab": {
          "base_uri": "https://localhost:8080/"
        }
      },
      "execution_count": null,
      "outputs": [
        {
          "output_type": "stream",
          "name": "stdout",
          "text": [
            "('After registering and paying for your classes, bring your receipt to the '\n",
            " 'Student Activities office located near the Student Lounge in the Wayne '\n",
            " 'Learning Center to get your student ID card and parking decal. Each student '\n",
            " 'receives only one free ID and parking decal. Damaged or lost IDs will be '\n",
            " 'replaced at a cost of $5.00 per ID and additional parking decals are $2.00. '\n",
            " 'Temporary parking passes can be obtained in the Student Activities '\n",
            " 'office.Student ID cards are validated each semester in the Business Office '\n",
            " 'or Student Activities Office upon payment of fees.')\n"
          ]
        }
      ]
    },
    {
      "cell_type": "markdown",
      "source": [
        "I get this question daily. How do I get a College Identification card? Who do I have to kill to get a Parking Pass? I need a temporary parking pass...etc. It's pretty repetitive...this does a great job of handling those kind of general questions."
      ],
      "metadata": {
        "id": "T-F39pwop4Tr"
      }
    },
    {
      "cell_type": "code",
      "source": [
        "# Define a question and context\n",
        "question_1 = \"I lost my ID How can I get a replacement?\"\n",
        "context_1 = \"\"\"All WCC curriculum students are required to obtain and maintain \n",
        "an identification card and a parking decal. You can obtain your Parking Decal \n",
        "and Student ID once you have completed the registration process and paid  your \n",
        "tuition. Once this has been done, visit Student Activities located near the \n",
        "Student Lounge in the Wayne Learning Center with your receipt.\n",
        "Each student receives only one free ID and parking decal. After registering\n",
        "and paying for your classes, bring your receipt to the Student Activities office \n",
        "located near the Student Lounge in the Wayne Learning Center to get your student \n",
        "ID card and parking decal.Damaged or lost IDs will be replaced at a cost of $5.00 \n",
        "per ID and additional parking decals are $2.00. Temporary parking passes can be \n",
        "obtained in the Student Activities office.Student ID cards are validated each semester\n",
        "in the Business Office or Student Activities Office upon payment of fees.Call the Student \n",
        "Activities office at (919) 739-6740 or (919) 739-6742 for office hours and other information.\"\"\"\n",
        "\n",
        "# Format the prompt\n",
        "prompt_1 = f\"Context: {context_1}\\nAnswer the question: {question_1}\"\n",
        "\n",
        "# Generate the answer\n",
        "response_1 = text_generation(prompt_1, max_length=600, do_sample=True, num_return_sequences=1)\n",
        "\n",
        "# Extract the answer from the response\n",
        "answer_1 = response_1[0]['generated_text'].replace(prompt_1, '').strip()\n",
        "\n",
        "# Print the answer\n",
        "pprint.pprint(answer_1)"
      ],
      "metadata": {
        "id": "0ssflFSJakaW",
        "outputId": "cc3e13e1-85ba-4f35-92ab-82d3ab0be1fb",
        "colab": {
          "base_uri": "https://localhost:8080/"
        }
      },
      "execution_count": null,
      "outputs": [
        {
          "output_type": "stream",
          "name": "stdout",
          "text": [
            "'Replacements will be issued for $5.00 fee and additional parking decals $2.00'\n"
          ]
        }
      ]
    },
    {
      "cell_type": "code",
      "source": [
        "# Define a question and context\n",
        "question_1 = \"Where can I get a temporary parking pass?\"\n",
        "context_1 = \"\"\"All WCC curriculum students are required to obtain and maintain \n",
        "an identification card and a parking decal. You can obtain your Parking Decal \n",
        "and Student ID once you have completed the registration process and paid  your \n",
        "tuition. Once this has been done, visit Student Activities located near the \n",
        "Student Lounge in the Wayne Learning Center with your receipt.\n",
        "Each student receives only one free ID and parking decal. After registering\n",
        "and paying for your classes, bring your receipt to the Student Activities office \n",
        "located near the Student Lounge in the Wayne Learning Center to get your student \n",
        "ID card and parking decal.Damaged or lost IDs will be replaced at a cost of $5.00 \n",
        "per ID and additional parking decals are $2.00. Temporary parking passes can be \n",
        "obtained in the Student Activities office.Student ID cards are validated each semester\n",
        "in the Business Office or Student Activities Office upon payment of fees.Call the Student \n",
        "Activities office at (919) 739-6740 or (919) 739-6742 for office hours and other information.\"\"\"\n",
        "\n",
        "# Format the prompt\n",
        "prompt_1 = f\"Context: {context_1}\\nAnswer the question: {question_1}\"\n",
        "\n",
        "# Generate the answer\n",
        "response_1 = text_generation(prompt_1, max_length=600, min_length = 15 ,do_sample=True, num_return_sequences=1)\n",
        "\n",
        "# Extract the answer from the response\n",
        "answer_1 = response_1[0]['generated_text'].replace(prompt_1, '').strip()\n",
        "\n",
        "# Print the answer\n",
        "pprint.pprint(answer_1)"
      ],
      "metadata": {
        "id": "s0JJhMB-bAfl",
        "outputId": "21f87e38-e367-4165-a140-67f7e1d8ff31",
        "colab": {
          "base_uri": "https://localhost:8080/"
        }
      },
      "execution_count": null,
      "outputs": [
        {
          "output_type": "stream",
          "name": "stdout",
          "text": [
            "('Student Activities office The Student Activities office is located near the '\n",
            " 'Student Lounge in the Wayne Learning Center  aplications office')\n"
          ]
        }
      ]
    },
    {
      "cell_type": "markdown",
      "source": [
        "This is working perfectly really well! It even provided directions...Now if only they new where the Wayne Learning Center was? (There usually standing in it)"
      ],
      "metadata": {
        "id": "q1-LIvQbqZfW"
      }
    },
    {
      "cell_type": "code",
      "source": [
        "# Define a question and context\n",
        "question_1 = \"Tell me about the Accounting Program.\"\n",
        "context_1 = \"\"\"Get the skills necessary for employment \n",
        "and growth in the accounting and finance profession. Be \n",
        "a part of one of the hottest career fields with projected \n",
        "job growth of 18 percent. Accounting offers you a great \n",
        "career with a world of opportunities and flexibility.\n",
        "Course work may include accounting, finance, ethics, \n",
        "business law, computer applications, financial planning, \n",
        "insurance, marketing, real estate, selling, and taxation. \n",
        "Related skills are developed through the study of communications, \n",
        "computer applications, financial analysis, critical thinking skills, and ethics.\n",
        "Graduates should qualify for entry-level accounting and finance positions in many \n",
        "types of organizations including accounting firms, small businesses, manufacturing \n",
        "firms, banks, hospitals, school systems, and governmental agencies.\n",
        "This degree can be earned through traditional seated classes, totally online, \n",
        "or hybrid classes.\"\"\"\n",
        "\n",
        "# Format the prompt\n",
        "prompt_1 = f\"Context: {context_1}\\nAnswer the question: {question_1}\"\n",
        "\n",
        "# Generate the answer\n",
        "response_1 = text_generation(prompt_1, max_length=600, min_length=95, do_sample=True, num_return_sequences=1)\n",
        "\n",
        "# Extract the answer from the response\n",
        "answer_1 = response_1[0]['generated_text'].replace(prompt_1, '').strip()\n",
        "\n",
        "# Print the answer\n",
        "pprint.pprint(answer_1)"
      ],
      "metadata": {
        "id": "44DKmoJTLwkn",
        "outputId": "327e76f1-0c38-4bfc-d16a-8f72d80d6316",
        "colab": {
          "base_uri": "https://localhost:8080/"
        }
      },
      "execution_count": null,
      "outputs": [
        {
          "output_type": "stream",
          "name": "stdout",
          "text": [
            "('Be a part of one of the hottest career fields with projected job growth of '\n",
            " '18 percent. Accounting offers you a great career with a world of '\n",
            " 'opportunities and flexibility. Course work may include accounting, finance, '\n",
            " 'ethics, business law, computer applications, financial planning, insurance, '\n",
            " 'marketing, real estate, selling, and taxation. Related skills are developed '\n",
            " 'through the study of communications, computer applications, financial '\n",
            " 'analysis, critical thinking skills, and ethics. Graduates should qualify for '\n",
            " 'entry-level accounting and finance positions in many types of organizations '\n",
            " 'including accounting firms, small businesses, manufacturing firms, banks, '\n",
            " 'hospitals, school systems, and governmental agencies. This degree can be '\n",
            " 'earned through traditional seated classes, totally online, or hybrid '\n",
            " 'classes.')\n"
          ]
        }
      ]
    },
    {
      "cell_type": "markdown",
      "source": [
        "OH NO! Looks like we have a bunch of jibberish it may be due to the way we fraised our question."
      ],
      "metadata": {
        "id": "Hlv5JGslqypY"
      }
    },
    {
      "cell_type": "code",
      "source": [
        "# Define a question and context\n",
        "question_1 = \"Who is the president of the college?\"\n",
        "context_1 = \"\"\"Dr. Patricia A. “Patty” Pfeiffer began her career at Wayne Community College in November 1994 as a nursing instructor. She rose to Nursing Department chair, dean of the Allied Health and Public Services Division, chief of staff and vice president of institutional effectiveness, then vice president of academic and student services.\n",
        "\n",
        "She took on the role of interim president of the college starting on June 24, 2021 and will continue to Dec. 31, 2021. She becomes the college’s ninth executive on Jan. 1, 2022.\n",
        "\n",
        "Pfeiffer has been recognized in her various roles at the college. She received WCC’s top award for faculty members, the George E. Wilson Excellence in Teaching Award in 2007 and was also a finalist for the NC State Board of Community College’s Excellence in Teaching Award. In 2015, the college’s unit of the Association of Educational Office Professionals (AEOP) and the North Carolina District 12 AEOP presented Pfeiffer with their Administrator of the Year Awards.\n",
        "\n",
        "Prior to employment with the college, Pfeiffer worked as a labor and delivery nurse.\n",
        "\n",
        "Before attending college, Pfeiffer served in the United States Army as a parachute rigger and airborne paratrooper for six years. Her first duty station was Fort Lewis, Washington where she supported the 2nd and 75th Infantry Ranger Battalion. In addition, she was stationed in Taegu, Korea, and Fort Bragg, NC.\n",
        "\n",
        "Pfeiffer earned her doctorate in higher education and adult learning from Walden University.  She also holds a master’s degree in administration from Central Michigan University, a master’s degree in nursing education from East Carolina University, a bachelor’s degree in nursing from East Carolina University, and an associate degree in nursing from Wayne Community College.\n",
        "\n",
        "Pfeiffer is married to Tim, and they have two adult daughters, two grandchildren, and one son-in-law.\"\"\"\n",
        "\n",
        "# Format the prompt\n",
        "prompt_1 = f\"Context: {context_1}\\nAnswer the question: {question_1}\"\n",
        "\n",
        "# Generate the answer\n",
        "response_1 = text_generation(prompt_1, max_length=600, min_length=95, do_sample=True, num_return_sequences=1)\n",
        "\n",
        "# Extract the answer from the response\n",
        "answer_1 = response_1[0]['generated_text'].replace(prompt_1, '').strip()\n",
        "\n",
        "# Print the answer\n",
        "pprint.pprint(answer_1)"
      ],
      "metadata": {
        "id": "r9HN7h0UNOgV",
        "outputId": "b169ff52-5a59-4683-b912-2faa34d7029a",
        "colab": {
          "base_uri": "https://localhost:8080/"
        }
      },
      "execution_count": null,
      "outputs": [
        {
          "output_type": "stream",
          "name": "stdout",
          "text": [
            "('Patty Pfeiffer began her career at Wayne Community College in November 1994 '\n",
            " 'as a nursing instructor. She rose to Nursing Department chair, dean of the '\n",
            " 'Allied Health and Public Services Division, chief of staff and vice '\n",
            " 'president of institutional effectiveness, then vice president of academic '\n",
            " 'and student services. She took on the role of interim president beginning on '\n",
            " \"June 24, 2021 and will continue to Dec. 31, 2021. She becomes the college's \"\n",
            " 'ninth executive on Jan. 1, 2022. Pfeiffer has been recognized in her various '\n",
            " \"roles at the college. She received WCC's top award for faculty members, the \"\n",
            " 'George E. Wilson Excellence in Teaching Award in 2007 and was also a '\n",
            " \"finalist for the NC State Board of Community College's Excellence in \"\n",
            " 'Teaching Award. In 2015, the college’s unit of the Association of '\n",
            " 'Educational Office Professionals (AEOP) and the North Carolina District 12 '\n",
            " 'AEOP presented Pfeiffer with their Administrator of the Year Awards. Prior '\n",
            " 'to employment with the college, Pfeiffer worked as a labor and delivery '\n",
            " 'nurse. Before attending college, Pfeiffer served in the United States Army '\n",
            " 'as a parachute rigger and airborne paratr')\n"
          ]
        }
      ]
    },
    {
      "cell_type": "code",
      "source": [
        "# Define a question and context\n",
        "question_1 = \"Does the Bookstore accept returns?\"\n",
        "context_1 = \"\"\"Wayne Community College maintains a bookstore for the convenience of students.\n",
        "Course supplies and required textboks (new, used, e-text, rentals), gifts, clothing, electronics,\n",
        "and graduation attire may be purchased in the bookstore. Visit the website at www.wayneccshop.com\n",
        "for fast and easy textbok information and on-line ordering. Hours of operation are Monday, Tuesday,\n",
        "and Thursday from 8:00 a.m. to 4:00 p.m., Wednesday from 8:00 a.m. to 5:00 p.m. and Friday from 8:00 a.m.\n",
        "to 1:00 p.m. Extended hours are available at the start of each semester and other times as needed. Summer hours will vary.\n",
        "Current hours are posted on the bookstore's website. The store's return policy allows a student seven\n",
        "days from the start of the semester or two days from the purchase date if after the refund deadline.\n",
        "All materials must be in the same condition as purchaed(shrink wrap intact, codes unopened and/or scratched,\n",
        "packaging unopened). General merchandise may be returned up to 30 days from the purchase in original \n",
        "condition. Laptops are not returnable if opened and must be returned within 14 days of purchase. Refunds\n",
        "are provided by original tender only(cash provided for check transacions after 10 buisness days).\n",
        "Students may sell books back at any time during the year except at the beginning of each semester while \n",
        "financial aid is open for charging. \"\"\"\n",
        "\n",
        "# Format the prompt\n",
        "prompt_1 = f\"Context: {context_1}\\nAnswer the question: {question_1}\"\n",
        "\n",
        "# Generate the answer\n",
        "response_1 = text_generation(prompt_1, max_length=600,  do_sample=True, num_return_sequences=1)\n",
        "\n",
        "# Extract the answer from the response\n",
        "answer_1 = response_1[0]['generated_text'].replace(prompt_1, '').strip()\n",
        "\n",
        "# Print the answer\n",
        "pprint.pprint(answer_1)"
      ],
      "metadata": {
        "id": "nIRvsNa4OxeZ",
        "outputId": "36f3e6dd-3da0-4862-cd22-83443a972a54",
        "colab": {
          "base_uri": "https://localhost:8080/"
        }
      },
      "execution_count": null,
      "outputs": [
        {
          "output_type": "stream",
          "name": "stdout",
          "text": [
            "'No'\n"
          ]
        }
      ]
    },
    {
      "cell_type": "markdown",
      "source": [
        "without specifying the 'min_length' parameter the model was a little tart. But still correct."
      ],
      "metadata": {
        "id": "mozkMsCHrDM3"
      }
    },
    {
      "cell_type": "code",
      "source": [
        "# Define a question and context\n",
        "question_1 = \"Where is the lost and found?\"\n",
        "context_1 = \"\"\"Lost and found articles are kept in the Campus Police and Security Office(1st floor, Wayne Learning \n",
        "Center, Room 195). Articles that are not reclaimed will be disposed of or turned over to appropriate agencies\n",
        "after 30 days. \"\"\"\n",
        "\n",
        "# Format the prompt\n",
        "prompt_1 = f\"Context: {context_1}\\nAnswer the question: {question_1}\"\n",
        "\n",
        "# Generate the answer\n",
        "response_1 = text_generation(prompt_1, max_length=600, do_sample=True, num_return_sequences=1)\n",
        "\n",
        "# Extract the answer from the response\n",
        "answer_1 = response_1[0]['generated_text'].replace(prompt_1, '').strip()\n",
        "\n",
        "# Print the answer\n",
        "pprint.pprint(answer_1)"
      ],
      "metadata": {
        "id": "YKNNVvZXVXMv",
        "outputId": "1d94fb4a-1646-4a1c-c2b8-46704cef7ba7",
        "colab": {
          "base_uri": "https://localhost:8080/"
        }
      },
      "execution_count": null,
      "outputs": [
        {
          "output_type": "stream",
          "name": "stdout",
          "text": [
            "'The Campus Police and Security Office'\n"
          ]
        }
      ]
    },
    {
      "cell_type": "code",
      "source": [
        "# Define a question and context\n",
        "question_1 = \"How do I access Moodle?\"\n",
        "context_1 = \"\"\"\n",
        "Click the Moodle link on the right side of the page.\n",
        "Log In information is on the Moodle Site.\n",
        "Once logged in, click the title of the course(s)\n",
        "Read the welcome announcements and complete initial\n",
        "assignmets and the enrollment verification quiz.\n",
        "For additional information, please visit www.waynecc.edu/de\n",
        "If you would like to preview a WCC Moodle course site:\n",
        "Go to moodle.waynecc.edu. Type \"wccguest\" for your user name\n",
        "and \"wccguest\" for your password.\n",
        "Click the tile of the WCC Moodle Demo Course.\n",
        "Click the \"Logout\" button to exit.\n",
        "\"\"\"\n",
        "\n",
        "# Format the prompt\n",
        "prompt_1 = f\"Context: {context_1}\\nAnswer the question: {question_1}\"\n",
        "\n",
        "# Generate the answer\n",
        "response_1 = text_generation(prompt_1, max_length=600, min_length=15, do_sample=True, num_return_sequences=1)\n",
        "\n",
        "# Extract the answer from the response\n",
        "answer_1 = response_1[0]['generated_text'].replace(prompt_1, '').strip()\n",
        "\n",
        "# Print the answer\n",
        "pprint.pprint(answer_1)"
      ],
      "metadata": {
        "id": "FrluU6CCWCYA",
        "outputId": "1d2dff2d-22ed-48f1-aa4a-1aefd2a6690b",
        "colab": {
          "base_uri": "https://localhost:8080/"
        }
      },
      "execution_count": null,
      "outputs": [
        {
          "output_type": "stream",
          "name": "stdout",
          "text": [
            "('Log In information is on the Moodle Site. Once logged in, click on the title '\n",
            " 'of the course(s)')\n"
          ]
        }
      ]
    },
    {
      "cell_type": "code",
      "source": [
        "# Define a question and context\n",
        "question_1 = \"Help! I can't find the computer lab!\"\n",
        "context_1 = \"\"\"The Open Computer lab is located in Magnolia 215 and is available to WCC students\n",
        "with a valid ID card (obtained in the student activities office). It contains 50 PCs, printers and a\n",
        "scanner. All instructional software offered by the College, along with Internet connectivity, is available.\n",
        "Consult the open computer lab website at http://www.waynecc.edu/online-services/technology-at-wayne/open-computer-lab/ \n",
        "for hours of operation. \"\"\"\n",
        "\n",
        "# Format the prompt\n",
        "prompt_1 = f\"Context: {context_1}\\nAnswer the question: {question_1}\"\n",
        "\n",
        "# Generate the answer\n",
        "response_1 = text_generation(prompt_1, max_length=600, do_sample=True, num_return_sequences=1)\n",
        "\n",
        "# Extract the answer from the response\n",
        "answer_1 = response_1[0]['generated_text'].replace(prompt_1, '').strip()\n",
        "\n",
        "# Print the answer\n",
        "pprint.pprint(answer_1)"
      ],
      "metadata": {
        "id": "vIZmCopVXdFk",
        "outputId": "9d4add1f-5f63-4ae4-ec93-fbfdc64bfc8f",
        "colab": {
          "base_uri": "https://localhost:8080/"
        }
      },
      "execution_count": null,
      "outputs": [
        {
          "output_type": "stream",
          "name": "stdout",
          "text": [
            "('Open Computer lab is located in Magnolia 215 and is available to WCC '\n",
            " 'students with a valid ID card (obtained in the student activities office)')\n"
          ]
        }
      ]
    },
    {
      "cell_type": "code",
      "source": [
        "# Define a question and context\n",
        "question_1 = \"How many clubs are at the College?\"\n",
        "context_1 = \"\"\"There are 16 active  clubs and organizations that have\n",
        "indicated they will be active in the 2022-2023 academic year - pending \n",
        "official approval. Students should contact the advisors to learn more about\n",
        "the student clubs and organizations:\n",
        "Associate Degree Student Nurse Association Level I\n",
        "Associate Degree Student Nurse ASsociation Level II\n",
        "Criminal Justice Club\n",
        "Dental Assisting Club\n",
        "Dental Hygiene Club\n",
        "Fishing Club\n",
        "Forestry Club\n",
        "Honors Club\n",
        "Human Services Club\n",
        "Multicultural Club\n",
        "Pharmacy Technology Club\n",
        "Phi Theta Kappa\n",
        "Practical Nursing Club\n",
        "Wayne Community College Society of American Foresters\n",
        "Wayne Community College Future Leaders of the World (WCC FLOW)\n",
        "Wayne COmmunity College Association of Nursing Students.\"\"\"\n",
        "\n",
        "# Format the prompt\n",
        "prompt_1 = f\"Context: {context_1}\\nAnswer the question: {question_1}\"\n",
        "\n",
        "# Generate the answer\n",
        "response_1 = text_generation(prompt_1, max_length=600, do_sample=True, num_return_sequences=1)\n",
        "\n",
        "# Extract the answer from the response\n",
        "answer_1 = response_1[0]['generated_text'].replace(prompt_1, '').strip()\n",
        "\n",
        "# Print the answer\n",
        "pprint.pprint(answer_1)"
      ],
      "metadata": {
        "id": "FP4jc_I0YG9j",
        "outputId": "1a84f76d-7850-4f6d-87a3-419374a1272e",
        "colab": {
          "base_uri": "https://localhost:8080/"
        }
      },
      "execution_count": null,
      "outputs": [
        {
          "output_type": "stream",
          "name": "stdout",
          "text": [
            "'16'\n"
          ]
        }
      ]
    },
    {
      "cell_type": "code",
      "source": [
        "# Define a question and context\n",
        "question_1 = \"I am a new student how do I register?\"\n",
        "context_1 = \"\"\"Registration Guide\n",
        "New Students :\n",
        "(Degree/Diploma/Certificate Seeking)\n",
        "If you’re a brand new student, you will register for classes\n",
        "through your academic advisor after completing the initial \n",
        "application steps:\n",
        "*Apply online at: https://apply.cfnc.org/application/WaynCC/Undergrad/WaynCCUndergradApp?logoUrl=https://xroadsapi.cfnc.org/application/WaynCC/Undergrad/WaynCCUndergradApp/exclusiveLogo\n",
        "*Activate your MyBisonID Account: https://www.waynecc.edu/mybisonid/\n",
        "*Apply for Financial Aid: https://studentaid.gov/h/apply-for-aid/fafsa school code(008216)\n",
        "*Submit your Transcripts to : wcc-admissions@waynecc.edu\n",
        "*Take Placement Tests (only if required)\n",
        "*Meet your Academic Advisor: After the application process, you will be assigned an academic advisor whom you can contact to register for courses. The name of your assigned advisor and their contact information can be viewed in the Self-Service tool located through the Okta Portal.\n",
        "Inside Self-Service, navigate to: Student Planning -> Plan your Degree & Register for Classes -> Advising tab\n",
        "Current Students (Degree/Diploma/Certificate Seeking):\n",
        "So you have at least one semester under your belt and you’re \n",
        "ready to hit Priority Registration for your next semester. \n",
        "Great! Don’t forget that all students are required to meet \n",
        "with their advisor before registration. Also, remember that \n",
        "if for some reason you missed Priority Registration, you can \n",
        "always register in any of the Open Registration periods.\n",
        "Search for Classes: Check the Course Schedules page to see what\n",
        "courses are available to you for the next semester.Register \n",
        "through Self-Service When Priority and Open Registration are\n",
        "active, you use Self-Service to register for classes. You will\n",
        "be contacted by the college with information about when you can \n",
        "register for classes. You also can use Self-Service to view your \n",
        "class schedule, GPA, transcripts, grades, and more.\n",
        "Login Help Visit the My Bison ID page if you are having trouble \n",
        "logging into Self-Service or any other services in the Okta Portal.\n",
        "Tuition, Fees, and Refund Policy Visit the Tuition and Fees page \n",
        "to find information about tuition and fees, along with a Net Price Calculator.\n",
        "Information about our tuition refund policy can be found on \n",
        "the Refund and Disbursements page.\"\"\"\n",
        "\n",
        "# Format the prompt\n",
        "prompt_1 = f\"Context: {context_1}\\nAnswer the question: {question_1}\"\n",
        "\n",
        "# Generate the answer\n",
        "response_1 = text_generation(prompt_1, max_length=200, min_length =50, do_sample=True, num_return_sequences=1)\n",
        "\n",
        "# Extract the answer from the response\n",
        "answer_1 = response_1[0]['generated_text'].replace(prompt_1, '').strip()\n",
        "\n",
        "# Print the answer\n",
        "pprint.pprint(answer_1)"
      ],
      "metadata": {
        "colab": {
          "base_uri": "https://localhost:8080/"
        },
        "id": "zAHhefdigS0G",
        "outputId": "a881addd-06bf-486c-9b57-1b960d065f34"
      },
      "execution_count": null,
      "outputs": [
        {
          "output_type": "stream",
          "name": "stdout",
          "text": [
            "('No, I am not a new student. I am trying to register for courses for next '\n",
            " 'semester. What do I do? There are different ways you can register for '\n",
            " 'courses, so you should get more information from the university. In '\n",
            " 'addition, there can be various reasons why you are unable to register '\n",
            " 'electronically suflete: financial aid , health care , etc')\n"
          ]
        }
      ]
    },
    {
      "cell_type": "code",
      "source": [
        "# Define a question and context\n",
        "question_1 = \"If I am a current student how do I register?\"\n",
        "context_1 = \"\"\"Registration Guide\n",
        "New Students :\n",
        "(Degree/Diploma/Certificate Seeking)\n",
        "If you’re a brand new student, you will register for classes\n",
        "through your academic advisor after completing the initial \n",
        "application steps:\n",
        "*Apply online at: https://apply.cfnc.org/application/WaynCC/Undergrad/WaynCCUndergradApp?logoUrl=https://xroadsapi.cfnc.org/application/WaynCC/Undergrad/WaynCCUndergradApp/exclusiveLogo\n",
        "*Activate your MyBisonID Account: https://www.waynecc.edu/mybisonid/\n",
        "*Apply for Financial Aid: https://studentaid.gov/h/apply-for-aid/fafsa school code(008216)\n",
        "*Submit your Transcripts to : wcc-admissions@waynecc.edu\n",
        "*Take Placement Tests (only if required)\n",
        "*Meet your Academic Advisor: After the application process, you will be assigned an academic advisor whom you can contact to register for courses. The name of your assigned advisor and their contact information can be viewed in the Self-Service tool located through the Okta Portal.\n",
        "Inside Self-Service, navigate to: Student Planning -> Plan your Degree & Register for Classes -> Advising tab\n",
        "Current Students (Degree/Diploma/Certificate Seeking):\n",
        "So you have at least one semester under your belt and you’re \n",
        "ready to hit Priority Registration for your next semester. \n",
        "Great! Don’t forget that all students are required to meet \n",
        "with their advisor before registration. Also, remember that \n",
        "if for some reason you missed Priority Registration, you can \n",
        "always register in any of the Open Registration periods.\n",
        "Search for Classes: Check the Course Schedules page to see what\n",
        "courses are available to you for the next semester.Register \n",
        "through Self-Service When Priority and Open Registration are\n",
        "active, you use Self-Service to register for classes. You will\n",
        "be contacted by the college with information about when you can \n",
        "register for classes. You also can use Self-Service to view your \n",
        "class schedule, GPA, transcripts, grades, and more.\n",
        "Login Help Visit the My Bison ID page if you are having trouble \n",
        "logging into Self-Service or any other services in the Okta Portal.\n",
        "Tuition, Fees, and Refund Policy Visit the Tuition and Fees page \n",
        "to find information about tuition and fees, along with a Net Price Calculator.\n",
        "Information about our tuition refund policy can be found on \n",
        "the Refund and Disbursements page.\"\"\"\n",
        "\n",
        "# Format the prompt\n",
        "prompt_1 = f\"Context: {context_1}\\nAnswer the question: {question_1}\"\n",
        "\n",
        "# Generate the answer\n",
        "response_1 = text_generation(prompt_1, max_length=600, min_length= 15, do_sample=True, num_return_sequences=1)\n",
        "\n",
        "# Extract the answer from the response\n",
        "answer_1 = response_1[0]['generated_text'].replace(prompt_1, '').strip()\n",
        "\n",
        "# Print the answer\n",
        "pprint.pprint(answer_1)"
      ],
      "metadata": {
        "outputId": "67aa110b-cf42-44a5-c153-2114d1331c88",
        "colab": {
          "base_uri": "https://localhost:8080/"
        },
        "id": "YvOTNpEKiXix"
      },
      "execution_count": null,
      "outputs": [
        {
          "output_type": "stream",
          "name": "stdout",
          "text": [
            "(\"You 'll register through your assigned academic advisor . All students are \"\n",
            " 'required to meet with their advisor before registration. Also, remember that '\n",
            " 'if for some reason you missed Priority Registration, you can always register '\n",
            " 'in any of the Open Registration periods. I would like someone to contact me '\n",
            " 'about the classes I saw on the website.')\n"
          ]
        }
      ]
    },
    {
      "cell_type": "code",
      "source": [
        "# Define a question and context\n",
        "question_1 = \"What is the school code?\"\n",
        "context_1 = \"\"\"Registration Guide\n",
        "New Students :\n",
        "(Degree/Diploma/Certificate Seeking)\n",
        "If you’re a brand new student, you will register for classes\n",
        "through your academic advisor after completing the initial \n",
        "application steps:\n",
        "*Apply online at: https://apply.cfnc.org/application/WaynCC/Undergrad/WaynCCUndergradApp?logoUrl=https://xroadsapi.cfnc.org/application/WaynCC/Undergrad/WaynCCUndergradApp/exclusiveLogo\n",
        "*Activate your MyBisonID Account: https://www.waynecc.edu/mybisonid/\n",
        "*Apply for Financial Aid: https://studentaid.gov/h/apply-for-aid/fafsa school code(008216)\n",
        "*Submit your Transcripts to : wcc-admissions@waynecc.edu\n",
        "*Take Placement Tests (only if required)\n",
        "*Meet your Academic Advisor: After the application process, you will be assigned an academic advisor whom you can contact to register for courses. The name of your assigned advisor and their contact information can be viewed in the Self-Service tool located through the Okta Portal.\n",
        "Inside Self-Service, navigate to: Student Planning -> Plan your Degree & Register for Classes -> Advising tab\n",
        "Current Students (Degree/Diploma/Certificate Seeking):\n",
        "So you have at least one semester under your belt and you’re \n",
        "ready to hit Priority Registration for your next semester. \n",
        "Great! Don’t forget that all students are required to meet \n",
        "with their advisor before registration. Also, remember that \n",
        "if for some reason you missed Priority Registration, you can \n",
        "always register in any of the Open Registration periods.\n",
        "Search for Classes: Check the Course Schedules page to see what\n",
        "courses are available to you for the next semester.Register \n",
        "through Self-Service When Priority and Open Registration are\n",
        "active, you use Self-Service to register for classes. You will\n",
        "be contacted by the college with information about when you can \n",
        "register for classes. You also can use Self-Service to view your \n",
        "class schedule, GPA, transcripts, grades, and more.\n",
        "Login Help Visit the My Bison ID page if you are having trouble \n",
        "logging into Self-Service or any other services in the Okta Portal.\n",
        "Tuition, Fees, and Refund Policy Visit the Tuition and Fees page \n",
        "to find information about tuition and fees, along with a Net Price Calculator.\n",
        "Information about our tuition refund policy can be found on \n",
        "the Refund and Disbursements page.\"\"\"\n",
        "\n",
        "# Format the prompt\n",
        "prompt_1 = f\"Context: {context_1}\\nAnswer the question: {question_1}\"\n",
        "\n",
        "# Generate the answer\n",
        "response_1 = text_generation(prompt_1, max_length=600, do_sample=True, num_return_sequences=1)\n",
        "\n",
        "# Extract the answer from the response\n",
        "answer_1 = response_1[0]['generated_text'].replace(prompt_1, '').strip()\n",
        "\n",
        "# Print the answer\n",
        "pprint.pprint(answer_1)"
      ],
      "metadata": {
        "outputId": "668680eb-6f69-4087-c611-4540e8aeb084",
        "colab": {
          "base_uri": "https://localhost:8080/"
        },
        "id": "QskKLCL9iQuE"
      },
      "execution_count": null,
      "outputs": [
        {
          "output_type": "stream",
          "name": "stdout",
          "text": [
            "'Wayne Community College'\n"
          ]
        }
      ]
    },
    {
      "cell_type": "code",
      "source": [
        "# Define a question and context\n",
        "question_1 = \"I need something to drink where are the vending machines?\"\n",
        "context_1 = \"\"\"Vending machines are located on the first floor of WLC (snacks/\n",
        "sandwhiches/drinks), 2nd floor of Magnolia (snack/drinks), 1st floor of Hocutt\n",
        "(snacks/drinks), 2nd floor of Walnut (snacks/drinks), ourside the north entrance \n",
        "to Pine(drinks only), at the Wayne Works Center, and at the Aviation Classroom\n",
        "Building(drinks only). You are also welcome to visit the Bison Bistro in the \n",
        "Wayne Learning Center. \"\"\"\n",
        "\n",
        "# Format the prompt\n",
        "prompt_1 = f\"Context: {context_1}\\nAnswer the question: {question_1}\"\n",
        "\n",
        "# Generate the answer\n",
        "response_1 = text_generation(prompt_1, max_length=600, do_sample=True, num_return_sequences=1)\n",
        "\n",
        "# Extract the answer from the response\n",
        "answer_1 = response_1[0]['generated_text'].replace(prompt_1, '').strip()\n",
        "\n",
        "# Print the answer\n",
        "pprint.pprint(answer_1)"
      ],
      "metadata": {
        "id": "srXI6YDEZY7u",
        "outputId": "95932709-9999-4ea4-a3dc-eca4fe6cbe5a",
        "colab": {
          "base_uri": "https://localhost:8080/"
        }
      },
      "execution_count": null,
      "outputs": [
        {
          "output_type": "stream",
          "name": "stdout",
          "text": [
            "('vending machines are located on the 1st floor of WLC (snacks/ '\n",
            " 'sandwhiches/drinks), 2nd floor of Magnolia (snack/drinks), 1st floor of '\n",
            " 'Hocutt (snack/drinks), 2nd floor of Walnut (snack/drinks), ourside the north '\n",
            " 'entrance to Pine(drinks only), at the Wayne Works Center, and at the '\n",
            " 'Aviation Classroom Building(drinks only)')\n"
          ]
        }
      ]
    },
    {
      "cell_type": "code",
      "source": [
        "# Define a question and context\n",
        "question_1 = \"What time does the Library open?\"\n",
        "context_1 = \"\"\"\n",
        "The Dr. Clyde A. Erwin, Jr. Library \n",
        "provides resources to assist students, faculty, and staff in their research and actively supports the College \n",
        "mission by the ongoing development of a print and electronic collection devoted to enhancing the curriculum. \n",
        "Library services are offered to traditional students and distance learners, as well as to the general public \n",
        "of Wayne County.\n",
        "Offerings of the Library include the following:\n",
        "Over 36,000 circulating print books supplemented by nearly 400,000 ebooks\n",
        "Over 80,000 streaming videos\n",
        "Thousands of fully-searchable online magazines, newspapers and journals available for in-library and remote use\n",
        "32 desktop computers and headphones for research and homework with WCC username login or guest pass\n",
        "The WCC Single Search discovery service, providing access to NCLIVE along with 62 other research databases \n",
        "for article, ebook and digital video resourcesCustomizable information literacy or group study sessions in the \n",
        "Library Literacy Lab as well as presentations given off-site or available in Moodle course pages Services for \n",
        "creating scans, photocopying, laser printing and wireless printing Reference and research assistance in person, \n",
        "by telephone or e-mail 4 group study pods seating 6-8 people and a larger literacy lab offering many wall- and \n",
        "table-mounted outlets for reservation or use on a first-come, first-served basis\n",
        "Hours of operation are:\n",
        "Monday through Thursday - 7:45 a.m. to 7:00 p.m.\n",
        "Friday - 7:45 a.m. to 1:00 p.m.\n",
        "(Hours may vary during Summer Term.)\n",
        "The Dr. Clyde A. Erwin, Jr. Library is located on the third floor of the Wayne Learning Center building. \n",
        "For more information, call (919) 739-6891 or visit online at the library website:www.waynecc.edu/library.\n",
        " \"\"\"\n",
        "\n",
        "# Format the prompt\n",
        "prompt_1 = f\"Context: {context_1}\\nAnswer the question: {question_1}\"\n",
        "\n",
        "# Generate the answer\n",
        "response_1 = text_generation(prompt_1, max_length=600, do_sample=True, num_return_sequences=1)\n",
        "\n",
        "# Extract the answer from the response\n",
        "answer_1 = response_1[0]['generated_text'].replace(prompt_1, '').strip()\n",
        "\n",
        "# Print the answer\n",
        "pprint.pprint(answer_1)"
      ],
      "metadata": {
        "colab": {
          "base_uri": "https://localhost:8080/"
        },
        "id": "_loS_YEkagi9",
        "outputId": "07939690-0439-46cf-b951-fc4b36e6e131"
      },
      "execution_count": null,
      "outputs": [
        {
          "output_type": "stream",
          "name": "stdout",
          "text": [
            "('Monday through Thursday - 7:45 a.m. to 7:00 p.m. Friday - 7:45 a.m. to 1:00 '\n",
            " 'p.m.')\n"
          ]
        }
      ]
    },
    {
      "cell_type": "code",
      "source": [
        "# Define a question and context\n",
        "question_1 = \"How do I search for articles in the Library?\"\n",
        "context_1 = \"\"\"\n",
        "The Dr. Clyde A. Erwin, Jr. Library \n",
        "provides resources to assist students, faculty, and staff in their research and actively supports the College \n",
        "mission by the ongoing development of a print and electronic collection devoted to enhancing the curriculum. \n",
        "Library services are offered to traditional students and distance learners, as well as to the general public \n",
        "of Wayne County.\n",
        "Offerings of the Library include the following:\n",
        "Over 36,000 circulating print books supplemented by nearly 400,000 ebooks\n",
        "Over 80,000 streaming videos\n",
        "Thousands of fully-searchable online magazines, newspapers and journals available for in-library and remote use\n",
        "32 desktop computers and headphones for research and homework with WCC username login or guest pass\n",
        "The WCC Single Search discovery service, providing access to NCLIVE along with 62 other research databases \n",
        "for article, ebook and digital video resources Customizable information literacy or group study sessions in the \n",
        "Library Literacy Lab as well as presentations given off-site or available in Moodle course pages Services for \n",
        "creating scans, photocopying, laser printing and wireless printing Reference and research assistance in person, \n",
        "by telephone or e-mail 4 group study pods seating 6-8 people and a larger literacy lab offering many wall- and \n",
        "table-mounted outlets for reservation or use on a first-come, first-served basis\n",
        "Hours of operation are:\n",
        "Monday through Thursday - 7:45 a.m. to 7:00 p.m.\n",
        "Friday - 7:45 a.m. to 1:00 p.m.\n",
        "(Hours may vary during Summer Term.)\n",
        "The Dr. Clyde A. Erwin, Jr. Library is located on the third floor of the Wayne Learning Center building. \n",
        "For more information, call (919) 739-6891 or visit online at the library website:www.waynecc.edu/library.\n",
        " \"\"\"\n",
        "\n",
        "# Format the prompt\n",
        "prompt_1 = f\"Context: {context_1}\\nAnswer the question: {question_1}\"\n",
        "\n",
        "# Generate the answer\n",
        "response_1 = text_generation(prompt_1, max_length=600, do_sample=True, num_return_sequences=1)\n",
        "\n",
        "# Extract the answer from the response\n",
        "answer_1 = response_1[0]['generated_text'].replace(prompt_1, '').strip()\n",
        "\n",
        "# Print the answer\n",
        "pprint.pprint(answer_1)"
      ],
      "metadata": {
        "outputId": "2f29b04e-fc23-4846-fc7a-c4ace1ad5526",
        "colab": {
          "base_uri": "https://localhost:8080/"
        },
        "id": "NebkPUm6fbmN"
      },
      "execution_count": null,
      "outputs": [
        {
          "output_type": "stream",
          "name": "stdout",
          "text": [
            "('The WCC Single Search discovery service, providing access to NCLIVE along '\n",
            " 'with 62 other research databases for article, ebook and digital video '\n",
            " 'resources')\n"
          ]
        }
      ]
    },
    {
      "cell_type": "markdown",
      "source": [
        "I wanted to see how effective this pipeline was for emergencies where it may be important for students and staff to be informed."
      ],
      "metadata": {
        "id": "5kq0XhlHjiRd"
      }
    },
    {
      "cell_type": "code",
      "source": [
        "# Define a question and context\n",
        "question_1 = \"Where do I go in a tornado warning?\"\n",
        "context_1 = \"\"\"\n",
        "Severe Weather Alert\n",
        "In the event that a severe weather warning presents an immediate threat to WCC facilities, the campus will be alerted by the Bison Alert system and the following plan will be activated. If time permits, disconnect all electrical and computer equipment and close all windows before you leave your area.\n",
        "Azalea, Dogwood, Holly, Magnolia, Pine, Spruce, and Walnut Buildings:  Occupants should immediately proceed to the first and second floors of their respective buildings and assemble in the interior rooms, hallways, or stairs away from any outside doors and windows and wait for further instructions from Campus Police.\n",
        "Ash Building:  Occupants should immediately proceed to the first floor of the building and assemble on the first floor in the Storage Room 126, 103, or Break Room 118.  Stay away from glass walls and windows and wait for further instructions from Campus Police.\n",
        "Aviation Building: All individuals should immediately proceed to the Aviation classroom building interior hallway, rest rooms, kitchenette, offices, etc.  Stay away from outside doors and windows and wait for further instructions from Campus Police.\n",
        "Hocutt Building: Occupants should immediately proceed to the ﬁrst ﬂoor and assemble in the interior rooms, hallways, or stairs away from any outside doors and windows and wait for further instructions from Campus Police.\n",
        "Cedar and Oak Buildings: All individuals should immediately proceed to the interior hallway or rooms with no outside doors or windows.  Stay as far as possible away from windows and exterior doors  Individuals should wait there for further instructions from Campus Police.\n",
        "WLC Building: All individuals on the first floor should immediately proceed to the Moffatt Auditorium and move to the first row and fill in from the middle of the row in the center or inside out on the right and left wings so everyone can find a seat as quickly as possible.  If the Moffatt Auditorium is already at capacity, go to the interior hallways, restrooms, break rooms, kitchenettes, office areas, and other interior spaces with no outside doors or windows on the first and second floors, and wait for further instructions from Campus Police.  On the second and third floors, avoid outside doors and windows, including those facing the atrium.\n",
        "Elsewhere on Campus:  Individuals in service buildings or elsewhere on the grounds should seek immediate shelter in the nearest brick building or lay flat in a ditch or other low-lying area if time does not permit getting inside a building.\n",
        "Everyone is to remain in the safe area(s) until notified by Campus Police that all is clear. \n",
        "\"\"\"\n",
        "\n",
        "# Format the prompt\n",
        "prompt_1 = f\"Context: {context_1}\\nAnswer the question: {question_1}\"\n",
        "\n",
        "# Generate the answer\n",
        "response_1 = text_generation(prompt_1, max_length=600, min_length=15, do_sample=True, num_return_sequences=1)\n",
        "\n",
        "# Extract the answer from the response\n",
        "answer_1 = response_1[0]['generated_text'].replace(prompt_1, '').strip()\n",
        "\n",
        "# Print the answer\n",
        "pprint.pprint(answer_1)"
      ],
      "metadata": {
        "colab": {
          "base_uri": "https://localhost:8080/"
        },
        "id": "AXzE2Y4adhfE",
        "outputId": "2c26a56d-505b-4c24-dff3-152a3b537fd8"
      },
      "execution_count": null,
      "outputs": [
        {
          "output_type": "stream",
          "name": "stdout",
          "text": [
            "('WLC Building: All individuals on the first floor should immediately proceed '\n",
            " 'to the Moffatt Auditorium and move to the first row and fill in from the '\n",
            " 'middle of the row in the center or inside out on the right and left wings so '\n",
            " 'everyone can find a seat as quickly as possible')\n"
          ]
        }
      ]
    },
    {
      "cell_type": "markdown",
      "source": [
        "Sound advice but I'm sure someone would want to know the specifics..."
      ],
      "metadata": {
        "id": "ssRZuIzVrdl8"
      }
    },
    {
      "cell_type": "code",
      "source": [
        "# Define a question and context\n",
        "question_1 = \"How will the campus be alerted in case of severe weather warnings?\"\n",
        "context_1 = \"\"\"\n",
        "Severe Weather Alert\n",
        "In the event that a severe weather warning presents an immediate threat to WCC facilities, the campus will be alerted by the Bison Alert system and the following plan will be activated. If time permits, disconnect all electrical and computer equipment and close all windows before you leave your area.\n",
        "Azalea, Dogwood, Holly, Magnolia, Pine, Spruce, and Walnut Buildings:  Occupants should immediately proceed to the first and second floors of their respective buildings and assemble in the interior rooms, hallways, or stairs away from any outside doors and windows and wait for further instructions from Campus Police.\n",
        "Ash Building:  Occupants should immediately proceed to the first floor of the building and assemble on the first floor in the Storage Room 126, 103, or Break Room 118.  Stay away from glass walls and windows and wait for further instructions from Campus Police.\n",
        "Aviation Building: All individuals should immediately proceed to the Aviation classroom building interior hallway, rest rooms, kitchenette, offices, etc.  Stay away from outside doors and windows and wait for further instructions from Campus Police.\n",
        "Hocutt Building: Occupants should immediately proceed to the ﬁrst ﬂoor and assemble in the interior rooms, hallways, or stairs away from any outside doors and windows and wait for further instructions from Campus Police.\n",
        "Cedar and Oak Buildings: All individuals should immediately proceed to the interior hallway or rooms with no outside doors or windows.  Stay as far as possible away from windows and exterior doors  Individuals should wait there for further instructions from Campus Police.\n",
        "WLC Building: All individuals on the first floor should immediately proceed to the Moffatt Auditorium and move to the first row and fill in from the middle of the row in the center or inside out on the right and left wings so everyone can find a seat as quickly as possible.  If the Moffatt Auditorium is already at capacity, go to the interior hallways, restrooms, break rooms, kitchenettes, office areas, and other interior spaces with no outside doors or windows on the first and second floors, and wait for further instructions from Campus Police.  On the second and third floors, avoid outside doors and windows, including those facing the atrium.\n",
        "Elsewhere on Campus:  Individuals in service buildings or elsewhere on the grounds should seek immediate shelter in the nearest brick building or lay flat in a ditch or other low-lying area if time does not permit getting inside a building.\n",
        "Everyone is to remain in the safe area(s) until notified by Campus Police that all is clear. \n",
        "\"\"\"\n",
        "\n",
        "# Format the prompt\n",
        "prompt_1 = f\"Context: {context_1}\\nAnswer the question: {question_1}\"\n",
        "\n",
        "# Generate the answer\n",
        "response_1 = text_generation(prompt_1, max_length=600, min_length=15, do_sample=True, num_return_sequences=1)\n",
        "\n",
        "# Extract the answer from the response\n",
        "answer_1 = response_1[0]['generated_text'].replace(prompt_1, '').strip()\n",
        "\n",
        "# Print the answer\n",
        "pprint.pprint(answer_1)"
      ],
      "metadata": {
        "outputId": "74a1ddff-d5d7-49d3-c1b0-982327513206",
        "colab": {
          "base_uri": "https://localhost:8080/"
        },
        "id": "0DNuh_7ejKbQ"
      },
      "execution_count": null,
      "outputs": [
        {
          "output_type": "stream",
          "name": "stdout",
          "text": [
            "('The Bison Alert system. This alert will be activated. If time permits, '\n",
            " 'disconnect all electrical and computer equipment and close all windows '\n",
            " 'before you leave your area. Azalea, Dogwood, Holly, Magnolia, PineJubiläum, '\n",
            " 'Spruce, Walnut Buildings')\n"
          ]
        }
      ]
    },
    {
      "cell_type": "code",
      "source": [
        "# Define a question and context\n",
        "question_1 = \"How long should people remain in safe areas during a tornado warning?\"\n",
        "context_1 = \"\"\"\n",
        "Severe Weather Alert\n",
        "In the event that a severe weather warning presents an immediate threat to WCC facilities, the campus will be alerted by the Bison Alert system and the following plan will be activated. If time permits, disconnect all electrical and computer equipment and close all windows before you leave your area.\n",
        "Azalea, Dogwood, Holly, Magnolia, Pine, Spruce, and Walnut Buildings:  Occupants should immediately proceed to the first and second floors of their respective buildings and assemble in the interior rooms, hallways, or stairs away from any outside doors and windows and wait for further instructions from Campus Police.\n",
        "Ash Building:  Occupants should immediately proceed to the first floor of the building and assemble on the first floor in the Storage Room 126, 103, or Break Room 118.  Stay away from glass walls and windows and wait for further instructions from Campus Police.\n",
        "Aviation Building: All individuals should immediately proceed to the Aviation classroom building interior hallway, rest rooms, kitchenette, offices, etc.  Stay away from outside doors and windows and wait for further instructions from Campus Police.\n",
        "Hocutt Building: Occupants should immediately proceed to the ﬁrst ﬂoor and assemble in the interior rooms, hallways, or stairs away from any outside doors and windows and wait for further instructions from Campus Police.\n",
        "Cedar and Oak Buildings: All individuals should immediately proceed to the interior hallway or rooms with no outside doors or windows.  Stay as far as possible away from windows and exterior doors  Individuals should wait there for further instructions from Campus Police.\n",
        "WLC Building: All individuals on the first floor should immediately proceed to the Moffatt Auditorium and move to the first row and fill in from the middle of the row in the center or inside out on the right and left wings so everyone can find a seat as quickly as possible.  If the Moffatt Auditorium is already at capacity, go to the interior hallways, restrooms, break rooms, kitchenettes, office areas, and other interior spaces with no outside doors or windows on the first and second floors, and wait for further instructions from Campus Police.  On the second and third floors, avoid outside doors and windows, including those facing the atrium.\n",
        "Elsewhere on Campus:  Individuals in service buildings or elsewhere on the grounds should seek immediate shelter in the nearest brick building or lay flat in a ditch or other low-lying area if time does not permit getting inside a building.\n",
        "Everyone is to remain in the safe area(s) until notified by Campus Police that all is clear. \n",
        "\"\"\"\n",
        "\n",
        "# Format the prompt\n",
        "prompt_1 = f\"Context: {context_1}\\nAnswer the question: {question_1}\"\n",
        "\n",
        "# Generate the answer\n",
        "response_1 = text_generation(prompt_1, max_length=600, min_length=15, do_sample=True, num_return_sequences=1)\n",
        "\n",
        "# Extract the answer from the response\n",
        "answer_1 = response_1[0]['generated_text'].replace(prompt_1, '').strip()\n",
        "\n",
        "# Print the answer\n",
        "pprint.pprint(answer_1)"
      ],
      "metadata": {
        "id": "0H7tmcuXjTma",
        "outputId": "d0072694-2a6a-4fa8-d493-6080056a184f",
        "colab": {
          "base_uri": "https://localhost:8080/"
        }
      },
      "execution_count": null,
      "outputs": [
        {
          "output_type": "stream",
          "name": "stdout",
          "text": [
            "('1 hour unless otherwise instructed by Campus police. After an order is given '\n",
            " 'students must return their classrooms')\n"
          ]
        }
      ]
    },
    {
      "cell_type": "markdown",
      "source": [
        "Wow...\n",
        "\n",
        "# Zero-Shot Classification \n",
        "\n",
        "Out performs traditional supervised learning models (But that is too be expected) \n",
        "\n",
        "In an extractive question answering pipeline, the model is trained on a labeled dataset where each example consists of a question and a corresponding paragraph or document from which the answer needs to be extracted. During training, the model learns to identify the relevant passages from the given context that contain the answer to the question. This is typically achieved by training the model to predict the start and end positions of the answer span within the given context.\n",
        "\n",
        "In contrast, zero-shot classification requires minimal labeled data and can generalize to new categories that were not present during training! \n",
        "\n"
      ],
      "metadata": {
        "id": "tkLGXXZQrovf"
      }
    },
    {
      "cell_type": "markdown",
      "source": [
        "# For demo purposes\n",
        "\n",
        "Often times, you have to present the functionality of your model to someone who doesn't understand the background details. For this you can use the gradio library (I found this to be really helpful on the hugging face website)\n",
        "\n",
        "The Gradio library allows you to create interactive user interfaces (UI) for your machine learning models, making it easy for anyone to experiment with your model's inputs and visualize the outputs. Gradio can be used to create UIs for a variety of model types, such as text generation, image classification, object detection, and more."
      ],
      "metadata": {
        "id": "4DjOAy8jkAr1"
      }
    },
    {
      "cell_type": "code",
      "source": [
        "import gradio as gr\n",
        "\n",
        "text_generation = pipeline(\"text2text-generation\", model=\"bigscience/T0_3B\")\n",
        "\n",
        "def generate_answer(question, context):\n",
        "    prompt = f\"Context: {context}\\nAnswer the question: {question}\"\n",
        "    response = text_generation(prompt, max_length=600, do_sample=True, num_return_sequences=1)\n",
        "    answer = response[0]['generated_text'].replace(prompt, '').strip()\n",
        "    return answer\n",
        "\n",
        "def gradio_interface(question, context):\n",
        "    return generate_answer(question, context)\n",
        "\n",
        "iface = gr.Interface(\n",
        "    fn=gradio_interface,\n",
        "    inputs=[\"text\", \"text\"],\n",
        "    outputs=\"text\",\n",
        "    example = []\n",
        "   \n",
        ")\n",
        "iface.launch()"
      ],
      "metadata": {
        "id": "jw3h4hkrkAC-",
        "outputId": "90470b75-ddf6-41b2-b77e-2d6a714d2c19",
        "colab": {
          "base_uri": "https://localhost:8080/",
          "height": 673
        }
      },
      "execution_count": null,
      "outputs": [
        {
          "output_type": "stream",
          "name": "stderr",
          "text": [
            "/usr/local/lib/python3.9/dist-packages/gradio/deprecation.py:43: UserWarning: You have unused kwarg parameters in Interface, please remove them: {'example': []}\n",
            "  warnings.warn(\n"
          ]
        },
        {
          "output_type": "stream",
          "name": "stdout",
          "text": [
            "Colab notebook detected. To show errors in colab notebook, set debug=True in launch()\n",
            "Note: opening Chrome Inspector may crash demo inside Colab notebooks.\n",
            "\n",
            "To create a public link, set `share=True` in `launch()`.\n"
          ]
        },
        {
          "output_type": "display_data",
          "data": {
            "text/plain": [
              "<IPython.core.display.Javascript object>"
            ],
            "application/javascript": [
              "(async (port, path, width, height, cache, element) => {\n",
              "                        if (!google.colab.kernel.accessAllowed && !cache) {\n",
              "                            return;\n",
              "                        }\n",
              "                        element.appendChild(document.createTextNode(''));\n",
              "                        const url = await google.colab.kernel.proxyPort(port, {cache});\n",
              "\n",
              "                        const external_link = document.createElement('div');\n",
              "                        external_link.innerHTML = `\n",
              "                            <div style=\"font-family: monospace; margin-bottom: 0.5rem\">\n",
              "                                Running on <a href=${new URL(path, url).toString()} target=\"_blank\">\n",
              "                                    https://localhost:${port}${path}\n",
              "                                </a>\n",
              "                            </div>\n",
              "                        `;\n",
              "                        element.appendChild(external_link);\n",
              "\n",
              "                        const iframe = document.createElement('iframe');\n",
              "                        iframe.src = new URL(path, url).toString();\n",
              "                        iframe.height = height;\n",
              "                        iframe.allow = \"autoplay; camera; microphone; clipboard-read; clipboard-write;\"\n",
              "                        iframe.width = width;\n",
              "                        iframe.style.border = 0;\n",
              "                        element.appendChild(iframe);\n",
              "                    })(7860, \"/\", \"100%\", 500, false, window.element)"
            ]
          },
          "metadata": {}
        },
        {
          "output_type": "execute_result",
          "data": {
            "text/plain": []
          },
          "metadata": {},
          "execution_count": 52
        }
      ]
    }
  ]
}