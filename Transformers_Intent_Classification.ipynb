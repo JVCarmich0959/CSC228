{
  "cells": [
    {
      "cell_type": "markdown",
      "metadata": {
        "id": "view-in-github",
        "colab_type": "text"
      },
      "source": [
        "<a href=\"https://colab.research.google.com/github/JVCarmich0959/CSC228/blob/main/Transformers_Intent_Classification.ipynb\" target=\"_parent\"><img src=\"https://colab.research.google.com/assets/colab-badge.svg\" alt=\"Open In Colab\"/></a>"
      ]
    },
    {
      "cell_type": "code",
      "execution_count": null,
      "metadata": {
        "id": "uZbWup4tJ2WI"
      },
      "outputs": [],
      "source": [
        "# Build a Text Classification / Intent Classification\n",
        "# Owner: Jacquelyn Carmichael\n",
        "# Based on Hugging Face and Dr. Tomek's examples\n",
        "# Date: 2021-05-25\n",
        "\n",
        "# link to my github repo: https://github.com/JVCarmich0959/CSC228/blob/main/College_Questions%20-%20Sheet1.csv\n",
        "# https: //huggingface.co/\n"
      ]
    },
    {
      "cell_type": "markdown",
      "metadata": {
        "id": "OugMKlgfJ2WJ"
      },
      "source": [
        "# Import necessary libraries and tools"
      ]
    },
    {
      "cell_type": "code",
      "execution_count": null,
      "metadata": {
        "id": "nyFan8mVJ2WK"
      },
      "outputs": [],
      "source": [
        "# Import PyTorch for tensor manipulation\n",
        "import torch\n",
        "\n",
        "# Import Pandas for data manipulation and handling\n",
        "import pandas as pd\n",
        "\n",
        "# Import softmax function for probability computation\n",
        "from torch.nn.functional import softmax\n",
        "\n",
        "# Import Hugging Face Transformers classes for model handling and training\n",
        "from transformers import (\n",
        "    AutoTokenizer,\n",
        "    AutoModelForSequenceClassification,\n",
        "    Trainer,\n",
        "    TrainingArguments,\n",
        "    pipeline,\n",
        ")\n",
        "\n",
        "# Import scikit-learn classes for data preprocessing and evaluation\n",
        "from sklearn.preprocessing import LabelEncoder\n",
        "from sklearn.model_selection import train_test_split\n",
        "from sklearn.metrics import accuracy_score, precision_recall_fscore_support\n",
        "\n",
        "# Import specific Hugging Face Transformers classes for BERT model\n",
        "from transformers import (\n",
        "    BertTokenizer,\n",
        "    BertForSequenceClassification,\n",
        "    Trainer,\n",
        "    TrainingArguments,\n",
        ")\n"
      ]
    },
    {
      "cell_type": "markdown",
      "metadata": {
        "id": "t3IFy887J2WL"
      },
      "source": [
        "# Load a dataset of questions and their categories from a GitHub link."
      ]
    },
    {
      "cell_type": "code",
      "execution_count": null,
      "metadata": {
        "id": "rhLf8bsAJ2WL"
      },
      "outputs": [],
      "source": [
        "# Define the URL for the dataset hosted on GitHub\n",
        "url = 'https://raw.githubusercontent.com/JVCarmich0959/CSC228/main/Intent_Classification_College_Questions%20-%20Sheet1.csv'\n",
        "\n",
        "# Load the dataset into a Pandas DataFrame by reading from the URL\n",
        "df = pd.read_csv(url)\n"
      ]
    },
    {
      "cell_type": "markdown",
      "metadata": {
        "id": "XRVmxkOCJ2WL"
      },
      "source": [
        "# Split the dataset into training and testing sets, so the model can learn from one part and be tested on another"
      ]
    },
    {
      "cell_type": "code",
      "execution_count": null,
      "metadata": {
        "id": "fc5TZt6DJ2WL"
      },
      "outputs": [],
      "source": [
        "# Split the data into training and testing\n",
        "train_df, test_df = train_test_split(df, test_size=0.2, random_state=42)"
      ]
    },
    {
      "cell_type": "markdown",
      "metadata": {
        "id": "IFoBXJuOJ2WL"
      },
      "source": [
        "# Pre-process and tokenize the text in the dataset, which means converting the words into a format the model can understand."
      ]
    },
    {
      "cell_type": "code",
      "execution_count": null,
      "metadata": {
        "id": "khlXFu_-J2WM"
      },
      "outputs": [],
      "source": [
        "# Instantiate a BERT tokenizer using the pre-trained \"bert-base-uncased\" model\n",
        "tokenizer = BertTokenizer.from_pretrained(\"bert-base-uncased\")\n",
        "\n",
        "# Tokenize the training dataset questions and apply truncation and padding\n",
        "train_encodings = tokenizer(train_df['Questions'].tolist(), truncation=True, padding=True)\n",
        "\n",
        "# Tokenize the testing dataset questions and apply truncation and padding\n",
        "test_encodings = tokenizer(test_df['Questions'].tolist(), truncation=True, padding=True)\n"
      ]
    },
    {
      "cell_type": "markdown",
      "metadata": {
        "id": "yOD9h_WZJ2WM"
      },
      "source": [
        "# Encode the categories (or \"intents\") of the questions into numbers"
      ]
    },
    {
      "cell_type": "code",
      "execution_count": null,
      "metadata": {
        "id": "lt3Wm_G7J2WM"
      },
      "outputs": [],
      "source": [
        "# Instantiate a LabelEncoder for encoding intent labels\n",
        "le = LabelEncoder()\n",
        "\n",
        "# Fit the LabelEncoder on the training dataset intent labels and transform them into numerical labels\n",
        "train_labels = le.fit_transform(train_df['Intent Labels'])\n",
        "\n",
        "# Transform the test dataset intent labels into numerical labels using the fitted LabelEncoder\n",
        "test_labels = le.transform(test_df['Intent Labels'])\n"
      ]
    },
    {
      "cell_type": "markdown",
      "metadata": {
        "id": "LWhq6akPJ2WM"
      },
      "source": [
        "# Create a custom dataset with the tokenized text and encoded categories."
      ]
    },
    {
      "cell_type": "code",
      "execution_count": null,
      "metadata": {
        "id": "MTpS4PgiJ2WM"
      },
      "outputs": [],
      "source": [
        "# Define a custom PyTorch Dataset class for the tokenized data and labels\n",
        "class IntentDataset(torch.utils.data.Dataset):\n",
        "    def __init__(self, encodings, labels):\n",
        "        self.encodings = encodings\n",
        "        self.labels = labels\n",
        "\n",
        "    # Get an item from the dataset by index\n",
        "    def __getitem__(self, idx):\n",
        "        # Create a dictionary with encodings for the item at the given index\n",
        "        item = {key: torch.tensor(val[idx]) for key, val in self.encodings.items()}\n",
        "        \n",
        "        # Add the corresponding label to the item dictionary\n",
        "        item['labels'] = torch.tensor(self.labels[idx])\n",
        "        \n",
        "        # Return the item dictionary\n",
        "        return item\n",
        "\n",
        "    # Get the length of the dataset (number of items)\n",
        "    def __len__(self):\n",
        "        return len(self.labels)\n",
        "\n",
        "# Create training and testing datasets using the custom PyTorch Dataset class\n",
        "train_dataset = IntentDataset(train_encodings, train_labels)\n",
        "test_dataset = IntentDataset(test_encodings, test_labels)\n"
      ]
    },
    {
      "cell_type": "markdown",
      "metadata": {
        "id": "qxX2AJjDJ2WM"
      },
      "source": [
        "# Loading the pre-trained BERT model\n",
        "\n",
        "BERT is a popular machine learning model for understanding language. It was trained on a huge amount of text from Wikipedia and other sources, and it also used for predictive text like on our cellphones.\n",
        "\n",
        "# Training Parameters:\n",
        "\n",
        "Training parameters allow you to finetune the model to your specific dataset. You can change the number of epochs, the learning rate, and the batch size."
      ]
    },
    {
      "cell_type": "code",
      "execution_count": null,
      "metadata": {
        "id": "gXdCoU8_J2WN",
        "outputId": "8b55321f-16fc-4c6a-b719-a30ad18ac8f6",
        "colab": {
          "referenced_widgets": [
            "a176e76c79464af09fed4ffdaf2be745",
            "0a5b66c9eefc4af5aa135e75e12cab57",
            "daf2d6b9026f4793b22bba7eae214c88",
            "142e2252ff2a4aa7a86e3ae9da192eba"
          ]
        }
      },
      "outputs": [
        {
          "name": "stderr",
          "output_type": "stream",
          "text": [
            "Some weights of the model checkpoint at bert-base-uncased were not used when initializing BertForSequenceClassification: ['cls.predictions.bias', 'cls.seq_relationship.weight', 'cls.predictions.transform.dense.bias', 'cls.predictions.transform.LayerNorm.bias', 'cls.predictions.transform.dense.weight', 'cls.predictions.transform.LayerNorm.weight', 'cls.seq_relationship.bias', 'cls.predictions.decoder.weight']\n",
            "- This IS expected if you are initializing BertForSequenceClassification from the checkpoint of a model trained on another task or with another architecture (e.g. initializing a BertForSequenceClassification model from a BertForPreTraining model).\n",
            "- This IS NOT expected if you are initializing BertForSequenceClassification from the checkpoint of a model that you expect to be exactly identical (initializing a BertForSequenceClassification model from a BertForSequenceClassification model).\n",
            "Some weights of BertForSequenceClassification were not initialized from the model checkpoint at bert-base-uncased and are newly initialized: ['classifier.bias', 'classifier.weight']\n",
            "You should probably TRAIN this model on a down-stream task to be able to use it for predictions and inference.\n",
            "/Users/jvcarmichael94/Library/Python/3.9/lib/python/site-packages/transformers/optimization.py:391: FutureWarning: This implementation of AdamW is deprecated and will be removed in a future version. Use the PyTorch implementation torch.optim.AdamW instead, or set `no_deprecation_warning=True` to disable this warning\n",
            "  warnings.warn(\n"
          ]
        },
        {
          "data": {
            "application/vnd.jupyter.widget-view+json": {
              "model_id": "a176e76c79464af09fed4ffdaf2be745",
              "version_major": 2,
              "version_minor": 0
            },
            "text/plain": [
              "  0%|          | 0/15 [00:00<?, ?it/s]"
            ]
          },
          "metadata": {},
          "output_type": "display_data"
        },
        {
          "data": {
            "application/vnd.jupyter.widget-view+json": {
              "model_id": "0a5b66c9eefc4af5aa135e75e12cab57",
              "version_major": 2,
              "version_minor": 0
            },
            "text/plain": [
              "  0%|          | 0/2 [00:00<?, ?it/s]"
            ]
          },
          "metadata": {},
          "output_type": "display_data"
        },
        {
          "name": "stdout",
          "output_type": "stream",
          "text": [
            "{'eval_loss': 1.4738280773162842, 'eval_runtime': 0.2024, 'eval_samples_per_second': 49.403, 'eval_steps_per_second': 9.881, 'epoch': 1.0}\n",
            "{'loss': 1.7591, 'learning_rate': 1.0000000000000002e-06, 'epoch': 2.0}\n"
          ]
        },
        {
          "data": {
            "application/vnd.jupyter.widget-view+json": {
              "model_id": "daf2d6b9026f4793b22bba7eae214c88",
              "version_major": 2,
              "version_minor": 0
            },
            "text/plain": [
              "  0%|          | 0/2 [00:00<?, ?it/s]"
            ]
          },
          "metadata": {},
          "output_type": "display_data"
        },
        {
          "name": "stdout",
          "output_type": "stream",
          "text": [
            "{'eval_loss': 1.4729316234588623, 'eval_runtime': 0.1574, 'eval_samples_per_second': 63.517, 'eval_steps_per_second': 12.703, 'epoch': 2.0}\n"
          ]
        },
        {
          "data": {
            "application/vnd.jupyter.widget-view+json": {
              "model_id": "142e2252ff2a4aa7a86e3ae9da192eba",
              "version_major": 2,
              "version_minor": 0
            },
            "text/plain": [
              "  0%|          | 0/2 [00:00<?, ?it/s]"
            ]
          },
          "metadata": {},
          "output_type": "display_data"
        },
        {
          "name": "stdout",
          "output_type": "stream",
          "text": [
            "{'eval_loss': 1.473083257675171, 'eval_runtime': 0.1433, 'eval_samples_per_second': 69.772, 'eval_steps_per_second': 13.954, 'epoch': 3.0}\n",
            "{'train_runtime': 17.7661, 'train_samples_per_second': 6.754, 'train_steps_per_second': 0.844, 'train_loss': 1.7499298095703124, 'epoch': 3.0}\n"
          ]
        },
        {
          "data": {
            "text/plain": [
              "TrainOutput(global_step=15, training_loss=1.7499298095703124, metrics={'train_runtime': 17.7661, 'train_samples_per_second': 6.754, 'train_steps_per_second': 0.844, 'train_loss': 1.7499298095703124, 'epoch': 3.0})"
            ]
          },
          "execution_count": 31,
          "metadata": {},
          "output_type": "execute_result"
        }
      ],
      "source": [
        "# Fine-tune a BERT model for sequence classification using the Hugging Face Trainer\n",
        "model = BertForSequenceClassification.from_pretrained(\"bert-base-uncased\", num_labels=len(le.classes_))\n",
        "\n",
        "# Define training arguments for fine-tuning\n",
        "training_args = TrainingArguments(\n",
        "    output_dir='./results',\n",
        "    num_train_epochs=3,\n",
        "    per_device_train_batch_size=8,\n",
        "    per_device_eval_batch_size=8,\n",
        "    warmup_steps=500,\n",
        "    weight_decay=0.01,\n",
        "    logging_dir='./logs',\n",
        "    logging_steps=10,\n",
        "    save_strategy=\"epoch\",\n",
        "    load_best_model_at_end=True,\n",
        "    evaluation_strategy=\"epoch\"\n",
        ")\n",
        "\n",
        "# Instantiate the Hugging Face Trainer with the model, training arguments, and datasets\n",
        "trainer = Trainer(\n",
        "    model=model,\n",
        "    args=training_args,\n",
        "    train_dataset=train_dataset,\n",
        "    eval_dataset=test_dataset\n",
        ")\n",
        "\n",
        "# Start the fine-tuning process\n",
        "trainer.train()\n"
      ]
    },
    {
      "cell_type": "code",
      "execution_count": null,
      "metadata": {
        "id": "OAWVZ02EJ2WN"
      },
      "outputs": [],
      "source": [
        "# Save the fine-tuned BERT model to a directory named \"fine_tuned_bert\"\n",
        "model.save_pretrained(\"fine_tuned_bert\")\n",
        "\n",
        "# Save the LabelEncoder's class labels to a file named \"label_encoder_classes.npy\"\n",
        "le.classes_.dump(\"label_encoder_classes.npy\")\n"
      ]
    },
    {
      "cell_type": "code",
      "execution_count": null,
      "metadata": {
        "id": "zvteLurPJ2WN"
      },
      "outputs": [],
      "source": [
        "# Extract the unique intent labels from the DataFrame\n",
        "intents = df['Intent Labels'].unique().tolist()\n",
        "\n",
        "# Extract the list of questions (utterances) from the DataFrame\n",
        "utterances = df['Questions'].tolist()\n"
      ]
    },
    {
      "cell_type": "markdown",
      "metadata": {
        "id": "6WmpQwJ9J2WO"
      },
      "source": [
        "# Zero shot Classification\n",
        "\n",
        "What is it?\n",
        "\n",
        "Zero shot classification is a method of classification where you don't have to train a model on the data. You can use a pre-trained model and use it to classify your data. This is useful when you don't have enough data to train a model on\n",
        "\n",
        "How does it work?\n",
        "\n",
        "The model is trained on a dataset of text and labels. The model is then used to classify new text. The model will output a probability for each label. The label with the highest probability is the one that the model thinks the text belongs to.\n"
      ]
    },
    {
      "cell_type": "markdown",
      "metadata": {
        "id": "0JwQkJMeJ2WO"
      },
      "source": [
        "# BART-Large-MNLI\n",
        "\n",
        "BART-Large-MNLI is a pre-trained model that was trained on the MNLI dataset. The MNLI dataset is a dataset of text and labels. The labels are either \"entailment\", \"neutral\", or \"contradiction\". This provides a good starting point for zero shot classification, and \"transfer learning\".\n",
        "\n"
      ]
    },
    {
      "cell_type": "markdown",
      "metadata": {
        "id": "DygpPegdJ2WO"
      },
      "source": [
        "# Calling our pipeline"
      ]
    },
    {
      "cell_type": "code",
      "execution_count": null,
      "metadata": {
        "id": "lNqxtZgyJ2WO"
      },
      "outputs": [],
      "source": [
        "# Instantiate the zero-shot classifier\n",
        "zero_shot_classifier = pipeline(\"zero-shot-classification\", model=\"facebook/bart-large-mnli\")"
      ]
    },
    {
      "cell_type": "markdown",
      "metadata": {
        "id": "vJrOq0i5J2WO"
      },
      "source": [
        "# The predict_intent function:\n",
        "I use this to predict the category of a question using the pipeline we just instanced above. The function takes in a question and returns the predicted category."
      ]
    },
    {
      "cell_type": "code",
      "execution_count": null,
      "metadata": {
        "id": "R4hvMg_WJ2WO"
      },
      "outputs": [],
      "source": [
        "# Define a function to predict the intent of a given text using the zero-shot classifier\n",
        "def predict_intent(text):\n",
        "    # Use the zero-shot classifier to make a prediction for the input text\n",
        "    prediction = zero_shot_classifier(text, intents, multi_label=True)\n",
        "    \n",
        "    # Return the top predicted label from the prediction results\n",
        "    return prediction['labels'][0]\n"
      ]
    },
    {
      "cell_type": "code",
      "execution_count": null,
      "metadata": {
        "id": "kiKQWN0KJ2WO"
      },
      "outputs": [],
      "source": [
        "# Get predictions and add them to the DataFrame\n",
        "df['Zero-Shot Prediction'] = [predict_intent(u) for u in utterances]"
      ]
    },
    {
      "cell_type": "code",
      "execution_count": null,
      "metadata": {
        "id": "IW6MJvzwJ2WO"
      },
      "outputs": [],
      "source": [
        "# Predict categories for test set questions using zero-shot classifier\n",
        "test_df['Zero-Shot Prediction'] = [predict_intent(u) for u in test_df['Questions']]\n",
        "\n",
        "# Function to predict category using fine-tuned BERT model\n",
        "def predict_intent_bert(text):\n",
        "    # Tokenize input text\n",
        "    inputs = tokenizer(text, padding=True, truncation=True, return_tensors=\"pt\")\n",
        "    \n",
        "    # Get model output for tokenized text\n",
        "    outputs = model(**inputs)\n",
        "    \n",
        "    # Extract logits from model output\n",
        "    logits = outputs.logits\n",
        "    \n",
        "    # Compute softmax probabilities from logits\n",
        "    softmax_probs = softmax(logits, dim=1)\n",
        "    \n",
        "    # Find index of highest probability for predicted category\n",
        "    predicted_label_idx = torch.argmax(softmax_probs, dim=1)\n",
        "    \n",
        "    # Convert predicted index back to category label\n",
        "    predicted_label = le.inverse_transform(predicted_label_idx)\n",
        "    \n",
        "    # Return predicted category label\n",
        "    return predicted_label[0]\n",
        "\n",
        "# Get predictions for all questions in dataset using fine-tuned BERT model\n",
        "df['BERT Prediction'] = [predict_intent_bert(u) for u in utterances]\n",
        "\n",
        "# Predict categories for test set questions using fine-tuned BERT model\n",
        "test_df['BERT Prediction'] = [predict_intent_bert(u) for u in test_df['Questions']]\n",
        "\n",
        "# Predict catefories for test set questions using zero-shot classifier\n",
        "test_df['Zero-Shot Prediction'] = [predict_intent(u) for u in test_df['Questions']]"
      ]
    },
    {
      "cell_type": "code",
      "execution_count": null,
      "metadata": {
        "id": "-OsqQdZiJ2WO",
        "outputId": "b2cefb9d-af90-463c-8c97-ddcaf91768cb"
      },
      "outputs": [
        {
          "data": {
            "text/html": [
              "<div>\n",
              "<style scoped>\n",
              "    .dataframe tbody tr th:only-of-type {\n",
              "        vertical-align: middle;\n",
              "    }\n",
              "\n",
              "    .dataframe tbody tr th {\n",
              "        vertical-align: top;\n",
              "    }\n",
              "\n",
              "    .dataframe thead th {\n",
              "        text-align: right;\n",
              "    }\n",
              "</style>\n",
              "<table border=\"1\" class=\"dataframe\">\n",
              "  <thead>\n",
              "    <tr style=\"text-align: right;\">\n",
              "      <th></th>\n",
              "      <th>Intent Labels</th>\n",
              "      <th>Questions</th>\n",
              "      <th>Contexts</th>\n",
              "      <th>Answers</th>\n",
              "      <th>Zero-Shot Prediction</th>\n",
              "      <th>BERT Prediction</th>\n",
              "    </tr>\n",
              "  </thead>\n",
              "  <tbody>\n",
              "    <tr>\n",
              "      <th>13</th>\n",
              "      <td>Student_Activities</td>\n",
              "      <td>What is the purpose of clubs and organizations...</td>\n",
              "      <td>Students come to Wayne Community College to ge...</td>\n",
              "      <td>Clubs and organizations provide social and aca...</td>\n",
              "      <td>Student_Activities</td>\n",
              "      <td>Admissions</td>\n",
              "    </tr>\n",
              "    <tr>\n",
              "      <th>39</th>\n",
              "      <td>About_College</td>\n",
              "      <td>How does Wayne Community College contribute to...</td>\n",
              "      <td>For more than 60 years students have passed th...</td>\n",
              "      <td>WCC provides access to high-quality education ...</td>\n",
              "      <td>About_College</td>\n",
              "      <td>Admissions</td>\n",
              "    </tr>\n",
              "    <tr>\n",
              "      <th>30</th>\n",
              "      <td>About_College</td>\n",
              "      <td>What degrees and programs are offered at Wayne...</td>\n",
              "      <td>For more than 60 years students have passed th...</td>\n",
              "      <td>WCC offers  more than 165 degree, diploma, cer...</td>\n",
              "      <td>About_College</td>\n",
              "      <td>Admissions</td>\n",
              "    </tr>\n",
              "    <tr>\n",
              "      <th>45</th>\n",
              "      <td>Admissions</td>\n",
              "      <td>How can I send my transcripts to Wayne Communi...</td>\n",
              "      <td>New Student\\nStep 1 – Complete Application\\nAp...</td>\n",
              "      <td>Transcripts can be sent electronically to wcc-...</td>\n",
              "      <td>About_College</td>\n",
              "      <td>Admissions</td>\n",
              "    </tr>\n",
              "    <tr>\n",
              "      <th>17</th>\n",
              "      <td>Student_Activities</td>\n",
              "      <td>What amenities are available in the student lo...</td>\n",
              "      <td>Students come to Wayne Community College to ge...</td>\n",
              "      <td>The student lounge includes a wide-screen tele...</td>\n",
              "      <td>Student_Activities</td>\n",
              "      <td>Admissions</td>\n",
              "    </tr>\n",
              "  </tbody>\n",
              "</table>\n",
              "</div>"
            ],
            "text/plain": [
              "         Intent Labels                                          Questions  \\\n",
              "13  Student_Activities  What is the purpose of clubs and organizations...   \n",
              "39       About_College  How does Wayne Community College contribute to...   \n",
              "30       About_College  What degrees and programs are offered at Wayne...   \n",
              "45          Admissions  How can I send my transcripts to Wayne Communi...   \n",
              "17  Student_Activities  What amenities are available in the student lo...   \n",
              "\n",
              "                                             Contexts  \\\n",
              "13  Students come to Wayne Community College to ge...   \n",
              "39  For more than 60 years students have passed th...   \n",
              "30  For more than 60 years students have passed th...   \n",
              "45  New Student\\nStep 1 – Complete Application\\nAp...   \n",
              "17  Students come to Wayne Community College to ge...   \n",
              "\n",
              "                                              Answers Zero-Shot Prediction  \\\n",
              "13  Clubs and organizations provide social and aca...   Student_Activities   \n",
              "39  WCC provides access to high-quality education ...        About_College   \n",
              "30  WCC offers  more than 165 degree, diploma, cer...        About_College   \n",
              "45  Transcripts can be sent electronically to wcc-...        About_College   \n",
              "17  The student lounge includes a wide-screen tele...   Student_Activities   \n",
              "\n",
              "   BERT Prediction  \n",
              "13      Admissions  \n",
              "39      Admissions  \n",
              "30      Admissions  \n",
              "45      Admissions  \n",
              "17      Admissions  "
            ]
          },
          "execution_count": 43,
          "metadata": {},
          "output_type": "execute_result"
        }
      ],
      "source": [
        "df[:5]\n"
      ]
    },
    {
      "cell_type": "code",
      "execution_count": null,
      "metadata": {
        "id": "CuhkE2joJ2WP",
        "outputId": "77b6a62b-5b77-4184-ca3a-6fc123c3d880"
      },
      "outputs": [
        {
          "data": {
            "text/html": [
              "<div>\n",
              "<style scoped>\n",
              "    .dataframe tbody tr th:only-of-type {\n",
              "        vertical-align: middle;\n",
              "    }\n",
              "\n",
              "    .dataframe tbody tr th {\n",
              "        vertical-align: top;\n",
              "    }\n",
              "\n",
              "    .dataframe thead th {\n",
              "        text-align: right;\n",
              "    }\n",
              "</style>\n",
              "<table border=\"1\" class=\"dataframe\">\n",
              "  <thead>\n",
              "    <tr style=\"text-align: right;\">\n",
              "      <th></th>\n",
              "      <th>Intent Labels</th>\n",
              "      <th>Questions</th>\n",
              "      <th>Contexts</th>\n",
              "      <th>Answers</th>\n",
              "      <th>Zero-Shot Prediction</th>\n",
              "      <th>BERT Prediction</th>\n",
              "    </tr>\n",
              "  </thead>\n",
              "  <tbody>\n",
              "    <tr>\n",
              "      <th>13</th>\n",
              "      <td>Student_Activities</td>\n",
              "      <td>What is the purpose of clubs and organizations...</td>\n",
              "      <td>Students come to Wayne Community College to ge...</td>\n",
              "      <td>Clubs and organizations provide social and aca...</td>\n",
              "      <td>Student_Activities</td>\n",
              "      <td>Admissions</td>\n",
              "    </tr>\n",
              "    <tr>\n",
              "      <th>39</th>\n",
              "      <td>About_College</td>\n",
              "      <td>How does Wayne Community College contribute to...</td>\n",
              "      <td>For more than 60 years students have passed th...</td>\n",
              "      <td>WCC provides access to high-quality education ...</td>\n",
              "      <td>About_College</td>\n",
              "      <td>Admissions</td>\n",
              "    </tr>\n",
              "    <tr>\n",
              "      <th>30</th>\n",
              "      <td>About_College</td>\n",
              "      <td>What degrees and programs are offered at Wayne...</td>\n",
              "      <td>For more than 60 years students have passed th...</td>\n",
              "      <td>WCC offers  more than 165 degree, diploma, cer...</td>\n",
              "      <td>About_College</td>\n",
              "      <td>Admissions</td>\n",
              "    </tr>\n",
              "    <tr>\n",
              "      <th>45</th>\n",
              "      <td>Admissions</td>\n",
              "      <td>How can I send my transcripts to Wayne Communi...</td>\n",
              "      <td>New Student\\nStep 1 – Complete Application\\nAp...</td>\n",
              "      <td>Transcripts can be sent electronically to wcc-...</td>\n",
              "      <td>About_College</td>\n",
              "      <td>Admissions</td>\n",
              "    </tr>\n",
              "    <tr>\n",
              "      <th>17</th>\n",
              "      <td>Student_Activities</td>\n",
              "      <td>What amenities are available in the student lo...</td>\n",
              "      <td>Students come to Wayne Community College to ge...</td>\n",
              "      <td>The student lounge includes a wide-screen tele...</td>\n",
              "      <td>Student_Activities</td>\n",
              "      <td>Admissions</td>\n",
              "    </tr>\n",
              "  </tbody>\n",
              "</table>\n",
              "</div>"
            ],
            "text/plain": [
              "         Intent Labels                                          Questions  \\\n",
              "13  Student_Activities  What is the purpose of clubs and organizations...   \n",
              "39       About_College  How does Wayne Community College contribute to...   \n",
              "30       About_College  What degrees and programs are offered at Wayne...   \n",
              "45          Admissions  How can I send my transcripts to Wayne Communi...   \n",
              "17  Student_Activities  What amenities are available in the student lo...   \n",
              "\n",
              "                                             Contexts  \\\n",
              "13  Students come to Wayne Community College to ge...   \n",
              "39  For more than 60 years students have passed th...   \n",
              "30  For more than 60 years students have passed th...   \n",
              "45  New Student\\nStep 1 – Complete Application\\nAp...   \n",
              "17  Students come to Wayne Community College to ge...   \n",
              "\n",
              "                                              Answers Zero-Shot Prediction  \\\n",
              "13  Clubs and organizations provide social and aca...   Student_Activities   \n",
              "39  WCC provides access to high-quality education ...        About_College   \n",
              "30  WCC offers  more than 165 degree, diploma, cer...        About_College   \n",
              "45  Transcripts can be sent electronically to wcc-...        About_College   \n",
              "17  The student lounge includes a wide-screen tele...   Student_Activities   \n",
              "\n",
              "   BERT Prediction  \n",
              "13      Admissions  \n",
              "39      Admissions  \n",
              "30      Admissions  \n",
              "45      Admissions  \n",
              "17      Admissions  "
            ]
          },
          "execution_count": 44,
          "metadata": {},
          "output_type": "execute_result"
        }
      ],
      "source": [
        "test_df[:5]"
      ]
    },
    {
      "cell_type": "code",
      "execution_count": null,
      "metadata": {
        "id": "ZfE0rEd-J2WP",
        "outputId": "1abf68ad-9882-4e71-a168-b99dce97d84b"
      },
      "outputs": [
        {
          "name": "stderr",
          "output_type": "stream",
          "text": [
            "/Users/jvcarmichael94/Library/Python/3.9/lib/python/site-packages/sklearn/metrics/_classification.py:1344: UndefinedMetricWarning: Precision is ill-defined and being set to 0.0 in labels with no predicted samples. Use `zero_division` parameter to control this behavior.\n",
            "  _warn_prf(average, modifier, msg_start, len(result))\n",
            "/Users/jvcarmichael94/Library/Python/3.9/lib/python/site-packages/sklearn/metrics/_classification.py:1344: UndefinedMetricWarning: Precision is ill-defined and being set to 0.0 in labels with no predicted samples. Use `zero_division` parameter to control this behavior.\n",
            "  _warn_prf(average, modifier, msg_start, len(result))\n"
          ]
        }
      ],
      "source": [
        "# Import evaluation metrics from the sklearn library\n",
        "from sklearn.metrics import accuracy_score, f1_score, precision_score, recall_score\n",
        "\n",
        "# Get the true intent labels from the test dataset\n",
        "true_labels = test_df['Intent Labels']\n",
        "\n",
        "# Calculate accuracy scores for both the zero-shot and BERT models\n",
        "zero_shot_accuracy = accuracy_score(true_labels, test_df['Zero-Shot Prediction'])\n",
        "bert_accuracy = accuracy_score(true_labels, test_df['BERT Prediction'])\n",
        "\n",
        "# Calculate weighted F1 scores for both models\n",
        "zero_shot_f1 = f1_score(true_labels, test_df['Zero-Shot Prediction'], average='weighted')\n",
        "bert_f1 = f1_score(true_labels, test_df['BERT Prediction'], average='weighted')\n",
        "\n",
        "# Calculate weighted precision scores for both models\n",
        "zero_shot_precision = precision_score(true_labels, test_df['Zero-Shot Prediction'], average='weighted')\n",
        "bert_precision = precision_score(true_labels, test_df['BERT Prediction'], average='weighted')\n",
        "\n",
        "# Calculate weighted recall scores for both models\n",
        "zero_shot_recall = recall_score(true_labels, test_df['Zero-Shot Prediction'], average='weighted')\n",
        "bert_recall = recall_score(true_labels, test_df['BERT Prediction'], average='weighted')\n",
        "\n"
      ]
    },
    {
      "cell_type": "code",
      "execution_count": null,
      "metadata": {
        "id": "lrNi0TrdJ2WP",
        "outputId": "2506e08b-574c-4377-f9e9-16f40479f52b"
      },
      "outputs": [
        {
          "name": "stdout",
          "output_type": "stream",
          "text": [
            "Zero-Shot Model Performance:\n",
            "Accuracy: 0.7\n",
            "F1-score: 0.6333333333333333\n",
            "Precision: 0.65\n",
            "Recall: 0.7\n",
            "\n",
            "BERT Model Performance:\n",
            "Accuracy: 0.2\n",
            "F1-score: 0.06666666666666668\n",
            "Precision: 0.04\n",
            "Recall: 0.2\n"
          ]
        }
      ],
      "source": [
        "# Print evaluation metrics for both the Zero-Shot and BERT models\n",
        "\n",
        "# Display performance metrics for the Zero-Shot model\n",
        "print(\"Zero-Shot Model Performance:\")\n",
        "print(f\"Accuracy: {zero_shot_accuracy}\")  # Print the accuracy score of the Zero-Shot model\n",
        "print(f\"F1-score: {zero_shot_f1}\")        # Print the F1-score of the Zero-Shot model\n",
        "print(f\"Precision: {zero_shot_precision}\")  # Print the precision score of the Zero-Shot model\n",
        "print(f\"Recall: {zero_shot_recall}\")      # Print the recall score of the Zero-Shot model\n",
        "\n",
        "# Add an empty line to separate the two model's performance metrics\n",
        "print(\"\\nBERT Model Performance:\")\n",
        "\n",
        "# Display performance metrics for the BERT model\n",
        "print(f\"Accuracy: {bert_accuracy}\")       # Print the accuracy score of the BERT model\n",
        "print(f\"F1-score: {bert_f1}\")             # Print the F1-score of the BERT model\n",
        "print(f\"Precision: {bert_precision}\")     # Print the precision score of the BERT model\n",
        "print(f\"Recall: {bert_recall}\")           # Print the recall score of the BERT model\n"
      ]
    },
    {
      "cell_type": "code",
      "execution_count": null,
      "metadata": {
        "id": "MLmVedZ-J2WP",
        "outputId": "281c39a2-a6a3-404c-fe72-077fb681a1f1"
      },
      "outputs": [
        {
          "name": "stdout",
          "output_type": "stream",
          "text": [
            "\n",
            "Zero-Shot Model Classification Report:\n",
            "                    precision    recall  f1-score   support\n",
            "\n",
            "     About_College       0.50      1.00      0.67         3\n",
            "        Admissions       0.00      0.00      0.00         2\n",
            "     Financial_Aid       1.00      0.50      0.67         2\n",
            "Student_Activities       1.00      1.00      1.00         3\n",
            "\n",
            "          accuracy                           0.70        10\n",
            "         macro avg       0.62      0.62      0.58        10\n",
            "      weighted avg       0.65      0.70      0.63        10\n",
            "\n",
            "\n",
            "BERT Model Classification Report:\n",
            "                    precision    recall  f1-score   support\n",
            "\n",
            "     About_College       0.00      0.00      0.00         3\n",
            "        Admissions       0.20      1.00      0.33         2\n",
            "     Financial_Aid       0.00      0.00      0.00         2\n",
            "Student_Activities       0.00      0.00      0.00         3\n",
            "\n",
            "          accuracy                           0.20        10\n",
            "         macro avg       0.05      0.25      0.08        10\n",
            "      weighted avg       0.04      0.20      0.07        10\n",
            "\n"
          ]
        },
        {
          "name": "stderr",
          "output_type": "stream",
          "text": [
            "/Users/jvcarmichael94/Library/Python/3.9/lib/python/site-packages/sklearn/metrics/_classification.py:1344: UndefinedMetricWarning: Precision and F-score are ill-defined and being set to 0.0 in labels with no predicted samples. Use `zero_division` parameter to control this behavior.\n",
            "  _warn_prf(average, modifier, msg_start, len(result))\n",
            "/Users/jvcarmichael94/Library/Python/3.9/lib/python/site-packages/sklearn/metrics/_classification.py:1344: UndefinedMetricWarning: Precision and F-score are ill-defined and being set to 0.0 in labels with no predicted samples. Use `zero_division` parameter to control this behavior.\n",
            "  _warn_prf(average, modifier, msg_start, len(result))\n",
            "/Users/jvcarmichael94/Library/Python/3.9/lib/python/site-packages/sklearn/metrics/_classification.py:1344: UndefinedMetricWarning: Precision and F-score are ill-defined and being set to 0.0 in labels with no predicted samples. Use `zero_division` parameter to control this behavior.\n",
            "  _warn_prf(average, modifier, msg_start, len(result))\n",
            "/Users/jvcarmichael94/Library/Python/3.9/lib/python/site-packages/sklearn/metrics/_classification.py:1344: UndefinedMetricWarning: Precision and F-score are ill-defined and being set to 0.0 in labels with no predicted samples. Use `zero_division` parameter to control this behavior.\n",
            "  _warn_prf(average, modifier, msg_start, len(result))\n",
            "/Users/jvcarmichael94/Library/Python/3.9/lib/python/site-packages/sklearn/metrics/_classification.py:1344: UndefinedMetricWarning: Precision and F-score are ill-defined and being set to 0.0 in labels with no predicted samples. Use `zero_division` parameter to control this behavior.\n",
            "  _warn_prf(average, modifier, msg_start, len(result))\n",
            "/Users/jvcarmichael94/Library/Python/3.9/lib/python/site-packages/sklearn/metrics/_classification.py:1344: UndefinedMetricWarning: Precision and F-score are ill-defined and being set to 0.0 in labels with no predicted samples. Use `zero_division` parameter to control this behavior.\n",
            "  _warn_prf(average, modifier, msg_start, len(result))\n"
          ]
        }
      ],
      "source": [
        "#import classification_report from sklearn library\n",
        "from sklearn.metrics import classification_report\n",
        "\n",
        "# Get the true intent labels from the test dataset\n",
        "true_labels = test_df['Intent Labels']\n",
        "\n",
        "#  Print classification report for more detailed results\n",
        "print(\"\\nZero-Shot Model Classification Report:\")\n",
        "print(classification_report(true_labels, test_df['Zero-Shot Prediction']))\n",
        "\n",
        "print(\"\\nBERT Model Classification Report:\")\n",
        "print(classification_report(true_labels, test_df['BERT Prediction']))"
      ]
    },
    {
      "cell_type": "markdown",
      "metadata": {
        "id": "j4T16uJ4J2WP"
      },
      "source": [
        "In simple terms, the Zero-Shot Model did much better than the BERT Model when trying to figure out the categories of some questions. The Zero-Shot Model was right about 70% of the time, while the BERT Model was only right 20% of the time.\n",
        "\n",
        "The Zero-Shot Model did a great job at guessing some categories, like \"Financial_Aid\" and \"Student_Activities,\" but not so great for \"Admissions.\" The BERT Model didn't do well at guessing any of the categories, except it was kind of okay for \"Admissions.\"\n",
        "\n",
        "But remember, we only looked at 10 questions to see how well the models did. It's hard to say for sure which one is better with so few questions. We should test the models on more questions and maybe make some adjustments to the BERT Model to see if it can do better.\n",
        "\n",
        "\n",
        "\n",
        "\n"
      ]
    },
    {
      "cell_type": "code",
      "execution_count": null,
      "metadata": {
        "id": "U99MnpzgJ2WP",
        "outputId": "3ada31a8-bacc-48ba-d694-8e4a187a5ddb"
      },
      "outputs": [
        {
          "data": {
            "image/png": "[encoded data removed]",
            "text/plain": [
              "<Figure size 1000x500 with 1 Axes>"
            ]
          },
          "metadata": {},
          "output_type": "display_data"
        }
      ],
      "source": [
        "import matplotlib.pyplot as plt\n",
        "\n",
        "# Use ggplot to visualize the results\n",
        "fig = plt.figure(figsize=(10, 5))\n",
        "ax = fig.add_subplot(111)\n",
        "ax.bar(['BART', 'BERT'], [zero_shot_accuracy, bert_accuracy], color=['#FFC222', '#FF2222'])\n",
        "ax.set_ylim([0, 1])\n",
        "ax.set_ylabel('Accuracy')\n",
        "ax.set_title('Model Accuracy Comparison', fontsize=16, fontweight='bold')\n",
        "plt.show()\n",
        "\n"
      ]
    },
    {
      "cell_type": "markdown",
      "metadata": {
        "id": "dbDNyI8ZJ2WP"
      },
      "source": [
        "# BERT vs Zero Shot Classifier\n",
        "\n"
      ]
    },
    {
      "cell_type": "markdown",
      "metadata": {
        "id": "pyKgBOLOJ2WP"
      },
      "source": [
        "\n",
        "## Strengths of the Zero-Shot Model:\n",
        "\n",
        "1. **Better overall accuracy**: It performed better in classifying the questions into the correct categories compared to the BERT Model.\n",
        "\n",
        "2. **No fine-tuning needed**: This model does not require training on the specific dataset, making it more convenient to use.\n",
        "\n",
        "\n",
        "## Weaknesses of the Zero-Shot Model:\n",
        "\n",
        "\n",
        "1. **Inconsistent performance**: While it performed well for some categories, it struggled with others, like \"Admissions.\"\n",
        "\n",
        "2. **Limited generalization**: Its performance can be affected by the nature of  the dataset, especially if the dataset contains very specific or unique categories.\n",
        "\n",
        "## Strengths of the BERT Model:\n",
        "\n",
        "1. **Customizable**: It can be fine-tuned to perform better on specific tasks or datasets.\n",
        "\n",
        "2. **Potential for high performance**: With proper fine-tuning and training, it can achieve high accuracy and other performance metrics.\n",
        "\n",
        "## Weaknesses of the BERT Model:\n",
        "\n",
        "1.  **Poor performance in this case**: It had a low accuracy score, and it struggled to classify questions into the correct categories.\n",
        "\n",
        "2. **Requires fine-tuning**: It needs to be trained on the specific dataset, which can be time-consuming and computationally expensive.\n"
      ]
    },
    {
      "cell_type": "markdown",
      "metadata": {
        "id": "AHejgIcWJ2WQ"
      },
      "source": [
        "# My Conclusions:\n",
        "\n",
        "The performannce of the Zero-Shot classifier and the BERT model in the domain of a college chatbot can greatly impact the overall user experience and efficiency of the chatbot. Both models are designed to handle natural language understanding tasks and can be applied to intent classification problems, which are crucial for chatbots to accurately interpret and respond to user queries. The Zero-Shot classifier, as the name suggests, does not require any fine-tuning or training on the specific dataset. This makes it more convenient to use, especially if the dataset is large and complex, making it an attractive choice for developers who are looking for a quick and effective way to get started with a college chatbot.\n",
        "\n",
        "The Zero-Shot classifier's strength lies in its ability to provide reasonable performance without requiring any fine-tuning or labeled data. This can be advantageous when building a chatbot in a new domain or with limited resources. However, this model's weakness is that it may not always provide the best possible performance compared to models that have been fine-tuned for the\n",
        "specific task. As a result, it may sometimes misinterpret user queries or provide less accurate responses in some situations. Despite this, the Zero-Shot classifier can still be a valuable tool for developers lookign to quickly build a\n",
        "college chatbot with minimal training data and resources.\n",
        "\n",
        "On the other hand, the BERT model is a powerful and highly accurate language model that can provide better performance when fine-tuned for a specific task or domain, such as intent classification for a college chatbot. By leveraging pre-trained knowledge and adapting it to the specific domain, the BERT model can offer more accurate and context-aware responses to user queries. However, the BERT model requires labeled data and additional fine-tuning, which can be resource-intensive and time-consuming. This may not be ideal for developers with limited resources or tight deadlines.\n",
        "\n",
        "In the context of a college chatbot, the BERT model's strength is its potential to provide more accurate and context-aware responses, leading to a better overall user experience. It can better understand and interpret user queries, allowing the chatbot to provide more relevant information and assistance. However, the model's weakness lies in the fact that it requires labeled data and additional fine-tuning, which can be resource-intensive and time-consuming. Furthermore, the BERT model's computational requirements are higher than those of the Zero-Shot classifier, making it less suitable for environments with limited resources.\n",
        "\n",
        "In conclusion, both the Zero-Shot classifier and the BERT model have their strengths and weaknesses when applied to the domain of a college chatbot. The Zero-Shot classifier provides a quick and effective way to build a chatbot with minimal training data and resources, while the BERT model can offer more accurate and context-aware responses when fine-tuned for the specific task. Developers should carefully consider their resources, requirements, and the desired level of performance when choosing between these models for building a college chatbot. Ultimately, the right choice depends on the specific needs and constraints of the project."
      ]
    }
  ],
  "metadata": {
    "kernelspec": {
      "display_name": "Python 3",
      "language": "python",
      "name": "python3"
    },
    "language_info": {
      "codemirror_mode": {
        "name": "ipython",
        "version": 3
      },
      "file_extension": ".py",
      "mimetype": "text/x-python",
      "name": "python",
      "nbconvert_exporter": "python",
      "pygments_lexer": "ipython3",
      "version": "3.9.6"
    },
    "orig_nbformat": 4,
    "colab": {
      "provenance": [],
      "include_colab_link": true
    }
  },
  "nbformat": 4,
  "nbformat_minor": 0
}