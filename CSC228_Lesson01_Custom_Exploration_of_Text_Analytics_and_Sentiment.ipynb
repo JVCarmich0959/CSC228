{
  "nbformat": 4,
  "nbformat_minor": 0,
  "metadata": {
    "colab": {
      "provenance": []
    },
    "kernelspec": {
      "name": "python3",
      "display_name": "Python 3"
    },
    "language_info": {
      "name": "python"
    }
  },
  "cells": [
    {
      "cell_type": "code",
      "execution_count": null,
      "metadata": {
        "id": "l5WVhHB7RVeo"
      },
      "outputs": [],
      "source": [
        "# Lesson 01 - Custom Dataset Exploration of Sentiment and TextAnalytics\n",
        "# \n",
        "# Owner:  Lorrie Tomek\n",
        "#\n",
        "# In the code below, I put my dataset into a public github repos that I created\n",
        "# This can be quite convenient. \n",
        "#\n",
        "# In this notebook, you will use your own sentiment dataset for your chosen bot\n",
        "# domain\n",
        "# \n",
        "# Explore your utterances using Text Analytics \n",
        "# Explore sentiment y prediction made by VADER as compared to your own \"golden\" label"
      ]
    },
    {
      "cell_type": "code",
      "source": [
        "# use pip to install the nltk library\n",
        "! pip install nltk"
      ],
      "metadata": {
        "colab": {
          "base_uri": "https://localhost:8080/"
        },
        "id": "ePvgI65JECDN",
        "outputId": "22a767a6-f976-42fa-f639-09e3c63ef694"
      },
      "execution_count": null,
      "outputs": [
        {
          "output_type": "stream",
          "name": "stdout",
          "text": [
            "Looking in indexes: https://pypi.org/simple, https://us-python.pkg.dev/colab-wheels/public/simple/\n",
            "Requirement already satisfied: nltk in /usr/local/lib/python3.8/dist-packages (3.7)\n",
            "Requirement already satisfied: regex>=2021.8.3 in /usr/local/lib/python3.8/dist-packages (from nltk) (2022.6.2)\n",
            "Requirement already satisfied: tqdm in /usr/local/lib/python3.8/dist-packages (from nltk) (4.64.1)\n",
            "Requirement already satisfied: joblib in /usr/local/lib/python3.8/dist-packages (from nltk) (1.2.0)\n",
            "Requirement already satisfied: click in /usr/local/lib/python3.8/dist-packages (from nltk) (7.1.2)\n"
          ]
        }
      ]
    },
    {
      "cell_type": "code",
      "source": [
        "# import python libraries\n",
        "import pandas as pd\n",
        "import nltk\n",
        "import sys\n",
        "from pprint import pprint\n",
        "from random import shuffle"
      ],
      "metadata": {
        "id": "GSBTWLvgEGaH"
      },
      "execution_count": null,
      "outputs": []
    },
    {
      "cell_type": "code",
      "source": [
        "# download some of the many nltk resources, we need vader_lexicon, not necessarily others\n",
        "nltk.download([\n",
        "  \"names\",\n",
        "  \"stopwords\",\n",
        "  \"state_union\",\n",
        "  \"twitter_samples\",\n",
        "  \"movie_reviews\",\n",
        "  \"averaged_perceptron_tagger\",\n",
        "  \"vader_lexicon\",\n",
        "  \"punkt\",\n",
        "  \"shakespeare\"\n",
        "])"
      ],
      "metadata": {
        "colab": {
          "base_uri": "https://localhost:8080/"
        },
        "id": "Kd4hjt9p_69s",
        "outputId": "0aca0bcd-4231-4293-c503-67e77e1e9bbc"
      },
      "execution_count": null,
      "outputs": [
        {
          "output_type": "stream",
          "name": "stderr",
          "text": [
            "[nltk_data] Downloading package names to /root/nltk_data...\n",
            "[nltk_data]   Package names is already up-to-date!\n",
            "[nltk_data] Downloading package stopwords to /root/nltk_data...\n",
            "[nltk_data]   Package stopwords is already up-to-date!\n",
            "[nltk_data] Downloading package state_union to /root/nltk_data...\n",
            "[nltk_data]   Package state_union is already up-to-date!\n",
            "[nltk_data] Downloading package twitter_samples to /root/nltk_data...\n",
            "[nltk_data]   Package twitter_samples is already up-to-date!\n",
            "[nltk_data] Downloading package movie_reviews to /root/nltk_data...\n",
            "[nltk_data]   Package movie_reviews is already up-to-date!\n",
            "[nltk_data] Downloading package averaged_perceptron_tagger to\n",
            "[nltk_data]     /root/nltk_data...\n",
            "[nltk_data]   Package averaged_perceptron_tagger is already up-to-\n",
            "[nltk_data]       date!\n",
            "[nltk_data] Downloading package vader_lexicon to /root/nltk_data...\n",
            "[nltk_data]   Package vader_lexicon is already up-to-date!\n",
            "[nltk_data] Downloading package punkt to /root/nltk_data...\n",
            "[nltk_data]   Package punkt is already up-to-date!\n",
            "[nltk_data] Downloading package shakespeare to /root/nltk_data...\n",
            "[nltk_data]   Package shakespeare is already up-to-date!\n"
          ]
        },
        {
          "output_type": "execute_result",
          "data": {
            "text/plain": [
              "True"
            ]
          },
          "metadata": {},
          "execution_count": 22
        }
      ]
    },
    {
      "cell_type": "markdown",
      "source": [
        "## Load your Dataset of Sentiment Data\n",
        "\n",
        "Here's a link that describes 3 ways to access your datasets from within Google CoLab\n",
        "\n",
        "https://towardsdatascience.com/3-ways-to-load-csv-files-into-colab-7c14fcbdcb92\n",
        "\n",
        "I am going to demonstrating using a csv file that is checked into my own public github repos, as it is convenient.  \n",
        "\n",
        "Find the URL for your CSV file in a github repos.  Make sure you choose \"Raw\" or you will get a parse error when pandas tries to read_csv."
      ],
      "metadata": {
        "id": "rUPRFSNJJ7qh"
      }
    },
    {
      "cell_type": "code",
      "source": [
        "# My URL from my git repos, using the \"Raw\" view or the read_csv will fail with a parse error\n",
        "# If you run into trouble you can use the direct upload from the link above\n",
        "\n",
        "url = 'https://raw.githubusercontent.com/lorrieteaching/sampledata/main/sentiment.csv'\n",
        "df = pd.read_csv(url)"
      ],
      "metadata": {
        "id": "317j6HFeBhcv"
      },
      "execution_count": null,
      "outputs": []
    },
    {
      "cell_type": "code",
      "source": [
        "# or you can upload your data\n",
        "#df2 = pd.read_csv(\"sentiment_v2.csv\")"
      ],
      "metadata": {
        "id": "NN0-TmbWUePt"
      },
      "execution_count": null,
      "outputs": []
    },
    {
      "cell_type": "code",
      "source": [
        "#df2[:5]"
      ],
      "metadata": {
        "id": "QMzR96q7V8Ni"
      },
      "execution_count": null,
      "outputs": []
    },
    {
      "cell_type": "code",
      "source": [
        "#from google.colab import drive\n",
        "#drive.mount('/content/drive')"
      ],
      "metadata": {
        "id": "lXJQ5xV4VFWD"
      },
      "execution_count": null,
      "outputs": []
    },
    {
      "cell_type": "code",
      "source": [
        "df[:5]"
      ],
      "metadata": {
        "colab": {
          "base_uri": "https://localhost:8080/",
          "height": 206
        },
        "id": "o8UrT4ozTrEv",
        "outputId": "b09e6a1d-8dc9-488c-e32f-d4888aa8b636"
      },
      "execution_count": null,
      "outputs": [
        {
          "output_type": "execute_result",
          "data": {
            "text/plain": [
              "                         utterance   pos_neg pos_neg_neutral\n",
              "0  What time does your store open?  positive         neutral\n",
              "1      What locations do you have?  positive         neutral\n",
              "2       Are you open on Christmas?  positive         neutral\n",
              "3       What is your phone number?  positive         neutral\n",
              "4   Your customer service is poor.  negative        negative"
            ],
            "text/html": [
              "\n",
              "  <div id=\"df-15a6d32c-f79b-4f57-bc02-dc4f65d92ed2\">\n",
              "    <div class=\"colab-df-container\">\n",
              "      <div>\n",
              "<style scoped>\n",
              "    .dataframe tbody tr th:only-of-type {\n",
              "        vertical-align: middle;\n",
              "    }\n",
              "\n",
              "    .dataframe tbody tr th {\n",
              "        vertical-align: top;\n",
              "    }\n",
              "\n",
              "    .dataframe thead th {\n",
              "        text-align: right;\n",
              "    }\n",
              "</style>\n",
              "<table border=\"1\" class=\"dataframe\">\n",
              "  <thead>\n",
              "    <tr style=\"text-align: right;\">\n",
              "      <th></th>\n",
              "      <th>utterance</th>\n",
              "      <th>pos_neg</th>\n",
              "      <th>pos_neg_neutral</th>\n",
              "    </tr>\n",
              "  </thead>\n",
              "  <tbody>\n",
              "    <tr>\n",
              "      <th>0</th>\n",
              "      <td>What time does your store open?</td>\n",
              "      <td>positive</td>\n",
              "      <td>neutral</td>\n",
              "    </tr>\n",
              "    <tr>\n",
              "      <th>1</th>\n",
              "      <td>What locations do you have?</td>\n",
              "      <td>positive</td>\n",
              "      <td>neutral</td>\n",
              "    </tr>\n",
              "    <tr>\n",
              "      <th>2</th>\n",
              "      <td>Are you open on Christmas?</td>\n",
              "      <td>positive</td>\n",
              "      <td>neutral</td>\n",
              "    </tr>\n",
              "    <tr>\n",
              "      <th>3</th>\n",
              "      <td>What is your phone number?</td>\n",
              "      <td>positive</td>\n",
              "      <td>neutral</td>\n",
              "    </tr>\n",
              "    <tr>\n",
              "      <th>4</th>\n",
              "      <td>Your customer service is poor.</td>\n",
              "      <td>negative</td>\n",
              "      <td>negative</td>\n",
              "    </tr>\n",
              "  </tbody>\n",
              "</table>\n",
              "</div>\n",
              "      <button class=\"colab-df-convert\" onclick=\"convertToInteractive('df-15a6d32c-f79b-4f57-bc02-dc4f65d92ed2')\"\n",
              "              title=\"Convert this dataframe to an interactive table.\"\n",
              "              style=\"display:none;\">\n",
              "        \n",
              "  <svg xmlns=\"http://www.w3.org/2000/svg\" height=\"24px\"viewBox=\"0 0 24 24\"\n",
              "       width=\"24px\">\n",
              "    <path d=\"M0 0h24v24H0V0z\" fill=\"none\"/>\n",
              "    <path d=\"M18.56 5.44l.94 2.06.94-2.06 2.06-.94-2.06-.94-.94-2.06-.94 2.06-2.06.94zm-11 1L8.5 8.5l.94-2.06 2.06-.94-2.06-.94L8.5 2.5l-.94 2.06-2.06.94zm10 10l.94 2.06.94-2.06 2.06-.94-2.06-.94-.94-2.06-.94 2.06-2.06.94z\"/><path d=\"M17.41 7.96l-1.37-1.37c-.4-.4-.92-.59-1.43-.59-.52 0-1.04.2-1.43.59L10.3 9.45l-7.72 7.72c-.78.78-.78 2.05 0 2.83L4 21.41c.39.39.9.59 1.41.59.51 0 1.02-.2 1.41-.59l7.78-7.78 2.81-2.81c.8-.78.8-2.07 0-2.86zM5.41 20L4 18.59l7.72-7.72 1.47 1.35L5.41 20z\"/>\n",
              "  </svg>\n",
              "      </button>\n",
              "      \n",
              "  <style>\n",
              "    .colab-df-container {\n",
              "      display:flex;\n",
              "      flex-wrap:wrap;\n",
              "      gap: 12px;\n",
              "    }\n",
              "\n",
              "    .colab-df-convert {\n",
              "      background-color: #E8F0FE;\n",
              "      border: none;\n",
              "      border-radius: 50%;\n",
              "      cursor: pointer;\n",
              "      display: none;\n",
              "      fill: #1967D2;\n",
              "      height: 32px;\n",
              "      padding: 0 0 0 0;\n",
              "      width: 32px;\n",
              "    }\n",
              "\n",
              "    .colab-df-convert:hover {\n",
              "      background-color: #E2EBFA;\n",
              "      box-shadow: 0px 1px 2px rgba(60, 64, 67, 0.3), 0px 1px 3px 1px rgba(60, 64, 67, 0.15);\n",
              "      fill: #174EA6;\n",
              "    }\n",
              "\n",
              "    [theme=dark] .colab-df-convert {\n",
              "      background-color: #3B4455;\n",
              "      fill: #D2E3FC;\n",
              "    }\n",
              "\n",
              "    [theme=dark] .colab-df-convert:hover {\n",
              "      background-color: #434B5C;\n",
              "      box-shadow: 0px 1px 3px 1px rgba(0, 0, 0, 0.15);\n",
              "      filter: drop-shadow(0px 1px 2px rgba(0, 0, 0, 0.3));\n",
              "      fill: #FFFFFF;\n",
              "    }\n",
              "  </style>\n",
              "\n",
              "      <script>\n",
              "        const buttonEl =\n",
              "          document.querySelector('#df-15a6d32c-f79b-4f57-bc02-dc4f65d92ed2 button.colab-df-convert');\n",
              "        buttonEl.style.display =\n",
              "          google.colab.kernel.accessAllowed ? 'block' : 'none';\n",
              "\n",
              "        async function convertToInteractive(key) {\n",
              "          const element = document.querySelector('#df-15a6d32c-f79b-4f57-bc02-dc4f65d92ed2');\n",
              "          const dataTable =\n",
              "            await google.colab.kernel.invokeFunction('convertToInteractive',\n",
              "                                                     [key], {});\n",
              "          if (!dataTable) return;\n",
              "\n",
              "          const docLinkHtml = 'Like what you see? Visit the ' +\n",
              "            '<a target=\"_blank\" href=https://colab.research.google.com/notebooks/data_table.ipynb>data table notebook</a>'\n",
              "            + ' to learn more about interactive tables.';\n",
              "          element.innerHTML = '';\n",
              "          dataTable['output_type'] = 'display_data';\n",
              "          await google.colab.output.renderOutput(dataTable, element);\n",
              "          const docLink = document.createElement('div');\n",
              "          docLink.innerHTML = docLinkHtml;\n",
              "          element.appendChild(docLink);\n",
              "        }\n",
              "      </script>\n",
              "    </div>\n",
              "  </div>\n",
              "  "
            ]
          },
          "metadata": {},
          "execution_count": 24
        }
      ]
    },
    {
      "cell_type": "code",
      "source": [
        "# What are the columns of my dataframe? \n",
        "df.columns"
      ],
      "metadata": {
        "colab": {
          "base_uri": "https://localhost:8080/"
        },
        "id": "0HTEO6f0EvDd",
        "outputId": "8e67619e-c0bd-449d-923a-8d30005248e0"
      },
      "execution_count": null,
      "outputs": [
        {
          "output_type": "execute_result",
          "data": {
            "text/plain": [
              "Index(['utterance', 'pos_neg', 'pos_neg_neutral'], dtype='object')"
            ]
          },
          "metadata": {},
          "execution_count": 25
        }
      ]
    },
    {
      "cell_type": "code",
      "source": [
        "# load the VADER Sentiment Analyzer and make sure it works\n",
        "from nltk.sentiment import SentimentIntensityAnalyzer\n",
        "sia = SentimentIntensityAnalyzer()\n",
        "sia.polarity_scores(\"Wow, NLTK is really powerful!\")"
      ],
      "metadata": {
        "colab": {
          "base_uri": "https://localhost:8080/"
        },
        "id": "ajqwU-snD4N0",
        "outputId": "22dac122-964d-4bf3-d139-aed869aa4072"
      },
      "execution_count": null,
      "outputs": [
        {
          "output_type": "execute_result",
          "data": {
            "text/plain": [
              "{'neg': 0.0, 'neu': 0.295, 'pos': 0.705, 'compound': 0.8012}"
            ]
          },
          "metadata": {},
          "execution_count": 26
        }
      ]
    },
    {
      "cell_type": "code",
      "source": [
        "# Here is where we can create a new column to get vader's prediction on the utterances in \n",
        "# our custom dataset.\n",
        "def myfunc(utterance):\n",
        "  return sia.polarity_scores(utterance)['pos']\n",
        "\n",
        "df['vader_predict_pos'] = df.utterance.map(lambda x: myfunc(x))"
      ],
      "metadata": {
        "id": "OLFU5j5GD4q7"
      },
      "execution_count": null,
      "outputs": []
    },
    {
      "cell_type": "code",
      "source": [
        "# this shows the first 5\n",
        "df[:5]"
      ],
      "metadata": {
        "colab": {
          "base_uri": "https://localhost:8080/",
          "height": 206
        },
        "id": "LCDN1oUFDKf-",
        "outputId": "1973afea-28e5-43ce-d02b-172539c9ffd2"
      },
      "execution_count": null,
      "outputs": [
        {
          "output_type": "execute_result",
          "data": {
            "text/plain": [
              "                         utterance   pos_neg pos_neg_neutral  \\\n",
              "0  What time does your store open?  positive         neutral   \n",
              "1      What locations do you have?  positive         neutral   \n",
              "2       Are you open on Christmas?  positive         neutral   \n",
              "3       What is your phone number?  positive         neutral   \n",
              "4   Your customer service is poor.  negative        negative   \n",
              "\n",
              "                                       vader_predict  vader_predict_pos  \n",
              "0  {'neg': 0.0, 'neu': 1.0, 'pos': 0.0, 'compound...              0.000  \n",
              "1  {'neg': 0.0, 'neu': 1.0, 'pos': 0.0, 'compound...              0.000  \n",
              "2  {'neg': 0.0, 'neu': 1.0, 'pos': 0.0, 'compound...              0.000  \n",
              "3  {'neg': 0.0, 'neu': 0.755, 'pos': 0.245, 'comp...              0.245  \n",
              "4  {'neg': 0.437, 'neu': 0.563, 'pos': 0.0, 'comp...              0.000  "
            ],
            "text/html": [
              "\n",
              "  <div id=\"df-9328d474-78e0-47df-ba35-57adb1856c7c\">\n",
              "    <div class=\"colab-df-container\">\n",
              "      <div>\n",
              "<style scoped>\n",
              "    .dataframe tbody tr th:only-of-type {\n",
              "        vertical-align: middle;\n",
              "    }\n",
              "\n",
              "    .dataframe tbody tr th {\n",
              "        vertical-align: top;\n",
              "    }\n",
              "\n",
              "    .dataframe thead th {\n",
              "        text-align: right;\n",
              "    }\n",
              "</style>\n",
              "<table border=\"1\" class=\"dataframe\">\n",
              "  <thead>\n",
              "    <tr style=\"text-align: right;\">\n",
              "      <th></th>\n",
              "      <th>utterance</th>\n",
              "      <th>pos_neg</th>\n",
              "      <th>pos_neg_neutral</th>\n",
              "      <th>vader_predict</th>\n",
              "      <th>vader_predict_pos</th>\n",
              "    </tr>\n",
              "  </thead>\n",
              "  <tbody>\n",
              "    <tr>\n",
              "      <th>0</th>\n",
              "      <td>What time does your store open?</td>\n",
              "      <td>positive</td>\n",
              "      <td>neutral</td>\n",
              "      <td>{'neg': 0.0, 'neu': 1.0, 'pos': 0.0, 'compound...</td>\n",
              "      <td>0.000</td>\n",
              "    </tr>\n",
              "    <tr>\n",
              "      <th>1</th>\n",
              "      <td>What locations do you have?</td>\n",
              "      <td>positive</td>\n",
              "      <td>neutral</td>\n",
              "      <td>{'neg': 0.0, 'neu': 1.0, 'pos': 0.0, 'compound...</td>\n",
              "      <td>0.000</td>\n",
              "    </tr>\n",
              "    <tr>\n",
              "      <th>2</th>\n",
              "      <td>Are you open on Christmas?</td>\n",
              "      <td>positive</td>\n",
              "      <td>neutral</td>\n",
              "      <td>{'neg': 0.0, 'neu': 1.0, 'pos': 0.0, 'compound...</td>\n",
              "      <td>0.000</td>\n",
              "    </tr>\n",
              "    <tr>\n",
              "      <th>3</th>\n",
              "      <td>What is your phone number?</td>\n",
              "      <td>positive</td>\n",
              "      <td>neutral</td>\n",
              "      <td>{'neg': 0.0, 'neu': 0.755, 'pos': 0.245, 'comp...</td>\n",
              "      <td>0.245</td>\n",
              "    </tr>\n",
              "    <tr>\n",
              "      <th>4</th>\n",
              "      <td>Your customer service is poor.</td>\n",
              "      <td>negative</td>\n",
              "      <td>negative</td>\n",
              "      <td>{'neg': 0.437, 'neu': 0.563, 'pos': 0.0, 'comp...</td>\n",
              "      <td>0.000</td>\n",
              "    </tr>\n",
              "  </tbody>\n",
              "</table>\n",
              "</div>\n",
              "      <button class=\"colab-df-convert\" onclick=\"convertToInteractive('df-9328d474-78e0-47df-ba35-57adb1856c7c')\"\n",
              "              title=\"Convert this dataframe to an interactive table.\"\n",
              "              style=\"display:none;\">\n",
              "        \n",
              "  <svg xmlns=\"http://www.w3.org/2000/svg\" height=\"24px\"viewBox=\"0 0 24 24\"\n",
              "       width=\"24px\">\n",
              "    <path d=\"M0 0h24v24H0V0z\" fill=\"none\"/>\n",
              "    <path d=\"M18.56 5.44l.94 2.06.94-2.06 2.06-.94-2.06-.94-.94-2.06-.94 2.06-2.06.94zm-11 1L8.5 8.5l.94-2.06 2.06-.94-2.06-.94L8.5 2.5l-.94 2.06-2.06.94zm10 10l.94 2.06.94-2.06 2.06-.94-2.06-.94-.94-2.06-.94 2.06-2.06.94z\"/><path d=\"M17.41 7.96l-1.37-1.37c-.4-.4-.92-.59-1.43-.59-.52 0-1.04.2-1.43.59L10.3 9.45l-7.72 7.72c-.78.78-.78 2.05 0 2.83L4 21.41c.39.39.9.59 1.41.59.51 0 1.02-.2 1.41-.59l7.78-7.78 2.81-2.81c.8-.78.8-2.07 0-2.86zM5.41 20L4 18.59l7.72-7.72 1.47 1.35L5.41 20z\"/>\n",
              "  </svg>\n",
              "      </button>\n",
              "      \n",
              "  <style>\n",
              "    .colab-df-container {\n",
              "      display:flex;\n",
              "      flex-wrap:wrap;\n",
              "      gap: 12px;\n",
              "    }\n",
              "\n",
              "    .colab-df-convert {\n",
              "      background-color: #E8F0FE;\n",
              "      border: none;\n",
              "      border-radius: 50%;\n",
              "      cursor: pointer;\n",
              "      display: none;\n",
              "      fill: #1967D2;\n",
              "      height: 32px;\n",
              "      padding: 0 0 0 0;\n",
              "      width: 32px;\n",
              "    }\n",
              "\n",
              "    .colab-df-convert:hover {\n",
              "      background-color: #E2EBFA;\n",
              "      box-shadow: 0px 1px 2px rgba(60, 64, 67, 0.3), 0px 1px 3px 1px rgba(60, 64, 67, 0.15);\n",
              "      fill: #174EA6;\n",
              "    }\n",
              "\n",
              "    [theme=dark] .colab-df-convert {\n",
              "      background-color: #3B4455;\n",
              "      fill: #D2E3FC;\n",
              "    }\n",
              "\n",
              "    [theme=dark] .colab-df-convert:hover {\n",
              "      background-color: #434B5C;\n",
              "      box-shadow: 0px 1px 3px 1px rgba(0, 0, 0, 0.15);\n",
              "      filter: drop-shadow(0px 1px 2px rgba(0, 0, 0, 0.3));\n",
              "      fill: #FFFFFF;\n",
              "    }\n",
              "  </style>\n",
              "\n",
              "      <script>\n",
              "        const buttonEl =\n",
              "          document.querySelector('#df-9328d474-78e0-47df-ba35-57adb1856c7c button.colab-df-convert');\n",
              "        buttonEl.style.display =\n",
              "          google.colab.kernel.accessAllowed ? 'block' : 'none';\n",
              "\n",
              "        async function convertToInteractive(key) {\n",
              "          const element = document.querySelector('#df-9328d474-78e0-47df-ba35-57adb1856c7c');\n",
              "          const dataTable =\n",
              "            await google.colab.kernel.invokeFunction('convertToInteractive',\n",
              "                                                     [key], {});\n",
              "          if (!dataTable) return;\n",
              "\n",
              "          const docLinkHtml = 'Like what you see? Visit the ' +\n",
              "            '<a target=\"_blank\" href=https://colab.research.google.com/notebooks/data_table.ipynb>data table notebook</a>'\n",
              "            + ' to learn more about interactive tables.';\n",
              "          element.innerHTML = '';\n",
              "          dataTable['output_type'] = 'display_data';\n",
              "          await google.colab.output.renderOutput(dataTable, element);\n",
              "          const docLink = document.createElement('div');\n",
              "          docLink.innerHTML = docLinkHtml;\n",
              "          element.appendChild(docLink);\n",
              "        }\n",
              "      </script>\n",
              "    </div>\n",
              "  </div>\n",
              "  "
            ]
          },
          "metadata": {},
          "execution_count": 32
        }
      ]
    },
    {
      "cell_type": "markdown",
      "source": [
        "## DO VARIOUS Text Analytics on Your Dataset\n",
        "\n",
        "Look back at the Text Analytics Notebook.  \n",
        "Explore YOUR Dataset Using Text Analytics in this notebook in the section below. \n",
        "\n",
        "What did you find that was interesting or unexpected? \n"
      ],
      "metadata": {
        "id": "jRYnJQQTMRlQ"
      }
    },
    {
      "cell_type": "code",
      "source": [
        "# Write your Text Analytics Code Here"
      ],
      "metadata": {
        "id": "wjhk2cWsQiym"
      },
      "execution_count": null,
      "outputs": []
    },
    {
      "cell_type": "markdown",
      "source": [
        "## Compare Your GOLDEN Labels for Sentiment to VADER's Predictions\n",
        "\n",
        "Modify the Code Below to use YOUR dataset.\n",
        "\n",
        "Calculate the number of times VADER predicted correctly and incorrectly for each of positive sentiment, negative sentiment, and neutral sentiment. (Your \"Golden\" labels are the correct sentiment, as they were labeled by a human expert, YOU).\n",
        "\n",
        "Experiment with this. You can try other examples and add them to your dataset and re-run.\n",
        "\n",
        "You will post a discussion board post with your experience"
      ],
      "metadata": {
        "id": "CEVaR8o5M5lw"
      }
    },
    {
      "cell_type": "code",
      "source": [
        "df.shape"
      ],
      "metadata": {
        "colab": {
          "base_uri": "https://localhost:8080/"
        },
        "id": "mRHe5crcWezl",
        "outputId": "300e95ec-c6b7-407b-9910-b88bcdd24b8e"
      },
      "execution_count": null,
      "outputs": [
        {
          "output_type": "execute_result",
          "data": {
            "text/plain": [
              "(5, 4)"
            ]
          },
          "metadata": {},
          "execution_count": 19
        }
      ]
    },
    {
      "cell_type": "code",
      "source": [
        "# Since VADER predicts positive, negative, and neutral\n",
        "# Let's compare\n",
        "for rowidx in range(df.shape[0]):     \n",
        "   row = df.iloc[rowidx]\n",
        "   print(f\"Utterance: {row.utterance}\\nVADER Predict: {row.vader_predict}\\nGolden Label:  {row.pos_neg_neutral}\\n\")"
      ],
      "metadata": {
        "colab": {
          "base_uri": "https://localhost:8080/"
        },
        "id": "Qhk_pH0cLSjG",
        "outputId": "d144b19e-9497-4eb7-e5a8-82b6709fcb85"
      },
      "execution_count": null,
      "outputs": [
        {
          "output_type": "stream",
          "name": "stdout",
          "text": [
            "Utterance: What time does your store open?\n",
            "VADER Predict: {'neg': 0.0, 'neu': 1.0, 'pos': 0.0, 'compound': 0.0}\n",
            "Golden Label:  neutral\n",
            "\n",
            "Utterance: What locations do you have?\n",
            "VADER Predict: {'neg': 0.0, 'neu': 1.0, 'pos': 0.0, 'compound': 0.0}\n",
            "Golden Label:  neutral\n",
            "\n",
            "Utterance: Are you open on Christmas?\n",
            "VADER Predict: {'neg': 0.0, 'neu': 1.0, 'pos': 0.0, 'compound': 0.0}\n",
            "Golden Label:  neutral\n",
            "\n",
            "Utterance: What is your phone number?\n",
            "VADER Predict: {'neg': 0.0, 'neu': 0.755, 'pos': 0.245, 'compound': 0.0772}\n",
            "Golden Label:  neutral\n",
            "\n",
            "Utterance: Your customer service is poor.\n",
            "VADER Predict: {'neg': 0.437, 'neu': 0.563, 'pos': 0.0, 'compound': -0.4767}\n",
            "Golden Label:  negative\n",
            "\n"
          ]
        }
      ]
    }
  ]
}