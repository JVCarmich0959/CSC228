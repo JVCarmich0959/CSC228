{
  "nbformat": 4,
  "nbformat_minor": 0,
  "metadata": {
    "colab": {
      "provenance": [],
      "include_colab_link": true
    },
    "kernelspec": {
      "name": "python3",
      "display_name": "Python 3"
    },
    "language_info": {
      "name": "python"
    }
  },
  "cells": [
    {
      "cell_type": "markdown",
      "metadata": {
        "id": "view-in-github",
        "colab_type": "text"
      },
      "source": [
        "<a href=\"https://colab.research.google.com/github/JVCarmich0959/CSC228/blob/main/Jacquelyn's_Copy_of_CSC228_Lesson05_First_NeuralNetwork_Model.ipynb\" target=\"_parent\"><img src=\"https://colab.research.google.com/assets/colab-badge.svg\" alt=\"Open In Colab\"/></a>"
      ]
    },
    {
      "cell_type": "code",
      "execution_count": null,
      "metadata": {
        "id": "W04WrwWgYDvT"
      },
      "outputs": [],
      "source": [
        "# Text Classification using Neural Networks\n",
        "# CNN Neural Network Architecture\n",
        "# Using Keras wrapper module in Tensorflow\n",
        "#\n",
        "# Owner:  Lorrie Tomek\n",
        "#\n",
        "# Uses Libraries:  keras, tensorflow\n",
        "# Runtime:  Google CoLab (cpu)\n",
        "# \n",
        "# Data: \n",
        "#\n",
        "# Reference:  https://realpython.com/python-keras-text-classification/"
      ]
    },
    {
      "cell_type": "code",
      "source": [
        "# libraries\n",
        "# import python libraries\n",
        "import pandas as pd\n",
        "import numpy as np\n",
        "from pprint import pprint\n",
        "from sklearn.feature_extraction.text import TfidfVectorizer, CountVectorizer"
      ],
      "metadata": {
        "id": "Jrh0WsQCAKgA"
      },
      "execution_count": 107,
      "outputs": []
    },
    {
      "cell_type": "markdown",
      "source": [
        "## Introduction to Keras\n",
        "Keras was originally written as a wrapper layer, that could wrap different deep learning and neural network APIs including the lower layer APIs of Tensorflow.  \n",
        "\n",
        "Keras provides a simpler interface to build a neural network.  Keras was built by François Chollet, who in a book described it as: \n",
        "\n",
        "Keras is a model-level library, providing high-level building blocks for developing deep-learning models. It doesn’t handle low-level operations such as tensor (multi-dimensional vector) manipulation and differentiation. Instead, it relies on a specialized, well-optimized tensor library to do so, serving as the backend engine of Keras (Source)\n",
        "\n",
        "Keras is a great way to start experimenting with neural networks without having to implement every layer and piece on your own. For example Tensorflow is a great machine learning library, but you have to implement a lot of boilerplate code to have a model running.\n",
        "\n",
        "Today, Keras is a module that is part of Tensorflow 2.0"
      ],
      "metadata": {
        "id": "6RSaS-zYLSJ-"
      }
    },
    {
      "cell_type": "code",
      "source": [
        "# Install the keras package (actually not needed as it is preinstalled in Google Colab)\n",
        "!pip install keras"
      ],
      "metadata": {
        "colab": {
          "base_uri": "https://localhost:8080/"
        },
        "id": "1vfMH1E0Y0rM",
        "outputId": "733049d1-08ab-4844-ca57-2696c7aea0af"
      },
      "execution_count": 108,
      "outputs": [
        {
          "output_type": "stream",
          "name": "stdout",
          "text": [
            "Looking in indexes: https://pypi.org/simple, https://us-python.pkg.dev/colab-wheels/public/simple/\n",
            "Requirement already satisfied: keras in /usr/local/lib/python3.8/dist-packages (2.9.0)\n"
          ]
        }
      ]
    },
    {
      "cell_type": "markdown",
      "source": [
        "## Choose and Download a Dataset\n",
        "\n",
        "I am using my previous dataset that I created using extracted comments from facebook regarding sentiments about the mall. I actually extended it will probably continue to expand this dataset for future use. I tried to add additional examples of positive and negative utterances that could help guid the classifier."
      ],
      "metadata": {
        "id": "3EVg8bTiVYJI"
      }
    },
    {
      "cell_type": "code",
      "source": [
        "# reading in my data from the github repository to a data frame \n",
        "\n",
        "url = \"https://raw.githubusercontent.com/JVCarmich0959/CSC228/main/WUG_Mall_improvement.csv\"\n",
        "\n",
        "df = pd.read_csv(url, usecols=[0,1,2], encoding='latin-1')\n",
        "\n",
        "df = pd.concat([df, pd.read_csv(url, usecols=[0,1,2], encoding='latin-1')])\n",
        "print(df.iloc[100])\n"
      ],
      "metadata": {
        "colab": {
          "base_uri": "https://localhost:8080/"
        },
        "id": "wmmQ-mNxXWeN",
        "outputId": "f917210a-6c00-4601-b788-850cc0633017"
      },
      "execution_count": 164,
      "outputs": [
        {
          "output_type": "stream",
          "name": "stdout",
          "text": [
            "Source                                               Facebook\n",
            "Label                                                       1\n",
            "Sentence    Thereâs always something fun to do at the mall.\n",
            "Name: 100, dtype: object\n"
          ]
        }
      ]
    },
    {
      "cell_type": "code",
      "source": [
        "df[:5]"
      ],
      "metadata": {
        "colab": {
          "base_uri": "https://localhost:8080/",
          "height": 206
        },
        "id": "EflylFBje5TG",
        "outputId": "cbb2419d-b514-40f8-ed39-a68ab46c223e"
      },
      "execution_count": 165,
      "outputs": [
        {
          "output_type": "execute_result",
          "data": {
            "text/plain": [
              "     Source  Label                                           Sentence\n",
              "0  Facebook      0              Anything but another damn shoe store.\n",
              "1  Facebook      1  The mall is a joke. When I worked there 30+ ye...\n",
              "2  Facebook      1                                     A Spencerâs \n",
              "3  Facebook      1  Arcade for kids and teens that serves food whe...\n",
              "4  Facebook      1                      Dillards, Talbots, Chicoâs."
            ],
            "text/html": [
              "\n",
              "  <div id=\"df-f3668e2d-c15c-41c6-b62a-35741b5a020c\">\n",
              "    <div class=\"colab-df-container\">\n",
              "      <div>\n",
              "<style scoped>\n",
              "    .dataframe tbody tr th:only-of-type {\n",
              "        vertical-align: middle;\n",
              "    }\n",
              "\n",
              "    .dataframe tbody tr th {\n",
              "        vertical-align: top;\n",
              "    }\n",
              "\n",
              "    .dataframe thead th {\n",
              "        text-align: right;\n",
              "    }\n",
              "</style>\n",
              "<table border=\"1\" class=\"dataframe\">\n",
              "  <thead>\n",
              "    <tr style=\"text-align: right;\">\n",
              "      <th></th>\n",
              "      <th>Source</th>\n",
              "      <th>Label</th>\n",
              "      <th>Sentence</th>\n",
              "    </tr>\n",
              "  </thead>\n",
              "  <tbody>\n",
              "    <tr>\n",
              "      <th>0</th>\n",
              "      <td>Facebook</td>\n",
              "      <td>0</td>\n",
              "      <td>Anything but another damn shoe store.</td>\n",
              "    </tr>\n",
              "    <tr>\n",
              "      <th>1</th>\n",
              "      <td>Facebook</td>\n",
              "      <td>1</td>\n",
              "      <td>The mall is a joke. When I worked there 30+ ye...</td>\n",
              "    </tr>\n",
              "    <tr>\n",
              "      <th>2</th>\n",
              "      <td>Facebook</td>\n",
              "      <td>1</td>\n",
              "      <td>A Spencerâs</td>\n",
              "    </tr>\n",
              "    <tr>\n",
              "      <th>3</th>\n",
              "      <td>Facebook</td>\n",
              "      <td>1</td>\n",
              "      <td>Arcade for kids and teens that serves food whe...</td>\n",
              "    </tr>\n",
              "    <tr>\n",
              "      <th>4</th>\n",
              "      <td>Facebook</td>\n",
              "      <td>1</td>\n",
              "      <td>Dillards, Talbots, Chicoâs.</td>\n",
              "    </tr>\n",
              "  </tbody>\n",
              "</table>\n",
              "</div>\n",
              "      <button class=\"colab-df-convert\" onclick=\"convertToInteractive('df-f3668e2d-c15c-41c6-b62a-35741b5a020c')\"\n",
              "              title=\"Convert this dataframe to an interactive table.\"\n",
              "              style=\"display:none;\">\n",
              "        \n",
              "  <svg xmlns=\"http://www.w3.org/2000/svg\" height=\"24px\"viewBox=\"0 0 24 24\"\n",
              "       width=\"24px\">\n",
              "    <path d=\"M0 0h24v24H0V0z\" fill=\"none\"/>\n",
              "    <path d=\"M18.56 5.44l.94 2.06.94-2.06 2.06-.94-2.06-.94-.94-2.06-.94 2.06-2.06.94zm-11 1L8.5 8.5l.94-2.06 2.06-.94-2.06-.94L8.5 2.5l-.94 2.06-2.06.94zm10 10l.94 2.06.94-2.06 2.06-.94-2.06-.94-.94-2.06-.94 2.06-2.06.94z\"/><path d=\"M17.41 7.96l-1.37-1.37c-.4-.4-.92-.59-1.43-.59-.52 0-1.04.2-1.43.59L10.3 9.45l-7.72 7.72c-.78.78-.78 2.05 0 2.83L4 21.41c.39.39.9.59 1.41.59.51 0 1.02-.2 1.41-.59l7.78-7.78 2.81-2.81c.8-.78.8-2.07 0-2.86zM5.41 20L4 18.59l7.72-7.72 1.47 1.35L5.41 20z\"/>\n",
              "  </svg>\n",
              "      </button>\n",
              "      \n",
              "  <style>\n",
              "    .colab-df-container {\n",
              "      display:flex;\n",
              "      flex-wrap:wrap;\n",
              "      gap: 12px;\n",
              "    }\n",
              "\n",
              "    .colab-df-convert {\n",
              "      background-color: #E8F0FE;\n",
              "      border: none;\n",
              "      border-radius: 50%;\n",
              "      cursor: pointer;\n",
              "      display: none;\n",
              "      fill: #1967D2;\n",
              "      height: 32px;\n",
              "      padding: 0 0 0 0;\n",
              "      width: 32px;\n",
              "    }\n",
              "\n",
              "    .colab-df-convert:hover {\n",
              "      background-color: #E2EBFA;\n",
              "      box-shadow: 0px 1px 2px rgba(60, 64, 67, 0.3), 0px 1px 3px 1px rgba(60, 64, 67, 0.15);\n",
              "      fill: #174EA6;\n",
              "    }\n",
              "\n",
              "    [theme=dark] .colab-df-convert {\n",
              "      background-color: #3B4455;\n",
              "      fill: #D2E3FC;\n",
              "    }\n",
              "\n",
              "    [theme=dark] .colab-df-convert:hover {\n",
              "      background-color: #434B5C;\n",
              "      box-shadow: 0px 1px 3px 1px rgba(0, 0, 0, 0.15);\n",
              "      filter: drop-shadow(0px 1px 2px rgba(0, 0, 0, 0.3));\n",
              "      fill: #FFFFFF;\n",
              "    }\n",
              "  </style>\n",
              "\n",
              "      <script>\n",
              "        const buttonEl =\n",
              "          document.querySelector('#df-f3668e2d-c15c-41c6-b62a-35741b5a020c button.colab-df-convert');\n",
              "        buttonEl.style.display =\n",
              "          google.colab.kernel.accessAllowed ? 'block' : 'none';\n",
              "\n",
              "        async function convertToInteractive(key) {\n",
              "          const element = document.querySelector('#df-f3668e2d-c15c-41c6-b62a-35741b5a020c');\n",
              "          const dataTable =\n",
              "            await google.colab.kernel.invokeFunction('convertToInteractive',\n",
              "                                                     [key], {});\n",
              "          if (!dataTable) return;\n",
              "\n",
              "          const docLinkHtml = 'Like what you see? Visit the ' +\n",
              "            '<a target=\"_blank\" href=https://colab.research.google.com/notebooks/data_table.ipynb>data table notebook</a>'\n",
              "            + ' to learn more about interactive tables.';\n",
              "          element.innerHTML = '';\n",
              "          dataTable['output_type'] = 'display_data';\n",
              "          await google.colab.output.renderOutput(dataTable, element);\n",
              "          const docLink = document.createElement('div');\n",
              "          docLink.innerHTML = docLinkHtml;\n",
              "          element.appendChild(docLink);\n",
              "        }\n",
              "      </script>\n",
              "    </div>\n",
              "  </div>\n",
              "  "
            ]
          },
          "metadata": {},
          "execution_count": 165
        }
      ]
    },
    {
      "cell_type": "code",
      "source": [
        "# Filthy dirty data makes for a ill fitted machine so I went back and pre-processed a bit\n",
        "import nltk\n",
        "import string\n",
        "from nltk.corpus import stopwords\n",
        "nltk.download('stopwords')\n",
        "\n",
        "\n",
        "def clean_text(text):\n",
        "    # Remove punctuation\n",
        "    text = text.translate(str.maketrans(\"\", \"\", string.punctuation))\n",
        "    \n",
        "    # Convert to lowercase\n",
        "    text = text.lower()\n",
        "    \n",
        "    # Tokenize words\n",
        "    words = text.split()\n",
        "    \n",
        "    # Remove stop words\n",
        "    words = [word for word in words if word not in stopwords.words(\"english\")]\n",
        "    \n",
        "    # Join words back into a single string\n",
        "    cleaned_text = \" \".join(words)\n",
        "    \n",
        "    return cleaned_text\n",
        "\n",
        "df[\"Sentence\"] = df[\"Sentence\"].apply(lambda x: clean_text(x))\n",
        "\n",
        "print(df['Sentence']) # Now that'S what I call ITERABLE "
      ],
      "metadata": {
        "colab": {
          "base_uri": "https://localhost:8080/"
        },
        "id": "J4nbKNfbgCfO",
        "outputId": "0e19b5b7-2afb-4a3a-e14b-c4ac2e4b5ad2"
      },
      "execution_count": 166,
      "outputs": [
        {
          "output_type": "stream",
          "name": "stderr",
          "text": [
            "[nltk_data] Downloading package stopwords to /root/nltk_data...\n",
            "[nltk_data]   Package stopwords is already up-to-date!\n"
          ]
        },
        {
          "output_type": "stream",
          "name": "stdout",
          "text": [
            "0                       anything another damn shoe store\n",
            "1      mall joke worked 30 years ago nice understand ...\n",
            "2                                            spencerâs\n",
            "3                       arcade kids teens serves food kw\n",
            "4                             dillards talbots chicoâs\n",
            "                             ...                        \n",
            "277    store organized wellstocked able find everythi...\n",
            "278    much fun shopping today canât wait wear new ...\n",
            "279        shopping center lively vibrant felt energized\n",
            "280    customer service fantastic went beyond help fi...\n",
            "281       impressed quality products know last long time\n",
            "Name: Sentence, Length: 564, dtype: object\n"
          ]
        }
      ]
    },
    {
      "cell_type": "markdown",
      "source": [
        "This code defines a dictionary called 'filepath_dict' with keys 'yelp', 'amazon', and 'imdb' and the respective file paths for each as the values.\n",
        "\n",
        "The code then creates an empty list 'df_list' which will store pandas dataframes for each of the files.\n",
        "\n",
        "Using a for loop, it iterates over the items in the 'filepath_dict' dictionary. For each iteration, it:\n",
        "\n",
        "1. Reads the file at the given path using the 'pd.read_csv' function, where the resulting data is stored in a pandas dataframe 'df'\n",
        "\n",
        "2. Adds a new column to the 'df' dataframe with the nae \"source\" and the value of the source (which is the key from the 'filepath_dict')\n",
        "\n",
        "3. Appends the resulting 'df' dataframe to the 'df_list' list\n",
        "\n",
        "After looping over al the files, it concatenates the dataframes in 'df_list' into a single dataframe 'df' using the 'pd.concat' function.\n",
        "\n",
        "Finally, it prints the first row (index 0) of the resulting dataframe using 'df.iloc[0]'."
      ],
      "metadata": {
        "id": "KkQAJtOd0G9H"
      }
    },
    {
      "cell_type": "markdown",
      "source": [
        "## Split the data into training and testing\n",
        "\n",
        "The code below is using the 'train_test_split' function from the 'sklearn.model_selection' module in scikit-learn. The function is used to split the data into training and testing sets.\n",
        "\n",
        "'df_yelp' is a sub-dataframe of 'df' that contains only the rows where the value of the 'sorce' column is equal to 'yelp'. The value of the 'sentence' column in 'df_yelp' are assigned to the 'sentences' variable and the values of the 'label' column are assigned to the 'y' variable.\n",
        "\n",
        "The 'train_test_split' function then splits the 'sentences' and 'y' arrays into four new arrays: 'sentences_train', 'sentences_test', 'y_train', and 'y_test.' The split is done with a ratio of 75% for the training set and 25% for the testing set(controlled by the 'test_size' parameter). The random state (controlled by the 'random_state'parameter). is set to 1000 to ensure **reproducibility** of the split.\n",
        "\n",
        "This is important because machine learning models are trained on a training set and evaluated on a testing set. The goal is to train the model on the training set and have it generalize well to new, unseen data represented by the testing set. By randomly splitting the data into training and testing sets, we can ensure that the model is not overfitting, which is when the model has memorized the training data instead of learning to generalize new data.\n"
      ],
      "metadata": {
        "id": "S1RwDHR6m1yZ"
      }
    },
    {
      "cell_type": "code",
      "source": [
        "from sklearn.model_selection import train_test_split\n",
        "\n",
        "df_facebook = df[df['Source'] == 'Facebook' ]\n",
        "sentences = df_facebook['Sentence'].values\n",
        "\n",
        "y = df_facebook['Label'].values\n",
        "\n",
        "# split the data into training and test sets\n",
        "sentences_train, sentences_test, y_train, y_test = train_test_split(\n",
        "    sentences, y, test_size=0.2, random_state=1000)"
      ],
      "metadata": {
        "id": "_GKxpqOoakvU"
      },
      "execution_count": 167,
      "outputs": []
    },
    {
      "cell_type": "code",
      "source": [
        "print(sentences_train[2]) # exploring my training set GOTTA LOVE GREENVILLE COMMENTERS"
      ],
      "metadata": {
        "colab": {
          "base_uri": "https://localhost:8080/"
        },
        "id": "MC-3dYiRglSZ",
        "outputId": "5a594e48-8174-41e1-fe96-4acd62afcd31"
      },
      "execution_count": 170,
      "outputs": [
        {
          "output_type": "stream",
          "name": "stdout",
          "text": [
            "want see mall brings go greenville least three shootings mall every year mention want gangs hanging around causing trouble\n"
          ]
        }
      ]
    },
    {
      "cell_type": "code",
      "source": [
        "print(y_train[2]) # looking at the sentiment of the selected utterance from training set"
      ],
      "metadata": {
        "colab": {
          "base_uri": "https://localhost:8080/"
        },
        "id": "hBbQjryRg4Ei",
        "outputId": "764b6327-dbb5-44bf-e983-507ef09678d3"
      },
      "execution_count": 171,
      "outputs": [
        {
          "output_type": "stream",
          "name": "stdout",
          "text": [
            "0\n"
          ]
        }
      ]
    },
    {
      "cell_type": "markdown",
      "source": [
        "## Let's Use BoW to Vectorize our Sentences\n",
        "\n",
        "The code below is using:\n",
        "1. 'CountVectorizer' class from the 'sklearn.feature_extraction.text' module to convert text into numerical representations, a process known as vectorization. The vectorized representation of the text data will be used as input for a mahcine learning model.\n",
        "\n",
        "2. A 'CountVectorizer' object is created and named 'vectorizer'. The 'fit' method is then called on 'vectorizer' with the 'sentences_train' as input. This trains the 'CountVectorizer' object on the training data and creates a vocabulary of words that the vectorizer will use to vectorize the text.\n",
        "\n",
        "3. The 'transform method is called on the 'sentences_train' and 'sentences_test' to obtain the vectorized representations of the text data. The results are stored in the 'X_train' and 'X_test\" arrays, respectively.\n",
        "\n",
        "'CountVectorizer' is a method commonly used for text vectorization. It counts the number of occurences of each word in a text document and represents each document as a vector of word frequencies.\n",
        "\n",
        "Other vectorization methods include the **'TfidVectorizer'** which we learned earlier is an alternative to the 'CountVectorizer' that scales down the impact of words that occur frequently across many different documents. Another one we haven't touched on is **word embeddings**, which uses a neural network to learn a dense numerical representation for each word in a vocabulary and represents each document as a dense vector of word embeddings.\n",
        "\n"
      ],
      "metadata": {
        "id": "yOlI8IVJnf8D"
      }
    },
    {
      "cell_type": "code",
      "source": [
        "from sklearn.feature_extraction.text import CountVectorizer\n",
        "\n",
        "vectorizer = CountVectorizer()\n",
        "vectorizer.fit(sentences_train)\n",
        "\n",
        "X_train = vectorizer.transform(sentences_train)\n",
        "X_test  = vectorizer.transform(sentences_test)\n",
        "X_train"
      ],
      "metadata": {
        "colab": {
          "base_uri": "https://localhost:8080/"
        },
        "id": "t0T1hCuGna3V",
        "outputId": "545a24a5-4d8c-4781-8e9e-4ab7bddcfcfe"
      },
      "execution_count": 172,
      "outputs": [
        {
          "output_type": "execute_result",
          "data": {
            "text/plain": [
              "<428x623 sparse matrix of type '<class 'numpy.int64'>'\n",
              "\twith 2172 stored elements in Compressed Sparse Row format>"
            ]
          },
          "metadata": {},
          "execution_count": 172
        }
      ]
    },
    {
      "cell_type": "markdown",
      "source": [
        "# Sparse Matrix\n",
        "\n",
        "The result of a sparse matrix from this code means that the vectorized representation of the text data is sstored in a sparse matrix. A sparse matrix is a matrix where most of the elements are zero, and it's stred in a compact format that only stores the non-zero elements.\n",
        "\n",
        "In text data, it's common to have many words that are not present in a given document, which results in a high proportion of zeros in the word frequency matrix. By using a sparse matrix representation, the memory usage and computation time can be signigicantly reduced compared to a dense matrix representation that scores all the zero elements. This sparse matrix can now be used as input for a machine learning model."
      ],
      "metadata": {
        "id": "u9WPUVHu4vbF"
      }
    },
    {
      "cell_type": "markdown",
      "source": [
        "## Let's build our first Keras Neural Network Model\n",
        "\n",
        "This code creates a simple neural network model using the 'Sequential' class from the 'keras.models' module and the 'layers' module from the 'kera' library. The model consists of two dense layers, also known as fully connected layers.\n",
        "\n",
        "The first line of the code defines 'input_dim' as the number of features, which is obtained by accessing the second dimension of the 'X_train' array.\n",
        "\n",
        "The second line creates a new 'Sequential' object, which is a type of model in Keras that allows you to build a linear stack of layers.\n",
        "\n",
        "The third line adds the first dense layer to the model 'model.add(layers.Dense(10, input_dim=input_dim, activation='relu'))'. The 'layers.Dense' constructor creates a dense laer with 10 units, an input dimension equal to 'input_dim' and a ReLU activation function. The ReLU activation function is commonly used in the hidden layers of neural networks and returns the input if it's positive, otherwise returns zero.\n",
        "\n",
        "The foruth line adds a second dense layer with 'model.add(laers.Dense(1, activation='sigmoid'))'. This layer has one unit and a sigmoid activation function. The sigmoid activation function is commonly used in the output layer of binary classification models and maps the input to values between 0 and 1, which can be interpreted as a probability.\n",
        "\n",
        "In this code, theneural network model is built using two dense layers, but other types of layers and more layers could be added to the model to create more complex models. The nuber of units and activation function sin the layers can be adjusted to optimize the performance of the model.\n"
      ],
      "metadata": {
        "id": "dUjO-5rUnLSM"
      }
    },
    {
      "cell_type": "code",
      "source": [
        "from keras.models import Sequential\n",
        "from keras import layers\n",
        "\n",
        "input_dim = X_train.shape[1]  # Number of features\n",
        "\n",
        "model = Sequential() # start creating the sequential model \n",
        "\n",
        "# add one dense layer (don't worry about the 10)\n",
        "model.add(layers.Dense(10, input_dim=input_dim, activation='relu'))\n",
        "\n",
        "# add a second dense layer\n",
        "model.add(layers.Dense(1, activation='sigmoid'))"
      ],
      "metadata": {
        "id": "P8d696oQaH97"
      },
      "execution_count": 173,
      "outputs": []
    },
    {
      "cell_type": "markdown",
      "source": [
        "We can see the model architecture using the summary() method.\n",
        "\n",
        "The total number of trainable parameters is 17,161.\n",
        "\n",
        "The second layer receives all the inputs from the first layer, and has an additional one value that is output.\n",
        "\n",
        "The 'model.summary' function in Keras is an important tool for inspecting the architecture of a neural netowrk model. It providews a summary of the model's layers. the number of parameters in each layer, and the overall number of parameters in the model.\n",
        "\n",
        "By looking at the summary of the model's architecture, you can quickly check the number of layers and the number of parameters in each layer, which can give you an idea of the model's complexity and capacity. This information can help you to identify potential issues such as overfitting, underfitting, and poor generalization performance.\n",
        "\n",
        "You can also use the summary to check if the input shape of the model matches the expected input shape of your data, and to make sure that the output shape of the model matches the expected number of outputs for your task.\n",
        "\n",
        "Overall, the 'model.summary()' function is an important tool for understanding and debugging neural network models, and it's a good practice to use it regularly during the model development and training process."
      ],
      "metadata": {
        "id": "XxQAjPQiDAqT"
      }
    },
    {
      "cell_type": "code",
      "source": [
        "# We can see the model architecture using the summary() method\n",
        "model.summary()"
      ],
      "metadata": {
        "colab": {
          "base_uri": "https://localhost:8080/"
        },
        "id": "oUDHX7i9CuKu",
        "outputId": "586c3ee4-12fa-4033-8b5d-aecfcfd44102"
      },
      "execution_count": 174,
      "outputs": [
        {
          "output_type": "stream",
          "name": "stdout",
          "text": [
            "Model: \"sequential\"\n",
            "_________________________________________________________________\n",
            " Layer (type)                Output Shape              Param #   \n",
            "=================================================================\n",
            " dense (Dense)               (None, 10)                6240      \n",
            "                                                                 \n",
            " dense_1 (Dense)             (None, 1)                 11        \n",
            "                                                                 \n",
            "=================================================================\n",
            "Total params: 6,251\n",
            "Trainable params: 6,251\n",
            "Non-trainable params: 0\n",
            "_________________________________________________________________\n"
          ]
        }
      ]
    },
    {
      "cell_type": "markdown",
      "source": [
        "## Compile the Model\n",
        "\n",
        "Before you can start with the training of the model, you need to configure the learning process. This is done with the .compile() method. The **'compile'** function is used to specify the loss function, optimization algorithm, and metrics to be used during training.\n",
        "\n",
        "1. **'loss' **: The loss function is used to evaluate how well the model is performing. The'binary_crossentropy' is a loss function used for binary classification problems, where the goal is to predict one of two outcomes.\n",
        "\n",
        "2. **'optimizer'**: The optimization algorithm is used to update the model weights to minimize the loss function. The 'adam' optimizer is a popular choice for many deep learning problems.\n",
        "\n",
        "3. **'metrics'**: The metrics are used to monitor the performance of the model during training and testing. In this case, the 'accuracy' metric is specified, which is a common metric for evaluating the accuacy of a binary classifier.\n",
        "\n",
        "Compiling the model is an important step in training a machine learning model as it **sets up the framework for the training process and defines how the model will be updated** based on the data it sees during training.\n"
      ],
      "metadata": {
        "id": "Oohog_Obn75G"
      }
    },
    {
      "cell_type": "code",
      "source": [
        "model.compile(loss='binary_crossentropy', \n",
        "              optimizer='adam', \n",
        "              metrics=['accuracy'])"
      ],
      "metadata": {
        "id": "eRzb0HLjaQgh"
      },
      "execution_count": 175,
      "outputs": []
    },
    {
      "cell_type": "code",
      "source": [
        "sentences[:5]"
      ],
      "metadata": {
        "colab": {
          "base_uri": "https://localhost:8080/"
        },
        "id": "aj8HHe_ooTz2",
        "outputId": "81a9f1d7-1b18-4b03-96af-4b814021a890"
      },
      "execution_count": 176,
      "outputs": [
        {
          "output_type": "execute_result",
          "data": {
            "text/plain": [
              "array(['anything another damn shoe store',\n",
              "       'mall joke worked 30 years ago nice understand want much money spaces town needs kohls mall',\n",
              "       'spencerâ\\x80\\x99s', 'arcade kids teens serves food kw',\n",
              "       'dillards talbots chicoâ\\x80\\x99s'], dtype=object)"
            ]
          },
          "metadata": {},
          "execution_count": 176
        }
      ]
    },
    {
      "cell_type": "markdown",
      "source": [
        "We train the model using the fit() method.  We choose the number of epochs we want to train for, and provide both the training data, and validation data.  We set the batch size to 10, as that is the number of inputs that will be provided during each epoch.  The use of batches allows very large datasets (ones that cannot be stored in memory) to be used to train models.\n",
        "\n",
        "We assign the result to history, a variable that collects statistics on the model during the training process.\n",
        "\n",
        "If you have taken Machine Learning, and learned about hyperparameter tuning, some of the paramters on fit (like epochs) can be tuned as hyperparameters.  An epoch, is a complete iteration through the training data.  Epochs is the number of chances the model gets to determine the correct parameter values.\n",
        "\n",
        "When you run this cell, notice that the loss decreased and the accuracy increased."
      ],
      "metadata": {
        "id": "WDOSMSodEbXs"
      }
    },
    {
      "cell_type": "code",
      "source": [
        "from keras.backend import clear_session\n",
        "clear_session()"
      ],
      "metadata": {
        "id": "MEL9f2V1Fv5W"
      },
      "execution_count": 177,
      "outputs": []
    },
    {
      "cell_type": "markdown",
      "source": [
        "The above code is being used to clear the internal state of the Keras library. This is useful when you want to start fresh, for example, if you are re-using the same Python session for multiple experiments and you want to ensure that the state of the previous experiment does not interere with the current one.\n",
        "\n",
        "** Note that calling 'clear_session' will release all GPU memory and reset the internal state of the library, so any existing models and variables will be lost. **"
      ],
      "metadata": {
        "id": "XNl2bgTP-J1q"
      }
    },
    {
      "cell_type": "code",
      "source": [
        "history = model.fit(X_train, y_train,\n",
        "                     epochs=100,\n",
        "                     verbose=True,\n",
        "                     validation_data=(X_test, y_test),\n",
        "                     batch_size=10)"
      ],
      "metadata": {
        "id": "Xda_9I7dYHUl",
        "colab": {
          "base_uri": "https://localhost:8080/"
        },
        "outputId": "ff2477f6-e5df-4031-c5e7-274437142f1d"
      },
      "execution_count": 178,
      "outputs": [
        {
          "output_type": "stream",
          "name": "stdout",
          "text": [
            "Epoch 1/100\n"
          ]
        },
        {
          "output_type": "stream",
          "name": "stderr",
          "text": [
            "/usr/local/lib/python3.8/dist-packages/tensorflow/python/framework/indexed_slices.py:444: UserWarning: Converting sparse IndexedSlices(IndexedSlices(indices=Tensor(\"gradient_tape/sequential/dense/embedding_lookup_sparse/Reshape_1:0\", shape=(None,), dtype=int32), values=Tensor(\"gradient_tape/sequential/dense/embedding_lookup_sparse/Reshape:0\", shape=(None, 10), dtype=float32), dense_shape=Tensor(\"gradient_tape/sequential/dense/embedding_lookup_sparse/Cast:0\", shape=(2,), dtype=int32))) to a dense Tensor of unknown shape. This may consume a large amount of memory.\n",
            "  warnings.warn(\n"
          ]
        },
        {
          "output_type": "stream",
          "name": "stdout",
          "text": [
            "43/43 [==============================] - 1s 6ms/step - loss: 0.6849 - accuracy: 0.5421 - val_loss: 0.6669 - val_accuracy: 0.6481\n",
            "Epoch 2/100\n",
            "43/43 [==============================] - 0s 2ms/step - loss: 0.6507 - accuracy: 0.6379 - val_loss: 0.6409 - val_accuracy: 0.6759\n",
            "Epoch 3/100\n",
            "43/43 [==============================] - 0s 3ms/step - loss: 0.6112 - accuracy: 0.7033 - val_loss: 0.6077 - val_accuracy: 0.7685\n",
            "Epoch 4/100\n",
            "43/43 [==============================] - 0s 2ms/step - loss: 0.5607 - accuracy: 0.7850 - val_loss: 0.5684 - val_accuracy: 0.7778\n",
            "Epoch 5/100\n",
            "43/43 [==============================] - 0s 3ms/step - loss: 0.5032 - accuracy: 0.8481 - val_loss: 0.5241 - val_accuracy: 0.8148\n",
            "Epoch 6/100\n",
            "43/43 [==============================] - 0s 2ms/step - loss: 0.4437 - accuracy: 0.9276 - val_loss: 0.4793 - val_accuracy: 0.8333\n",
            "Epoch 7/100\n",
            "43/43 [==============================] - 0s 2ms/step - loss: 0.3864 - accuracy: 0.9579 - val_loss: 0.4381 - val_accuracy: 0.8981\n",
            "Epoch 8/100\n",
            "43/43 [==============================] - 0s 2ms/step - loss: 0.3360 - accuracy: 0.9883 - val_loss: 0.3997 - val_accuracy: 0.9074\n",
            "Epoch 9/100\n",
            "43/43 [==============================] - 0s 2ms/step - loss: 0.2919 - accuracy: 0.9953 - val_loss: 0.3676 - val_accuracy: 0.9074\n",
            "Epoch 10/100\n",
            "43/43 [==============================] - 0s 3ms/step - loss: 0.2547 - accuracy: 0.9953 - val_loss: 0.3391 - val_accuracy: 0.9352\n",
            "Epoch 11/100\n",
            "43/43 [==============================] - 0s 2ms/step - loss: 0.2232 - accuracy: 0.9977 - val_loss: 0.3158 - val_accuracy: 0.9352\n",
            "Epoch 12/100\n",
            "43/43 [==============================] - 0s 3ms/step - loss: 0.1961 - accuracy: 0.9977 - val_loss: 0.2951 - val_accuracy: 0.9352\n",
            "Epoch 13/100\n",
            "43/43 [==============================] - 0s 3ms/step - loss: 0.1729 - accuracy: 0.9977 - val_loss: 0.2779 - val_accuracy: 0.9444\n",
            "Epoch 14/100\n",
            "43/43 [==============================] - 0s 3ms/step - loss: 0.1527 - accuracy: 0.9977 - val_loss: 0.2634 - val_accuracy: 0.9352\n",
            "Epoch 15/100\n",
            "43/43 [==============================] - 0s 2ms/step - loss: 0.1356 - accuracy: 0.9977 - val_loss: 0.2485 - val_accuracy: 0.9444\n",
            "Epoch 16/100\n",
            "43/43 [==============================] - 0s 3ms/step - loss: 0.1204 - accuracy: 1.0000 - val_loss: 0.2383 - val_accuracy: 0.9444\n",
            "Epoch 17/100\n",
            "43/43 [==============================] - 0s 2ms/step - loss: 0.1076 - accuracy: 1.0000 - val_loss: 0.2285 - val_accuracy: 0.9444\n",
            "Epoch 18/100\n",
            "43/43 [==============================] - 0s 3ms/step - loss: 0.0964 - accuracy: 1.0000 - val_loss: 0.2196 - val_accuracy: 0.9444\n",
            "Epoch 19/100\n",
            "43/43 [==============================] - 0s 2ms/step - loss: 0.0865 - accuracy: 1.0000 - val_loss: 0.2130 - val_accuracy: 0.9444\n",
            "Epoch 20/100\n",
            "43/43 [==============================] - 0s 3ms/step - loss: 0.0780 - accuracy: 1.0000 - val_loss: 0.2071 - val_accuracy: 0.9444\n",
            "Epoch 21/100\n",
            "43/43 [==============================] - 0s 3ms/step - loss: 0.0705 - accuracy: 1.0000 - val_loss: 0.2020 - val_accuracy: 0.9444\n",
            "Epoch 22/100\n",
            "43/43 [==============================] - 0s 2ms/step - loss: 0.0638 - accuracy: 1.0000 - val_loss: 0.1969 - val_accuracy: 0.9444\n",
            "Epoch 23/100\n",
            "43/43 [==============================] - 0s 2ms/step - loss: 0.0580 - accuracy: 1.0000 - val_loss: 0.1924 - val_accuracy: 0.9444\n",
            "Epoch 24/100\n",
            "43/43 [==============================] - 0s 2ms/step - loss: 0.0528 - accuracy: 1.0000 - val_loss: 0.1896 - val_accuracy: 0.9444\n",
            "Epoch 25/100\n",
            "43/43 [==============================] - 0s 2ms/step - loss: 0.0482 - accuracy: 1.0000 - val_loss: 0.1864 - val_accuracy: 0.9444\n",
            "Epoch 26/100\n",
            "43/43 [==============================] - 0s 2ms/step - loss: 0.0442 - accuracy: 1.0000 - val_loss: 0.1839 - val_accuracy: 0.9444\n",
            "Epoch 27/100\n",
            "43/43 [==============================] - 0s 3ms/step - loss: 0.0405 - accuracy: 1.0000 - val_loss: 0.1817 - val_accuracy: 0.9444\n",
            "Epoch 28/100\n",
            "43/43 [==============================] - 0s 2ms/step - loss: 0.0372 - accuracy: 1.0000 - val_loss: 0.1799 - val_accuracy: 0.9444\n",
            "Epoch 29/100\n",
            "43/43 [==============================] - 0s 2ms/step - loss: 0.0343 - accuracy: 1.0000 - val_loss: 0.1782 - val_accuracy: 0.9444\n",
            "Epoch 30/100\n",
            "43/43 [==============================] - 0s 2ms/step - loss: 0.0317 - accuracy: 1.0000 - val_loss: 0.1770 - val_accuracy: 0.9444\n",
            "Epoch 31/100\n",
            "43/43 [==============================] - 0s 2ms/step - loss: 0.0293 - accuracy: 1.0000 - val_loss: 0.1759 - val_accuracy: 0.9444\n",
            "Epoch 32/100\n",
            "43/43 [==============================] - 0s 2ms/step - loss: 0.0271 - accuracy: 1.0000 - val_loss: 0.1749 - val_accuracy: 0.9444\n",
            "Epoch 33/100\n",
            "43/43 [==============================] - 0s 2ms/step - loss: 0.0252 - accuracy: 1.0000 - val_loss: 0.1740 - val_accuracy: 0.9444\n",
            "Epoch 34/100\n",
            "43/43 [==============================] - 0s 2ms/step - loss: 0.0235 - accuracy: 1.0000 - val_loss: 0.1735 - val_accuracy: 0.9444\n",
            "Epoch 35/100\n",
            "43/43 [==============================] - 0s 2ms/step - loss: 0.0218 - accuracy: 1.0000 - val_loss: 0.1725 - val_accuracy: 0.9444\n",
            "Epoch 36/100\n",
            "43/43 [==============================] - 0s 2ms/step - loss: 0.0204 - accuracy: 1.0000 - val_loss: 0.1726 - val_accuracy: 0.9444\n",
            "Epoch 37/100\n",
            "43/43 [==============================] - 0s 2ms/step - loss: 0.0191 - accuracy: 1.0000 - val_loss: 0.1720 - val_accuracy: 0.9444\n",
            "Epoch 38/100\n",
            "43/43 [==============================] - 0s 2ms/step - loss: 0.0178 - accuracy: 1.0000 - val_loss: 0.1720 - val_accuracy: 0.9444\n",
            "Epoch 39/100\n",
            "43/43 [==============================] - 0s 2ms/step - loss: 0.0167 - accuracy: 1.0000 - val_loss: 0.1723 - val_accuracy: 0.9444\n",
            "Epoch 40/100\n",
            "43/43 [==============================] - 0s 3ms/step - loss: 0.0157 - accuracy: 1.0000 - val_loss: 0.1720 - val_accuracy: 0.9444\n",
            "Epoch 41/100\n",
            "43/43 [==============================] - 0s 3ms/step - loss: 0.0147 - accuracy: 1.0000 - val_loss: 0.1719 - val_accuracy: 0.9444\n",
            "Epoch 42/100\n",
            "43/43 [==============================] - 0s 3ms/step - loss: 0.0139 - accuracy: 1.0000 - val_loss: 0.1718 - val_accuracy: 0.9444\n",
            "Epoch 43/100\n",
            "43/43 [==============================] - 0s 2ms/step - loss: 0.0131 - accuracy: 1.0000 - val_loss: 0.1720 - val_accuracy: 0.9444\n",
            "Epoch 44/100\n",
            "43/43 [==============================] - 0s 2ms/step - loss: 0.0123 - accuracy: 1.0000 - val_loss: 0.1720 - val_accuracy: 0.9444\n",
            "Epoch 45/100\n",
            "43/43 [==============================] - 0s 2ms/step - loss: 0.0116 - accuracy: 1.0000 - val_loss: 0.1721 - val_accuracy: 0.9444\n",
            "Epoch 46/100\n",
            "43/43 [==============================] - 0s 2ms/step - loss: 0.0110 - accuracy: 1.0000 - val_loss: 0.1727 - val_accuracy: 0.9444\n",
            "Epoch 47/100\n",
            "43/43 [==============================] - 0s 2ms/step - loss: 0.0104 - accuracy: 1.0000 - val_loss: 0.1724 - val_accuracy: 0.9444\n",
            "Epoch 48/100\n",
            "43/43 [==============================] - 0s 4ms/step - loss: 0.0099 - accuracy: 1.0000 - val_loss: 0.1728 - val_accuracy: 0.9444\n",
            "Epoch 49/100\n",
            "43/43 [==============================] - 0s 4ms/step - loss: 0.0093 - accuracy: 1.0000 - val_loss: 0.1731 - val_accuracy: 0.9444\n",
            "Epoch 50/100\n",
            "43/43 [==============================] - 0s 4ms/step - loss: 0.0089 - accuracy: 1.0000 - val_loss: 0.1735 - val_accuracy: 0.9444\n",
            "Epoch 51/100\n",
            "43/43 [==============================] - 0s 4ms/step - loss: 0.0084 - accuracy: 1.0000 - val_loss: 0.1739 - val_accuracy: 0.9444\n",
            "Epoch 52/100\n",
            "43/43 [==============================] - 0s 4ms/step - loss: 0.0080 - accuracy: 1.0000 - val_loss: 0.1740 - val_accuracy: 0.9444\n",
            "Epoch 53/100\n",
            "43/43 [==============================] - 0s 3ms/step - loss: 0.0076 - accuracy: 1.0000 - val_loss: 0.1745 - val_accuracy: 0.9444\n",
            "Epoch 54/100\n",
            "43/43 [==============================] - 0s 4ms/step - loss: 0.0072 - accuracy: 1.0000 - val_loss: 0.1751 - val_accuracy: 0.9444\n",
            "Epoch 55/100\n",
            "43/43 [==============================] - 0s 4ms/step - loss: 0.0069 - accuracy: 1.0000 - val_loss: 0.1753 - val_accuracy: 0.9444\n",
            "Epoch 56/100\n",
            "43/43 [==============================] - 0s 3ms/step - loss: 0.0066 - accuracy: 1.0000 - val_loss: 0.1755 - val_accuracy: 0.9444\n",
            "Epoch 57/100\n",
            "43/43 [==============================] - 0s 2ms/step - loss: 0.0063 - accuracy: 1.0000 - val_loss: 0.1761 - val_accuracy: 0.9444\n",
            "Epoch 58/100\n",
            "43/43 [==============================] - 0s 2ms/step - loss: 0.0060 - accuracy: 1.0000 - val_loss: 0.1766 - val_accuracy: 0.9444\n",
            "Epoch 59/100\n",
            "43/43 [==============================] - 0s 3ms/step - loss: 0.0057 - accuracy: 1.0000 - val_loss: 0.1771 - val_accuracy: 0.9444\n",
            "Epoch 60/100\n",
            "43/43 [==============================] - 0s 3ms/step - loss: 0.0055 - accuracy: 1.0000 - val_loss: 0.1772 - val_accuracy: 0.9444\n",
            "Epoch 61/100\n",
            "43/43 [==============================] - 0s 2ms/step - loss: 0.0052 - accuracy: 1.0000 - val_loss: 0.1777 - val_accuracy: 0.9444\n",
            "Epoch 62/100\n",
            "43/43 [==============================] - 0s 2ms/step - loss: 0.0050 - accuracy: 1.0000 - val_loss: 0.1782 - val_accuracy: 0.9444\n",
            "Epoch 63/100\n",
            "43/43 [==============================] - 0s 3ms/step - loss: 0.0048 - accuracy: 1.0000 - val_loss: 0.1787 - val_accuracy: 0.9444\n",
            "Epoch 64/100\n",
            "43/43 [==============================] - 0s 2ms/step - loss: 0.0046 - accuracy: 1.0000 - val_loss: 0.1792 - val_accuracy: 0.9444\n",
            "Epoch 65/100\n",
            "43/43 [==============================] - 0s 2ms/step - loss: 0.0044 - accuracy: 1.0000 - val_loss: 0.1793 - val_accuracy: 0.9444\n",
            "Epoch 66/100\n",
            "43/43 [==============================] - 0s 2ms/step - loss: 0.0042 - accuracy: 1.0000 - val_loss: 0.1799 - val_accuracy: 0.9444\n",
            "Epoch 67/100\n",
            "43/43 [==============================] - 0s 2ms/step - loss: 0.0040 - accuracy: 1.0000 - val_loss: 0.1805 - val_accuracy: 0.9444\n",
            "Epoch 68/100\n",
            "43/43 [==============================] - 0s 3ms/step - loss: 0.0039 - accuracy: 1.0000 - val_loss: 0.1809 - val_accuracy: 0.9444\n",
            "Epoch 69/100\n",
            "43/43 [==============================] - 0s 2ms/step - loss: 0.0037 - accuracy: 1.0000 - val_loss: 0.1815 - val_accuracy: 0.9444\n",
            "Epoch 70/100\n",
            "43/43 [==============================] - 0s 2ms/step - loss: 0.0036 - accuracy: 1.0000 - val_loss: 0.1819 - val_accuracy: 0.9444\n",
            "Epoch 71/100\n",
            "43/43 [==============================] - 0s 2ms/step - loss: 0.0034 - accuracy: 1.0000 - val_loss: 0.1823 - val_accuracy: 0.9444\n",
            "Epoch 72/100\n",
            "43/43 [==============================] - 0s 2ms/step - loss: 0.0033 - accuracy: 1.0000 - val_loss: 0.1828 - val_accuracy: 0.9444\n",
            "Epoch 73/100\n",
            "43/43 [==============================] - 0s 2ms/step - loss: 0.0032 - accuracy: 1.0000 - val_loss: 0.1833 - val_accuracy: 0.9444\n",
            "Epoch 74/100\n",
            "43/43 [==============================] - 0s 2ms/step - loss: 0.0030 - accuracy: 1.0000 - val_loss: 0.1837 - val_accuracy: 0.9444\n",
            "Epoch 75/100\n",
            "43/43 [==============================] - 0s 2ms/step - loss: 0.0029 - accuracy: 1.0000 - val_loss: 0.1842 - val_accuracy: 0.9444\n",
            "Epoch 76/100\n",
            "43/43 [==============================] - 0s 2ms/step - loss: 0.0028 - accuracy: 1.0000 - val_loss: 0.1847 - val_accuracy: 0.9444\n",
            "Epoch 77/100\n",
            "43/43 [==============================] - 0s 2ms/step - loss: 0.0027 - accuracy: 1.0000 - val_loss: 0.1854 - val_accuracy: 0.9444\n",
            "Epoch 78/100\n",
            "43/43 [==============================] - 0s 3ms/step - loss: 0.0026 - accuracy: 1.0000 - val_loss: 0.1857 - val_accuracy: 0.9444\n",
            "Epoch 79/100\n",
            "43/43 [==============================] - 0s 3ms/step - loss: 0.0025 - accuracy: 1.0000 - val_loss: 0.1861 - val_accuracy: 0.9444\n",
            "Epoch 80/100\n",
            "43/43 [==============================] - 0s 2ms/step - loss: 0.0024 - accuracy: 1.0000 - val_loss: 0.1868 - val_accuracy: 0.9444\n",
            "Epoch 81/100\n",
            "43/43 [==============================] - 0s 2ms/step - loss: 0.0023 - accuracy: 1.0000 - val_loss: 0.1871 - val_accuracy: 0.9444\n",
            "Epoch 82/100\n",
            "43/43 [==============================] - 0s 2ms/step - loss: 0.0023 - accuracy: 1.0000 - val_loss: 0.1877 - val_accuracy: 0.9444\n",
            "Epoch 83/100\n",
            "43/43 [==============================] - 0s 2ms/step - loss: 0.0022 - accuracy: 1.0000 - val_loss: 0.1881 - val_accuracy: 0.9444\n",
            "Epoch 84/100\n",
            "43/43 [==============================] - 0s 3ms/step - loss: 0.0021 - accuracy: 1.0000 - val_loss: 0.1886 - val_accuracy: 0.9444\n",
            "Epoch 85/100\n",
            "43/43 [==============================] - 0s 4ms/step - loss: 0.0020 - accuracy: 1.0000 - val_loss: 0.1891 - val_accuracy: 0.9444\n",
            "Epoch 86/100\n",
            "43/43 [==============================] - 0s 2ms/step - loss: 0.0020 - accuracy: 1.0000 - val_loss: 0.1896 - val_accuracy: 0.9444\n",
            "Epoch 87/100\n",
            "43/43 [==============================] - 0s 2ms/step - loss: 0.0019 - accuracy: 1.0000 - val_loss: 0.1900 - val_accuracy: 0.9444\n",
            "Epoch 88/100\n",
            "43/43 [==============================] - 0s 2ms/step - loss: 0.0018 - accuracy: 1.0000 - val_loss: 0.1906 - val_accuracy: 0.9444\n",
            "Epoch 89/100\n",
            "43/43 [==============================] - 0s 3ms/step - loss: 0.0018 - accuracy: 1.0000 - val_loss: 0.1910 - val_accuracy: 0.9444\n",
            "Epoch 90/100\n",
            "43/43 [==============================] - 0s 2ms/step - loss: 0.0017 - accuracy: 1.0000 - val_loss: 0.1915 - val_accuracy: 0.9444\n",
            "Epoch 91/100\n",
            "43/43 [==============================] - 0s 2ms/step - loss: 0.0016 - accuracy: 1.0000 - val_loss: 0.1920 - val_accuracy: 0.9444\n",
            "Epoch 92/100\n",
            "43/43 [==============================] - 0s 3ms/step - loss: 0.0016 - accuracy: 1.0000 - val_loss: 0.1924 - val_accuracy: 0.9444\n",
            "Epoch 93/100\n",
            "43/43 [==============================] - 0s 2ms/step - loss: 0.0015 - accuracy: 1.0000 - val_loss: 0.1928 - val_accuracy: 0.9444\n",
            "Epoch 94/100\n",
            "43/43 [==============================] - 0s 2ms/step - loss: 0.0015 - accuracy: 1.0000 - val_loss: 0.1934 - val_accuracy: 0.9444\n",
            "Epoch 95/100\n",
            "43/43 [==============================] - 0s 2ms/step - loss: 0.0014 - accuracy: 1.0000 - val_loss: 0.1939 - val_accuracy: 0.9444\n",
            "Epoch 96/100\n",
            "43/43 [==============================] - 0s 3ms/step - loss: 0.0014 - accuracy: 1.0000 - val_loss: 0.1944 - val_accuracy: 0.9444\n",
            "Epoch 97/100\n",
            "43/43 [==============================] - 0s 2ms/step - loss: 0.0013 - accuracy: 1.0000 - val_loss: 0.1949 - val_accuracy: 0.9444\n",
            "Epoch 98/100\n",
            "43/43 [==============================] - 0s 2ms/step - loss: 0.0013 - accuracy: 1.0000 - val_loss: 0.1954 - val_accuracy: 0.9444\n",
            "Epoch 99/100\n",
            "43/43 [==============================] - 0s 3ms/step - loss: 0.0013 - accuracy: 1.0000 - val_loss: 0.1958 - val_accuracy: 0.9444\n",
            "Epoch 100/100\n",
            "43/43 [==============================] - 0s 2ms/step - loss: 0.0012 - accuracy: 1.0000 - val_loss: 0.1962 - val_accuracy: 0.9444\n"
          ]
        }
      ]
    },
    {
      "cell_type": "markdown",
      "source": [
        "Above we are training the model using the 'fit' function on the 'model' object to fit the model to the training data 'X_train' and 'y_train'. I was able to improve the accuracy of the model to about 94% that's pretty good. Now we can see the power of quality data standardization👌🏾.\n",
        "\n",
        "* 'epochs': This parameter specifies the number of times the training data will be passed through the model. An epock is a complete iteration over the training data. In this case, the model will be trained for 100 epochs.\n",
        "\n",
        "* 'verbose': This parameter controls the verbosity mode during training. If 'verbose=True', training progress will be printed to the console. If 'verbose=False', training progress will not be printed.\n",
        "\n",
        "* 'validation_data': This parameter specifies the validation data('X_test' and 'y_test') that will be used to evaluate the model during trianing. The model's performance on the validation data will be used to monitor overfitting.\n",
        "\n",
        "* 'batch_size': This parmerter specifies the number of samples per gradient update. In this case, the batch size is set to 10, meaning that the model will be updated after every 10 samples.\n",
        "\n",
        "The 'fit' function returns a 'History' object, which is stored in the variable 'history'. This object contains information about the training process, such as the training loss, accuracy, and  validation loss and accuracy for each epoch. This information can be used to analyze the performance of the model and fine-tune its hyperparameters."
      ],
      "metadata": {
        "id": "AnMX_f_D-uvH"
      }
    },
    {
      "cell_type": "code",
      "source": [
        "history"
      ],
      "metadata": {
        "colab": {
          "base_uri": "https://localhost:8080/"
        },
        "id": "FZuBH2CUIE7k",
        "outputId": "4a8723d2-15cc-4560-f512-52450baf4469"
      },
      "execution_count": 179,
      "outputs": [
        {
          "output_type": "execute_result",
          "data": {
            "text/plain": [
              "<keras.callbacks.History at 0x7eff1a070e50>"
            ]
          },
          "metadata": {},
          "execution_count": 179
        }
      ]
    },
    {
      "cell_type": "markdown",
      "source": [
        "## Evaluate Accuracy of the Model\n",
        "\n",
        "We use the evaluate() method to test the model.  We can test the training data, and the test data.\n",
        "\n",
        "The 'evaluate' function is used to calculate the loss and accuracy of the model on the training data( 'X_train' and 'y_train') and testing data ('X_test' and 'y_test'). The performance of the model is calculated by comparing the model's predictions on the data with the true labels.\n",
        "\n",
        "The results of the evaluation are stored in the variables 'loss' and 'accuracy', which are then printed to the console. The accuracy of the model on the training data and testing data is printed, providing an estimate of how well the model will generalize to new, unseen data."
      ],
      "metadata": {
        "id": "F4_dw_CVo8QX"
      }
    },
    {
      "cell_type": "code",
      "source": [
        "loss, accuracy = model.evaluate(X_train, y_train, verbose=False)\n",
        "print(\"Training Accuracy: {:.4f}\".format(accuracy))\n",
        "loss, accuracy = model.evaluate(X_test, y_test, verbose=False)\n",
        "print(\"Testing Accuracy:  {:.4f}\".format(accuracy))"
      ],
      "metadata": {
        "colab": {
          "base_uri": "https://localhost:8080/"
        },
        "id": "HLsknYMHo_VV",
        "outputId": "25279f76-9e1a-4689-bf41-bbe41b3fe327"
      },
      "execution_count": 180,
      "outputs": [
        {
          "output_type": "stream",
          "name": "stdout",
          "text": [
            "Training Accuracy: 1.0000\n",
            "Testing Accuracy:  0.9444\n"
          ]
        }
      ]
    },
    {
      "cell_type": "markdown",
      "source": [
        "## Visualize the Loss and Accuracy of Training and Testing\n",
        "\n",
        "To make your life easier, you can use this little helper function to visualize the loss and accuracy for the training and testing data based on the History callback. This callback, which is automatically applied to each Keras model, records the loss and additional metrics that can be added in the .fit() method. In this case, we are only interested in the accuracy. This helper function employs the matplotlib plotting library:"
      ],
      "metadata": {
        "id": "q9iFns_FpLel"
      }
    },
    {
      "cell_type": "code",
      "source": [
        "# We can see the information kept in history from model training \n",
        "# has the following keys for each epoch\n",
        "history.history.keys()"
      ],
      "metadata": {
        "colab": {
          "base_uri": "https://localhost:8080/"
        },
        "id": "fpH7vKf0pr2J",
        "outputId": "78c41ad5-34eb-4cdd-a9ca-7fb8888598d2"
      },
      "execution_count": 181,
      "outputs": [
        {
          "output_type": "execute_result",
          "data": {
            "text/plain": [
              "dict_keys(['loss', 'accuracy', 'val_loss', 'val_accuracy'])"
            ]
          },
          "metadata": {},
          "execution_count": 181
        }
      ]
    },
    {
      "cell_type": "markdown",
      "source": [
        "We use the plot_history function to see the overfitting.  Although additional training improved the accuracy of the training data, after some time it decreased the accuracy on the testing data."
      ],
      "metadata": {
        "id": "LpIDsxbOGHth"
      }
    },
    {
      "cell_type": "code",
      "source": [
        "import matplotlib.pyplot as plt\n",
        "plt.style.use('ggplot')\n",
        "\n",
        "def plot_history(history):\n",
        "    acc = history.history['accuracy']\n",
        "    val_acc = history.history['val_accuracy']\n",
        "    loss = history.history['loss']\n",
        "    val_loss = history.history['val_loss']\n",
        "    x = range(1, len(acc) + 1)\n",
        "\n",
        "    plt.figure(figsize=(12, 5))\n",
        "    plt.subplot(1, 2, 1)\n",
        "    plt.plot(x, acc, 'b', label='Training accuracy')\n",
        "    plt.plot(x, val_acc, 'r', label='Validation accuracy')\n",
        "    plt.title('Training and validation accuracy')\n",
        "    plt.legend()\n",
        "    plt.subplot(1, 2, 2)\n",
        "    plt.plot(x, loss, 'b', label='Training loss')\n",
        "    plt.plot(x, val_loss, 'r', label='Validation loss')\n",
        "    plt.title('Training and validation loss')\n",
        "    plt.legend()"
      ],
      "metadata": {
        "id": "sFClC9sFpIsS"
      },
      "execution_count": 182,
      "outputs": []
    },
    {
      "cell_type": "code",
      "source": [
        "plot_history(history)"
      ],
      "metadata": {
        "colab": {
          "base_uri": "https://localhost:8080/",
          "height": 337
        },
        "id": "H0aGL1k_p8Hl",
        "outputId": "9d5b24c9-dcaf-405b-9182-bd6068ed90d3"
      },
      "execution_count": 183,
      "outputs": [
        {
          "output_type": "display_data",
          "data": {
            "text/plain": [
              "<Figure size 864x360 with 2 Axes>"
            ],
            "image/png": "[encoded data removed]"
          },
          "metadata": {}
        }
      ]
    },
    {
      "cell_type": "markdown",
      "source": [
        "## Experiment with Model"
      ],
      "metadata": {
        "id": "UQdJvehPJzl4"
      }
    },
    {
      "cell_type": "code",
      "source": [
        "def tryit(utterance):\n",
        "  # transform our utterance as we did both the train and test set\n",
        "  vect = vectorizer.transform([utterance])\n",
        "  print(model.predict(vect)[0])"
      ],
      "metadata": {
        "id": "ZmWsz3XeJyJs"
      },
      "execution_count": 184,
      "outputs": []
    },
    {
      "cell_type": "code",
      "source": [
        "tryit(\" I'm never going back.\")"
      ],
      "metadata": {
        "colab": {
          "base_uri": "https://localhost:8080/"
        },
        "id": "raSmf0K7KWyc",
        "outputId": "4a7a7c84-97ee-479f-f2d6-b4b5ca87d411"
      },
      "execution_count": 185,
      "outputs": [
        {
          "output_type": "stream",
          "name": "stdout",
          "text": [
            "1/1 [==============================] - 0s 85ms/step\n",
            "[0.00063037]\n"
          ]
        }
      ]
    },
    {
      "cell_type": "code",
      "source": [
        "tryit(\"I love this place!\")"
      ],
      "metadata": {
        "colab": {
          "base_uri": "https://localhost:8080/"
        },
        "id": "spIvqpRBb_R7",
        "outputId": "80ad4d9a-fd97-43c3-ee2c-454df8a2d3b0"
      },
      "execution_count": 186,
      "outputs": [
        {
          "output_type": "stream",
          "name": "stdout",
          "text": [
            "1/1 [==============================] - 0s 11ms/step\n",
            "[0.9999314]\n"
          ]
        }
      ]
    },
    {
      "cell_type": "code",
      "source": [
        "tryit(\" Wish there were more options for food.\")"
      ],
      "metadata": {
        "colab": {
          "base_uri": "https://localhost:8080/"
        },
        "id": "F_rnMS7C8wfe",
        "outputId": "5eb9e1fe-54ae-4f29-8fa9-0409be15d3cb"
      },
      "execution_count": 187,
      "outputs": [
        {
          "output_type": "stream",
          "name": "stdout",
          "text": [
            "1/1 [==============================] - 0s 11ms/step\n",
            "[0.35003114]\n"
          ]
        }
      ]
    },
    {
      "cell_type": "code",
      "source": [
        "tryit(\"This is a perfect place to waste your time.\") # still can't understand sarcasm :("
      ],
      "metadata": {
        "colab": {
          "base_uri": "https://localhost:8080/"
        },
        "id": "RCMKz85981i8",
        "outputId": "0385e413-c5ac-48f0-e859-b93bb6b33ae4"
      },
      "execution_count": 188,
      "outputs": [
        {
          "output_type": "stream",
          "name": "stdout",
          "text": [
            "1/1 [==============================] - 0s 16ms/step\n",
            "[0.9993792]\n"
          ]
        }
      ]
    },
    {
      "cell_type": "code",
      "source": [
        "tryit(\" JC Penny is so dated\") # not sure about whether people like JC Penny's"
      ],
      "metadata": {
        "colab": {
          "base_uri": "https://localhost:8080/"
        },
        "id": "vVUJQKam8-h5",
        "outputId": "e8b434de-f594-43a6-91ef-073a6d33d4f4"
      },
      "execution_count": 189,
      "outputs": [
        {
          "output_type": "stream",
          "name": "stdout",
          "text": [
            "1/1 [==============================] - 0s 12ms/step\n",
            "[0.5030221]\n"
          ]
        }
      ]
    },
    {
      "cell_type": "code",
      "source": [
        "tryit( \"Poor customer service in Belk's\") # understands someone doesn't like Belk's"
      ],
      "metadata": {
        "colab": {
          "base_uri": "https://localhost:8080/"
        },
        "id": "vCC46YNn9HXA",
        "outputId": "c922e1ce-1de8-4a46-959a-a515aa6be1e8"
      },
      "execution_count": 191,
      "outputs": [
        {
          "output_type": "stream",
          "name": "stdout",
          "text": [
            "1/1 [==============================] - 0s 26ms/step\n",
            "[0.00079495]\n"
          ]
        }
      ]
    },
    {
      "cell_type": "code",
      "source": [
        "tryit(\" This place should be torn down.\") # still thinks tearing the mall down is a positive sentiment"
      ],
      "metadata": {
        "colab": {
          "base_uri": "https://localhost:8080/"
        },
        "id": "jAU6owBl9Su_",
        "outputId": "c83dfc7e-32fd-47fb-e32d-0dc018428a8a"
      },
      "execution_count": 192,
      "outputs": [
        {
          "output_type": "stream",
          "name": "stdout",
          "text": [
            "1/1 [==============================] - 0s 11ms/step\n",
            "[0.9005569]\n"
          ]
        }
      ]
    },
    {
      "cell_type": "markdown",
      "source": [
        "Overall I'm prety satisfied with my understanding of Keras. I think I am also beginning to understand that the largest hurdle for A.I. and NLP is clean standardized data. "
      ],
      "metadata": {
        "id": "d_0sygJp9bEk"
      }
    }
  ]
}