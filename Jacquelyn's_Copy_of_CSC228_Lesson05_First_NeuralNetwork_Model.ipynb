{
  "nbformat": 4,
  "nbformat_minor": 0,
  "metadata": {
    "colab": {
      "provenance": [],
      "include_colab_link": true
    },
    "kernelspec": {
      "name": "python3",
      "display_name": "Python 3"
    },
    "language_info": {
      "name": "python"
    }
  },
  "cells": [
    {
      "cell_type": "markdown",
      "metadata": {
        "id": "view-in-github",
        "colab_type": "text"
      },
      "source": [
        "<a href=\"https://colab.research.google.com/github/JVCarmich0959/CSC228/blob/main/Jacquelyn's_Copy_of_CSC228_Lesson05_First_NeuralNetwork_Model.ipynb\" target=\"_parent\"><img src=\"https://colab.research.google.com/assets/colab-badge.svg\" alt=\"Open In Colab\"/></a>"
      ]
    },
    {
      "cell_type": "code",
      "execution_count": null,
      "metadata": {
        "id": "W04WrwWgYDvT"
      },
      "outputs": [],
      "source": [
        "# Text Classification using Neural Networks\n",
        "# CNN Neural Network Architecture\n",
        "# Using Keras wrapper module in Tensorflow\n",
        "#\n",
        "# Owner:  Lorrie Tomek\n",
        "#\n",
        "# Uses Libraries:  keras, tensorflow\n",
        "# Runtime:  Google CoLab (cpu)\n",
        "# \n",
        "# Data: \n",
        "#\n",
        "# Reference:  https://realpython.com/python-keras-text-classification/"
      ]
    },
    {
      "cell_type": "code",
      "source": [
        "# libraries\n",
        "# import python libraries\n",
        "import pandas as pd\n",
        "import numpy as np\n",
        "from pprint import pprint\n",
        "from sklearn.feature_extraction.text import TfidfVectorizer, CountVectorizer"
      ],
      "metadata": {
        "id": "Jrh0WsQCAKgA"
      },
      "execution_count": null,
      "outputs": []
    },
    {
      "cell_type": "markdown",
      "source": [
        "## Introduction to Keras\n",
        "Keras was originally written as a wrapper layer, that could wrap different deep learning and neural network APIs including the lower layer APIs of Tensorflow.  \n",
        "\n",
        "Keras provides a simpler interface to build a neural network.  Keras was built by François Chollet, who in a book described it as: \n",
        "\n",
        "Keras is a model-level library, providing high-level building blocks for developing deep-learning models. It doesn’t handle low-level operations such as tensor (multi-dimensional vector) manipulation and differentiation. Instead, it relies on a specialized, well-optimized tensor library to do so, serving as the backend engine of Keras (Source)\n",
        "\n",
        "Keras is a great way to start experimenting with neural networks without having to implement every layer and piece on your own. For example Tensorflow is a great machine learning library, but you have to implement a lot of boilerplate code to have a model running.\n",
        "\n",
        "Today, Keras is a module that is part of Tensorflow 2.0"
      ],
      "metadata": {
        "id": "6RSaS-zYLSJ-"
      }
    },
    {
      "cell_type": "code",
      "source": [
        "# Install the keras package (actually not needed as it is preinstalled in Google Colab)\n",
        "!pip install keras"
      ],
      "metadata": {
        "colab": {
          "base_uri": "https://localhost:8080/"
        },
        "id": "1vfMH1E0Y0rM",
        "outputId": "29c2adc4-ccd5-4531-b004-0decb6a200d7"
      },
      "execution_count": null,
      "outputs": [
        {
          "output_type": "stream",
          "name": "stdout",
          "text": [
            "Looking in indexes: https://pypi.org/simple, https://us-python.pkg.dev/colab-wheels/public/simple/\n",
            "Requirement already satisfied: keras in /usr/local/lib/python3.8/dist-packages (2.9.0)\n"
          ]
        }
      ]
    },
    {
      "cell_type": "markdown",
      "source": [
        "## Choose and Download a Dataset\n",
        "\n",
        "We will use a dataset from the UCI Machine Learning Repository which has labeled sentences for Sentiment Analysis.\n",
        "\n",
        "Investigate the UCI Machine Learning Repository at this URL: \n",
        "https://archive.ics.uci.edu/\n",
        "\n",
        "If you have not downloaded this, please do so. "
      ],
      "metadata": {
        "id": "3EVg8bTiVYJI"
      }
    },
    {
      "cell_type": "code",
      "source": [
        "# download and rename the zip file\n",
        "# we can use many unix commands with an exclamation point in front of them in jupyter notebooks\n",
        "!wget -c \"https://archive.ics.uci.edu/ml/machine-learning-databases/00331/sentiment%20labelled%20sentences.zip\" -O sentiment_labelled_sentences.zip"
      ],
      "metadata": {
        "colab": {
          "base_uri": "https://localhost:8080/"
        },
        "id": "wmmQ-mNxXWeN",
        "outputId": "f4854ffb-2f94-4a07-c4a6-4b4bf318700a"
      },
      "execution_count": null,
      "outputs": [
        {
          "output_type": "stream",
          "name": "stdout",
          "text": [
            "--2023-02-06 17:38:59--  https://archive.ics.uci.edu/ml/machine-learning-databases/00331/sentiment%20labelled%20sentences.zip\n",
            "Resolving archive.ics.uci.edu (archive.ics.uci.edu)... 128.195.10.252\n",
            "Connecting to archive.ics.uci.edu (archive.ics.uci.edu)|128.195.10.252|:443... connected.\n",
            "HTTP request sent, awaiting response... 200 OK\n",
            "Length: 84188 (82K) [application/x-httpd-php]\n",
            "Saving to: ‘sentiment_labelled_sentences.zip’\n",
            "\n",
            "sentiment_labelled_ 100%[===================>]  82.21K  --.-KB/s    in 0.1s    \n",
            "\n",
            "2023-02-06 17:38:59 (632 KB/s) - ‘sentiment_labelled_sentences.zip’ saved [84188/84188]\n",
            "\n"
          ]
        }
      ]
    },
    {
      "cell_type": "code",
      "source": [
        "# if you already unzipped the data, comment this out or it will stop and ask \n",
        "# if you want to replace. \n",
        "# unzip to current directory only, to make it easier to find the .txt files\n",
        "!unzip -j sentiment_labelled_sentences.zip"
      ],
      "metadata": {
        "colab": {
          "base_uri": "https://localhost:8080/"
        },
        "id": "F_eRcpFzYFc8",
        "outputId": "822a55dc-048a-42c2-c43f-9090a714034f"
      },
      "execution_count": null,
      "outputs": [
        {
          "output_type": "stream",
          "name": "stdout",
          "text": [
            "Archive:  sentiment_labelled_sentences.zip\n",
            "  inflating: .DS_Store               \n",
            "  inflating: ._.DS_Store             \n",
            "  inflating: amazon_cells_labelled.txt  \n",
            "  inflating: imdb_labelled.txt       \n",
            "  inflating: ._imdb_labelled.txt     \n",
            "  inflating: readme.txt              \n",
            "  inflating: ._readme.txt            \n",
            "  inflating: yelp_labelled.txt       \n",
            "  inflating: ._sentiment labelled sentences  \n"
          ]
        }
      ]
    },
    {
      "cell_type": "code",
      "source": [
        "!ls -r "
      ],
      "metadata": {
        "colab": {
          "base_uri": "https://localhost:8080/"
        },
        "id": "fZ5a1FAVYLGa",
        "outputId": "f0b9dd41-ae30-488d-dbb7-071d87e327ad"
      },
      "execution_count": null,
      "outputs": [
        {
          "output_type": "stream",
          "name": "stdout",
          "text": [
            "yelp_labelled.txt\t\t  sample_data  imdb_labelled.txt\n",
            "sentiment_labelled_sentences.zip  readme.txt   amazon_cells_labelled.txt\n"
          ]
        }
      ]
    },
    {
      "cell_type": "markdown",
      "source": [
        "This code defines a dictionary called 'filepath_dict' with keys 'yelp', 'amazon', and 'imdb' and the respective file paths for each as the values.\n",
        "\n",
        "The code then creates an empty list 'df_list' which will store pandas dataframes for each of the files.\n",
        "\n",
        "Using a for loop, it iterates over the items in the 'filepath_dict' dictionary. For each iteration, it:\n",
        "\n",
        "1. Reads the file at the given path using the 'pd.read_csv' function, where the resulting data is stored in a pandas dataframe 'df'\n",
        "\n",
        "2. Adds a new column to the 'df' dataframe with the nae \"source\" and the value of the source (which is the key from the 'filepath_dict')\n",
        "\n",
        "3. Appends the resulting 'df' dataframe to the 'df_list' list\n",
        "\n",
        "After looping over al the files, it concatenates the dataframes in 'df_list' into a single dataframe 'df' using the 'pd.concat' function.\n",
        "\n",
        "Finally, it prints the first row (index 0) of the resulting dataframe using 'df.iloc[0]'."
      ],
      "metadata": {
        "id": "KkQAJtOd0G9H"
      }
    },
    {
      "cell_type": "code",
      "source": [
        "# read the data from the 3 labeled .txt files into a python pandas dataframe\n",
        "# pandas dataframes are similar to excel spreadsheets with rows and columns\n",
        "filepath_dict = {'yelp':   'yelp_labelled.txt',\n",
        "                 'amazon': 'amazon_cells_labelled.txt',\n",
        "                 'imdb':   'imdb_labelled.txt'}\n",
        "\n",
        "df_list = []\n",
        "for source, filepath in filepath_dict.items():\n",
        "    df = pd.read_csv(filepath, names = ['sentence', 'label'], sep = '\\t')\n",
        "    df['source'] = source  # Add another column filled with the source name\n",
        "    df_list.append(df)\n",
        "\n",
        "df = pd.concat(df_list)\n",
        "print(df.iloc[0])"
      ],
      "metadata": {
        "colab": {
          "base_uri": "https://localhost:8080/"
        },
        "id": "9Lu1B3qla2ke",
        "outputId": "272e4d2d-4d4c-4fbd-cf28-205ce80faab6"
      },
      "execution_count": null,
      "outputs": [
        {
          "output_type": "stream",
          "name": "stdout",
          "text": [
            "sentence    Wow... Loved this place.\n",
            "label                              1\n",
            "source                          yelp\n",
            "Name: 0, dtype: object\n"
          ]
        }
      ]
    },
    {
      "cell_type": "markdown",
      "source": [
        "## Split the data into training and testing\n",
        "\n",
        "The code below is using the 'train_test_split' function from the 'sklearn.model_selection' module in scikit-learn. The function is used to split the data into training and testing sets.\n",
        "\n",
        "'df_yelp' is a sub-dataframe of 'df' that contains only the rows where the value of the 'sorce' column is equal to 'yelp'. The value of the 'sentence' column in 'df_yelp' are assigned to the 'sentences' variable and the values of the 'label' column are assigned to the 'y' variable.\n",
        "\n",
        "The 'train_test_split' function then splits the 'sentences' and 'y' arrays into four new arrays: 'sentences_train', 'sentences_test', 'y_train', and 'y_test.' The split is done with a ratio of 75% for the training set and 25% for the testing set(controlled by the 'test_size' parameter). The random state (controlled by the 'random_state'parameter). is set to 1000 to ensure **reproducibility** of the split.\n",
        "\n",
        "This is important because machine learning models are trained on a training set and evaluated on a testing set. The goal is to train the model on the training set and have it generalize well to new, unseen data represented by the testing set. By randomly splitting the data into training and testing sets, we can ensure that the model is not overfitting, which is when the model has memorized the training data instead of learning to generalize new data.\n"
      ],
      "metadata": {
        "id": "S1RwDHR6m1yZ"
      }
    },
    {
      "cell_type": "code",
      "source": [
        "from sklearn.model_selection import train_test_split\n",
        "\n",
        "df_yelp = df[df['source'] == 'yelp']\n",
        "\n",
        "sentences = df_yelp['sentence'].values\n",
        "y = df_yelp['label'].values\n",
        "\n",
        "sentences_train, sentences_test, y_train, y_test = train_test_split(\n",
        "    sentences, y, test_size=0.25, random_state=1000)"
      ],
      "metadata": {
        "id": "_GKxpqOoakvU"
      },
      "execution_count": null,
      "outputs": []
    },
    {
      "cell_type": "markdown",
      "source": [
        "## Let's Use BoW to Vectorize our Sentences\n",
        "\n",
        "The code below is using:\n",
        "1. 'CountVectorizer' class from the 'sklearn.feature_extraction.text' module to convert text into numerical representations, a process known as vectorization. The vectorized representation of the text data will be used as input for a mahcine learning model.\n",
        "\n",
        "2. A 'CountVectorizer' object is created and named 'vectorizer'. The 'fit' method is then called on 'vectorizer' with the 'sentences_train' as input. This trains the 'CountVectorizer' object on the training data and creates a vocabulary of words that the vectorizer will use to vectorize the text.\n",
        "\n",
        "3. The 'transform method is called on the 'sentences_train' and 'sentences_test' to obtain the vectorized representations of the text data. The results are stored in the 'X_train' and 'X_test\" arrays, respectively.\n",
        "\n",
        "'CountVectorizer' is a method commonly used for text vectorization. It counts the number of occurences of each word in a text document and represents each document as a vector of word frequencies.\n",
        "\n",
        "Other vectorization methods include the **'TfidVectorizer'** which we learned earlier is an alternative to the 'CountVectorizer' that scales down the impact of words that occur frequently across many different documents. Another one we haven't touched on is **word embeddings**, which uses a neural network to learn a dense numerical representation for each word in a vocabulary and represents each document as a dense vector of word embeddings.\n",
        "\n"
      ],
      "metadata": {
        "id": "yOlI8IVJnf8D"
      }
    },
    {
      "cell_type": "code",
      "source": [
        "from sklearn.feature_extraction.text import CountVectorizer\n",
        "\n",
        "vectorizer = CountVectorizer()\n",
        "vectorizer.fit(sentences_train)\n",
        "\n",
        "X_train = vectorizer.transform(sentences_train)\n",
        "X_test  = vectorizer.transform(sentences_test)\n",
        "X_train"
      ],
      "metadata": {
        "colab": {
          "base_uri": "https://localhost:8080/"
        },
        "id": "t0T1hCuGna3V",
        "outputId": "c23964fb-8806-48bc-958e-200ae5fa6f2d"
      },
      "execution_count": null,
      "outputs": [
        {
          "output_type": "execute_result",
          "data": {
            "text/plain": [
              "<750x1714 sparse matrix of type '<class 'numpy.int64'>'\n",
              "\twith 7368 stored elements in Compressed Sparse Row format>"
            ]
          },
          "metadata": {},
          "execution_count": 9
        }
      ]
    },
    {
      "cell_type": "markdown",
      "source": [
        "# Sparse Matrix\n",
        "\n",
        "The result of a sparse matrix from this code means that the vectorized representation of the text data is sstored in a sparse matrix. A sparse matrix is a matrix where most of the elements are zero, and it's stred in a compact format that only stores the non-zero elements.\n",
        "\n",
        "In text data, it's common to have many words that are not present in a given document, which results in a high proportion of zeros in the word frequency matrix. By using a sparse matrix representation, the memory usage and computation time can be signigicantly reduced compared to a dense matrix representation that scores all the zero elements. This sparse matrix can now be used as input for a machine learning model."
      ],
      "metadata": {
        "id": "u9WPUVHu4vbF"
      }
    },
    {
      "cell_type": "markdown",
      "source": [
        "## Let's build our first Keras Neural Network Model\n",
        "\n",
        "This code creates a simple neural network model using the 'Sequential' class from the 'keras.models' module and the 'layers' module from the 'kera' library. The model consists of two dense layers, also known as fully connected layers.\n",
        "\n",
        "The first line of the code defines 'input_dim' as the number of features, which is obtained by accessing the second dimension of the 'X_train' array.\n",
        "\n",
        "The second line creates a new 'Sequential' object, which is a type of model in Keras that allows you to build a linear stack of layers.\n",
        "\n",
        "The third line adds the first dense layer to the model 'model.add(layers.Dense(10, input_dim=input_dim, activation='relu'))'. The 'layers.Dense' constructor creates a dense laer with 10 units, an input dimension equal to 'input_dim' and a ReLU activation function. The ReLU activation function is commonly used in the hidden layers of neural networks and returns the input if it's positive, otherwise returns zero.\n",
        "\n",
        "The foruth line adds a second dense layer with 'model.add(laers.Dense(1, activation='sigmoid'))'. This layer has one unit and a sigmoid activation function. The sigmoid activation function is commonly used in the output layer of binary classification models and maps the input to values between 0 and 1, which can be interpreted as a probability.\n",
        "\n",
        "In this code, theneural network model is built using two dense layers, but other types of layers and more layers could be added to the model to create more complex models. The nuber of units and activation function sin the layers can be adjusted to optimize the performance of the model.\n"
      ],
      "metadata": {
        "id": "dUjO-5rUnLSM"
      }
    },
    {
      "cell_type": "code",
      "source": [
        "from keras.models import Sequential\n",
        "from keras import layers\n",
        "\n",
        "input_dim = X_train.shape[1]  # Number of features\n",
        "\n",
        "model = Sequential() # start creating the sequential model \n",
        "\n",
        "# add one dense layer (don't worry about the 10)\n",
        "model.add(layers.Dense(10, input_dim=input_dim, activation='relu'))\n",
        "\n",
        "# add a second dense layer\n",
        "model.add(layers.Dense(1, activation='sigmoid'))"
      ],
      "metadata": {
        "id": "P8d696oQaH97"
      },
      "execution_count": null,
      "outputs": []
    },
    {
      "cell_type": "markdown",
      "source": [
        "We can see the model architecture using the summary() method.\n",
        "\n",
        "The total number of trainable parameters is 17,161.\n",
        "\n",
        "The second layer receives all the inputs from the first layer, and has an additional one value that is output.\n",
        "\n",
        "The 'model.summary' function in Keras is an important tool for inspecting the architecture of a neural netowrk model. It providews a summary of the model's layers. the number of parameters in each layer, and the overall number of parameters in the model.\n",
        "\n",
        "By looking at the summary of the model's architecture, you can quickly check the number of layers and the number of parameters in each layer, which can give you an idea of the model's complexity and capacity. This information can help you to identify potential issues such as overfitting, underfitting, and poor generalization performance.\n",
        "\n",
        "You can also use the summary to check if the input shape of the model matches the expected input shape of your data, and to make sure that the output shape of the model matches the expected number of outputs for your task.\n",
        "\n",
        "Overall, the 'model.summary()' function is an important tool for understanding and debugging neural network models, and it's a good practice to use it regularly during the model development and training process."
      ],
      "metadata": {
        "id": "XxQAjPQiDAqT"
      }
    },
    {
      "cell_type": "code",
      "source": [
        "# We can see the model architecture using the summary() method\n",
        "model.summary()"
      ],
      "metadata": {
        "colab": {
          "base_uri": "https://localhost:8080/"
        },
        "id": "oUDHX7i9CuKu",
        "outputId": "f7539bd2-31e6-40bd-db4e-921e6a8757f7"
      },
      "execution_count": null,
      "outputs": [
        {
          "output_type": "stream",
          "name": "stdout",
          "text": [
            "Model: \"sequential\"\n",
            "_________________________________________________________________\n",
            " Layer (type)                Output Shape              Param #   \n",
            "=================================================================\n",
            " dense (Dense)               (None, 10)                17150     \n",
            "                                                                 \n",
            " dense_1 (Dense)             (None, 1)                 11        \n",
            "                                                                 \n",
            "=================================================================\n",
            "Total params: 17,161\n",
            "Trainable params: 17,161\n",
            "Non-trainable params: 0\n",
            "_________________________________________________________________\n"
          ]
        }
      ]
    },
    {
      "cell_type": "markdown",
      "source": [
        "## Compile the Model\n",
        "\n",
        "Before you can start with the training of the model, you need to configure the learning process. This is done with the .compile() method. The **'compile'** function is used to specify the loss function, optimization algorithm, and metrics to be used during training.\n",
        "\n",
        "1. **'loss' **: The loss function is used to evaluate how well the model is performing. The'binary_crossentropy' is a loss function used for binary classificatio problems, where the goal is to predict one of two outcomes.\n",
        "\n",
        "2. **'optimizer'**: The optimization algorithm is used to update the model weights to minimize the loss function. The 'adam' optimizer is a popular choice for many deep learning problems.\n",
        "\n",
        "3. **'metrics'**: The metrics are used to monitor the performance of the model during training and testing. In this case, the 'accuracy' metric is specified, which is a common metric for evaluating the accuacy of a binary classifier.\n",
        "\n",
        "Compiling the model is an important step in training a machine learning model as it **sets up the framework for the training process and defines how the model will be updated** based on the data it sees during training.\n"
      ],
      "metadata": {
        "id": "Oohog_Obn75G"
      }
    },
    {
      "cell_type": "code",
      "source": [
        "model.compile(loss='binary_crossentropy', \n",
        "              optimizer='adam', \n",
        "              metrics=['accuracy'])"
      ],
      "metadata": {
        "id": "eRzb0HLjaQgh"
      },
      "execution_count": null,
      "outputs": []
    },
    {
      "cell_type": "code",
      "source": [
        "sentences[:5]"
      ],
      "metadata": {
        "colab": {
          "base_uri": "https://localhost:8080/"
        },
        "id": "aj8HHe_ooTz2",
        "outputId": "006dc327-c9cb-488d-fa47-d024723df3c2"
      },
      "execution_count": null,
      "outputs": [
        {
          "output_type": "execute_result",
          "data": {
            "text/plain": [
              "array(['Wow... Loved this place.', 'Crust is not good.',\n",
              "       'Not tasty and the texture was just nasty.',\n",
              "       'Stopped by during the late May bank holiday off Rick Steve recommendation and loved it.',\n",
              "       'The selection on the menu was great and so were the prices.'],\n",
              "      dtype=object)"
            ]
          },
          "metadata": {},
          "execution_count": 14
        }
      ]
    },
    {
      "cell_type": "markdown",
      "source": [
        "We train the model using the fit() method.  We choose the number of epochs we want to train for, and provide both the training data, and validation data.  We set the batch size to 10, as that is the number of inputs that will be provided during each epoch.  The use of batches allows very large datasets (ones that cannot be stored in memory) to be used to train models.\n",
        "\n",
        "We assign the result to history, a variable that collects statistics on the model during the training process.\n",
        "\n",
        "If you have taken Machine Learning, and learned about hyperparameter tuning, some of the paramters on fit (like epochs) can be tuned as hyperparameters.  An epoch, is a complete iteration through the training data.  Epochs is the number of chances the model gets to determine the correct parameter values.\n",
        "\n",
        "When you run this cell, notice that the loss decreased and the accuracy increased."
      ],
      "metadata": {
        "id": "WDOSMSodEbXs"
      }
    },
    {
      "cell_type": "code",
      "source": [
        "from keras.backend import clear_session\n",
        "clear_session()"
      ],
      "metadata": {
        "id": "MEL9f2V1Fv5W"
      },
      "execution_count": null,
      "outputs": []
    },
    {
      "cell_type": "markdown",
      "source": [
        "The above code is being used to clear the internal state of the Keras library. This is useful when you want to start fresh, for example, if you are re-using the same Python session for multiple experiments and you want to ensure that the state of the previous experiment does not interere with the current one.\n",
        "\n",
        "** Note that calling 'clear_session' will release all GPU memory and reset the internal state of the library, so any existing models and variables will be lost. **"
      ],
      "metadata": {
        "id": "XNl2bgTP-J1q"
      }
    },
    {
      "cell_type": "code",
      "source": [
        "history = model.fit(X_train, y_train,\n",
        "                     epochs=100,\n",
        "                     verbose=True,\n",
        "                     validation_data=(X_test, y_test),\n",
        "                     batch_size=10)"
      ],
      "metadata": {
        "id": "Xda_9I7dYHUl",
        "colab": {
          "base_uri": "https://localhost:8080/"
        },
        "outputId": "1653b2c5-da52-4e93-fb9d-8421c06414f1"
      },
      "execution_count": null,
      "outputs": [
        {
          "output_type": "stream",
          "name": "stdout",
          "text": [
            "Epoch 1/100\n"
          ]
        },
        {
          "output_type": "stream",
          "name": "stderr",
          "text": [
            "/usr/local/lib/python3.8/dist-packages/tensorflow/python/framework/indexed_slices.py:444: UserWarning: Converting sparse IndexedSlices(IndexedSlices(indices=Tensor(\"gradient_tape/sequential_1/dense_2/embedding_lookup_sparse/Reshape_1:0\", shape=(None,), dtype=int32), values=Tensor(\"gradient_tape/sequential_1/dense_2/embedding_lookup_sparse/Reshape:0\", shape=(None, 10), dtype=float32), dense_shape=Tensor(\"gradient_tape/sequential_1/dense_2/embedding_lookup_sparse/Cast:0\", shape=(2,), dtype=int32))) to a dense Tensor of unknown shape. This may consume a large amount of memory.\n",
            "  warnings.warn(\n"
          ]
        },
        {
          "output_type": "stream",
          "name": "stdout",
          "text": [
            "75/75 [==============================] - 1s 3ms/step - loss: 0.6864 - accuracy: 0.5560 - val_loss: 0.6761 - val_accuracy: 0.6160\n",
            "Epoch 2/100\n",
            "75/75 [==============================] - 0s 3ms/step - loss: 0.6121 - accuracy: 0.8093 - val_loss: 0.6321 - val_accuracy: 0.7120\n",
            "Epoch 3/100\n",
            "75/75 [==============================] - 0s 3ms/step - loss: 0.5127 - accuracy: 0.8813 - val_loss: 0.5801 - val_accuracy: 0.7360\n",
            "Epoch 4/100\n",
            "75/75 [==============================] - 0s 2ms/step - loss: 0.4095 - accuracy: 0.9267 - val_loss: 0.5387 - val_accuracy: 0.7640\n",
            "Epoch 5/100\n",
            "75/75 [==============================] - 0s 2ms/step - loss: 0.3209 - accuracy: 0.9507 - val_loss: 0.4992 - val_accuracy: 0.7680\n",
            "Epoch 6/100\n",
            "75/75 [==============================] - 0s 3ms/step - loss: 0.2550 - accuracy: 0.9653 - val_loss: 0.4766 - val_accuracy: 0.7880\n",
            "Epoch 7/100\n",
            "75/75 [==============================] - 0s 3ms/step - loss: 0.2041 - accuracy: 0.9760 - val_loss: 0.4578 - val_accuracy: 0.7960\n",
            "Epoch 8/100\n",
            "75/75 [==============================] - 0s 3ms/step - loss: 0.1665 - accuracy: 0.9800 - val_loss: 0.4486 - val_accuracy: 0.7960\n",
            "Epoch 9/100\n",
            "75/75 [==============================] - 0s 3ms/step - loss: 0.1377 - accuracy: 0.9840 - val_loss: 0.4358 - val_accuracy: 0.7960\n",
            "Epoch 10/100\n",
            "75/75 [==============================] - 0s 2ms/step - loss: 0.1147 - accuracy: 0.9893 - val_loss: 0.4335 - val_accuracy: 0.8120\n",
            "Epoch 11/100\n",
            "75/75 [==============================] - 0s 3ms/step - loss: 0.0972 - accuracy: 0.9907 - val_loss: 0.4305 - val_accuracy: 0.8120\n",
            "Epoch 12/100\n",
            "75/75 [==============================] - 0s 2ms/step - loss: 0.0832 - accuracy: 0.9933 - val_loss: 0.4265 - val_accuracy: 0.8000\n",
            "Epoch 13/100\n",
            "75/75 [==============================] - 0s 3ms/step - loss: 0.0722 - accuracy: 0.9933 - val_loss: 0.4259 - val_accuracy: 0.8120\n",
            "Epoch 14/100\n",
            "75/75 [==============================] - 0s 3ms/step - loss: 0.0627 - accuracy: 0.9960 - val_loss: 0.4276 - val_accuracy: 0.8120\n",
            "Epoch 15/100\n",
            "75/75 [==============================] - 0s 2ms/step - loss: 0.0552 - accuracy: 0.9960 - val_loss: 0.4304 - val_accuracy: 0.8120\n",
            "Epoch 16/100\n",
            "75/75 [==============================] - 0s 3ms/step - loss: 0.0486 - accuracy: 0.9960 - val_loss: 0.4296 - val_accuracy: 0.8080\n",
            "Epoch 17/100\n",
            "75/75 [==============================] - 0s 2ms/step - loss: 0.0432 - accuracy: 0.9960 - val_loss: 0.4329 - val_accuracy: 0.8120\n",
            "Epoch 18/100\n",
            "75/75 [==============================] - 0s 2ms/step - loss: 0.0386 - accuracy: 0.9960 - val_loss: 0.4332 - val_accuracy: 0.8040\n",
            "Epoch 19/100\n",
            "75/75 [==============================] - 0s 3ms/step - loss: 0.0346 - accuracy: 0.9960 - val_loss: 0.4359 - val_accuracy: 0.8000\n",
            "Epoch 20/100\n",
            "75/75 [==============================] - 0s 3ms/step - loss: 0.0311 - accuracy: 0.9960 - val_loss: 0.4392 - val_accuracy: 0.8040\n",
            "Epoch 21/100\n",
            "75/75 [==============================] - 0s 2ms/step - loss: 0.0282 - accuracy: 0.9973 - val_loss: 0.4438 - val_accuracy: 0.8000\n",
            "Epoch 22/100\n",
            "75/75 [==============================] - 0s 3ms/step - loss: 0.0255 - accuracy: 0.9987 - val_loss: 0.4483 - val_accuracy: 0.8040\n",
            "Epoch 23/100\n",
            "75/75 [==============================] - 0s 2ms/step - loss: 0.0233 - accuracy: 0.9987 - val_loss: 0.4494 - val_accuracy: 0.8040\n",
            "Epoch 24/100\n",
            "75/75 [==============================] - 0s 3ms/step - loss: 0.0213 - accuracy: 0.9987 - val_loss: 0.4528 - val_accuracy: 0.8080\n",
            "Epoch 25/100\n",
            "75/75 [==============================] - 0s 3ms/step - loss: 0.0195 - accuracy: 0.9987 - val_loss: 0.4565 - val_accuracy: 0.8080\n",
            "Epoch 26/100\n",
            "75/75 [==============================] - 0s 3ms/step - loss: 0.0179 - accuracy: 0.9987 - val_loss: 0.4628 - val_accuracy: 0.8080\n",
            "Epoch 27/100\n",
            "75/75 [==============================] - 0s 4ms/step - loss: 0.0164 - accuracy: 1.0000 - val_loss: 0.4663 - val_accuracy: 0.8080\n",
            "Epoch 28/100\n",
            "75/75 [==============================] - 0s 4ms/step - loss: 0.0152 - accuracy: 1.0000 - val_loss: 0.4707 - val_accuracy: 0.8040\n",
            "Epoch 29/100\n",
            "75/75 [==============================] - 0s 4ms/step - loss: 0.0140 - accuracy: 0.9987 - val_loss: 0.4725 - val_accuracy: 0.8000\n",
            "Epoch 30/100\n",
            "75/75 [==============================] - 0s 4ms/step - loss: 0.0130 - accuracy: 1.0000 - val_loss: 0.4770 - val_accuracy: 0.8000\n",
            "Epoch 31/100\n",
            "75/75 [==============================] - 0s 4ms/step - loss: 0.0120 - accuracy: 1.0000 - val_loss: 0.4816 - val_accuracy: 0.8040\n",
            "Epoch 32/100\n",
            "75/75 [==============================] - 0s 3ms/step - loss: 0.0112 - accuracy: 1.0000 - val_loss: 0.4851 - val_accuracy: 0.8080\n",
            "Epoch 33/100\n",
            "75/75 [==============================] - 0s 2ms/step - loss: 0.0104 - accuracy: 1.0000 - val_loss: 0.4903 - val_accuracy: 0.8080\n",
            "Epoch 34/100\n",
            "75/75 [==============================] - 0s 3ms/step - loss: 0.0097 - accuracy: 1.0000 - val_loss: 0.4932 - val_accuracy: 0.8080\n",
            "Epoch 35/100\n",
            "75/75 [==============================] - 0s 3ms/step - loss: 0.0090 - accuracy: 1.0000 - val_loss: 0.4988 - val_accuracy: 0.8080\n",
            "Epoch 36/100\n",
            "75/75 [==============================] - 0s 2ms/step - loss: 0.0084 - accuracy: 1.0000 - val_loss: 0.5033 - val_accuracy: 0.8120\n",
            "Epoch 37/100\n",
            "75/75 [==============================] - 0s 3ms/step - loss: 0.0079 - accuracy: 1.0000 - val_loss: 0.5076 - val_accuracy: 0.8080\n",
            "Epoch 38/100\n",
            "75/75 [==============================] - 0s 3ms/step - loss: 0.0074 - accuracy: 1.0000 - val_loss: 0.5120 - val_accuracy: 0.8080\n",
            "Epoch 39/100\n",
            "75/75 [==============================] - 0s 2ms/step - loss: 0.0069 - accuracy: 1.0000 - val_loss: 0.5189 - val_accuracy: 0.8040\n",
            "Epoch 40/100\n",
            "75/75 [==============================] - 0s 3ms/step - loss: 0.0065 - accuracy: 1.0000 - val_loss: 0.5212 - val_accuracy: 0.8040\n",
            "Epoch 41/100\n",
            "75/75 [==============================] - 0s 3ms/step - loss: 0.0061 - accuracy: 1.0000 - val_loss: 0.5268 - val_accuracy: 0.8040\n",
            "Epoch 42/100\n",
            "75/75 [==============================] - 0s 2ms/step - loss: 0.0057 - accuracy: 1.0000 - val_loss: 0.5323 - val_accuracy: 0.8040\n",
            "Epoch 43/100\n",
            "75/75 [==============================] - 0s 3ms/step - loss: 0.0054 - accuracy: 1.0000 - val_loss: 0.5368 - val_accuracy: 0.8040\n",
            "Epoch 44/100\n",
            "75/75 [==============================] - 0s 2ms/step - loss: 0.0051 - accuracy: 1.0000 - val_loss: 0.5403 - val_accuracy: 0.8080\n",
            "Epoch 45/100\n",
            "75/75 [==============================] - 0s 3ms/step - loss: 0.0048 - accuracy: 1.0000 - val_loss: 0.5457 - val_accuracy: 0.8080\n",
            "Epoch 46/100\n",
            "75/75 [==============================] - 0s 3ms/step - loss: 0.0045 - accuracy: 1.0000 - val_loss: 0.5506 - val_accuracy: 0.8040\n",
            "Epoch 47/100\n",
            "75/75 [==============================] - 0s 3ms/step - loss: 0.0043 - accuracy: 1.0000 - val_loss: 0.5545 - val_accuracy: 0.8040\n",
            "Epoch 48/100\n",
            "75/75 [==============================] - 0s 2ms/step - loss: 0.0040 - accuracy: 1.0000 - val_loss: 0.5595 - val_accuracy: 0.8040\n",
            "Epoch 49/100\n",
            "75/75 [==============================] - 0s 3ms/step - loss: 0.0038 - accuracy: 1.0000 - val_loss: 0.5640 - val_accuracy: 0.8040\n",
            "Epoch 50/100\n",
            "75/75 [==============================] - 0s 3ms/step - loss: 0.0036 - accuracy: 1.0000 - val_loss: 0.5678 - val_accuracy: 0.8000\n",
            "Epoch 51/100\n",
            "75/75 [==============================] - 0s 2ms/step - loss: 0.0034 - accuracy: 1.0000 - val_loss: 0.5734 - val_accuracy: 0.8000\n",
            "Epoch 52/100\n",
            "75/75 [==============================] - 0s 3ms/step - loss: 0.0032 - accuracy: 1.0000 - val_loss: 0.5777 - val_accuracy: 0.8000\n",
            "Epoch 53/100\n",
            "75/75 [==============================] - 0s 3ms/step - loss: 0.0031 - accuracy: 1.0000 - val_loss: 0.5821 - val_accuracy: 0.8000\n",
            "Epoch 54/100\n",
            "75/75 [==============================] - 0s 2ms/step - loss: 0.0029 - accuracy: 1.0000 - val_loss: 0.5863 - val_accuracy: 0.8000\n",
            "Epoch 55/100\n",
            "75/75 [==============================] - 0s 2ms/step - loss: 0.0027 - accuracy: 1.0000 - val_loss: 0.5898 - val_accuracy: 0.8000\n",
            "Epoch 56/100\n",
            "75/75 [==============================] - 0s 3ms/step - loss: 0.0026 - accuracy: 1.0000 - val_loss: 0.5981 - val_accuracy: 0.8000\n",
            "Epoch 57/100\n",
            "75/75 [==============================] - 0s 3ms/step - loss: 0.0025 - accuracy: 1.0000 - val_loss: 0.6034 - val_accuracy: 0.8000\n",
            "Epoch 58/100\n",
            "75/75 [==============================] - 0s 3ms/step - loss: 0.0024 - accuracy: 1.0000 - val_loss: 0.6082 - val_accuracy: 0.8000\n",
            "Epoch 59/100\n",
            "75/75 [==============================] - 0s 3ms/step - loss: 0.0022 - accuracy: 1.0000 - val_loss: 0.6132 - val_accuracy: 0.8000\n",
            "Epoch 60/100\n",
            "75/75 [==============================] - 0s 3ms/step - loss: 0.0021 - accuracy: 1.0000 - val_loss: 0.6181 - val_accuracy: 0.7960\n",
            "Epoch 61/100\n",
            "75/75 [==============================] - 0s 3ms/step - loss: 0.0020 - accuracy: 1.0000 - val_loss: 0.6209 - val_accuracy: 0.7960\n",
            "Epoch 62/100\n",
            "75/75 [==============================] - 0s 3ms/step - loss: 0.0019 - accuracy: 1.0000 - val_loss: 0.6265 - val_accuracy: 0.7960\n",
            "Epoch 63/100\n",
            "75/75 [==============================] - 0s 3ms/step - loss: 0.0018 - accuracy: 1.0000 - val_loss: 0.6317 - val_accuracy: 0.7960\n",
            "Epoch 64/100\n",
            "75/75 [==============================] - 0s 2ms/step - loss: 0.0017 - accuracy: 1.0000 - val_loss: 0.6374 - val_accuracy: 0.7960\n",
            "Epoch 65/100\n",
            "75/75 [==============================] - 0s 3ms/step - loss: 0.0017 - accuracy: 1.0000 - val_loss: 0.6416 - val_accuracy: 0.7960\n",
            "Epoch 66/100\n",
            "75/75 [==============================] - 0s 3ms/step - loss: 0.0016 - accuracy: 1.0000 - val_loss: 0.6460 - val_accuracy: 0.7960\n",
            "Epoch 67/100\n",
            "75/75 [==============================] - 0s 2ms/step - loss: 0.0015 - accuracy: 1.0000 - val_loss: 0.6505 - val_accuracy: 0.7960\n",
            "Epoch 68/100\n",
            "75/75 [==============================] - 0s 4ms/step - loss: 0.0014 - accuracy: 1.0000 - val_loss: 0.6552 - val_accuracy: 0.7960\n",
            "Epoch 69/100\n",
            "75/75 [==============================] - 0s 4ms/step - loss: 0.0014 - accuracy: 1.0000 - val_loss: 0.6619 - val_accuracy: 0.7960\n",
            "Epoch 70/100\n",
            "75/75 [==============================] - 0s 3ms/step - loss: 0.0013 - accuracy: 1.0000 - val_loss: 0.6644 - val_accuracy: 0.7960\n",
            "Epoch 71/100\n",
            "75/75 [==============================] - 0s 4ms/step - loss: 0.0012 - accuracy: 1.0000 - val_loss: 0.6709 - val_accuracy: 0.7960\n",
            "Epoch 72/100\n",
            "75/75 [==============================] - 0s 4ms/step - loss: 0.0012 - accuracy: 1.0000 - val_loss: 0.6750 - val_accuracy: 0.7960\n",
            "Epoch 73/100\n",
            "75/75 [==============================] - 0s 3ms/step - loss: 0.0011 - accuracy: 1.0000 - val_loss: 0.6812 - val_accuracy: 0.7960\n",
            "Epoch 74/100\n",
            "75/75 [==============================] - 0s 3ms/step - loss: 0.0011 - accuracy: 1.0000 - val_loss: 0.6839 - val_accuracy: 0.7960\n",
            "Epoch 75/100\n",
            "75/75 [==============================] - 0s 3ms/step - loss: 0.0010 - accuracy: 1.0000 - val_loss: 0.6904 - val_accuracy: 0.7960\n",
            "Epoch 76/100\n",
            "75/75 [==============================] - 0s 3ms/step - loss: 9.8357e-04 - accuracy: 1.0000 - val_loss: 0.6948 - val_accuracy: 0.7960\n",
            "Epoch 77/100\n",
            "75/75 [==============================] - 0s 3ms/step - loss: 9.4299e-04 - accuracy: 1.0000 - val_loss: 0.7018 - val_accuracy: 0.7960\n",
            "Epoch 78/100\n",
            "75/75 [==============================] - 0s 3ms/step - loss: 8.9240e-04 - accuracy: 1.0000 - val_loss: 0.7041 - val_accuracy: 0.7960\n",
            "Epoch 79/100\n",
            "75/75 [==============================] - 0s 2ms/step - loss: 8.5290e-04 - accuracy: 1.0000 - val_loss: 0.7088 - val_accuracy: 0.7920\n",
            "Epoch 80/100\n",
            "75/75 [==============================] - 0s 2ms/step - loss: 8.1593e-04 - accuracy: 1.0000 - val_loss: 0.7159 - val_accuracy: 0.7960\n",
            "Epoch 81/100\n",
            "75/75 [==============================] - 0s 2ms/step - loss: 7.8051e-04 - accuracy: 1.0000 - val_loss: 0.7185 - val_accuracy: 0.7920\n",
            "Epoch 82/100\n",
            "75/75 [==============================] - 0s 2ms/step - loss: 7.4439e-04 - accuracy: 1.0000 - val_loss: 0.7242 - val_accuracy: 0.7920\n",
            "Epoch 83/100\n",
            "75/75 [==============================] - 0s 3ms/step - loss: 7.1242e-04 - accuracy: 1.0000 - val_loss: 0.7306 - val_accuracy: 0.7960\n",
            "Epoch 84/100\n",
            "75/75 [==============================] - 0s 2ms/step - loss: 6.7873e-04 - accuracy: 1.0000 - val_loss: 0.7348 - val_accuracy: 0.7960\n",
            "Epoch 85/100\n",
            "75/75 [==============================] - 0s 2ms/step - loss: 6.4831e-04 - accuracy: 1.0000 - val_loss: 0.7395 - val_accuracy: 0.7960\n",
            "Epoch 86/100\n",
            "75/75 [==============================] - 0s 2ms/step - loss: 6.2321e-04 - accuracy: 1.0000 - val_loss: 0.7464 - val_accuracy: 0.7960\n",
            "Epoch 87/100\n",
            "75/75 [==============================] - 0s 2ms/step - loss: 5.9409e-04 - accuracy: 1.0000 - val_loss: 0.7490 - val_accuracy: 0.7960\n",
            "Epoch 88/100\n",
            "75/75 [==============================] - 0s 2ms/step - loss: 5.6893e-04 - accuracy: 1.0000 - val_loss: 0.7542 - val_accuracy: 0.7960\n",
            "Epoch 89/100\n",
            "75/75 [==============================] - 0s 2ms/step - loss: 5.4183e-04 - accuracy: 1.0000 - val_loss: 0.7592 - val_accuracy: 0.7960\n",
            "Epoch 90/100\n",
            "75/75 [==============================] - 0s 2ms/step - loss: 5.2407e-04 - accuracy: 1.0000 - val_loss: 0.7663 - val_accuracy: 0.7960\n",
            "Epoch 91/100\n",
            "75/75 [==============================] - 0s 3ms/step - loss: 4.9517e-04 - accuracy: 1.0000 - val_loss: 0.7700 - val_accuracy: 0.7960\n",
            "Epoch 92/100\n",
            "75/75 [==============================] - 0s 3ms/step - loss: 4.7519e-04 - accuracy: 1.0000 - val_loss: 0.7751 - val_accuracy: 0.7960\n",
            "Epoch 93/100\n",
            "75/75 [==============================] - 0s 3ms/step - loss: 4.5806e-04 - accuracy: 1.0000 - val_loss: 0.7790 - val_accuracy: 0.7960\n",
            "Epoch 94/100\n",
            "75/75 [==============================] - 0s 2ms/step - loss: 4.3602e-04 - accuracy: 1.0000 - val_loss: 0.7832 - val_accuracy: 0.7960\n",
            "Epoch 95/100\n",
            "75/75 [==============================] - 0s 3ms/step - loss: 4.1717e-04 - accuracy: 1.0000 - val_loss: 0.7905 - val_accuracy: 0.7960\n",
            "Epoch 96/100\n",
            "75/75 [==============================] - 0s 3ms/step - loss: 3.9989e-04 - accuracy: 1.0000 - val_loss: 0.7965 - val_accuracy: 0.7920\n",
            "Epoch 97/100\n",
            "75/75 [==============================] - 0s 3ms/step - loss: 3.8308e-04 - accuracy: 1.0000 - val_loss: 0.8001 - val_accuracy: 0.7920\n",
            "Epoch 98/100\n",
            "75/75 [==============================] - 0s 3ms/step - loss: 3.6403e-04 - accuracy: 1.0000 - val_loss: 0.8069 - val_accuracy: 0.7920\n",
            "Epoch 99/100\n",
            "75/75 [==============================] - 0s 3ms/step - loss: 3.4900e-04 - accuracy: 1.0000 - val_loss: 0.8104 - val_accuracy: 0.7920\n",
            "Epoch 100/100\n",
            "75/75 [==============================] - 0s 3ms/step - loss: 3.3567e-04 - accuracy: 1.0000 - val_loss: 0.8152 - val_accuracy: 0.7920\n"
          ]
        }
      ]
    },
    {
      "cell_type": "markdown",
      "source": [
        "Above we are training the model using the 'fit' function on the 'model' object to fit the model to the training data 'X_train' and 'y_train'.\n",
        "\n",
        "* 'epochs': This parameter specifies the number of times the training data will be passed through the model. An epock is a complete iteration over the training data. In this case, the model will be trained for 100 epochs.\n",
        "\n",
        "* 'verbose': This parameter controls the verbosity mode during training. If 'verbose=True', training progress will be printed to the console. If 'verbose=False', training progress will not be printed.\n",
        "\n",
        "* 'validation_data': This parameter specifies the validation data('X_test' and 'y_test') that will be used to evaluate the model during trianing. The model's performance on the validation data will be used to monitor overfitting.\n",
        "\n",
        "* 'batch_size': This parmerter specifies the number of samples per gradient update. In this case, the batch size is set to 10, meaning that the model will be updated after every 10 samples.\n",
        "\n",
        "The 'fit' function returns a 'History' object, which is stored in the variable 'history'. This object contains information about the training process, such as the training loss, accuracy, and  validation loss and accuracy for each epoch. This information can be used to analyze the performance of the model and fine-tune its hyperparameters."
      ],
      "metadata": {
        "id": "AnMX_f_D-uvH"
      }
    },
    {
      "cell_type": "code",
      "source": [
        "history"
      ],
      "metadata": {
        "colab": {
          "base_uri": "https://localhost:8080/"
        },
        "id": "FZuBH2CUIE7k",
        "outputId": "da30e421-8bea-4454-af70-a7188f4acc71"
      },
      "execution_count": null,
      "outputs": [
        {
          "output_type": "execute_result",
          "data": {
            "text/plain": [
              "<keras.callbacks.History at 0x7f9ec1304a30>"
            ]
          },
          "metadata": {},
          "execution_count": 22
        }
      ]
    },
    {
      "cell_type": "markdown",
      "source": [
        "## Evaluate Accuracy of the Model\n",
        "\n",
        "We use the evaluate() method to test the model.  We can test the training data, and the test data.\n",
        "\n",
        "The 'evaluate' function is used to calculate the loss and accuracy of the model on the training data( 'X_train' and 'y_train') and testing data ('X_test' and 'y_test'). The performance of the model is calculated by comparing the model's predictions on the data with the true labels.\n",
        "\n",
        "The results of the evaluation are stored in the variables 'loss' and 'accuracy', which are then printed to the console. The accuracy of the model on the training data and testing data is printed, providing an estimate of how well the model will generalize to new, unseen data."
      ],
      "metadata": {
        "id": "F4_dw_CVo8QX"
      }
    },
    {
      "cell_type": "code",
      "source": [
        "loss, accuracy = model.evaluate(X_train, y_train, verbose=False)\n",
        "print(\"Training Accuracy: {:.4f}\".format(accuracy))\n",
        "loss, accuracy = model.evaluate(X_test, y_test, verbose=False)\n",
        "print(\"Testing Accuracy:  {:.4f}\".format(accuracy))"
      ],
      "metadata": {
        "colab": {
          "base_uri": "https://localhost:8080/"
        },
        "id": "HLsknYMHo_VV",
        "outputId": "b1565bcb-d0be-4c63-83f3-c311aa1e9ce1"
      },
      "execution_count": null,
      "outputs": [
        {
          "output_type": "stream",
          "name": "stdout",
          "text": [
            "Training Accuracy: 1.0000\n",
            "Testing Accuracy:  0.7920\n"
          ]
        }
      ]
    },
    {
      "cell_type": "markdown",
      "source": [
        "## Visualize the Loss and Accuracy of Training and Testing\n",
        "\n",
        "To make your life easier, you can use this little helper function to visualize the loss and accuracy for the training and testing data based on the History callback. This callback, which is automatically applied to each Keras model, records the loss and additional metrics that can be added in the .fit() method. In this case, we are only interested in the accuracy. This helper function employs the matplotlib plotting library:"
      ],
      "metadata": {
        "id": "q9iFns_FpLel"
      }
    },
    {
      "cell_type": "code",
      "source": [
        "# We can see the information kept in history from model training \n",
        "# has the following keys for each epoch\n",
        "history.history.keys()"
      ],
      "metadata": {
        "colab": {
          "base_uri": "https://localhost:8080/"
        },
        "id": "fpH7vKf0pr2J",
        "outputId": "4cb6ae0d-8109-40fc-89ba-37defb206890"
      },
      "execution_count": null,
      "outputs": [
        {
          "output_type": "execute_result",
          "data": {
            "text/plain": [
              "dict_keys(['loss', 'accuracy', 'val_loss', 'val_accuracy'])"
            ]
          },
          "metadata": {},
          "execution_count": 24
        }
      ]
    },
    {
      "cell_type": "markdown",
      "source": [
        "We use the plot_history function to see the overfitting.  Although additional training improved the accuracy of the training data, after some time it decreased the accuracy on the testing data."
      ],
      "metadata": {
        "id": "LpIDsxbOGHth"
      }
    },
    {
      "cell_type": "code",
      "source": [
        "import matplotlib.pyplot as plt\n",
        "plt.style.use('ggplot')\n",
        "\n",
        "def plot_history(history):\n",
        "    acc = history.history['accuracy']\n",
        "    val_acc = history.history['val_accuracy']\n",
        "    loss = history.history['loss']\n",
        "    val_loss = history.history['val_loss']\n",
        "    x = range(1, len(acc) + 1)\n",
        "\n",
        "    plt.figure(figsize=(12, 5))\n",
        "    plt.subplot(1, 2, 1)\n",
        "    plt.plot(x, acc, 'b', label='Training accuracy')\n",
        "    plt.plot(x, val_acc, 'r', label='Validation accuracy')\n",
        "    plt.title('Training and validation accuracy')\n",
        "    plt.legend()\n",
        "    plt.subplot(1, 2, 2)\n",
        "    plt.plot(x, loss, 'b', label='Training loss')\n",
        "    plt.plot(x, val_loss, 'r', label='Validation loss')\n",
        "    plt.title('Training and validation loss')\n",
        "    plt.legend()"
      ],
      "metadata": {
        "id": "sFClC9sFpIsS"
      },
      "execution_count": null,
      "outputs": []
    },
    {
      "cell_type": "code",
      "source": [
        "plot_history(history)"
      ],
      "metadata": {
        "colab": {
          "base_uri": "https://localhost:8080/",
          "height": 337
        },
        "id": "H0aGL1k_p8Hl",
        "outputId": "1cf3a8e0-ceff-4c36-ded2-8a681c5ab0cd"
      },
      "execution_count": null,
      "outputs": [
        {
          "output_type": "display_data",
          "data": {
            "text/plain": [
              "<Figure size 864x360 with 2 Axes>"
            ],
            "image/png": "[encoded data removed]"
          },
          "metadata": {}
        }
      ]
    },
    {
      "cell_type": "markdown",
      "source": [
        "## Experiment with Model"
      ],
      "metadata": {
        "id": "UQdJvehPJzl4"
      }
    },
    {
      "cell_type": "code",
      "source": [
        "def tryit(utterance):\n",
        "  # transform our utterance as we did both the train and test set\n",
        "  vect = vectorizer.transform([utterance])\n",
        "  print(model.predict(vect)[0])"
      ],
      "metadata": {
        "id": "ZmWsz3XeJyJs"
      },
      "execution_count": null,
      "outputs": []
    },
    {
      "cell_type": "code",
      "source": [
        "tryit(\"I hate tomatoes\")"
      ],
      "metadata": {
        "colab": {
          "base_uri": "https://localhost:8080/"
        },
        "id": "raSmf0K7KWyc",
        "outputId": "141d42ce-ed2a-41ef-e183-5a8b87f5b4a3"
      },
      "execution_count": null,
      "outputs": [
        {
          "output_type": "stream",
          "name": "stdout",
          "text": [
            "1/1 [==============================] - 0s 93ms/step\n",
            "[0.57481253]\n"
          ]
        }
      ]
    },
    {
      "cell_type": "code",
      "source": [
        "tryit(\"I love ice cream\")"
      ],
      "metadata": {
        "colab": {
          "base_uri": "https://localhost:8080/"
        },
        "id": "spIvqpRBb_R7",
        "outputId": "9621ca42-0b2c-4ad9-8e59-3a00d68627d4"
      },
      "execution_count": null,
      "outputs": [
        {
          "output_type": "stream",
          "name": "stdout",
          "text": [
            "1/1 [==============================] - 0s 41ms/step\n",
            "[0.99989456]\n"
          ]
        }
      ]
    }
  ]
}