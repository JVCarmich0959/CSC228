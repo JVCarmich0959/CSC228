{
  "nbformat": 4,
  "nbformat_minor": 0,
  "metadata": {
    "colab": {
      "provenance": [],
      "include_colab_link": true
    },
    "kernelspec": {
      "name": "python3",
      "display_name": "Python 3"
    },
    "language_info": {
      "name": "python"
    }
  },
  "cells": [
    {
      "cell_type": "markdown",
      "metadata": {
        "id": "view-in-github",
        "colab_type": "text"
      },
      "source": [
        "<a href=\"https://colab.research.google.com/github/JVCarmich0959/CSC228/blob/main/Jackie's_Copy_of_CSC228_Lesson06_Focus_On_Word_Embeddings.ipynb\" target=\"_parent\"><img src=\"https://colab.research.google.com/assets/colab-badge.svg\" alt=\"Open In Colab\"/></a>"
      ]
    },
    {
      "cell_type": "code",
      "execution_count": null,
      "metadata": {
        "id": "W04WrwWgYDvT"
      },
      "outputs": [],
      "source": [
        "# Focus on Word Embeddings \n",
        "#\n",
        "# Owner:  Lorrie Tomek\n",
        "#\n",
        "# Uses Libraries:  gensim\n",
        "# Runtime:  Google CoLab (cpu)\n",
        "# \n",
        "# Data: \n",
        "#\n",
        "# Reference:  https://realpython.com/python-keras-text-classification/\n",
        "# Reference:  https://www.askpython.com/python-modules/gensim-word2vec"
      ]
    },
    {
      "cell_type": "markdown",
      "source": [
        "## Focus on Word Embeddings\n",
        "\n",
        "What Is a Word Embedding? \n",
        "\n",
        "**Word embeddings** : are a type of representation for words in natural language processing (NLP) that aim to capture their meaing and relationships to other words in a mathematical way.\n",
        "\n",
        "There are various ways to vectorize text; aka, to convert text to numerical vectors. \n",
        "\n",
        "Thus far, we have seen: \n",
        "\n",
        "* Sentences represented by a numeric vector\n",
        "\n",
        "In this section, we will see: \n",
        "* Words represented by each word as a vector\n",
        "\n",
        "Other ways include: \n",
        "\n",
        "* N-grams of words/characters represented as a vector \n",
        "* Sub-Words represented as a vector\n",
        "\n",
        "Different approaches/methods using each of these ideas can be used in Natural Language Procesing (NLP) to represent text data as numerical values that can be used as input to machine learning models.Word embeddings have many applications in NLP, including language modeling sentiment analysis, and machine translation. They can also be used to cluster words with similar meanings together or to find relationships between words, such as synonyms, antonyms, and analogies.\n",
        "\n",
        "There are several ways to create word embeddings, but one common approach is to use a technique called neural networks. This incloces training a deep learning model on a large corpus, of text, such as Wikipedia or news articles, and having the model learn to predic the surrounding words given a target word. The weights learned by the neural network during this training process can then be used as the word embeddings\n",
        " "
      ],
      "metadata": {
        "id": "QvgM5mKN02-_"
      }
    },
    {
      "cell_type": "code",
      "source": [
        "# import libraries\n",
        "import pandas as pd"
      ],
      "metadata": {
        "id": "ANluE4P3s0mw"
      },
      "execution_count": 1,
      "outputs": []
    },
    {
      "cell_type": "markdown",
      "source": [
        "### One-Hot Encoding\n",
        "\n",
        "One-hot encoding is one approach to represent a numerical vector for each word in a document.  With one-hot encoding, each unique word in a document is \n",
        "represented as a binary vector. Each vocabulary word is assigned a unique index, and a vector is created with a length equal to the number of unique words in the document. Each vector has all zeros except for a 1 in the index corresponding to the word, hence the name \"one-hot\".\n",
        "\n",
        "For example, if the vocabulary of a document contains 1000 unique words, a one-hot encoding of the word \"dog\" would be a vector of length 1000 with 999 zeros and a 1 in the index corresponding to \"dog\".\n",
        "\n",
        "One-hot encoding is a simple preprocessing step for machine learning algorithms that require numerical input, and an efficient way to represent text data, but it has some limitations. \n",
        "* it doesn't capture any semantic meaning or relationships between words\n",
        "* the dimensionality of the encoding grows very quickly with the size of the vocabulary\n",
        "* the large dimensionality making it computationally expensive to work with large vocabularies\n",
        "* The assumptions that all categories are equally important and independent of each other, which may not be true in some cases.\n"
      ],
      "metadata": {
        "id": "yCqqZ1havA-N"
      }
    },
    {
      "cell_type": "code",
      "source": [
        "colors = [\"red\", \"green\", \"blue\",\"yellow\"]"
      ],
      "metadata": {
        "id": "xSAr6z4EvDOu"
      },
      "execution_count": 9,
      "outputs": []
    },
    {
      "cell_type": "code",
      "source": [
        "# We can use scikit-learn and the LabelEncoder to encode \n",
        "# the list of colors into categorical integers\n",
        "from sklearn.preprocessing import LabelEncoder\n",
        "\n",
        "encoder = LabelEncoder()\n",
        "color_labels = encoder.fit_transform(colors)\n",
        "color_labels"
      ],
      "metadata": {
        "colab": {
          "base_uri": "https://localhost:8080/"
        },
        "id": "ZS5XHf9ZvHen",
        "outputId": "c082c8fa-4a03-4c67-f2b1-577b559be46a"
      },
      "execution_count": 11,
      "outputs": [
        {
          "output_type": "execute_result",
          "data": {
            "text/plain": [
              "array([2, 1, 0, 3])"
            ]
          },
          "metadata": {},
          "execution_count": 11
        }
      ]
    },
    {
      "cell_type": "markdown",
      "source": [
        "Using this representation, you can use the OneHotEncoder provided by scikit-learn to encode the categorical values we got before into a one-hot encoded numeric array. OneHotEncoder expects each categorical value to be in a separate row, so you’ll need to reshape the array, then you can apply the encoder:"
      ],
      "metadata": {
        "id": "lNyQhfRXv4yX"
      }
    },
    {
      "cell_type": "code",
      "source": [
        "from sklearn.preprocessing import OneHotEncoder\n",
        "\n",
        "encoder = OneHotEncoder(sparse=False)\n",
        "color_labels = color_labels.reshape((4,1))\n",
        "encoder.fit_transform(color_labels)"
      ],
      "metadata": {
        "colab": {
          "base_uri": "https://localhost:8080/"
        },
        "id": "664HVb5qvuV3",
        "outputId": "cff44d55-a89f-40ae-a82e-2ad42d43c5cf"
      },
      "execution_count": 18,
      "outputs": [
        {
          "output_type": "execute_result",
          "data": {
            "text/plain": [
              "array([[0., 0., 1., 0.],\n",
              "       [0., 1., 0., 0.],\n",
              "       [1., 0., 0., 0.],\n",
              "       [0., 0., 0., 1.]])"
            ]
          },
          "metadata": {},
          "execution_count": 18
        }
      ]
    },
    {
      "cell_type": "markdown",
      "source": [
        "You can see that categorical integer value represents the position of the array which is 1 and the rest is 0. This is often used when you have a categorical feature which you cannot represent as a numeric value but you still want to be able to use it in machine learning. One use case for this encoding is of course words in a text but it is most prominently used for categories. Such categories can be for example city, department, or other categories."
      ],
      "metadata": {
        "id": "_xGbZHkMv_yU"
      }
    },
    {
      "cell_type": "markdown",
      "source": [
        "### (Dense) Word Embeddings\n",
        "\n",
        "This method represents words as dense word vectors (also called word embeddings) which are trained unlike the one-hot encoding which are hardcoded. This means that the word embeddings collect more information into fewer dimensions.\n",
        "\n",
        "Note that the word embeddings do not understand the text as a human would, but they rather map the statistical structure of the language used in the corpus. Their aim is to map semantic meaning into a geometric space. This geometric space is then called the embedding space.\n",
        "\n",
        "This would map semantically similar words close on the embedding space like numbers or colors. If the embedding captures the relationship between words well, things like vector arithmetic should become possible. A famous example in this field of study is the ability to map King - Man + Woman = Queen.\n"
      ],
      "metadata": {
        "id": "UlmY9AgUqSTJ"
      }
    },
    {
      "cell_type": "markdown",
      "source": [
        "## How to Get Word Embeddings\n",
        "\n",
        "How can you get such a word embedding? You have two options for this:\n",
        "* One way is to train your word embeddings during the training of your neural network. \n",
        "* The other way is by using pretrained word embeddings which you can directly use in your model. There you have the option to either leave these word embeddings unchanged during training or you train them also.\n",
        "\n",
        "Some Pretrained Word Embeddings include:\n",
        "* Word2Vec\n",
        "* FastText\n",
        "* Glove (many variations)\n"
      ],
      "metadata": {
        "id": "Ox9sBEdgIrVy"
      }
    },
    {
      "cell_type": "markdown",
      "source": [
        "## Word2Vec Word Embeddings\n",
        "\n",
        "One of the first Word Embeddings models is called Word2Vec. \n",
        "\n",
        "Word2Vec is an algorithm designed by Google that uses neural networks to create word embeddings.   Embeddings with similar word meanings tend to point in a similar direction (be similar embeddings). \n",
        "\n",
        "For example, embeddings of words like love, care, etc will point in a similar direction as compared to embeddings of words like fight, battle, etc in a vector space. \n",
        "\n",
        "Such a model can also detect synonyms of the given word and suggest some additional words for partial sentences.\n",
        "\n",
        "We will use the gensim library, as there are many useful methods to analyze word embeddings."
      ],
      "metadata": {
        "id": "AVDjp_XWLuzk"
      }
    },
    {
      "cell_type": "code",
      "source": [
        "import string\n",
        "import nltk\n",
        "from nltk.corpus import brown\n",
        "from gensim.models import Word2Vec\n",
        "from sklearn.decomposition import PCA\n",
        "from matplotlib import pyplot\n",
        " \n",
        "# The Brown corpus is a corpus of written English text that is widely used for \n",
        "# natural language processing tasks. It is part of the Natural Language Toolkit \n",
        "# (nltk) library in Python, and is one of the first such corpora to be \n",
        "# created, along with the Penn Treebank corpus.\n",
        "\n",
        "# The Brown corpus contains over a million words of text, divided into 500 texts\n",
        "#of different genres, including news, fiction, religion, and scientific writing. \n",
        "\n",
        "nltk.download(\"brown\")\n",
        "\n",
        "# Access the words of the Brown corpus\n",
        "brown_words = nltk.corpus.brown.words()\n",
        "\n",
        "# Print the first 10 words of the Brown corpus\n",
        "print(brown_words[:10])\n"
      ],
      "metadata": {
        "colab": {
          "base_uri": "https://localhost:8080/"
        },
        "id": "Xv9EaRpGS4sR",
        "outputId": "e0049938-52ab-49dc-954e-02b8bc790229"
      },
      "execution_count": 19,
      "outputs": [
        {
          "output_type": "stream",
          "name": "stderr",
          "text": [
            "[nltk_data] Downloading package brown to /root/nltk_data...\n",
            "[nltk_data]   Unzipping corpora/brown.zip.\n"
          ]
        },
        {
          "output_type": "stream",
          "name": "stdout",
          "text": [
            "['The', 'Fulton', 'County', 'Grand', 'Jury', 'said', 'Friday', 'an', 'investigation', 'of']\n"
          ]
        }
      ]
    },
    {
      "cell_type": "code",
      "source": [
        "# Preprocessing data to lowercase all words and remove single punctuation words\n",
        "document = brown.sents()\n",
        "data = []\n",
        "for sent in document:\n",
        "  new_sent = []\n",
        "  for word in sent:\n",
        "    new_word = word.lower()\n",
        "    if new_word[0] not in string.punctuation:\n",
        "      new_sent.append(new_word)\n",
        "  if len(new_sent) > 0:\n",
        "    data.append(new_sent)"
      ],
      "metadata": {
        "id": "QFEGJ0rfV_bd"
      },
      "execution_count": 20,
      "outputs": []
    },
    {
      "cell_type": "code",
      "source": [
        "# Define Word2Vec using preprocessed words \n",
        "# from the brown corpus\n",
        "model = Word2Vec(\n",
        "    sentences = data,\n",
        "    size = 50,\n",
        "    window = 10,\n",
        "    iter = 20,\n",
        ")"
      ],
      "metadata": {
        "colab": {
          "base_uri": "https://localhost:8080/"
        },
        "id": "4XWLcdZ9TQHx",
        "outputId": "9a4aabda-1e1f-48a2-db53-473c19808802"
      },
      "execution_count": 21,
      "outputs": [
        {
          "output_type": "stream",
          "name": "stderr",
          "text": [
            "WARNING:gensim.models.base_any2vec:consider setting layer size to a multiple of 4 for greater performance\n"
          ]
        }
      ]
    },
    {
      "cell_type": "code",
      "source": [
        "# Vector for word love\n",
        "print(\"Vector for love:\")\n",
        "print(model.wv[\"love\"])\n",
        "print()"
      ],
      "metadata": {
        "colab": {
          "base_uri": "https://localhost:8080/"
        },
        "id": "MQo-pgSCT9ph",
        "outputId": "4545ee92-0f0a-49f4-e3a4-e01d11d67c40"
      },
      "execution_count": 22,
      "outputs": [
        {
          "output_type": "stream",
          "name": "stdout",
          "text": [
            "Vector for love:\n",
            "[ 1.1688643  -3.7633696   0.75188655 -2.6010795  -1.1552786  -0.19955738\n",
            " -1.9536293  -1.2983148   2.5134773  -3.5006485  -1.2416364   0.264037\n",
            " -1.0552808  -0.08937228 -2.2639341   1.6733105   0.44431543  0.78054816\n",
            " -0.04224005 -0.25593585  0.38613722  0.7608802  -1.2401     -2.1136055\n",
            "  1.1259279  -3.2992826   1.6311715   1.2468805  -1.7237669   1.7412233\n",
            "  1.129862   -0.03509105  2.6325133   2.0906248  -0.19535112  1.4883847\n",
            " -0.88744164 -1.5119277   1.6453683  -1.3769063   2.3550112  -1.7192856\n",
            " -0.2911997   1.1659921  -2.0324936  -0.10875565 -1.3638726  -0.02591425\n",
            "  1.3150296  -0.16548477]\n",
            "\n"
          ]
        }
      ]
    },
    {
      "cell_type": "code",
      "source": [
        "# Finding most similar words\n",
        "print(\"3 words similar to engineer\")\n",
        "words = model.most_similar(\"engineer\", topn=3)\n",
        "for word in words:\n",
        "  print(word)\n",
        "print()"
      ],
      "metadata": {
        "colab": {
          "base_uri": "https://localhost:8080/"
        },
        "id": "DiwbdVFkU1JE",
        "outputId": "0481b7a9-8019-4ee7-b2a2-40bf7d865378"
      },
      "execution_count": 23,
      "outputs": [
        {
          "output_type": "stream",
          "name": "stdout",
          "text": [
            "3 words similar to engineer\n",
            "('engineering', 0.7975064516067505)\n",
            "('scientist', 0.7747450470924377)\n",
            "('vice-president', 0.7725738286972046)\n",
            "\n"
          ]
        },
        {
          "output_type": "stream",
          "name": "stderr",
          "text": [
            "<ipython-input-23-65b30672b887>:3: DeprecationWarning: Call to deprecated `most_similar` (Method will be removed in 4.0.0, use self.wv.most_similar() instead).\n",
            "  words = model.most_similar(\"engineer\", topn=3)\n"
          ]
        }
      ]
    },
    {
      "cell_type": "code",
      "source": [
        "# Finding most similar words\n",
        "print(\"3 words similar to student\")\n",
        "words = model.most_similar(\"student\", topn=3)\n",
        "for word in words:\n",
        "  print(word)\n",
        "  print()"
      ],
      "metadata": {
        "colab": {
          "base_uri": "https://localhost:8080/"
        },
        "id": "NkhfA2ALG68c",
        "outputId": "62db2585-41fe-4675-f9f0-b0f2d1cf8968"
      },
      "execution_count": 25,
      "outputs": [
        {
          "output_type": "stream",
          "name": "stdout",
          "text": [
            "3 words similar to student\n",
            "('college', 0.7927447557449341)\n",
            "\n",
            "('university', 0.7800429463386536)\n",
            "\n",
            "('graduate', 0.7608642578125)\n",
            "\n"
          ]
        },
        {
          "output_type": "stream",
          "name": "stderr",
          "text": [
            "<ipython-input-25-948c470bdbe8>:3: DeprecationWarning: Call to deprecated `most_similar` (Method will be removed in 4.0.0, use self.wv.most_similar() instead).\n",
            "  words = model.most_similar(\"student\", topn=3)\n"
          ]
        }
      ]
    },
    {
      "cell_type": "code",
      "source": [
        "#Visualizing data\n",
        "words = [\"france\", \"germany\", \"india\", \"truck\", \"boat\", \"road\", \"teacher\", \"student\"]\n",
        " \n",
        "X = model.wv[words]\n",
        "pca = PCA(n_components=2)\n",
        "result = pca.fit_transform(X)\n",
        " \n",
        "pyplot.scatter(result[:, 0], result[:, 1])\n",
        "for i, word in enumerate(words):\n",
        "    pyplot.annotate(word, xy=(result[i, 0], result[i, 1]))\n",
        "pyplot.show()"
      ],
      "metadata": {
        "colab": {
          "base_uri": "https://localhost:8080/",
          "height": 265
        },
        "id": "Giljow_4U4Kj",
        "outputId": "99829be0-e08d-4d63-f8ab-1130064c2ceb"
      },
      "execution_count": null,
      "outputs": [
        {
          "output_type": "display_data",
          "data": {
            "text/plain": [
              "<Figure size 432x288 with 1 Axes>"
            ],
            "image/png": "[encoded data removed]"
          },
          "metadata": {
            "needs_background": "light"
          }
        }
      ]
    },
    {
      "cell_type": "code",
      "source": [
        "#Visualizing more data\n",
        "# animals\n",
        "words = [\"cat\", \"dog\", \"bird\", \"duck\", \"fox\", \"wolf\", \"cow\", \"bear\", \"bee\"]\n",
        " \n",
        "X = model.wv[words]\n",
        "pca = PCA(n_components=2)\n",
        "result = pca.fit_transform(X)\n",
        " \n",
        "pyplot.scatter(result[:, 0], result[:, 1])\n",
        "for i, word in enumerate(words):\n",
        "    pyplot.annotate(word, xy=(result[i, 0], result[i, 1]))\n",
        "pyplot.show()"
      ],
      "metadata": {
        "colab": {
          "base_uri": "https://localhost:8080/",
          "height": 265
        },
        "id": "7D272mm-HhWg",
        "outputId": "4c20a899-3f1f-485c-9919-154f207360b8"
      },
      "execution_count": 52,
      "outputs": [
        {
          "output_type": "display_data",
          "data": {
            "text/plain": [
              "<Figure size 432x288 with 1 Axes>"
            ],
            "image/png": "[encoded data removed]"
          },
          "metadata": {
            "needs_background": "light"
          }
        }
      ]
    },
    {
      "cell_type": "code",
      "source": [
        "#Visualizing more data\n",
        "# interesting!\n",
        "words = ['woman', 'girl', 'boy', 'man', 'human', 'adult', 'child', 'animal']\n",
        " \n",
        "X = model.wv[words]\n",
        "pca = PCA(n_components=2)\n",
        "result = pca.fit_transform(X)\n",
        " \n",
        "pyplot.scatter(result[:, 0], result[:, 1])\n",
        "for i, word in enumerate(words):\n",
        "    pyplot.annotate(word, xy=(result[i, 0], result[i, 1]))\n",
        "pyplot.show()"
      ],
      "metadata": {
        "colab": {
          "base_uri": "https://localhost:8080/",
          "height": 265
        },
        "id": "J4q2eURiJHWF",
        "outputId": "960d914b-00f2-4431-bfd2-3123d726d0c4"
      },
      "execution_count": 64,
      "outputs": [
        {
          "output_type": "display_data",
          "data": {
            "text/plain": [
              "<Figure size 432x288 with 1 Axes>"
            ],
            "image/png": "[encoded data removed]"
          },
          "metadata": {
            "needs_background": "light"
          }
        }
      ]
    },
    {
      "cell_type": "markdown",
      "source": [
        "## Limitations\n",
        "\n",
        "We cannot use this model for words that were not in our original corpus."
      ],
      "metadata": {
        "id": "wjKSCE7-TmFa"
      }
    }
  ]
}