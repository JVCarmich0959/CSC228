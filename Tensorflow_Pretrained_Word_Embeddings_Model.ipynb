{
 "cells": [
  {
   "cell_type": "code",
   "execution_count": null,
   "metadata": {},
   "outputs": [],
   "source": [
    "# Text Classification using Tensorflow Neural Network Model with a word Embedding Layer\n",
    "# Using Tensorflow Keras Model\n",
    "#\n",
    "# Owner: Jacquelyn Carmichael\n",
    "#\n",
    "# Uses Libraries: keras, tensorflow\n",
    "#Runtime: Google Colab\n",
    "#\n",
    "# Date: 02/25/2023\n",
    "#\n"
   ]
  },
  {
   "cell_type": "code",
   "execution_count": 1,
   "metadata": {},
   "outputs": [],
   "source": [
    "# import libraries and packages\n",
    "import pandas as pd\n",
    "import tensorflow as tf\n",
    "from sklearn.model_selection import train_test_split\n",
    "from keras.preprocessing.text import Tokenizer\n",
    "from keras.utils import pad_sequences\n",
    "from keras.models import Sequential\n",
    "from keras import layers\n",
    "from keras.backend import clear_session\n",
    "from tensorflow.keras import regularizers\n",
    "from tensorflow.keras.callbacks import EarlyStopping\n",
    "from tensorflow.keras.preprocessing.image import ImageDataGenerator\n",
    "import nlpaug.augmenter.word as naw\n",
    "import numpy as np\n",
    "import matplotlib.pyplot as plt\n",
    "import os"
   ]
  },
  {
   "attachments": {},
   "cell_type": "markdown",
   "metadata": {},
   "source": [
    "## Download GloVe Word Embeddings\n",
    "\n",
    "In this notebook, we will work with the GloVe word embeddings from the Stanford NLP Group as their size is more manageable than the Word2Vec word embeddings provided by Google. We will download the 6B (trained on 6 billion words) word embeddings from here (glove.6B.zip, 822 MB).\n",
    "\n",
    "You can see other pretrained GloVe word embeddings at this URL:\n",
    "https://nlp.stanford.edu/projects/glove/\n"
   ]
  },
  {
   "cell_type": "code",
   "execution_count": 2,
   "metadata": {},
   "outputs": [
    {
     "name": "stdout",
     "output_type": "stream",
     "text": [
      "Downloading data from https://nlp.stanford.edu/data/glove.6B.zip\n",
      "862182613/862182613 [==============================] - 243s 0us/step\n"
     ]
    }
   ],
   "source": [
    "GloVe_data = \"https://nlp.stanford.edu/data/glove.6B.zip\"\n",
    "GloVe_zip = tf.keras.utils.get_file('glove.6B.zip',GloVe_data, extract=True)\n",
    "GloVe_file = os.path.join(os.path.dirname(GloVe_zip), 'glove.6B.100d.txt')\n",
    "\n",
    "\n",
    "\n",
    "        \n",
    "\n"
   ]
  },
  {
   "cell_type": "code",
   "execution_count": 3,
   "metadata": {},
   "outputs": [],
   "source": [
    "# load the 'glove.6B.100d.txt' file\n",
    "embeddings_index = {}\n",
    "with open(GloVe_file) as f:\n",
    "    for line in f:\n",
    "        values = line.split()\n",
    "        word = values[0]\n",
    "        coefs = np.asarray(values[1:], dtype='float32')\n",
    "        embeddings_index[word] = coefs\n",
    "\n",
    "        "
   ]
  },
  {
   "attachments": {},
   "cell_type": "markdown",
   "metadata": {},
   "source": [
    "# Reading in my Dataset\n",
    "\n"
   ]
  },
  {
   "cell_type": "code",
   "execution_count": 5,
   "metadata": {},
   "outputs": [
    {
     "data": {
      "text/html": [
       "<div>\n",
       "<style scoped>\n",
       "    .dataframe tbody tr th:only-of-type {\n",
       "        vertical-align: middle;\n",
       "    }\n",
       "\n",
       "    .dataframe tbody tr th {\n",
       "        vertical-align: top;\n",
       "    }\n",
       "\n",
       "    .dataframe thead th {\n",
       "        text-align: right;\n",
       "    }\n",
       "</style>\n",
       "<table border=\"1\" class=\"dataframe\">\n",
       "  <thead>\n",
       "    <tr style=\"text-align: right;\">\n",
       "      <th></th>\n",
       "      <th>Source</th>\n",
       "      <th>Label</th>\n",
       "      <th>Sentence</th>\n",
       "    </tr>\n",
       "  </thead>\n",
       "  <tbody>\n",
       "    <tr>\n",
       "      <th>0</th>\n",
       "      <td>Facebook</td>\n",
       "      <td>0</td>\n",
       "      <td>Anything but another damn shoe store.</td>\n",
       "    </tr>\n",
       "    <tr>\n",
       "      <th>1</th>\n",
       "      <td>Facebook</td>\n",
       "      <td>1</td>\n",
       "      <td>The mall is a joke. When I worked there 30+ ye...</td>\n",
       "    </tr>\n",
       "    <tr>\n",
       "      <th>2</th>\n",
       "      <td>Facebook</td>\n",
       "      <td>1</td>\n",
       "      <td>A Spencerâs</td>\n",
       "    </tr>\n",
       "    <tr>\n",
       "      <th>3</th>\n",
       "      <td>Facebook</td>\n",
       "      <td>1</td>\n",
       "      <td>Arcade for kids and teens that serves food whe...</td>\n",
       "    </tr>\n",
       "    <tr>\n",
       "      <th>4</th>\n",
       "      <td>Facebook</td>\n",
       "      <td>1</td>\n",
       "      <td>Dillards, Talbots, Chicoâs.</td>\n",
       "    </tr>\n",
       "  </tbody>\n",
       "</table>\n",
       "</div>"
      ],
      "text/plain": [
       "     Source  Label                                           Sentence\n",
       "0  Facebook      0              Anything but another damn shoe store.\n",
       "1  Facebook      1  The mall is a joke. When I worked there 30+ ye...\n",
       "2  Facebook      1                                     A Spencerâs \n",
       "3  Facebook      1  Arcade for kids and teens that serves food whe...\n",
       "4  Facebook      1                      Dillards, Talbots, Chicoâs."
      ]
     },
     "execution_count": 5,
     "metadata": {},
     "output_type": "execute_result"
    }
   ],
   "source": [
    "# reading in my data from the github repository to a data frame \n",
    "\n",
    "url = \"https://raw.githubusercontent.com/JVCarmich0959/CSC228/main/WUG_Mall_improvement.csv\"\n",
    "\n",
    "df = pd.read_csv(url, usecols=[0,1,2], encoding='latin-1')\n",
    "\n",
    "df = pd.concat([df, pd.read_csv(url, usecols=[0,1,2], encoding='latin-1')])\n",
    "\n",
    "df.head()\n"
   ]
  },
  {
   "attachments": {},
   "cell_type": "markdown",
   "metadata": {},
   "source": [
    "# Split the Data into Training and Testing Sets\n",
    "\n",
    "I'm using the train_test_split function  as we did in Lesson 5 from sklearn to split the data into training and testing sets. This is important because we want to train our model on the training set and then test it on the testing set. This will give us a better idea of how well our model will perform on new data."
   ]
  },
  {
   "cell_type": "code",
   "execution_count": 6,
   "metadata": {},
   "outputs": [],
   "source": [
    "sentence = df['Sentence'].values\n",
    "label = df['Label'].values\n",
    "\n",
    "# split the data into training and testing sets \n",
    "sentence_train, sentence_test, label_train, label_test = train_test_split(sentence, label, test_size=0.2, random_state=1000)"
   ]
  },
  {
   "attachments": {},
   "cell_type": "markdown",
   "metadata": {},
   "source": [
    "# Tokenization and Indexing Vocabulary\n",
    "\n",
    "Now we will tokenize the data extracted from the csv file in our x and y \n",
    "variables. As mentioned in the lecture Keras has some nifty methods for text\n",
    "preprocessing and sequence preprocessing.\n",
    "\n",
    "We will start by using the Tokenizer class from Keras to tokenize the data.\n",
    "This method allows us to map each word to a unique integer value in a dictionary allowing it to be easily processed by the model.\n",
    "\n",
    "The parameter num_words is responsible for setting the size of the vocabulary so that we don't have a vocabulary that is too large. This will help us avoid the curse of dimensionality.\n",
    "\n",
    "**Note that the index 0 is reserved for padding.**\n",
    "\n",
    "Now lets look at the code:"
   ]
  },
  {
   "cell_type": "code",
   "execution_count": 7,
   "metadata": {},
   "outputs": [],
   "source": [
    "tokenizer = Tokenizer(num_words=5000)\n",
    "tokenizer.fit_on_texts(sentence_train)\n",
    "\n",
    "x_train = tokenizer.texts_to_sequences(sentence_train)\n",
    "x_test = tokenizer.texts_to_sequences(sentence_test)\n",
    "\n",
    "vocab_size = len(tokenizer.word_index) + 1  # Adding 1 because of reserved 0 index\n",
    "\n"
   ]
  },
  {
   "cell_type": "code",
   "execution_count": 8,
   "metadata": {},
   "outputs": [
    {
     "name": "stdout",
     "output_type": "stream",
     "text": [
      "I love trying on clothes at the mall.\n",
      "[4, 24, 98, 99, 277, 8, 1, 2]\n"
     ]
    }
   ],
   "source": [
    "\n",
    "print(sentence_train[2]) # print the first sentence in the training set\n",
    "print(x_train[2]) # print the first sentence in the training set after it has been tokenized\n",
    "\n"
   ]
  },
  {
   "attachments": {},
   "cell_type": "markdown",
   "metadata": {},
   "source": [
    "# Unknown words (words not in the vocabulary) \n",
    "\n",
    "are denoted in Keras with word_index + 1 since they can also be mapped to an integer value.\n",
    "\n",
    "We can see the index of each word by looking at the word_index attribute of the tokenizer object.\n",
    "\n"
   ]
  },
  {
   "cell_type": "code",
   "execution_count": 9,
   "metadata": {},
   "outputs": [
    {
     "name": "stdout",
     "output_type": "stream",
     "text": [
      "the: 1\n",
      "mall: 2\n",
      "is: 6\n",
      "fun: 43\n"
     ]
    }
   ],
   "source": [
    "for word in [ 'the', 'mall', 'is', 'fun']:\n",
    "    print('{}: {}'.format(word, tokenizer.word_index[word]))\n",
    "    "
   ]
  },
  {
   "attachments": {},
   "cell_type": "markdown",
   "metadata": {},
   "source": [
    "**Note: The difference between this technique and the X_train that was used with scikit-learn CountVectorizer.**\n",
    "\n",
    "**CountVectorizer**: The X_train variable is a **sparse matrix** that contains the frequency of each word in the vocabulary. This is a matrix of size (number of documents, size of vocabulary). \n",
    "\n",
    "**Tokenizer**: The X_train variable is a **list of lists**. Each list contains the index of each word in the document. This is a list of size (number of documents,). **The size of the vocabulary is the number of unique words in the corpus.** "
   ]
  },
  {
   "attachments": {},
   "cell_type": "markdown",
   "metadata": {},
   "source": [
    "## Padding each Vector\n",
    "\n",
    "One problem with the Tokenizer method is that each document has a different length. This means that we can't feed the data into the model as is. We need to pad each vector so that they are all the same length. This is done by using the pad_sequences method from Keras.\n",
    "\n",
    "Additionally we can choose to truncate the vectors if they are longer than the max length. This is done by setting the parameter truncating to 'post' or 'pre'."
   ]
  },
  {
   "cell_type": "code",
   "execution_count": 10,
   "metadata": {},
   "outputs": [
    {
     "name": "stdout",
     "output_type": "stream",
     "text": [
      "[  1   2  61  36  11 276   0   0   0   0   0   0   0   0   0   0   0   0\n",
      "   0   0   0   0   0   0   0   0   0   0   0   0   0   0   0   0   0   0\n",
      "   0   0   0   0   0   0   0   0   0   0   0   0   0   0   0   0   0   0\n",
      "   0   0   0   0   0   0   0   0   0   0   0   0   0   0   0   0   0   0\n",
      "   0   0   0   0   0   0   0   0   0   0   0   0   0   0   0   0   0   0\n",
      "   0   0   0   0   0   0   0   0   0   0]\n"
     ]
    }
   ],
   "source": [
    "maxlen = 100 # max number of words in a sentence to use\n",
    "\n",
    "x_train = pad_sequences(x_train, padding='post', maxlen=maxlen)\n",
    "x_test = pad_sequences(x_test, padding='post', maxlen=maxlen)\n",
    "\n",
    "print(x_train[0, :]) # print the first sentence in the training set after it has been tokenized and padded"
   ]
  },
  {
   "attachments": {},
   "cell_type": "markdown",
   "metadata": {},
   "source": [
    "# Build Embedding Matrix\n",
    "\n",
    "Now we will build the embedding matrix. This is a matrix that contains the word embeddings for each word in the vocabulary. This matrix will be used to initialize the weights of the embedding layer in the model.\n",
    "\n",
    "The embedding matrix is a matrix of size (size of vocabulary, embedding dimension).\n",
    "\n"
   ]
  },
  {
   "cell_type": "code",
   "execution_count": 11,
   "metadata": {},
   "outputs": [],
   "source": [
    "def create_embedding_matrix(filepath, word_index, embedding_dim):\n",
    "    vocab_size = len(word_index) + 1  # Adding again 1 because of reserved 0 index\n",
    "    embedding_matrix = np.zeros((vocab_size, embedding_dim))\n",
    "\n",
    "    with open(filepath) as f:\n",
    "        for line in f:\n",
    "            word, *vector = line.split()\n",
    "            if word in word_index:\n",
    "                idx = word_index[word] \n",
    "                embedding_matrix[idx] = np.array(\n",
    "                    vector, dtype=np.float32)[:embedding_dim]\n",
    "\n",
    "    return embedding_matrix"
   ]
  },
  {
   "cell_type": "code",
   "execution_count": 12,
   "metadata": {},
   "outputs": [],
   "source": [
    "# Extract the Embedding Matrix that maps  exh of our 5000 vocabulary words\n",
    "# words to their 100 dimensional GloVe embedding\n",
    "embedding_dim = 100\n",
    "embedding_matrix = create_embedding_matrix(\n",
    "    GloVe_file,\n",
    "    tokenizer.word_index, embedding_dim)"
   ]
  },
  {
   "cell_type": "code",
   "execution_count": 13,
   "metadata": {},
   "outputs": [
    {
     "data": {
      "text/plain": [
       "0.9313186813186813"
      ]
     },
     "execution_count": 13,
     "metadata": {},
     "output_type": "execute_result"
    }
   ],
   "source": [
    "nonzero_elements = np.count_nonzero(np.count_nonzero(embedding_matrix, axis=1))\n",
    "nonzero_elements / vocab_size"
   ]
  },
  {
   "cell_type": "code",
   "execution_count": 14,
   "metadata": {},
   "outputs": [],
   "source": [
    "\n",
    "\n",
    "embedding_dim = 100\n",
    "\n",
    "model = Sequential()\n",
    "model.add(layers.Embedding(input_dim=vocab_size,\n",
    "                            output_dim=embedding_dim,\n",
    "                            input_length=maxlen,\n",
    "                            weights=[embedding_matrix],\n",
    "                            trainable=False))\n",
    "model.add(layers.GlobalMaxPool1D())\n",
    "model.add(layers.Dense(10, activation='relu'))\n",
    "model.add(layers.Dense(1, activation='sigmoid'))\n"
   ]
  },
  {
   "cell_type": "code",
   "execution_count": 15,
   "metadata": {},
   "outputs": [
    {
     "name": "stdout",
     "output_type": "stream",
     "text": [
      "Model: \"sequential\"\n",
      "_________________________________________________________________\n",
      " Layer (type)                Output Shape              Param #   \n",
      "=================================================================\n",
      " embedding (Embedding)       (None, 100, 100)          72800     \n",
      "                                                                 \n",
      " global_max_pooling1d (Globa  (None, 100)              0         \n",
      " lMaxPooling1D)                                                  \n",
      "                                                                 \n",
      " dense (Dense)               (None, 10)                1010      \n",
      "                                                                 \n",
      " dense_1 (Dense)             (None, 1)                 11        \n",
      "                                                                 \n",
      "=================================================================\n",
      "Total params: 73,821\n",
      "Trainable params: 1,021\n",
      "Non-trainable params: 72,800\n",
      "_________________________________________________________________\n"
     ]
    }
   ],
   "source": [
    "model.summary()"
   ]
  },
  {
   "attachments": {},
   "cell_type": "markdown",
   "metadata": {},
   "source": [
    "# Configure the Model\n",
    "\n",
    "We will use the Adam optimizer and the binary crossentropy loss function. We will also use the accuracy metric to evaluate the model.\n",
    "\n"
   ]
  },
  {
   "cell_type": "code",
   "execution_count": 16,
   "metadata": {},
   "outputs": [],
   "source": [
    "# Configure the model\n",
    "model.compile(optimizer='adam',\n",
    "                loss='binary_crossentropy',\n",
    "                metrics=['accuracy'])\n"
   ]
  },
  {
   "cell_type": "code",
   "execution_count": 17,
   "metadata": {},
   "outputs": [],
   "source": [
    "# In order to retrain from scratch, we need to reinitialize the model\n",
    "clear_session()"
   ]
  },
  {
   "attachments": {},
   "cell_type": "markdown",
   "metadata": {},
   "source": [
    "# Train the Model\n",
    "\n",
    "We will train the model for 50 epochs with a batch size of 10. We will also use the validation_split parameter to split off 20% of the training data to use as a validation set. This will allow us to see how well the model is performing on data it hasn't seen before."
   ]
  },
  {
   "cell_type": "code",
   "execution_count": 18,
   "metadata": {},
   "outputs": [
    {
     "name": "stderr",
     "output_type": "stream",
     "text": [
      "2023-02-25 14:07:56.507307: W tensorflow/tsl/platform/profile_utils/cpu_utils.cc:128] Failed to get CPU frequency: 0 Hz\n"
     ]
    }
   ],
   "source": [
    "history = model.fit(x_train, label_train,\n",
    "                    epochs=50,\n",
    "                    verbose=False,\n",
    "                    validation_data=(x_test, label_test),\n",
    "                    batch_size=10)\n",
    "\n",
    "                    "
   ]
  },
  {
   "attachments": {},
   "cell_type": "markdown",
   "metadata": {},
   "source": [
    "# Evaluating the Accuracy of our model\n",
    "\n",
    "We can see that the model is performing well on the training set but not so well on the validation set. This is a sign of overfitting. We can try to reduce overfitting by adding dropout layers to the model.\n",
    "\n"
   ]
  },
  {
   "cell_type": "code",
   "execution_count": 19,
   "metadata": {},
   "outputs": [],
   "source": [
    "loss, accuracy = model.evaluate(x_train, label_train, verbose=False)"
   ]
  },
  {
   "cell_type": "code",
   "execution_count": 20,
   "metadata": {},
   "outputs": [
    {
     "name": "stdout",
     "output_type": "stream",
     "text": [
      "Training Accuracy: 0.9579\n",
      "Testing Accuracy:  0.8673\n"
     ]
    }
   ],
   "source": [
    "print(\"Training Accuracy: {:.4f}\".format(accuracy))\n",
    "loss, accuracy = model.evaluate(x_test, label_test, verbose=False)\n",
    "print(\"Testing Accuracy:  {:.4f}\".format(accuracy))\n"
   ]
  },
  {
   "attachments": {},
   "cell_type": "markdown",
   "metadata": {},
   "source": [
    "# Dropout Layers\n",
    "\n",
    "Dropout is a technique where randomly selected neurons are ignored during training. They are “dropped-out” randomly. This means that their contribution to the activation of downstream neurons is temporally removed on the forward pass and any weight updates are not applied to the neuron on the backward pass.\n",
    "\n",
    "The effect is that the model becomes less sensitive to the specific weights of neurons. This has the effect of making the model more robust, and also reducing the complexity of the model.\n",
    "\n",
    "We can add dropout layers to our model by using the Dropout class from Keras. We can specify the fraction of the input units to drop. This is done by setting the rate parameter to a value between 0 and 1. For example, we can set rate=0.2 to drop 20% of the input units."
   ]
  },
  {
   "cell_type": "code",
   "execution_count": 23,
   "metadata": {},
   "outputs": [
    {
     "name": "stdout",
     "output_type": "stream",
     "text": [
      "Model: \"sequential\"\n",
      "_________________________________________________________________\n",
      " Layer (type)                Output Shape              Param #   \n",
      "=================================================================\n",
      " embedding (Embedding)       (None, 100, 100)          72800     \n",
      "                                                                 \n",
      " global_max_pooling1d (Globa  (None, 100)              0         \n",
      " lMaxPooling1D)                                                  \n",
      "                                                                 \n",
      " dropout (Dropout)           (None, 100)               0         \n",
      "                                                                 \n",
      " dense (Dense)               (None, 10)                1010      \n",
      "                                                                 \n",
      " dropout_1 (Dropout)         (None, 10)                0         \n",
      "                                                                 \n",
      " dense_1 (Dense)             (None, 1)                 11        \n",
      "                                                                 \n",
      "=================================================================\n",
      "Total params: 73,821\n",
      "Trainable params: 73,821\n",
      "Non-trainable params: 0\n",
      "_________________________________________________________________\n"
     ]
    }
   ],
   "source": [
    "# Adding dropout layers to the model\n",
    "clear_session()\n",
    "\n",
    "model = Sequential()\n",
    "model.add(layers.Embedding(input_dim=vocab_size,\n",
    "                            output_dim=embedding_dim,\n",
    "                            input_length=maxlen))\n",
    "model.add(layers.GlobalMaxPool1D())\n",
    "model.add(layers.Dropout(0.2))\n",
    "model.add(layers.Dense(10, activation='relu'))\n",
    "model.add(layers.Dropout(0.2))\n",
    "model.add(layers.Dense(1, activation='sigmoid'))\n",
    "\n",
    "model.summary()\n"
   ]
  },
  {
   "cell_type": "code",
   "execution_count": 24,
   "metadata": {},
   "outputs": [
    {
     "name": "stdout",
     "output_type": "stream",
     "text": [
      "Training Accuracy: 1.0000\n",
      "Testing Accuracy:  0.8761\n"
     ]
    }
   ],
   "source": [
    "# Configure the new model with dropout layers\n",
    "model.compile(optimizer='adam',\n",
    "                loss='binary_crossentropy',\n",
    "                metrics=['accuracy'])\n",
    "\n",
    "# Train the new model\n",
    "history = model.fit(x_train, label_train,\n",
    "                    epochs=50,\n",
    "                    verbose=False,\n",
    "                    validation_data=(x_test, label_test),\n",
    "                    batch_size=10)\n",
    "\n",
    "# Evaluate the new model\n",
    "loss, accuracy = model.evaluate(x_train, label_train, verbose=False)\n",
    "print(\"Training Accuracy: {:.4f}\".format(accuracy))\n",
    "loss, accuracy = model.evaluate(x_test, label_test, verbose=False)\n",
    "print(\"Testing Accuracy:  {:.4f}\".format(accuracy))\n",
    "\n"
   ]
  },
  {
   "attachments": {},
   "cell_type": "markdown",
   "metadata": {},
   "source": [
    ":( Still overfitting lets reconfigure the model with fewer nodes in the dense layer, regularization, early stopping, and more dropout layers."
   ]
  },
  {
   "cell_type": "code",
   "execution_count": 25,
   "metadata": {},
   "outputs": [],
   "source": [
    "# reset the model\n",
    "clear_session()\n",
    "\n",
    "model = Sequential()\n",
    "model.add(layers.Embedding(input_dim=vocab_size,\n",
    "                            output_dim=embedding_dim,\n",
    "                            input_length=maxlen))\n",
    "model.add(layers.GlobalMaxPool1D())\n",
    "model.add(layers.Dropout(0.5))\n",
    "model.add(layers.Dense(5, activation='relu', kernel_regularizer=regularizers.l2(0.001)))\n",
    "model.add(layers.Dropout(0.5))\n",
    "model.add(layers.Dense(1, activation='sigmoid'))"
   ]
  },
  {
   "cell_type": "code",
   "execution_count": 26,
   "metadata": {},
   "outputs": [
    {
     "name": "stdout",
     "output_type": "stream",
     "text": [
      "Model: \"sequential\"\n",
      "_________________________________________________________________\n",
      " Layer (type)                Output Shape              Param #   \n",
      "=================================================================\n",
      " embedding (Embedding)       (None, 100, 100)          72800     \n",
      "                                                                 \n",
      " global_max_pooling1d (Globa  (None, 100)              0         \n",
      " lMaxPooling1D)                                                  \n",
      "                                                                 \n",
      " dropout (Dropout)           (None, 100)               0         \n",
      "                                                                 \n",
      " dense (Dense)               (None, 5)                 505       \n",
      "                                                                 \n",
      " dropout_1 (Dropout)         (None, 5)                 0         \n",
      "                                                                 \n",
      " dense_1 (Dense)             (None, 1)                 6         \n",
      "                                                                 \n",
      "=================================================================\n",
      "Total params: 73,311\n",
      "Trainable params: 73,311\n",
      "Non-trainable params: 0\n",
      "_________________________________________________________________\n"
     ]
    }
   ],
   "source": [
    "model.summary()"
   ]
  },
  {
   "cell_type": "code",
   "execution_count": 27,
   "metadata": {},
   "outputs": [
    {
     "name": "stdout",
     "output_type": "stream",
     "text": [
      "Epoch 1/50\n",
      "36/36 [==============================] - 1s 5ms/step - loss: 0.6963 - accuracy: 0.5583 - val_loss: 0.6914 - val_accuracy: 0.5495\n",
      "Epoch 2/50\n",
      "36/36 [==============================] - 0s 2ms/step - loss: 0.6721 - accuracy: 0.5861 - val_loss: 0.6770 - val_accuracy: 0.5495\n",
      "Epoch 3/50\n",
      "36/36 [==============================] - 0s 2ms/step - loss: 0.6553 - accuracy: 0.5861 - val_loss: 0.6591 - val_accuracy: 0.5495\n",
      "Epoch 4/50\n",
      "36/36 [==============================] - 0s 2ms/step - loss: 0.6294 - accuracy: 0.6167 - val_loss: 0.6398 - val_accuracy: 0.5604\n",
      "Epoch 5/50\n",
      "36/36 [==============================] - 0s 2ms/step - loss: 0.6248 - accuracy: 0.6389 - val_loss: 0.6159 - val_accuracy: 0.5824\n",
      "Epoch 6/50\n",
      "36/36 [==============================] - 0s 2ms/step - loss: 0.5826 - accuracy: 0.6778 - val_loss: 0.5804 - val_accuracy: 0.8352\n",
      "Epoch 7/50\n",
      "36/36 [==============================] - 0s 2ms/step - loss: 0.5260 - accuracy: 0.7778 - val_loss: 0.5297 - val_accuracy: 0.8791\n",
      "Epoch 8/50\n",
      "36/36 [==============================] - 0s 2ms/step - loss: 0.4836 - accuracy: 0.7972 - val_loss: 0.4771 - val_accuracy: 0.9231\n",
      "Epoch 9/50\n",
      "36/36 [==============================] - 0s 2ms/step - loss: 0.4247 - accuracy: 0.8556 - val_loss: 0.4283 - val_accuracy: 0.9231\n",
      "Epoch 10/50\n",
      "36/36 [==============================] - 0s 2ms/step - loss: 0.3703 - accuracy: 0.8333 - val_loss: 0.3815 - val_accuracy: 0.9341\n",
      "Epoch 11/50\n",
      "36/36 [==============================] - 0s 2ms/step - loss: 0.3425 - accuracy: 0.8778 - val_loss: 0.3378 - val_accuracy: 0.9341\n",
      "Epoch 12/50\n",
      "36/36 [==============================] - 0s 2ms/step - loss: 0.3092 - accuracy: 0.8639 - val_loss: 0.3027 - val_accuracy: 0.9231\n",
      "Epoch 13/50\n",
      "36/36 [==============================] - 0s 2ms/step - loss: 0.2828 - accuracy: 0.8583 - val_loss: 0.2764 - val_accuracy: 0.9231\n",
      "Epoch 14/50\n",
      "36/36 [==============================] - 0s 2ms/step - loss: 0.2574 - accuracy: 0.8750 - val_loss: 0.2556 - val_accuracy: 0.9341\n",
      "Epoch 15/50\n",
      "36/36 [==============================] - 0s 2ms/step - loss: 0.2336 - accuracy: 0.8833 - val_loss: 0.2374 - val_accuracy: 0.9451\n",
      "Epoch 16/50\n",
      "36/36 [==============================] - 0s 2ms/step - loss: 0.1905 - accuracy: 0.9083 - val_loss: 0.2210 - val_accuracy: 0.9560\n",
      "Epoch 17/50\n",
      "36/36 [==============================] - 0s 2ms/step - loss: 0.2100 - accuracy: 0.8889 - val_loss: 0.2097 - val_accuracy: 0.9560\n",
      "Epoch 18/50\n",
      "36/36 [==============================] - 0s 2ms/step - loss: 0.1859 - accuracy: 0.9361 - val_loss: 0.1969 - val_accuracy: 0.9451\n",
      "Epoch 19/50\n",
      "36/36 [==============================] - 0s 2ms/step - loss: 0.1951 - accuracy: 0.9000 - val_loss: 0.1923 - val_accuracy: 0.9670\n",
      "Epoch 20/50\n",
      "36/36 [==============================] - 0s 2ms/step - loss: 0.1864 - accuracy: 0.9278 - val_loss: 0.1892 - val_accuracy: 0.9670\n",
      "Epoch 21/50\n",
      "36/36 [==============================] - 0s 2ms/step - loss: 0.1911 - accuracy: 0.9333 - val_loss: 0.1862 - val_accuracy: 0.9670\n",
      "Epoch 22/50\n",
      "36/36 [==============================] - 0s 2ms/step - loss: 0.1873 - accuracy: 0.9083 - val_loss: 0.1823 - val_accuracy: 0.9560\n",
      "Epoch 23/50\n",
      "36/36 [==============================] - 0s 2ms/step - loss: 0.1475 - accuracy: 0.9306 - val_loss: 0.1770 - val_accuracy: 0.9560\n",
      "Epoch 24/50\n",
      "36/36 [==============================] - 0s 2ms/step - loss: 0.1689 - accuracy: 0.9028 - val_loss: 0.1743 - val_accuracy: 0.9560\n",
      "Epoch 25/50\n",
      "36/36 [==============================] - 0s 2ms/step - loss: 0.2077 - accuracy: 0.8972 - val_loss: 0.1754 - val_accuracy: 0.9560\n",
      "Epoch 26/50\n",
      "36/36 [==============================] - 0s 2ms/step - loss: 0.1769 - accuracy: 0.9056 - val_loss: 0.1752 - val_accuracy: 0.9560\n",
      "Epoch 27/50\n",
      "36/36 [==============================] - 0s 2ms/step - loss: 0.1825 - accuracy: 0.9194 - val_loss: 0.1743 - val_accuracy: 0.9560\n",
      "Epoch 28/50\n",
      "36/36 [==============================] - 0s 2ms/step - loss: 0.1654 - accuracy: 0.9250 - val_loss: 0.1715 - val_accuracy: 0.9560\n",
      "Epoch 29/50\n",
      "36/36 [==============================] - 0s 2ms/step - loss: 0.1685 - accuracy: 0.9194 - val_loss: 0.1695 - val_accuracy: 0.9560\n",
      "Epoch 30/50\n",
      "36/36 [==============================] - 0s 2ms/step - loss: 0.1414 - accuracy: 0.9444 - val_loss: 0.1682 - val_accuracy: 0.9560\n",
      "Epoch 31/50\n",
      "36/36 [==============================] - 0s 2ms/step - loss: 0.1456 - accuracy: 0.9167 - val_loss: 0.1664 - val_accuracy: 0.9560\n",
      "Epoch 32/50\n",
      "36/36 [==============================] - 0s 2ms/step - loss: 0.1631 - accuracy: 0.9167 - val_loss: 0.1651 - val_accuracy: 0.9560\n",
      "Epoch 33/50\n",
      "36/36 [==============================] - 0s 2ms/step - loss: 0.1574 - accuracy: 0.9306 - val_loss: 0.1657 - val_accuracy: 0.9560\n",
      "Epoch 34/50\n",
      "36/36 [==============================] - 0s 2ms/step - loss: 0.1682 - accuracy: 0.9167 - val_loss: 0.1676 - val_accuracy: 0.9670\n",
      "Epoch 35/50\n",
      "36/36 [==============================] - 0s 2ms/step - loss: 0.1295 - accuracy: 0.9389 - val_loss: 0.1676 - val_accuracy: 0.9670\n",
      "Epoch 36/50\n",
      "36/36 [==============================] - 0s 2ms/step - loss: 0.1589 - accuracy: 0.9306 - val_loss: 0.1681 - val_accuracy: 0.9670\n",
      "Epoch 37/50\n",
      "36/36 [==============================] - 0s 2ms/step - loss: 0.1495 - accuracy: 0.9278 - val_loss: 0.1683 - val_accuracy: 0.9670\n",
      "Training accuracy: 99.33%\n",
      "Testing accuracy: 88.50%\n"
     ]
    }
   ],
   "source": [
    "\n",
    "\n",
    "model.compile(optimizer='adam',\n",
    "                loss='binary_crossentropy',\n",
    "                metrics=['accuracy'])\n",
    "\n",
    "early_stopping = EarlyStopping(monitor='val_loss', patience=5)\n",
    "\n",
    "history = model.fit(x_train, label_train,\n",
    "                    epochs=50,\n",
    "                    batch_size=10,\n",
    "                    validation_split=0.2,\n",
    "                    callbacks=[early_stopping])\n",
    "\n",
    "train_acc = model.evaluate(x_train, label_train, verbose=0)[1]\n",
    "test_acc = model.evaluate(x_test, label_test, verbose=0)[1]\n",
    "\n",
    "# print the training accuracy as percent\n",
    "print('Training accuracy: %.2f%%' % (train_acc*100))\n",
    "\n",
    "# print the testing accuracy as percent\n",
    "print('Testing accuracy: %.2f%%' % (test_acc*100))\n",
    "\n"
   ]
  },
  {
   "attachments": {},
   "cell_type": "markdown",
   "metadata": {},
   "source": [
    "It's still overfit however I can see that the model is performing better on the validation set than the training set. This is a sign that the model is generalizing better. We can also see that the model is still overfitting. We can try to reduce overfitting by adding more dropout layers to the model.\n"
   ]
  },
  {
   "attachments": {},
   "cell_type": "markdown",
   "metadata": {},
   "source": [
    "# Visualize the models performance\n"
   ]
  },
  {
   "cell_type": "code",
   "execution_count": 28,
   "metadata": {},
   "outputs": [
    {
     "data": {
      "text/plain": [
       "dict_keys(['loss', 'accuracy', 'val_loss', 'val_accuracy'])"
      ]
     },
     "execution_count": 28,
     "metadata": {},
     "output_type": "execute_result"
    }
   ],
   "source": [
    "history.history.keys()"
   ]
  },
  {
   "cell_type": "code",
   "execution_count": 29,
   "metadata": {},
   "outputs": [],
   "source": [
    "import matplotlib.pyplot as plt\n",
    "plt.style.use('ggplot')\n",
    "\n",
    "def plot_history(history):\n",
    "    acc = history.history['accuracy']\n",
    "    val_acc = history.history['val_accuracy']\n",
    "    loss = history.history['loss']\n",
    "    val_loss = history.history['val_loss']\n",
    "    x = range(1, len(acc) + 1)\n",
    "\n",
    "    plt.figure(figsize=(12, 5))\n",
    "    plt.subplot(1, 2, 1)\n",
    "    plt.plot(x, acc, 'b', label='Training accuracy')\n",
    "    plt.plot(x, val_acc, 'r', label='Validation accuracy')\n",
    "    plt.title('Training and validation accuracy')\n",
    "    plt.legend()\n",
    "    plt.subplot(1, 2, 2)\n",
    "    plt.plot(x, loss, 'b', label='Training loss')\n",
    "    plt.plot(x, val_loss, 'r', label='Validation loss')\n",
    "    plt.title('Training and validation loss')\n",
    "    plt.legend()"
   ]
  },
  {
   "cell_type": "code",
   "execution_count": 30,
   "metadata": {},
   "outputs": [
    {
     "data": {
      "image/png": "[encoded data removed]",
      "text/plain": [
       "<Figure size 1200x500 with 2 Axes>"
      ]
     },
     "metadata": {},
     "output_type": "display_data"
    }
   ],
   "source": [
    "plot_history(history)"
   ]
  },
  {
   "attachments": {},
   "cell_type": "markdown",
   "metadata": {},
   "source": [
    "# Overfitting: \n",
    "The model has learned to fit the training data too closely, including noise or outliers, and is not able to generalize well to new data. This can cause the training loss to decrease while the validation loss increases. This is a sign of overfitting.\n",
    "\n",
    "# Underfitting: \n",
    "\n",
    "The model could be too simple to capture the complex patterns in data, or it could be undertrained. This can cause the training loss to increase while the validation loss decreases. This is a sign of underfitting. (This is not the case here)\n",
    "\n",
    "# Learning Rate:\n",
    "\n",
    "The learning rate determines how quickly the model updates its parameters during training. If the learning rate is too small, the model may take a long time to converge. If the learning rate is too large, the model may overshoot the optimal solution. The learning rate is a hyperparameter that you can tune for your problem. (In our case sentiment analysis)"
   ]
  },
  {
   "cell_type": "code",
   "execution_count": 31,
   "metadata": {},
   "outputs": [
    {
     "name": "stdout",
     "output_type": "stream",
     "text": [
      "1/1 [==============================] - 0s 64ms/step\n",
      "I am never going back\n",
      "[[0.03765526]]\n"
     ]
    }
   ],
   "source": [
    "def tryit(sentence):\n",
    "    seq = tokenizer.texts_to_sequences([sentence])\n",
    "    padded = pad_sequences(seq, maxlen=maxlen)\n",
    "    pred = model.predict(padded)\n",
    "    print(sentence)\n",
    "    print(pred)\n",
    "\n",
    "tryit('I am never going back')"
   ]
  },
  {
   "cell_type": "code",
   "execution_count": 32,
   "metadata": {},
   "outputs": [
    {
     "name": "stdout",
     "output_type": "stream",
     "text": [
      "1/1 [==============================] - 0s 14ms/step\n",
      "I love this place\n",
      "[[0.9993467]]\n",
      "1/1 [==============================] - 0s 13ms/step\n",
      "I hate this place\n",
      "[[0.46318966]]\n"
     ]
    }
   ],
   "source": [
    "tryit('I love this place')\n",
    "\n",
    "tryit('I hate this place')"
   ]
  },
  {
   "cell_type": "code",
   "execution_count": 33,
   "metadata": {},
   "outputs": [
    {
     "name": "stdout",
     "output_type": "stream",
     "text": [
      "1/1 [==============================] - 0s 15ms/step\n",
      "Not enough parking\n",
      "[[0.30539036]]\n",
      "1/1 [==============================] - 0s 15ms/step\n",
      "The food is great\n",
      "[[0.99378455]]\n"
     ]
    }
   ],
   "source": [
    "tryit('Not enough parking')\n",
    "\n",
    "tryit('The food is great')\n",
    "\n",
    "# The model also correctly predicts this negative sentiment.\n",
    "# and the model correctly predicts this positive sentiment."
   ]
  },
  {
   "cell_type": "code",
   "execution_count": 34,
   "metadata": {},
   "outputs": [
    {
     "name": "stdout",
     "output_type": "stream",
     "text": [
      "1/1 [==============================] - 0s 13ms/step\n",
      "JC Penny is so dirty.\n",
      "[[0.02685778]]\n",
      "1/1 [==============================] - 0s 14ms/step\n",
      "I love JC Penny\n",
      "[[0.99688727]]\n"
     ]
    }
   ],
   "source": [
    "tryit('JC Penny is so dirty.')\n",
    "\n",
    "tryit('I love JC Penny')\n",
    "\n",
    "#Anything below a threshold of 0.05 is considered negative so in this case\n",
    "# our model was correct in it predictions.\n",
    "\n",
    "# So far this model is performing slightly better than our model in lesson 5"
   ]
  },
  {
   "cell_type": "code",
   "execution_count": 35,
   "metadata": {},
   "outputs": [
    {
     "name": "stdout",
     "output_type": "stream",
     "text": [
      "1/1 [==============================] - 0s 13ms/step\n",
      "Poor customer service in Belk.\n",
      "[[0.02065702]]\n",
      "1/1 [==============================] - 0s 14ms/step\n",
      "I love Belk.\n",
      "[[0.99845666]]\n"
     ]
    }
   ],
   "source": [
    "tryit('Poor customer service in Belk.')\n",
    "\n",
    "tryit('I love Belk.')\n",
    "\n",
    "# The model correctly predicts this negative sentiment.\n",
    "# And the positive sentiment.\n"
   ]
  },
  {
   "cell_type": "code",
   "execution_count": 36,
   "metadata": {},
   "outputs": [
    {
     "name": "stdout",
     "output_type": "stream",
     "text": [
      "1/1 [==============================] - 0s 13ms/step\n",
      "Tear the mall down.\n",
      "[[0.04044331]]\n",
      "1/1 [==============================] - 0s 13ms/step\n",
      "The mall needs improvement.\n",
      "[[0.7239887]]\n"
     ]
    }
   ],
   "source": [
    "tryit('Tear the mall down.')\n",
    "\n",
    "# YAY! The model correctly predicts this negative sentiment.\n",
    "\n",
    "tryit('The mall needs improvement.')\n",
    "\n",
    "# The model recoginizes this statement as more positive than negative. \n",
    "\n"
   ]
  },
  {
   "attachments": {},
   "cell_type": "markdown",
   "metadata": {},
   "source": [
    "# Word Embedding  are Important:\n",
    "\n",
    "Integrating word embeddings into your neural network can provide the best of both worlds no more feature engineering and the ability to contextualize words in a sentence based on their similarity to other words in a vector, makes it easier for the model to learn the relationship between words and their meaning, and improves the accuracy and performance of the model.\n"
   ]
  }
 ],
 "metadata": {
  "kernelspec": {
   "display_name": "Python 3",
   "language": "python",
   "name": "python3"
  },
  "language_info": {
   "codemirror_mode": {
    "name": "ipython",
    "version": 3
   },
   "file_extension": ".py",
   "mimetype": "text/x-python",
   "name": "python",
   "nbconvert_exporter": "python",
   "pygments_lexer": "ipython3",
   "version": "3.9.6"
  },
  "orig_nbformat": 4,
  "vscode": {
   "interpreter": {
    "hash": "31f2aee4e71d21fbe5cf8b01ff0e069b9275f58929596ceb00d14d90e3e16cd6"
   }
  }
 },
 "nbformat": 4,
 "nbformat_minor": 2
}
